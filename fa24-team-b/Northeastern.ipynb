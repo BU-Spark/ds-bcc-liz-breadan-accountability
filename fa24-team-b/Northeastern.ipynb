{
 "cells": [
  {
   "cell_type": "code",
   "execution_count": 39,
   "metadata": {},
   "outputs": [],
   "source": [
    "import pandas as pd\n",
    "import numpy as np\n",
    "import re"
   ]
  },
  {
   "cell_type": "code",
   "execution_count": 40,
   "metadata": {},
   "outputs": [
    {
     "name": "stderr",
     "output_type": "stream",
     "text": [
      "/Library/Frameworks/Python.framework/Versions/3.12/lib/python3.12/site-packages/openpyxl/worksheet/_reader.py:329: UserWarning: Unknown extension is not supported and will be removed\n",
      "  warn(msg)\n",
      "/Library/Frameworks/Python.framework/Versions/3.12/lib/python3.12/site-packages/openpyxl/worksheet/_reader.py:329: UserWarning: Unknown extension is not supported and will be removed\n",
      "  warn(msg)\n"
     ]
    }
   ],
   "source": [
    "df_1 = pd.read_excel('data/NortheasternUniversity/2016-2017.xlsx', sheet_name='Student Addresses')\n",
    "df_2 = pd.read_excel('data/NortheasternUniversity/2017-2018.xlsx', sheet_name='Student Addresses')\n",
    "df_3 = pd.read_excel('data/NortheasternUniversity/2018-2019.xlsx', sheet_name='Student Addresses')\n",
    "df_4 = pd.read_excel('data/NortheasternUniversity/2019-2020.xlsx', sheet_name='Student Addresses')\n",
    "df_5 = pd.read_excel('data/NortheasternUniversity/2020-2021.xlsx', sheet_name='Student Addresses')\n",
    "df_6 = pd.read_excel('data/NortheasternUniversity/2021-2022.xlsx', sheet_name='Student Addresses')\n",
    "df_7 = pd.read_excel('data/NortheasternUniversity/2022-2023.xlsx', sheet_name='Student Addresses')\n",
    "df_8 = pd.read_excel('data/NortheasternUniversity/2023-2024.xlsx', sheet_name='Student Addresses')"
   ]
  },
  {
   "cell_type": "code",
   "execution_count": 41,
   "metadata": {},
   "outputs": [
    {
     "name": "stdout",
     "output_type": "stream",
     "text": [
      "['Address', 'Neighborhood', 'Zipcode', 'Level', 'Time Status', 'Year', 'Professional School', 'Home or Private?']\n",
      "['6a. \\nStreet #', '6b. \\nStreet Name', '6c. \\nStreet Suffix  ', '6d.\\n Unit #', '6e. \\nZip', '7. \\nUndergraduate (U) or Graduate (G)', '8. \\nFull-time (FT) or \\nPart-time (PT)', '9. \\n 5 or More Undergrads/Unit\\n(Y/N)']\n",
      "['6a. \\nStreet #', '6b. \\nStreet Name', '6c. \\nStreet Suffix  ', '6d.\\n Unit #', '6e. \\nZip', '7. \\nUndergraduate (U) or Graduate (G)', '8. \\nFull-time (FT) or \\nPart-time (PT)', '9. \\n 5 or More Undergrads/Unit\\n(Y/N)']\n",
      "['6a. \\nStreet #', '6b. \\nStreet Name', '6c. \\nStreet Suffix  ', '6d.\\n Unit #', '6e. \\nZip', '7. \\nUndergraduate (U) or Graduate (G)', '8. \\nFull-time (FT) or \\nPart-time (PT)', '9. \\n 5 or More Undergrads/Unit\\n(Y/N)']\n",
      "['Address', 'Neighborhood', 'Zipcode', 'Level', 'Time Status', 'Year', 'Professional School', 'Home or Private?']\n",
      "['Address', 'Neighborhood', 'Zipcode', 'Level', 'Time Status', 'Year', 'Professional School', 'Home or Private?']\n",
      "['Address', 'Neighborhood', 'Zipcode', 'Level', 'Time Status', 'Year', 'Professional School', 'Home or Private?']\n",
      "['Address', 'Neighborhood', 'Zipcode', 'Level', 'Time Status', 'Year', 'Professional School', 'Home or Private?']\n"
     ]
    }
   ],
   "source": [
    "for df in [df_1, df_2, df_3, df_4, df_5, df_6, df_7, df_8]:\n",
    "    print(list(df.columns))"
   ]
  },
  {
   "cell_type": "code",
   "execution_count": 42,
   "metadata": {},
   "outputs": [],
   "source": [
    "columns = ['street_number','street_name','street_suffix','unit_number','zip_code','level_of_study','full_time','extra_large_unit','at_home']"
   ]
  },
  {
   "cell_type": "code",
   "execution_count": 43,
   "metadata": {},
   "outputs": [
    {
     "name": "stderr",
     "output_type": "stream",
     "text": [
      "/Library/Frameworks/Python.framework/Versions/3.12/lib/python3.12/site-packages/openpyxl/worksheet/_reader.py:329: UserWarning: Unknown extension is not supported and will be removed\n",
      "  warn(msg)\n",
      "/Library/Frameworks/Python.framework/Versions/3.12/lib/python3.12/site-packages/openpyxl/worksheet/_reader.py:329: UserWarning: Unknown extension is not supported and will be removed\n",
      "  warn(msg)\n"
     ]
    }
   ],
   "source": [
    "dfs = {}\n",
    "\n",
    "dir = 'data/NortheasternUniversity/'\n",
    "files = ['2016-2017.xlsx','2017-2018.xlsx','2018-2019.xlsx','2019-2020.xlsx','2020-2021.xlsx','2021-2022.xlsx','2022-2023.xlsx','2023-2024.xlsx']\n",
    "\n",
    "for file in files:\n",
    "    dfs[file] = pd.read_excel(dir + file, sheet_name='Student Addresses')\n"
   ]
  },
  {
   "cell_type": "code",
   "execution_count": 44,
   "metadata": {},
   "outputs": [
    {
     "name": "stdout",
     "output_type": "stream",
     "text": [
      "Address Neighborhood Zipcode Level Time Status Year Professional School Home or Private?\n",
      "['2016-2017.xlsx', '2020-2021.xlsx', '2021-2022.xlsx', '2022-2023.xlsx', '2023-2024.xlsx']\n",
      "6a. Street # 6b. Street Name 6c. Street Suffix   6d. Unit # 6e. Zip 7. Undergraduate (U) or Graduate (G) 8. Full-time (FT) or Part-time (PT) 9.  5 or More Undergrads/Unit(Y/N)\n",
      "['2017-2018.xlsx', '2018-2019.xlsx', '2019-2020.xlsx']\n"
     ]
    }
   ],
   "source": [
    "column_grouping = {}\n",
    "\n",
    "for df in dfs:\n",
    "    c_str = ' '.join(dfs[df].columns)\n",
    "    # remove \\n from string\n",
    "    c_str = re.sub(r'\\n', '', c_str)\n",
    "    \n",
    "    if c_str not in column_grouping:\n",
    "        column_grouping[c_str] = []\n",
    "\n",
    "    column_grouping[c_str].append(df)\n",
    "\n",
    "for c in column_grouping:\n",
    "    print(c)\n",
    "    print(column_grouping[c])\n"
   ]
  },
  {
   "cell_type": "code",
   "execution_count": 45,
   "metadata": {},
   "outputs": [],
   "source": [
    "mapping = {\n",
    "    \"Address\" : \"street_name\",\n",
    "    \"Zipcode\" : \"zip_code\",\n",
    "    \"Level\" : \"level_of_study\",\n",
    "    \"Time Status\" : \"full_time\",\n",
    "    \"Home or Private?\" : \"at_home\",\n",
    "}\n",
    "\n",
    "# this happens for 2016-2017.xlsx, 2020-2021.xlsx, 2021-2022.xlsx, 2022-2023.xlsx, 2023-2024.xlsx\n",
    "# if dfs has columns that are not in the mapping, we drop them\n",
    "\n",
    "dfs['2016-2017.xlsx'] = dfs['2016-2017.xlsx'].drop(columns=[c for c in dfs['2016-2017.xlsx'].columns if c not in mapping])\n",
    "dfs['2020-2021.xlsx'] = dfs['2020-2021.xlsx'].drop(columns=[c for c in dfs['2020-2021.xlsx'].columns if c not in mapping])\n",
    "dfs['2021-2022.xlsx'] = dfs['2021-2022.xlsx'].drop(columns=[c for c in dfs['2021-2022.xlsx'].columns if c not in mapping])\n",
    "dfs['2022-2023.xlsx'] = dfs['2022-2023.xlsx'].drop(columns=[c for c in dfs['2022-2023.xlsx'].columns if c not in mapping])\n",
    "dfs['2023-2024.xlsx'] = dfs['2023-2024.xlsx'].drop(columns=[c for c in dfs['2023-2024.xlsx'].columns if c not in mapping])\n",
    "\n",
    "\n",
    "dfs['2016-2017.xlsx'] = dfs['2016-2017.xlsx'].rename(columns=mapping)\n",
    "dfs['2020-2021.xlsx'] = dfs['2020-2021.xlsx'].rename(columns=mapping)\n",
    "dfs['2021-2022.xlsx'] = dfs['2021-2022.xlsx'].rename(columns=mapping)\n",
    "dfs['2022-2023.xlsx'] = dfs['2022-2023.xlsx'].rename(columns=mapping)\n",
    "dfs['2023-2024.xlsx'] = dfs['2023-2024.xlsx'].rename(columns=mapping)"
   ]
  },
  {
   "cell_type": "code",
   "execution_count": 46,
   "metadata": {},
   "outputs": [],
   "source": [
    "# now map the rest to this columns variable\n",
    "columns = ['street_number','street_name','street_suffix','unit_number','zip_code','level_of_study','full_time','extra_large_unit']\n",
    "# rename 2017-2018.xlsx, 2018-2019.xlsx, 2019-2020.xlsx\n",
    "dfs['2017-2018.xlsx'].columns = columns\n",
    "dfs['2018-2019.xlsx'].columns = columns\n",
    "dfs['2019-2020.xlsx'].columns = columns"
   ]
  },
  {
   "cell_type": "code",
   "execution_count": 47,
   "metadata": {},
   "outputs": [],
   "source": [
    "# now fix the missing from tge 2016-2017.xlsx, 2020-2021.xlsx, 2021-2022.xlsx, 2022-2023.xlsx, 2023-2024.xlsx\n",
    "def fix_columns(df, columns):\n",
    "    for c in columns:\n",
    "        if c not in df.columns:\n",
    "            df[c] = np.nan\n",
    "\n",
    "    return df\n",
    "\n",
    "dfs['2016-2017.xlsx'] = fix_columns(dfs['2016-2017.xlsx'], columns)\n",
    "dfs['2020-2021.xlsx'] = fix_columns(dfs['2020-2021.xlsx'], columns)\n",
    "dfs['2021-2022.xlsx'] = fix_columns(dfs['2021-2022.xlsx'], columns)\n",
    "dfs['2022-2023.xlsx'] = fix_columns(dfs['2022-2023.xlsx'], columns)\n",
    "dfs['2023-2024.xlsx'] = fix_columns(dfs['2023-2024.xlsx'], columns)"
   ]
  },
  {
   "cell_type": "code",
   "execution_count": 48,
   "metadata": {},
   "outputs": [],
   "source": [
    "def reorder(df,columns):\n",
    "    return df[columns]\n",
    "\n",
    "dfs['2016-2017.xlsx'] = reorder(dfs['2016-2017.xlsx'], columns)\n",
    "dfs['2017-2018.xlsx'] = reorder(dfs['2017-2018.xlsx'], columns)\n",
    "dfs['2018-2019.xlsx'] = reorder(dfs['2018-2019.xlsx'], columns)\n",
    "dfs['2019-2020.xlsx'] = reorder(dfs['2019-2020.xlsx'], columns)\n",
    "dfs['2020-2021.xlsx'] = reorder(dfs['2020-2021.xlsx'], columns)\n",
    "dfs['2021-2022.xlsx'] = reorder(dfs['2021-2022.xlsx'], columns)\n",
    "dfs['2022-2023.xlsx'] = reorder(dfs['2022-2023.xlsx'], columns)\n",
    "dfs['2023-2024.xlsx'] = reorder(dfs['2023-2024.xlsx'], columns)"
   ]
  },
  {
   "cell_type": "code",
   "execution_count": 49,
   "metadata": {},
   "outputs": [],
   "source": [
    "# now add at_home to the rest of the dataframes\n",
    "dfs['2016-2017.xlsx']['at_home'] = np.nan\n",
    "dfs['2017-2018.xlsx']['at_home'] = np.nan\n",
    "dfs['2018-2019.xlsx']['at_home'] = np.nan\n",
    "dfs['2019-2020.xlsx']['at_home'] = np.nan\n",
    "dfs['2020-2021.xlsx']['at_home'] = np.nan\n",
    "dfs['2021-2022.xlsx']['at_home'] = np.nan\n",
    "dfs['2022-2023.xlsx']['at_home'] = np.nan\n",
    "dfs['2023-2024.xlsx']['at_home'] = np.nan"
   ]
  },
  {
   "cell_type": "code",
   "execution_count": 50,
   "metadata": {},
   "outputs": [],
   "source": [
    "# add year_range\n",
    "for df in dfs:\n",
    "    dfs[df]['year_range'] = df.split('.')[0]\n",
    "\n",
    "# add university\n",
    "for df in dfs:\n",
    "    dfs[df]['university'] = 'Northeastern University'"
   ]
  },
  {
   "cell_type": "code",
   "execution_count": 51,
   "metadata": {},
   "outputs": [],
   "source": [
    "# merge all the dataframes\n",
    "df = pd.concat([dfs['2016-2017.xlsx'], dfs['2017-2018.xlsx'], dfs['2018-2019.xlsx'], dfs['2019-2020.xlsx'], dfs['2020-2021.xlsx'], dfs['2021-2022.xlsx'], dfs['2022-2023.xlsx'], dfs['2023-2024.xlsx']], ignore_index=True)"
   ]
  },
  {
   "cell_type": "code",
   "execution_count": 52,
   "metadata": {},
   "outputs": [],
   "source": [
    "# save the dataframe\n",
    "df.to_csv('./data/clean/NortheasternUniversity.csv', index=False)"
   ]
  },
  {
   "cell_type": "code",
   "execution_count": null,
   "metadata": {},
   "outputs": [],
   "source": []
  }
 ],
 "metadata": {
  "kernelspec": {
   "display_name": "Python 3",
   "language": "python",
   "name": "python3"
  },
  "language_info": {
   "codemirror_mode": {
    "name": "ipython",
    "version": 3
   },
   "file_extension": ".py",
   "mimetype": "text/x-python",
   "name": "python",
   "nbconvert_exporter": "python",
   "pygments_lexer": "ipython3",
   "version": "3.12.6"
  }
 },
 "nbformat": 4,
 "nbformat_minor": 2
}
