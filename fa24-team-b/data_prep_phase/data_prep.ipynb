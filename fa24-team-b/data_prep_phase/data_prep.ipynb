{
 "cells": [
  {
   "cell_type": "code",
   "execution_count": 1,
   "metadata": {},
   "outputs": [],
   "source": [
    "import pandas as pd\n",
    "import numpy as np\n",
    "import os"
   ]
  },
  {
   "cell_type": "code",
   "execution_count": 2,
   "metadata": {},
   "outputs": [],
   "source": [
    "def print_columns(dfs):\n",
    "    for key in dfs.keys():\n",
    "        print(key)\n",
    "        print(list(dfs[key].columns))"
   ]
  },
  {
   "cell_type": "code",
   "execution_count": 3,
   "metadata": {},
   "outputs": [],
   "source": [
    "def fix_missing_columns(dfs, columns):\n",
    "    '''\n",
    "        Adds columns to each dataframe in dfs if the column is not already present.\n",
    "    '''\n",
    "    for key in dfs:\n",
    "        for column in columns:\n",
    "            if column not in list(dfs[key].columns):\n",
    "                dfs[key][column] = np.nan\n",
    "    return dfs"
   ]
  },
  {
   "cell_type": "code",
   "execution_count": 4,
   "metadata": {},
   "outputs": [],
   "source": [
    "def reorder_columns(dfs, columns):\n",
    "    '''\n",
    "        Reorder columns so they match the order in the columns list\n",
    "    '''\n",
    "    for key in dfs:\n",
    "        for column in columns:\n",
    "            if column in list(dfs[key].columns):\n",
    "                col = dfs[key][column]\n",
    "                dfs[key].drop(columns=[column], inplace=True)\n",
    "                dfs[key][column] = col\n",
    "    return dfs"
   ]
  },
  {
   "cell_type": "code",
   "execution_count": 5,
   "metadata": {},
   "outputs": [],
   "source": [
    "def create_df_from_files(dir):\n",
    "    '''\n",
    "        Reads all files from a directory and creates a dictionary of dataframes\n",
    "    '''\n",
    "    files = os.listdir(dir)\n",
    "\n",
    "    dfs = {}\n",
    "    for file in files:\n",
    "        if file == '.DS_Store':\n",
    "            continue\n",
    "        path_to_file = dir + file\n",
    "        try:\n",
    "            df = pd.read_excel(path_to_file, sheet_name='Student Addresses')\n",
    "        except:\n",
    "            print('Could not read file: ' + path_to_file)\n",
    "        dfs[file] = df\n",
    "\n",
    "    return dfs\n",
    "\n",
    "def prep_dfs(dir):\n",
    "    '''\n",
    "        Prepares the dataframes for the universities\n",
    "    '''\n",
    "    dir = '../data/universities/' + dir + '/'\n",
    "    dfs = create_df_from_files(dir)\n",
    "    \n",
    "    return dfs"
   ]
  },
  {
   "cell_type": "code",
   "execution_count": 6,
   "metadata": {},
   "outputs": [],
   "source": [
    "def polish_and_save(dfs, university_name, save_as):\n",
    "    '''\n",
    "        Adds year-range and university name to the dataframes and saves them to a file\n",
    "    '''\n",
    "    save_to = '../data/sorted/universities/' + save_as\n",
    "    for key in dfs:\n",
    "        dfs[key]['year_range'] = key.split('.')[0]\n",
    "        dfs[key]['university'] = university_name\n",
    "\n",
    "    df = pd.concat(dfs.values(), ignore_index=True)\n",
    "\n",
    "    df.to_csv(save_to, index=False)"
   ]
  },
  {
   "cell_type": "markdown",
   "metadata": {},
   "source": [
    "# Boston University"
   ]
  },
  {
   "cell_type": "markdown",
   "metadata": {},
   "source": [
    "#### Polishing Columns"
   ]
  },
  {
   "cell_type": "code",
   "execution_count": 7,
   "metadata": {},
   "outputs": [
    {
     "name": "stdout",
     "output_type": "stream",
     "text": [
      "University Bldgs\n"
     ]
    },
    {
     "name": "stderr",
     "output_type": "stream",
     "text": [
      "/Library/Frameworks/Python.framework/Versions/3.12/lib/python3.12/site-packages/openpyxl/reader/workbook.py:120: UserWarning: Print area cannot be set to Defined name: 'Summary Stats'!$1:$31.\n",
      "  warn(f\"Print area cannot be set to Defined name: {defn.value}.\")\n"
     ]
    },
    {
     "name": "stdout",
     "output_type": "stream",
     "text": [
      "Definitions\n",
      "University Bldgs\n",
      "2022-2023.xlsx\n",
      "['6a. \\nStreet #', '6b. \\nStreet Name', '6c. \\nStreet Suffix  ', '6d.\\n Unit #', '6e. \\nZip', '7. \\nUndergraduate (U) or Graduate (G)', '8. \\nFull-time (FT) or \\nPart-time (PT)', '9. \\nAt-Home or Not-at-Home']\n",
      "2017-2018.xlsx\n",
      "['6a. \\nStreet #', '6b. \\nStreet Name', '6c. \\nStreet Suffix  ', '6d.\\n Unit #', '6e. \\nZip', '7. \\nUndergraduate (U) or Graduate (G)', '8. \\nFull-time (FT) or \\nPart-time (PT)', '9. \\n 5 or More Undergrads/Unit\\n(Y/N)']\n",
      "2019-2020.xlsx\n",
      "['6a. \\nStreet #', '6b. \\nStreet Name', '6c. \\nStreet Suffix  ', '6d.\\n Unit #', '6e. \\nZip', '7. \\nUndergraduate (U) or Graduate (G)', '8. \\nFull-time (FT) or \\nPart-time (PT)', '9. \\n 5 or More Undergrads/Unit\\n(Y/N)']\n",
      "2023-2024.xlsx\n",
      "['6a. \\nStreet #', '6b. \\nStreet Name', '6c. \\nStreet Suffix  ', '6d.\\n Unit #', '6e. \\nZip', '7. \\nUndergraduate (U) or Graduate (G)', '8. \\nFull-time (FT) or \\nPart-time (PT)', '9. \\nAt-Home or Not-at-Home']\n",
      "2020-2021.xlsx\n",
      "['6a. \\nStreet #', '6b. \\nStreet Name', '6c. \\nStreet Suffix  ', '6d.\\n Unit #', '6e. \\nZip', '7. \\nUndergraduate (U) or Graduate (G)', '8. \\nFull-time (FT) or \\nPart-time (PT)', '9. \\n 5 or More Undergrads/Unit\\n(Y/N)']\n",
      "2016-2017.xlsx\n",
      "['6a. \\nStreet #', '6b. \\nStreet Name', '6c. \\nStreet Suffix  ', '6d.\\n Unit #', '6e. \\nZip', '7. \\nUndergraduate (U) or Graduate (G)', '8. \\nFull-time (FT) or \\nPart-time (PT)', '9. \\n 5 or More Undergrads/Unit\\n(Y/N)']\n",
      "2018-2019.xlsx\n",
      "['6a. \\nStreet #', '6b. \\nStreet Name', '6c. \\nStreet Suffix  ', '6d.\\n Unit #', '6e. \\nZip', '7. \\nUndergraduate (U) or Graduate (G)', '8. \\nFull-time (FT) or \\nPart-time (PT)', '9. \\n 5 or More Undergrads/Unit\\n(Y/N)']\n",
      "2021-2022.xlsx\n",
      "['6a. \\nStreet #', '6b. \\nStreet Name', '6c. \\nStreet Suffix  ', '6d.\\n Unit #', '6e. \\nZip', '7. \\nUndergraduate (U) or Graduate (G)', '8. \\nFull-time (FT) or \\nPart-time (PT)', '9. \\n 5 or More Undergrads/Unit\\n(Y/N)']\n"
     ]
    }
   ],
   "source": [
    "dfs = prep_dfs('BostonUniversity')\n",
    "print_columns(dfs)"
   ]
  },
  {
   "cell_type": "code",
   "execution_count": 8,
   "metadata": {},
   "outputs": [],
   "source": [
    "# 2022-2023.xlsx\n",
    "# 2023-2024.xlsx\n",
    "# they have at-home or not-at-home column\n",
    "dfs['2022-2023.xlsx'].columns = ['street_number','street_name','street_suffix','unit_number','zip_code','level_of_study','full_time', 'at_home']\n",
    "dfs['2023-2024.xlsx'].columns = ['street_number','street_name','street_suffix','unit_number','zip_code','level_of_study','full_time', 'at_home']\n",
    "\n",
    "for key in dfs:\n",
    "    if key in ['2022-2023.xlsx','2023-2024.xlsx']:\n",
    "        continue\n",
    "    dfs[key].columns = ['street_number','street_name','street_suffix','unit_number','zip_code','level_of_study','full_time', 'extra_large_unit']"
   ]
  },
  {
   "cell_type": "code",
   "execution_count": 9,
   "metadata": {},
   "outputs": [
    {
     "name": "stdout",
     "output_type": "stream",
     "text": [
      "2022-2023.xlsx\n",
      "['street_number', 'street_name', 'street_suffix', 'unit_number', 'zip_code', 'level_of_study', 'full_time', 'extra_large_unit', 'at_home']\n",
      "2017-2018.xlsx\n",
      "['street_number', 'street_name', 'street_suffix', 'unit_number', 'zip_code', 'level_of_study', 'full_time', 'extra_large_unit', 'at_home']\n",
      "2019-2020.xlsx\n",
      "['street_number', 'street_name', 'street_suffix', 'unit_number', 'zip_code', 'level_of_study', 'full_time', 'extra_large_unit', 'at_home']\n",
      "2023-2024.xlsx\n",
      "['street_number', 'street_name', 'street_suffix', 'unit_number', 'zip_code', 'level_of_study', 'full_time', 'extra_large_unit', 'at_home']\n",
      "2020-2021.xlsx\n",
      "['street_number', 'street_name', 'street_suffix', 'unit_number', 'zip_code', 'level_of_study', 'full_time', 'extra_large_unit', 'at_home']\n",
      "2016-2017.xlsx\n",
      "['street_number', 'street_name', 'street_suffix', 'unit_number', 'zip_code', 'level_of_study', 'full_time', 'extra_large_unit', 'at_home']\n",
      "2018-2019.xlsx\n",
      "['street_number', 'street_name', 'street_suffix', 'unit_number', 'zip_code', 'level_of_study', 'full_time', 'extra_large_unit', 'at_home']\n",
      "2021-2022.xlsx\n",
      "['street_number', 'street_name', 'street_suffix', 'unit_number', 'zip_code', 'level_of_study', 'full_time', 'extra_large_unit', 'at_home']\n"
     ]
    }
   ],
   "source": [
    "dfs = fix_missing_columns(dfs, ['at_home','extra_large_unit'])\n",
    "dfs = reorder_columns(dfs, ['extra_large_unit','at_home'])\n",
    "print_columns(dfs)"
   ]
  },
  {
   "cell_type": "markdown",
   "metadata": {},
   "source": [
    "#### Save the Result"
   ]
  },
  {
   "cell_type": "code",
   "execution_count": 10,
   "metadata": {},
   "outputs": [],
   "source": [
    "polish_and_save(dfs, 'Boston University', 'BostonUniversity.csv')"
   ]
  },
  {
   "cell_type": "markdown",
   "metadata": {},
   "source": [
    "# Baptist College"
   ]
  },
  {
   "cell_type": "markdown",
   "metadata": {},
   "source": [
    "#### Polishing Columns"
   ]
  },
  {
   "cell_type": "code",
   "execution_count": 11,
   "metadata": {},
   "outputs": [
    {
     "name": "stdout",
     "output_type": "stream",
     "text": [
      "Could not read file: ../data/universities/BaptistCollege/~$2021-2022.xlsx\n",
      "2022-2023.xlsx\n",
      "['6a. \\nStreet #', '6b. \\nStreet Name', '6c. \\nStreet Suffix  ', '6d.\\n Unit #', '6e. \\nZip', '7. \\nUndergraduate (U) or Graduate (G)', '8. \\nFull-time (FT) or \\nPart-time (PT)', '9. \\n 5 or More Undergrads/Unit\\n(Y/N)']\n",
      "2017-2018.xlsx\n",
      "['6a. \\nStreet #', '6b. \\nStreet Name', '6c. \\nStreet Suffix  ', '6d.\\n Unit #', '6e. \\nZip', '7. \\nUndergraduate (U) or Graduate (G)', '8. \\nFull-time (FT) or \\nPart-time (PT)', '9. \\n 5 or More Undergrads/Unit\\n(Y/N)']\n",
      "2019-2020.xlsx\n",
      "['6a. \\nStreet #', '6b. \\nStreet Name', '6c. \\nStreet Suffix  ', '6d.\\n Unit #', '6e. \\nZip', '7. \\nUndergraduate (U) or Graduate (G)', '8. \\nFull-time (FT) or \\nPart-time (PT)', '9. \\n 5 or More Undergrads/Unit\\n(Y/N)']\n",
      "2023-2024.xlsx\n",
      "['6a. \\nStreet #', '6b. \\nStreet Name', '6c. \\nStreet Suffix  ', '6d.\\n Unit #', '6e. \\nZip', '7. \\nUndergraduate (U) or Graduate (G)', '8. \\nFull-time (FT) or \\nPart-time (PT)', '9. \\nAt-Home or Not-at-Home']\n",
      "2020-2021.xlsx\n",
      "['6a. \\nStreet #', '6b. \\nStreet Name', '6c. \\nStreet Suffix  ', '6d.\\n Unit #', '6e. \\nZip', '7. \\nUndergraduate (U) or Graduate (G)', '8. \\nFull-time (FT) or \\nPart-time (PT)', '9. \\n 5 or More Undergrads/Unit\\n(Y/N)']\n",
      "2016-2017.xlsx\n",
      "['6a. \\nStreet #', '6b. \\nStreet Name', '6c. \\nStreet Suffix  ', '6d.\\n Unit #', '6e. \\nZip', '7. \\nUndergraduate (U) or Graduate (G)', '8. \\nFull-time (FT) or \\nPart-time (PT)', '9. \\n 5 or More Undergrads/Unit\\n(Y/N)']\n",
      "2018-2019.xlsx\n",
      "['6a. \\nStreet #', '6b. \\nStreet Name', '6c. \\nStreet Suffix  ', '6d.\\n Unit #', '6e. \\nZip', '7. \\nUndergraduate (U) or Graduate (G)', '8. \\nFull-time (FT) or \\nPart-time (PT)', '9. \\n 5 or More Undergrads/Unit\\n(Y/N)']\n",
      "2021-2022.xlsx\n",
      "['Instructions: Please complete the addresses for students residing off-campus in Boston.  The totals should closely match row 17 or row 18 (excluding students with suppressed addresses). In Column 9, please provide a flag/label for which address are at-home (commuter) and not-at-home. ', 'Unnamed: 1', 'Unnamed: 2', 'Unnamed: 3', 'Unnamed: 4', 'Unnamed: 5', 'Unnamed: 6', 'Unnamed: 7']\n",
      "~$2021-2022.xlsx\n",
      "['Instructions: Please complete the addresses for students residing off-campus in Boston.  The totals should closely match row 17 or row 18 (excluding students with suppressed addresses). In Column 9, please provide a flag/label for which address are at-home (commuter) and not-at-home. ', 'Unnamed: 1', 'Unnamed: 2', 'Unnamed: 3', 'Unnamed: 4', 'Unnamed: 5', 'Unnamed: 6', 'Unnamed: 7']\n"
     ]
    }
   ],
   "source": [
    "dfs = prep_dfs('BaptistCollege')\n",
    "print_columns(dfs)"
   ]
  },
  {
   "cell_type": "code",
   "execution_count": 12,
   "metadata": {},
   "outputs": [
    {
     "data": {
      "text/html": [
       "<div>\n",
       "<style scoped>\n",
       "    .dataframe tbody tr th:only-of-type {\n",
       "        vertical-align: middle;\n",
       "    }\n",
       "\n",
       "    .dataframe tbody tr th {\n",
       "        vertical-align: top;\n",
       "    }\n",
       "\n",
       "    .dataframe thead th {\n",
       "        text-align: right;\n",
       "    }\n",
       "</style>\n",
       "<table border=\"1\" class=\"dataframe\">\n",
       "  <thead>\n",
       "    <tr style=\"text-align: right;\">\n",
       "      <th></th>\n",
       "      <th>Instructions: Please complete the addresses for students residing off-campus in Boston.  The totals should closely match row 17 or row 18 (excluding students with suppressed addresses). In Column 9, please provide a flag/label for which address are at-home (commuter) and not-at-home.</th>\n",
       "      <th>Unnamed: 1</th>\n",
       "      <th>Unnamed: 2</th>\n",
       "      <th>Unnamed: 3</th>\n",
       "      <th>Unnamed: 4</th>\n",
       "      <th>Unnamed: 5</th>\n",
       "      <th>Unnamed: 6</th>\n",
       "      <th>Unnamed: 7</th>\n",
       "    </tr>\n",
       "  </thead>\n",
       "  <tbody>\n",
       "    <tr>\n",
       "      <th>0</th>\n",
       "      <td>6a. \\nStreet #</td>\n",
       "      <td>6b. \\nStreet Name</td>\n",
       "      <td>6c. \\nStreet Suffix</td>\n",
       "      <td>6d.\\n Unit #</td>\n",
       "      <td>6e. \\nZip</td>\n",
       "      <td>7. \\nUndergraduate (U) or Graduate (G)</td>\n",
       "      <td>8. \\nFull-time (FT) or \\nPart-time (PT)</td>\n",
       "      <td>9. \\nAt-Home or Not-at-Home</td>\n",
       "    </tr>\n",
       "    <tr>\n",
       "      <th>1</th>\n",
       "      <td>50</td>\n",
       "      <td>Rockwell</td>\n",
       "      <td>St.</td>\n",
       "      <td>NaN</td>\n",
       "      <td>2124</td>\n",
       "      <td>U</td>\n",
       "      <td>PT</td>\n",
       "      <td>Not-at-Home</td>\n",
       "    </tr>\n",
       "  </tbody>\n",
       "</table>\n",
       "</div>"
      ],
      "text/plain": [
       "  Instructions: Please complete the addresses for students residing off-campus in Boston.  The totals should closely match row 17 or row 18 (excluding students with suppressed addresses). In Column 9, please provide a flag/label for which address are at-home (commuter) and not-at-home.   \\\n",
       "0                                     6a. \\nStreet #                                                                                                                                                                                                                                              \n",
       "1                                                 50                                                                                                                                                                                                                                              \n",
       "\n",
       "          Unnamed: 1             Unnamed: 2    Unnamed: 3 Unnamed: 4  \\\n",
       "0  6b. \\nStreet Name  6c. \\nStreet Suffix    6d.\\n Unit #  6e. \\nZip   \n",
       "1          Rockwell                     St.           NaN       2124   \n",
       "\n",
       "                               Unnamed: 5  \\\n",
       "0  7. \\nUndergraduate (U) or Graduate (G)   \n",
       "1                                       U   \n",
       "\n",
       "                                Unnamed: 6                   Unnamed: 7  \n",
       "0  8. \\nFull-time (FT) or \\nPart-time (PT)  9. \\nAt-Home or Not-at-Home  \n",
       "1                                       PT                 Not-at-Home   "
      ]
     },
     "execution_count": 12,
     "metadata": {},
     "output_type": "execute_result"
    }
   ],
   "source": [
    "# remove the 2021-2022.xlsx file\n",
    "dfs.pop('2021-2022.xlsx')"
   ]
  },
  {
   "cell_type": "code",
   "execution_count": 13,
   "metadata": {},
   "outputs": [],
   "source": [
    "dfs['2023-2024.xlsx'].columns = ['street_number','street_name','street_suffix','unit_number','zip_code','level_of_study','full_time', 'at_home']\n",
    "\n",
    "for key in dfs:\n",
    "    if key in ['2023-2024.xlsx']:\n",
    "        continue\n",
    "    dfs[key].columns = ['street_number','street_name','street_suffix','unit_number','zip_code','level_of_study','full_time','extra_large_unit']"
   ]
  },
  {
   "cell_type": "code",
   "execution_count": 14,
   "metadata": {},
   "outputs": [
    {
     "name": "stdout",
     "output_type": "stream",
     "text": [
      "2022-2023.xlsx\n",
      "['street_number', 'street_name', 'street_suffix', 'unit_number', 'zip_code', 'level_of_study', 'full_time', 'extra_large_unit', 'at_home']\n",
      "2017-2018.xlsx\n",
      "['street_number', 'street_name', 'street_suffix', 'unit_number', 'zip_code', 'level_of_study', 'full_time', 'extra_large_unit', 'at_home']\n",
      "2019-2020.xlsx\n",
      "['street_number', 'street_name', 'street_suffix', 'unit_number', 'zip_code', 'level_of_study', 'full_time', 'extra_large_unit', 'at_home']\n",
      "2023-2024.xlsx\n",
      "['street_number', 'street_name', 'street_suffix', 'unit_number', 'zip_code', 'level_of_study', 'full_time', 'extra_large_unit', 'at_home']\n",
      "2020-2021.xlsx\n",
      "['street_number', 'street_name', 'street_suffix', 'unit_number', 'zip_code', 'level_of_study', 'full_time', 'extra_large_unit', 'at_home']\n",
      "2016-2017.xlsx\n",
      "['street_number', 'street_name', 'street_suffix', 'unit_number', 'zip_code', 'level_of_study', 'full_time', 'extra_large_unit', 'at_home']\n",
      "2018-2019.xlsx\n",
      "['street_number', 'street_name', 'street_suffix', 'unit_number', 'zip_code', 'level_of_study', 'full_time', 'extra_large_unit', 'at_home']\n",
      "~$2021-2022.xlsx\n",
      "['street_number', 'street_name', 'street_suffix', 'unit_number', 'zip_code', 'level_of_study', 'full_time', 'extra_large_unit', 'at_home']\n"
     ]
    }
   ],
   "source": [
    "dfs = fix_missing_columns(dfs, ['at_home','extra_large_unit'])\n",
    "dfs = reorder_columns(dfs, ['extra_large_unit','at_home'])\n",
    "print_columns(dfs)"
   ]
  },
  {
   "cell_type": "markdown",
   "metadata": {},
   "source": [
    "Note:\n",
    "\n",
    "The student sheet is locked so we couldn't fix the formatting, so we manually inserted 1 row ( since it was the only one)"
   ]
  },
  {
   "cell_type": "code",
   "execution_count": 15,
   "metadata": {},
   "outputs": [],
   "source": [
    "# create 2021-2022 dataframe\n",
    "dfs['2021-2022.xlsx'] = pd.DataFrame(columns=['street_number','street_name','street_suffix','unit_number','zip_code','level_of_study','full_time','at_home','extra_large_unit'])\n",
    "\n",
    "# street_number = 50\n",
    "# street_name = Rockwell\n",
    "# street suffix = St.\n",
    "# unit_number = nan\n",
    "# zip_code = 2124\n",
    "# level_of_study = U\n",
    "# full_time = PT\n",
    "# at_home = not-at-home\n",
    "# extra_large_unit = nan\n",
    "dfs['2021-2022.xlsx'] = pd.concat([dfs['2021-2022.xlsx'], pd.DataFrame({'street_number':[50],'street_name':['Rockwell'],'street_suffix':['St.'],'unit_number':[np.nan],'zip_code':[2124],'level_of_study':['U'],'full_time':['PT'],'at_home':['not-at-home'],'extra_large_unit':[np.nan]})], ignore_index=True)"
   ]
  },
  {
   "cell_type": "markdown",
   "metadata": {},
   "source": [
    "#### Save the Result"
   ]
  },
  {
   "cell_type": "code",
   "execution_count": 16,
   "metadata": {},
   "outputs": [],
   "source": [
    "polish_and_save(dfs, 'Baptist College', 'BaptistCollege.csv')"
   ]
  },
  {
   "cell_type": "markdown",
   "metadata": {},
   "source": [
    "# BayStateCollege"
   ]
  },
  {
   "cell_type": "markdown",
   "metadata": {},
   "source": [
    "#### Polishing Columns"
   ]
  },
  {
   "cell_type": "code",
   "execution_count": 17,
   "metadata": {},
   "outputs": [
    {
     "name": "stdout",
     "output_type": "stream",
     "text": [
      "2022-2023.xlsx\n",
      "['6a. \\nStreet #', '6b. \\nStreet Name', '6c. \\nStreet Suffix  ', '6d.\\n Unit #', '6e. \\nZip', '7. \\nUndergraduate (U) or Graduate (G)', '8. \\nFull-time (FT) or \\nPart-time (PT)', '9. \\nAt-Home or Not-at-Home']\n",
      "2017-2018.xlsx\n",
      "['6a. \\nStreet #', '6b. \\nStreet Name', '6c. \\nStreet Suffix  ', '6d.\\n Unit #', '6e. \\nZip', '7. \\nUndergraduate (U) or Graduate (G)', '8. \\nFull-time (FT) or \\nPart-time (PT)', '9. \\n 5 or More Undergrads/Unit\\n(Y/N)']\n",
      "2019-2020.xlsx\n",
      "['6a. \\nStreet #', '6b. \\nStreet Name', 'Unnamed: 2', '6d.\\n Unit #', '6e. \\nZip', '7. \\nUndergraduate (U) or Graduate (G)', '8. \\nFull-time (FT) or \\nPart-time (PT)', '9. \\n 5 or More Undergrads/Unit\\n(Y/N)']\n",
      "2020-2021.xlsx\n",
      "['6a. \\nStreet #', '6b. \\nStreet Name', 'Unnamed: 2', '6d.\\n Unit #', '6e. \\nZip', '7. \\nUndergraduate (U) or Graduate (G)', '8. \\nFull-time (FT) or \\nPart-time (PT)', '9. \\n 5 or More Undergrads/Unit\\n(Y/N)', '10. At Home or Not at Home']\n",
      "2016-2017.xlsx\n",
      "['6a. \\nStreet #', '6b. \\nStreet Name', '6c. \\nStreet Suffix  ', '6d.\\n Unit #', '6e. \\nZip', '7. \\nUndergraduate (U) or Graduate (G)', '8. \\nFull-time (FT) or \\nPart-time (PT)', '9. \\n 5 or More Undergrads/Unit\\n(Y/N)']\n",
      "2018-2019.xlsx\n",
      "['6a. \\nStreet #', '6b. \\nStreet Name', '6c. \\nStreet Suffix  ', '6d.\\n Unit #', '6e. \\nZip', '7. \\nUndergraduate (U) or Graduate (G)', '8. \\nFull-time (FT) or \\nPart-time (PT)', '9. \\n 5 or More Undergrads/Unit\\n(Y/N)']\n",
      "2021-2022.xlsx\n",
      "['6a. \\nStreet #', '6b. \\nStreet Name', '6c. \\nStreet Suffix  ', '6d.\\n Unit #', '6e. \\nZip', '7. \\nUndergraduate (U) or Graduate (G)', '8. \\nFull-time (FT) or \\nPart-time (PT)', '9. \\n 5 or More Undergrads/Unit\\n(Y/N)']\n"
     ]
    }
   ],
   "source": [
    "dfs = prep_dfs('BayStateCollege')\n",
    "print_columns(dfs)"
   ]
  },
  {
   "cell_type": "code",
   "execution_count": 18,
   "metadata": {},
   "outputs": [],
   "source": [
    "# from 2016-2017 to 2019-2020 there is no at-home column\n",
    "for key in dfs:\n",
    "    if key in ['2016-2017.xlsx','2017-2018.xlsx','2018-2019.xlsx','2019-2020.xlsx','2021-2022.xlsx']:\n",
    "        dfs[key].columns = ['street_number','street_name','street_suffix','unit_number','zip_code','level_of_study','full_time','extra_large_unit']\n",
    "\n",
    "# 2020-2021 has at-home column ( at the end )\n",
    "dfs['2020-2021.xlsx'].columns = ['street_number','street_name','street_suffix','unit_number','zip_code','level_of_study','full_time','extra_large_unit','at_home']\n",
    "\n",
    "# 2022-2023 has at-home column ( at the end )\n",
    "dfs['2022-2023.xlsx'].columns = ['street_number','street_name','street_suffix','unit_number','zip_code','level_of_study','full_time','at_home']"
   ]
  },
  {
   "cell_type": "code",
   "execution_count": 19,
   "metadata": {},
   "outputs": [
    {
     "name": "stdout",
     "output_type": "stream",
     "text": [
      "2022-2023.xlsx\n",
      "['street_number', 'street_name', 'street_suffix', 'unit_number', 'zip_code', 'level_of_study', 'full_time', 'extra_large_unit', 'at_home']\n",
      "2017-2018.xlsx\n",
      "['street_number', 'street_name', 'street_suffix', 'unit_number', 'zip_code', 'level_of_study', 'full_time', 'extra_large_unit', 'at_home']\n",
      "2019-2020.xlsx\n",
      "['street_number', 'street_name', 'street_suffix', 'unit_number', 'zip_code', 'level_of_study', 'full_time', 'extra_large_unit', 'at_home']\n",
      "2020-2021.xlsx\n",
      "['street_number', 'street_name', 'street_suffix', 'unit_number', 'zip_code', 'level_of_study', 'full_time', 'extra_large_unit', 'at_home']\n",
      "2016-2017.xlsx\n",
      "['street_number', 'street_name', 'street_suffix', 'unit_number', 'zip_code', 'level_of_study', 'full_time', 'extra_large_unit', 'at_home']\n",
      "2018-2019.xlsx\n",
      "['street_number', 'street_name', 'street_suffix', 'unit_number', 'zip_code', 'level_of_study', 'full_time', 'extra_large_unit', 'at_home']\n",
      "2021-2022.xlsx\n",
      "['street_number', 'street_name', 'street_suffix', 'unit_number', 'zip_code', 'level_of_study', 'full_time', 'extra_large_unit', 'at_home']\n"
     ]
    }
   ],
   "source": [
    "dfs = fix_missing_columns(dfs, ['at_home','extra_large_unit'])\n",
    "dfs = reorder_columns(dfs, ['extra_large_unit','at_home'])\n",
    "print_columns(dfs)"
   ]
  },
  {
   "cell_type": "markdown",
   "metadata": {},
   "source": [
    "#### Save the Result"
   ]
  },
  {
   "cell_type": "code",
   "execution_count": 20,
   "metadata": {},
   "outputs": [],
   "source": [
    "polish_and_save(dfs, 'Bay State College', 'BayStateCollege.csv')"
   ]
  },
  {
   "cell_type": "markdown",
   "metadata": {},
   "source": [
    "# BerkleeCollegeMusic"
   ]
  },
  {
   "cell_type": "markdown",
   "metadata": {},
   "source": [
    "#### Polishing Columns"
   ]
  },
  {
   "cell_type": "code",
   "execution_count": 21,
   "metadata": {},
   "outputs": [
    {
     "name": "stderr",
     "output_type": "stream",
     "text": [
      "/Library/Frameworks/Python.framework/Versions/3.12/lib/python3.12/site-packages/openpyxl/worksheet/_reader.py:329: UserWarning: Unknown extension is not supported and will be removed\n",
      "  warn(msg)\n"
     ]
    },
    {
     "name": "stdout",
     "output_type": "stream",
     "text": [
      "2022-2023.xlsx\n",
      "['6a. \\nStreet #', '6b. \\nStreet Name', '6c. \\nStreet Suffix  ', '6d.\\n Unit #', '6e. \\nZip', '7. \\nUndergraduate (U) or Graduate (G)', '8. \\nFull-time (FT) or \\nPart-time (PT)', '9. \\nAt-Home or Not-at-Home']\n",
      "2017-2018.xlsx\n",
      "['6a. \\nStreet #', '6b. \\nStreet Name', '6c. \\nStreet Suffix  ', '6d.\\n Unit #', '6e. \\nZip', '7. \\nUndergraduate (U) or Graduate (G)', '8. \\nFull-time (FT) or \\nPart-time (PT)', '9. \\n 5 or More Undergrads/Unit\\n(Y/N)']\n",
      "2019-2020.xlsx\n",
      "['6a. \\nStreet #', '6b. \\nStreet Name', '6c. \\nStreet Suffix  ', '6d.\\n Unit #', '6e. \\nZip', '7. \\nUndergraduate (U) or Graduate (G)', '8. \\nFull-time (FT) or \\nPart-time (PT)', '9. \\n 5 or More Undergrads/Unit\\n(Y/N)']\n",
      "2023-2024.xlsx\n",
      "['6a. \\nStreet #', '6b. \\nStreet Name', '6c. \\nStreet Suffix  ', '6d.\\n Unit #', '6e. \\nZip', '7. \\nUndergraduate (U) or Graduate (G)', '8. \\nFull-time (FT) or \\nPart-time (PT)', '9. \\nAt-Home or Not-at-Home']\n",
      "2020-2021.xlsx\n",
      "['6a. \\nStreet #', '6b. \\nStreet Name', '6c. \\nStreet Suffix  ', '6d.\\n Unit #', '6e. \\nZip', '7. \\nUndergraduate (U) or Graduate (G)', '8. \\nFull-time (FT) or \\nPart-time (PT)', '9. \\n 5 or More Undergrads/Unit\\n(Y/N)']\n",
      "2016-2017.xlsx\n",
      "['6a. \\nStreet #', '6b. \\nStreet Name', '6c. \\nStreet Suffix  ', '6d.\\n Unit #', '6e. \\nZip', '7. \\nUndergraduate (U) or Graduate (G)', '8. \\nFull-time (FT) or \\nPart-time (PT)', '9. \\n 5 or More Undergrads/Unit\\n(Y/N)']\n",
      "2018-2019.xlsx\n",
      "['6a. \\nStreet #', '6b. \\nStreet Name', '6c. \\nStreet Suffix  ', '6d.\\n Unit #', '6e. \\nZip', '7. \\nUndergraduate (U) or Graduate (G)', '8. \\nFull-time (FT) or \\nPart-time (PT)', '9. \\n 5 or More Undergrads/Unit\\n(Y/N)']\n",
      "2021-2022.xlsx\n",
      "['6a. \\nStreet #', '6b. \\nStreet Name', '6c. \\nStreet Suffix  ', '6d.\\n Unit #', '6e. \\nZip', '7. \\nUndergraduate (U) or Graduate (G)', '8. \\nFull-time (FT) or \\nPart-time (PT)', '9. \\n 5 or More Undergrads/Unit\\n(Y/N)']\n"
     ]
    }
   ],
   "source": [
    "dfs = prep_dfs('BerkleeCollegeMusic')\n",
    "print_columns(dfs)"
   ]
  },
  {
   "cell_type": "code",
   "execution_count": 22,
   "metadata": {},
   "outputs": [],
   "source": [
    "# up to 2022-2023, there is no at-home column\n",
    "for key in dfs:\n",
    "    if key in ['2022-2023.xlsx','2023-2024.xlsx']:\n",
    "        dfs[key].columns = ['street_number','street_name','street_suffix','unit_number','zip_code','level_of_study','full_time','at_home']\n",
    "    else:\n",
    "        dfs[key].columns = ['street_number','street_name','street_suffix','unit_number','zip_code','level_of_study','full_time','extra_large_unit']"
   ]
  },
  {
   "cell_type": "code",
   "execution_count": 23,
   "metadata": {},
   "outputs": [
    {
     "name": "stdout",
     "output_type": "stream",
     "text": [
      "2022-2023.xlsx\n",
      "['street_number', 'street_name', 'street_suffix', 'unit_number', 'zip_code', 'level_of_study', 'full_time', 'extra_large_unit', 'at_home']\n",
      "2017-2018.xlsx\n",
      "['street_number', 'street_name', 'street_suffix', 'unit_number', 'zip_code', 'level_of_study', 'full_time', 'extra_large_unit', 'at_home']\n",
      "2019-2020.xlsx\n",
      "['street_number', 'street_name', 'street_suffix', 'unit_number', 'zip_code', 'level_of_study', 'full_time', 'extra_large_unit', 'at_home']\n",
      "2023-2024.xlsx\n",
      "['street_number', 'street_name', 'street_suffix', 'unit_number', 'zip_code', 'level_of_study', 'full_time', 'extra_large_unit', 'at_home']\n",
      "2020-2021.xlsx\n",
      "['street_number', 'street_name', 'street_suffix', 'unit_number', 'zip_code', 'level_of_study', 'full_time', 'extra_large_unit', 'at_home']\n",
      "2016-2017.xlsx\n",
      "['street_number', 'street_name', 'street_suffix', 'unit_number', 'zip_code', 'level_of_study', 'full_time', 'extra_large_unit', 'at_home']\n",
      "2018-2019.xlsx\n",
      "['street_number', 'street_name', 'street_suffix', 'unit_number', 'zip_code', 'level_of_study', 'full_time', 'extra_large_unit', 'at_home']\n",
      "2021-2022.xlsx\n",
      "['street_number', 'street_name', 'street_suffix', 'unit_number', 'zip_code', 'level_of_study', 'full_time', 'extra_large_unit', 'at_home']\n"
     ]
    }
   ],
   "source": [
    "dfs = fix_missing_columns(dfs, ['at_home','extra_large_unit'])\n",
    "dfs = reorder_columns(dfs, ['extra_large_unit','at_home'])\n",
    "print_columns(dfs)"
   ]
  },
  {
   "cell_type": "markdown",
   "metadata": {},
   "source": [
    "#### Save the Result"
   ]
  },
  {
   "cell_type": "code",
   "execution_count": 24,
   "metadata": {},
   "outputs": [],
   "source": [
    "polish_and_save(dfs, 'Berklee College of Music', 'BerkleeCollegeMusic.csv')"
   ]
  },
  {
   "cell_type": "markdown",
   "metadata": {},
   "source": [
    "# Boston Architectural College"
   ]
  },
  {
   "cell_type": "markdown",
   "metadata": {},
   "source": [
    "#### Polishing Columns"
   ]
  },
  {
   "cell_type": "code",
   "execution_count": 25,
   "metadata": {},
   "outputs": [
    {
     "name": "stdout",
     "output_type": "stream",
     "text": [
      "2022-2023.xlsx\n",
      "['6a. \\nStreet #', '6b. \\nStreet Name', '6c. \\nStreet Suffix  ', '6d.\\n Unit #', '6e. \\nZip', '7. \\nUndergraduate (U) or Graduate (G)', '8. \\nFull-time (FT) or \\nPart-time (PT)', '9. \\nAt-Home or Not-at-Home']\n",
      "2017-2018.xlsx\n",
      "['6a. \\nStreet #', '6b. \\nStreet Name', '6c. \\nStreet Suffix  ', '6d.\\n Unit #', '6e. \\nZip', '7. \\nUndergraduate (U) or Graduate (G)', '8. \\nFull-time (FT) or \\nPart-time (PT)', '9. \\n 5 or More Undergrads/Unit\\n(Y/N)']\n",
      "2019-2020.xlsx\n",
      "['6a. \\nStreet #', '6b. \\nStreet Name', '6c. \\nStreet Suffix  ', '6d.\\n Unit #', '6e. \\nZip', '7. \\nUndergraduate (U) or Graduate (G)', '8. \\nFull-time (FT) or \\nPart-time (PT)', '9. \\n 5 or More Undergrads/Unit\\n(Y/N)']\n",
      "2023-2024.xlsx\n",
      "['6a. \\nStreet #', '6b. \\nStreet Name', '6c. \\nStreet Suffix  ', '6d.\\n Unit #', '6e. \\nZip', '7. \\nUndergraduate (U) or Graduate (G)', '8. \\nFull-time (FT) or \\nPart-time (PT)', '9. \\nAt-Home or Not-at-Home']\n",
      "2016-2017.xlsx\n",
      "['6a. \\nStreet #', '6b. \\nStreet Name', '6c. \\nStreet Suffix  ', '6d.\\n Unit #', '6e. \\nZip', '7. \\nUndergraduate (U) or Graduate (G)', '8. \\nFull-time (FT) or \\nPart-time (PT)', '9. \\n 5 or More Undergrads/Unit\\n(Y/N)']\n",
      "2018-2019.xlsx\n",
      "['6a. \\nStreet #', '6b. \\nStreet Name', '6c. \\nStreet Suffix  ', '6d.\\n Unit #', '6e. \\nZip', '7. \\nUndergraduate (U) or Graduate (G)', '8. \\nFull-time (FT) or \\nPart-time (PT)', '9. \\n 5 or More Undergrads/Unit\\n(Y/N)']\n",
      "2021-2022.xlsx\n",
      "['6a. \\nStreet #', '6b. \\nStreet Name', '6c. \\nStreet Suffix  ', '6d.\\n Unit #', '6e. \\nZip', '7. \\nUndergraduate (U) or Graduate (G)', '8. \\nFull-time (FT) or \\nPart-time (PT)', '9. \\n 5 or More Undergrads/Unit\\n(Y/N)']\n"
     ]
    }
   ],
   "source": [
    "dfs = prep_dfs('BostonArchitecturalCollege')\n",
    "print_columns(dfs)"
   ]
  },
  {
   "cell_type": "code",
   "execution_count": 26,
   "metadata": {},
   "outputs": [],
   "source": [
    "# 2022-2023.xlsx and 2023-2024.xlsx have at-home column\n",
    "dfs['2022-2023.xlsx'].columns = ['street_number','street_name','street_suffix','unit_number','zip_code','level_of_study','full_time','at_home']\n",
    "dfs['2023-2024.xlsx'].columns = ['street_number','street_name','street_suffix','unit_number','zip_code','level_of_study','full_time','at_home']"
   ]
  },
  {
   "cell_type": "code",
   "execution_count": 27,
   "metadata": {},
   "outputs": [],
   "source": [
    "# the rest of the files do not have at-home column\n",
    "for key in dfs:\n",
    "    if key in ['2022-2023.xlsx','2023-2024.xlsx']:\n",
    "        continue\n",
    "    dfs[key].columns = ['street_number','street_name','street_suffix','unit_number','zip_code','level_of_study','full_time','extra_large_unit']"
   ]
  },
  {
   "cell_type": "code",
   "execution_count": 28,
   "metadata": {},
   "outputs": [
    {
     "name": "stdout",
     "output_type": "stream",
     "text": [
      "2022-2023.xlsx\n",
      "['street_number', 'street_name', 'street_suffix', 'unit_number', 'zip_code', 'level_of_study', 'full_time', 'extra_large_unit', 'at_home']\n",
      "2017-2018.xlsx\n",
      "['street_number', 'street_name', 'street_suffix', 'unit_number', 'zip_code', 'level_of_study', 'full_time', 'extra_large_unit', 'at_home']\n",
      "2019-2020.xlsx\n",
      "['street_number', 'street_name', 'street_suffix', 'unit_number', 'zip_code', 'level_of_study', 'full_time', 'extra_large_unit', 'at_home']\n",
      "2023-2024.xlsx\n",
      "['street_number', 'street_name', 'street_suffix', 'unit_number', 'zip_code', 'level_of_study', 'full_time', 'extra_large_unit', 'at_home']\n",
      "2016-2017.xlsx\n",
      "['street_number', 'street_name', 'street_suffix', 'unit_number', 'zip_code', 'level_of_study', 'full_time', 'extra_large_unit', 'at_home']\n",
      "2018-2019.xlsx\n",
      "['street_number', 'street_name', 'street_suffix', 'unit_number', 'zip_code', 'level_of_study', 'full_time', 'extra_large_unit', 'at_home']\n",
      "2021-2022.xlsx\n",
      "['street_number', 'street_name', 'street_suffix', 'unit_number', 'zip_code', 'level_of_study', 'full_time', 'extra_large_unit', 'at_home']\n"
     ]
    }
   ],
   "source": [
    "dfs = fix_missing_columns(dfs, ['at_home','extra_large_unit'])\n",
    "dfs = reorder_columns(dfs, ['extra_large_unit','at_home'])\n",
    "print_columns(dfs)"
   ]
  },
  {
   "cell_type": "markdown",
   "metadata": {},
   "source": [
    "#### Save the Result"
   ]
  },
  {
   "cell_type": "code",
   "execution_count": 29,
   "metadata": {},
   "outputs": [],
   "source": [
    "polish_and_save(dfs, 'Boston Architectural College', 'BostonArchitecturalCollege.csv')"
   ]
  },
  {
   "cell_type": "markdown",
   "metadata": {},
   "source": [
    "# Boston College"
   ]
  },
  {
   "cell_type": "markdown",
   "metadata": {},
   "source": [
    "#### Polishing Columns"
   ]
  },
  {
   "cell_type": "code",
   "execution_count": 30,
   "metadata": {},
   "outputs": [
    {
     "name": "stdout",
     "output_type": "stream",
     "text": [
      "2022-2023.xlsx\n",
      "['6a. \\nStreet #', '6b. \\nStreet Name', '6c. \\nStreet Suffix  ', '6d.\\n Unit #', '6e. \\nZip', '7. \\nUndergraduate (U) or Graduate (G)', '8. \\nFull-time (FT) or \\nPart-time (PT)', '9. \\n 5 or More Undergrads/Unit\\n(Y/N)', 'Housing Type']\n",
      "2017-2018.xlsx\n",
      "['6a. \\nStreet #', '6b. \\nStreet Name', '6c. \\nStreet Suffix  ', '6d.\\n Unit #', '6e. \\nZip', '7. \\nUndergraduate (U) or Graduate (G)', '8. \\nFull-time (FT) or \\nPart-time (PT)', '9. \\n 5 or More Undergrads/Unit\\n(Y/N)']\n",
      "2019-2020.xlsx\n",
      "['6a. \\nStreet #', '6b. \\nStreet Name', '6c. \\nStreet Suffix  ', '6d.\\n Unit #', '6e. \\nZip', '7. \\nUndergraduate (U) or Graduate (G)', '8. \\nFull-time (FT) or \\nPart-time (PT)', '9. \\n 5 or More Undergrads/Unit\\n(Y/N)']\n",
      "2023-2024.xlsx\n",
      "['6a. \\nStreet #', '6b. \\nStreet Name', '6c. \\nStreet Suffix  ', '6d.\\n Unit #', '6e. \\nZip', '7. \\nUndergraduate (U) or Graduate (G)', '8. \\nFull-time (FT) or \\nPart-time (PT)', '9. \\nAt-Home or Not-at-Home']\n",
      "2020-2021.xlsx\n",
      "['6a. \\nStreet #', '6b. \\nStreet Name', '6c. \\nStreet Suffix  ', '6d.\\n Unit #', '6e. \\nZip', '7. \\nUndergraduate (U) or Graduate (G)', '8. \\nFull-time (FT) or \\nPart-time (PT)', '9. \\n 5 or More Undergrads/Unit\\n(Y/N)']\n",
      "2016-2017.xlsx\n",
      "['Street #', 'Street Name', 'Unit #', 'Zipcode', 'Grad, Undergrad, or Woods College', 'Full-Time/Part-Time', 'Expected Graduation Term', 'Housing Type']\n",
      "2018-2019.xlsx\n",
      "['6a. \\nStreet #', '6b. \\nStreet Name', '6c. \\nStreet Suffix  ', '6d.\\n Unit #', '6e. \\nZip', '7. \\nUndergraduate (U) or Graduate (G)', '8. \\nFull-time (FT) or \\nPart-time (PT)', '9. \\n 5 or More Undergrads/Unit\\n(Y/N)']\n",
      "2021-2022.xlsx\n",
      "['6a. \\nStreet #', '6b. \\nStreet Name', '6c. \\nStreet Suffix  ', '6d.\\n Unit #', '6e. \\nZip', '7. \\nUndergraduate (U) or Graduate (G)', '8. \\nFull-time (FT) or \\nPart-time (PT)', '9. \\n 5 or More Undergrads/Unit\\n(Y/N)']\n"
     ]
    }
   ],
   "source": [
    "dfs = prep_dfs('BostonCollege')\n",
    "print_columns(dfs)"
   ]
  },
  {
   "cell_type": "code",
   "execution_count": 31,
   "metadata": {},
   "outputs": [
    {
     "name": "stdout",
     "output_type": "stream",
     "text": [
      "2022-2023.xlsx\n",
      "['street_number', 'street_name', 'street_suffix', 'unit_number', 'zip_code', 'level_of_study', 'full_time', 'extra_large_unit', 'housing_type']\n",
      "2017-2018.xlsx\n",
      "['street_number', 'street_name', 'street_suffix', 'unit_number', 'zip_code', 'level_of_study', 'full_time', 'extra_large_unit']\n",
      "2019-2020.xlsx\n",
      "['street_number', 'street_name', 'street_suffix', 'unit_number', 'zip_code', 'level_of_study', 'full_time', 'extra_large_unit']\n",
      "2023-2024.xlsx\n",
      "['street_number', 'street_name', 'street_suffix', 'unit_number', 'zip_code', 'level_of_study', 'full_time', 'at_home']\n",
      "2020-2021.xlsx\n",
      "['street_number', 'street_name', 'street_suffix', 'unit_number', 'zip_code', 'level_of_study', 'full_time', 'extra_large_unit']\n",
      "2016-2017.xlsx\n",
      "['street_number', 'street_name', 'unit_number', 'zip_code', 'level_of_study', 'full_time', 'expected_graduation_term', 'housing_type', 'street_suffix']\n",
      "2018-2019.xlsx\n",
      "['street_number', 'street_name', 'street_suffix', 'unit_number', 'zip_code', 'level_of_study', 'full_time', 'extra_large_unit']\n",
      "2021-2022.xlsx\n",
      "['street_number', 'street_name', 'street_suffix', 'unit_number', 'zip_code', 'level_of_study', 'full_time', 'extra_large_unit']\n"
     ]
    }
   ],
   "source": [
    "# 2016-2017 has expected graduation term and housing type columns\n",
    "# from 2017-2018 to 2022-2023, there is no at-home column\n",
    "# at 2022-2023, there is an housing type column\n",
    "# 2023-2024 has at-home column\n",
    "dfs['2016-2017.xlsx'].columns = ['street_number','street_name','unit_number','zip_code','level_of_study','full_time','expected_graduation_term','housing_type']\n",
    "dfs['2023-2024.xlsx'].columns = ['street_number','street_name','street_suffix','unit_number','zip_code','level_of_study','full_time','at_home']\n",
    "dfs['2022-2023.xlsx'].columns = ['street_number','street_name','street_suffix','unit_number','zip_code','level_of_study','full_time','extra_large_unit','housing_type']\n",
    "\n",
    "for key in dfs:\n",
    "    if key in ['2016-2017.xlsx','2023-2024.xlsx','2022-2023.xlsx']:\n",
    "        continue\n",
    "    dfs[key].columns = ['street_number','street_name','street_suffix','unit_number','zip_code','level_of_study','full_time','extra_large_unit']\n",
    "\n",
    "\n",
    "# fill 2016-2017 na columns in stree_name with empty string\n",
    "dfs['2016-2017.xlsx']['street_name'] = dfs['2016-2017.xlsx']['street_name'].fillna('')\n",
    "\n",
    "# print the columns of each df\n",
    "# for 2016-2017, street name also has a suffix, let's fix that\n",
    "street_suffix = dfs['2016-2017.xlsx']['street_name'].apply(lambda name: name.split(' ')[-1] if len(name.split(' ')) > 1 else '')\n",
    "dfs['2016-2017.xlsx']['street_suffix'] = street_suffix\n",
    "dfs['2016-2017.xlsx']['street_name'] = dfs['2016-2017.xlsx']['street_name'].apply(lambda name: ' '.join(name.split(' ')[:-1]))\n",
    "\n",
    "print_columns(dfs)"
   ]
  },
  {
   "cell_type": "code",
   "execution_count": 32,
   "metadata": {},
   "outputs": [
    {
     "data": {
      "text/plain": [
       "['street_number',\n",
       " 'street_name',\n",
       " 'street_suffix',\n",
       " 'unit_number',\n",
       " 'zip_code',\n",
       " 'level_of_study',\n",
       " 'full_time',\n",
       " 'extra_large_unit',\n",
       " 'housing_type',\n",
       " 'at_home',\n",
       " 'expected_graduation_term']"
      ]
     },
     "execution_count": 32,
     "metadata": {},
     "output_type": "execute_result"
    }
   ],
   "source": [
    "unique_columns = []\n",
    "for key in dfs:\n",
    "    for column in list(dfs[key].columns):\n",
    "        if column not in unique_columns:\n",
    "            unique_columns.append(column)\n",
    "\n",
    "unique_columns"
   ]
  },
  {
   "cell_type": "code",
   "execution_count": 33,
   "metadata": {},
   "outputs": [
    {
     "name": "stdout",
     "output_type": "stream",
     "text": [
      "2022-2023.xlsx\n",
      "['street_number', 'street_name', 'street_suffix', 'unit_number', 'zip_code', 'level_of_study', 'full_time', 'extra_large_unit', 'expected_graduation_term', 'housing_type', 'at_home']\n",
      "2017-2018.xlsx\n",
      "['street_number', 'street_name', 'street_suffix', 'unit_number', 'zip_code', 'level_of_study', 'full_time', 'extra_large_unit', 'expected_graduation_term', 'housing_type', 'at_home']\n",
      "2019-2020.xlsx\n",
      "['street_number', 'street_name', 'street_suffix', 'unit_number', 'zip_code', 'level_of_study', 'full_time', 'extra_large_unit', 'expected_graduation_term', 'housing_type', 'at_home']\n",
      "2023-2024.xlsx\n",
      "['street_number', 'street_name', 'street_suffix', 'unit_number', 'zip_code', 'level_of_study', 'full_time', 'extra_large_unit', 'expected_graduation_term', 'housing_type', 'at_home']\n",
      "2020-2021.xlsx\n",
      "['street_number', 'street_name', 'street_suffix', 'unit_number', 'zip_code', 'level_of_study', 'full_time', 'extra_large_unit', 'expected_graduation_term', 'housing_type', 'at_home']\n",
      "2016-2017.xlsx\n",
      "['street_number', 'street_name', 'street_suffix', 'unit_number', 'zip_code', 'level_of_study', 'full_time', 'extra_large_unit', 'expected_graduation_term', 'housing_type', 'at_home']\n",
      "2018-2019.xlsx\n",
      "['street_number', 'street_name', 'street_suffix', 'unit_number', 'zip_code', 'level_of_study', 'full_time', 'extra_large_unit', 'expected_graduation_term', 'housing_type', 'at_home']\n",
      "2021-2022.xlsx\n",
      "['street_number', 'street_name', 'street_suffix', 'unit_number', 'zip_code', 'level_of_study', 'full_time', 'extra_large_unit', 'expected_graduation_term', 'housing_type', 'at_home']\n"
     ]
    }
   ],
   "source": [
    "# now, make sure all of these columns are in each df\n",
    "dfs = fix_missing_columns(dfs, unique_columns)\n",
    "# now, reorder the columns\n",
    "dfs = reorder_columns(dfs, ['street_number','street_name','street_suffix','unit_number','zip_code','level_of_study','full_time','extra_large_unit','expected_graduation_term','housing_type','at_home'])\n",
    "# print the columns of each df\n",
    "print_columns(dfs)"
   ]
  },
  {
   "cell_type": "markdown",
   "metadata": {},
   "source": [
    "#### Save the Result"
   ]
  },
  {
   "cell_type": "code",
   "execution_count": 34,
   "metadata": {},
   "outputs": [],
   "source": [
    "polish_and_save(dfs, 'Boston College', 'BostonCollege.csv')"
   ]
  },
  {
   "cell_type": "markdown",
   "metadata": {},
   "source": [
    "# Boston Conservatory Berklee"
   ]
  },
  {
   "cell_type": "markdown",
   "metadata": {},
   "source": [
    "#### Polishing Columns"
   ]
  },
  {
   "cell_type": "code",
   "execution_count": 35,
   "metadata": {},
   "outputs": [
    {
     "name": "stdout",
     "output_type": "stream",
     "text": [
      "2017-2018.xlsx\n",
      "['6a. \\nStreet #', '6b. \\nStreet Name', '6c. \\nStreet Suffix  ', '6d.\\n Unit #', '6e. \\nZip', '7. \\nUndergraduate (U) or Graduate (G)', '8. \\nFull-time (FT) or \\nPart-time (PT)', '9. \\n 5 or More Undergrads/Unit\\n(Y/N)']\n",
      "2016-2017.xlsx\n",
      "['6a. \\nStreet #', '6b. \\nStreet Name', '6c. \\nStreet Suffix  ', '6d.\\n Unit #', '6e. \\nZip', '7. \\nUndergraduate (U) or Graduate (G)', '8. \\nFull-time (FT) or \\nPart-time (PT)', '9. \\n 5 or More Undergrads/Unit\\n(Y/N)']\n"
     ]
    }
   ],
   "source": [
    "dfs = prep_dfs('BostonConservatoryBerklee')\n",
    "print_columns(dfs)"
   ]
  },
  {
   "cell_type": "code",
   "execution_count": 36,
   "metadata": {},
   "outputs": [],
   "source": [
    "for key in dfs:\n",
    "    dfs[key].columns = ['street_number','street_name','street_suffix','unit_number','zip_code','level_of_study','full_time','extra_large_unit']"
   ]
  },
  {
   "cell_type": "code",
   "execution_count": 37,
   "metadata": {},
   "outputs": [
    {
     "name": "stdout",
     "output_type": "stream",
     "text": [
      "2017-2018.xlsx\n",
      "['street_number', 'street_name', 'street_suffix', 'unit_number', 'zip_code', 'level_of_study', 'full_time', 'extra_large_unit']\n",
      "2016-2017.xlsx\n",
      "['street_number', 'street_name', 'street_suffix', 'unit_number', 'zip_code', 'level_of_study', 'full_time', 'extra_large_unit']\n"
     ]
    }
   ],
   "source": [
    "print_columns(dfs)"
   ]
  },
  {
   "cell_type": "markdown",
   "metadata": {},
   "source": [
    "#### Save the Result"
   ]
  },
  {
   "cell_type": "code",
   "execution_count": 38,
   "metadata": {},
   "outputs": [],
   "source": [
    "polish_and_save(dfs, 'Boston Conservatory Berklee', 'BostonConservatoryBerklee.csv')"
   ]
  },
  {
   "cell_type": "markdown",
   "metadata": {},
   "source": [
    "# Emerson College"
   ]
  },
  {
   "cell_type": "markdown",
   "metadata": {},
   "source": [
    "#### Polishing Columns"
   ]
  },
  {
   "cell_type": "code",
   "execution_count": 39,
   "metadata": {},
   "outputs": [
    {
     "name": "stdout",
     "output_type": "stream",
     "text": [
      "2022-2023.xlsx\n",
      "['6a. \\nStreet #', '6b. \\nStreet Name', '6c. \\nStreet Suffix  ', '6d.\\n Unit #', '6e. \\nZip', '7. \\nUndergraduate (U) or Graduate (G)', '8. \\nFull-time (FT) or \\nPart-time (PT)', '9. \\nAt-Home or Not-at-Home']\n",
      "2017-2018.xlsx\n",
      "['6a. \\nStreet #', '6b. \\nStreet Name', '6c. \\nStreet Suffix  ', '6d.\\n Unit #', '6e. \\nZip', '7. \\nUndergraduate (U) or Graduate (G)', '8. \\nFull-time (FT) or \\nPart-time (PT)', '9. \\n 5 or More Undergrads/Unit\\n(Y/N)']\n",
      "2019-2020.xlsx\n",
      "['6a. \\nStreet #', '6b. \\nStreet Name', '6c. \\nStreet Suffix  ', '6d.\\n Unit #', '6e. \\nZip', '7. \\nUndergraduate (U) or Graduate (G)', '8. \\nFull-time (FT) or \\nPart-time (PT)', '9. \\n 5 or More Undergrads/Unit\\n(Y/N)']\n",
      "2023-2024.xlsx\n",
      "['6a. \\nStreet #', '6b. \\nStreet Name', '6c. \\nStreet Suffix  ', '6d.\\n Unit #', '6e. \\nZip', '7. \\nUndergraduate (U) or Graduate (G)', '8. \\nFull-time (FT) or \\nPart-time (PT)', '9. \\nAt-Home or Not-at-Home']\n",
      "2020-2021.xlsx\n",
      "['6a. \\nStreet #', '6b. \\nStreet Name', '6c. \\nStreet Suffix  ', '6d.\\n Unit #', '6e. \\nZip', '7. \\nUndergraduate (U) or Graduate (G)', '8. \\nFull-time (FT) or \\nPart-time (PT)', '9. \\n 5 or More Undergrads/Unit\\n(Y/N)']\n",
      "2016-2017.xlsx\n",
      "['6a. \\nStreet #', '6b. \\nStreet Name', '6c. \\nStreet Suffix  ', '6d.\\n Unit #', '6e. \\nZip', '7. \\nUndergraduate (U) or Graduate (G)', '8. \\nFull-time (FT) or \\nPart-time (PT)', '9. \\n 5 or More Undergrads/Unit\\n(Y/N)']\n",
      "2018-2019.xlsx\n",
      "['6a. \\nStreet #', '6b. \\nStreet Name', '6c. \\nStreet Suffix  ', '6d.\\n Unit #', '6e. \\nZip', '7. \\nUuate (U) or G (G)', '8. \\nFull-time (FT) or \\nPart-time (PT)', '9. \\n 5 or More Undergrads/Unit\\n(Y/N)']\n",
      "2021-2022.xlsx\n",
      "['6a. \\nStreet #', '6b. \\nStreet Name', '6c. \\nStreet Suffix  ', '6d.\\n Unit #', '6e. \\nZip', '7. \\nUndergraduate (U) or Graduate (G)', '8. \\nFull-time (FT) or \\nPart-time (PT)', '9. \\n 5 or More Undergrads/Unit\\n(Y/N)', 'Not-at-home vs. At-home']\n"
     ]
    }
   ],
   "source": [
    "dfs = prep_dfs('EmersonCollege')\n",
    "print_columns(dfs)"
   ]
  },
  {
   "cell_type": "code",
   "execution_count": 40,
   "metadata": {},
   "outputs": [],
   "source": [
    "# 2021-2022 has at-home column and extra large unit column\n",
    "# 2022-2023 has at-home column\n",
    "# 2023-2024 has at-home column\n",
    "# the rest do not have at-home column\n",
    "\n",
    "dfs['2021-2022.xlsx'].columns = ['street_number','street_name','street_suffix','unit_number','zip_code','level_of_study','full_time','extra_large_unit','at_home']\n",
    "dfs['2022-2023.xlsx'].columns = ['street_number','street_name','street_suffix','unit_number','zip_code','level_of_study','full_time','at_home']\n",
    "dfs['2023-2024.xlsx'].columns = ['street_number','street_name','street_suffix','unit_number','zip_code','level_of_study','full_time','at_home']\n",
    "\n",
    "for key in dfs:\n",
    "    if key in ['2021-2022.xlsx','2022-2023.xlsx','2023-2024.xlsx']:\n",
    "        continue\n",
    "    dfs[key].columns = ['street_number','street_name','street_suffix','unit_number','zip_code','level_of_study','full_time','extra_large_unit']"
   ]
  },
  {
   "cell_type": "code",
   "execution_count": 41,
   "metadata": {},
   "outputs": [
    {
     "name": "stdout",
     "output_type": "stream",
     "text": [
      "2022-2023.xlsx\n",
      "['street_number', 'street_name', 'street_suffix', 'unit_number', 'zip_code', 'level_of_study', 'full_time', 'extra_large_unit', 'at_home']\n",
      "2017-2018.xlsx\n",
      "['street_number', 'street_name', 'street_suffix', 'unit_number', 'zip_code', 'level_of_study', 'full_time', 'extra_large_unit', 'at_home']\n",
      "2019-2020.xlsx\n",
      "['street_number', 'street_name', 'street_suffix', 'unit_number', 'zip_code', 'level_of_study', 'full_time', 'extra_large_unit', 'at_home']\n",
      "2023-2024.xlsx\n",
      "['street_number', 'street_name', 'street_suffix', 'unit_number', 'zip_code', 'level_of_study', 'full_time', 'extra_large_unit', 'at_home']\n",
      "2020-2021.xlsx\n",
      "['street_number', 'street_name', 'street_suffix', 'unit_number', 'zip_code', 'level_of_study', 'full_time', 'extra_large_unit', 'at_home']\n",
      "2016-2017.xlsx\n",
      "['street_number', 'street_name', 'street_suffix', 'unit_number', 'zip_code', 'level_of_study', 'full_time', 'extra_large_unit', 'at_home']\n",
      "2018-2019.xlsx\n",
      "['street_number', 'street_name', 'street_suffix', 'unit_number', 'zip_code', 'level_of_study', 'full_time', 'extra_large_unit', 'at_home']\n",
      "2021-2022.xlsx\n",
      "['street_number', 'street_name', 'street_suffix', 'unit_number', 'zip_code', 'level_of_study', 'full_time', 'extra_large_unit', 'at_home']\n"
     ]
    }
   ],
   "source": [
    "dfs = fix_missing_columns(dfs, ['at_home','extra_large_unit'])\n",
    "dfs = reorder_columns(dfs, ['extra_large_unit','at_home'])\n",
    "print_columns(dfs)"
   ]
  },
  {
   "cell_type": "markdown",
   "metadata": {},
   "source": [
    "#### Save the Result"
   ]
  },
  {
   "cell_type": "code",
   "execution_count": 42,
   "metadata": {},
   "outputs": [],
   "source": [
    "polish_and_save(dfs, 'Emerson College', 'EmersonCollege.csv')"
   ]
  },
  {
   "cell_type": "markdown",
   "metadata": {},
   "source": [
    "# Emmanuel College"
   ]
  },
  {
   "cell_type": "markdown",
   "metadata": {},
   "source": [
    "#### Polishing Columns"
   ]
  },
  {
   "cell_type": "code",
   "execution_count": 43,
   "metadata": {},
   "outputs": [
    {
     "name": "stdout",
     "output_type": "stream",
     "text": [
      "2022-2023.xlsx\n",
      "['6a. \\nStreet #', '6b. \\nStreet Name', '6c. \\nStreet Suffix  ', '6d.\\n Unit #', '6e. \\nZip', '7. \\nUndergraduate (U) or Graduate (G)', '8. \\nFull-time (FT) or \\nPart-time (PT)', '9. \\nAt-Home or Not-at-Home']\n",
      "2017-2018.xlsx\n",
      "['6a. \\nStreet #', '6b. \\nStreet Name', '6c. \\nStreet Suffix  ', '6d.\\n Unit #', '6e. \\nZip', '7. \\nUndergraduate (U) or Graduate (G)', '8. \\nFull-time (FT) or \\nPart-time (PT)', '9. \\n 5 or More Undergrads/Unit\\n(Y/N)']\n",
      "2019-2020.xlsx\n",
      "['6a. \\nStreet #', '6b. \\nStreet Name', '6c. \\nStreet Suffix  ', '6d.\\n Unit #', '6e. \\nZip', '7. \\nUndergraduate (U) or Graduate (G)', '8. \\nFull-time (FT) or \\nPart-time (PT)', '9. \\n 5 or More Undergrads/Unit\\n(Y/N)']\n",
      "2023-2024.xlsx\n",
      "['6a. \\nStreet #', '6b. \\nStreet Name', '6c. \\nStreet Suffix  ', '6d.\\n Unit #', '6e. \\nZip', '7. \\nUndergraduate (U) or Graduate (G)', '8. \\nFull-time (FT) or \\nPart-time (PT)', '9. \\nAt-Home or Not-at-Home']\n",
      "2020-2021.xlsx\n",
      "['6a. \\nStreet #', '6b. \\nStreet Name', '6c. \\nStreet Suffix  ', '6d.\\n Unit #', '6e. \\nZip', '7. \\nUndergraduate (U) or Graduate (G)', '8. \\nFull-time (FT) or \\nPart-time (PT)', '9. \\n 5 or More Undergrads/Unit\\n(Y/N)']\n",
      "2016-2017.xlsx\n",
      "['6a. \\nStreet #', '6b. \\nStreet Name', '6c. \\nStreet Suffix  ', '6d.\\n Unit #', '6e. \\nZip', '7. \\nUndergraduate (U) or Graduate (G)', '8. \\nFull-time (FT) or \\nPart-time (PT)', '9. \\n 5 or More Undergrads/Unit\\n(Y/N)']\n",
      "2018-2019.xlsx\n",
      "['6a. \\nStreet #', '6b. \\nStreet Name', '6c. \\nStreet Suffix  ', '6d.\\n Unit #', '6e. \\nZip', '7. \\nUndergraduate (U) or Graduate (G)', '8. \\nFull-time (FT) or \\nPart-time (PT)', '9. \\n 5 or More Undergrads/Unit\\n(Y/N)']\n",
      "2021-2022.xlsx\n",
      "['6a. \\nStreet #', '6b. \\nStreet Name', '6c. \\nStreet Suffix  ', '6d.\\n Unit #', '6e. \\nZip', '7. \\nUndergraduate (U) or Graduate (G)', '8. \\nFull-time (FT) or \\nPart-time (PT)', '9. \\n 5 or More Undergrads/Unit\\n(Y/N)']\n"
     ]
    }
   ],
   "source": [
    "dfs = prep_dfs('EmmanuelCollege')\n",
    "print_columns(dfs)"
   ]
  },
  {
   "cell_type": "code",
   "execution_count": 44,
   "metadata": {},
   "outputs": [
    {
     "name": "stdout",
     "output_type": "stream",
     "text": [
      "2022-2023.xlsx\n",
      "['street_number', 'street_name', 'street_suffix', 'unit_number', 'zip_code', 'level_of_study', 'full_time', 'extra_large_unit', 'at_home']\n",
      "2017-2018.xlsx\n",
      "['street_number', 'street_name', 'street_suffix', 'unit_number', 'zip_code', 'level_of_study', 'full_time', 'extra_large_unit', 'at_home']\n",
      "2019-2020.xlsx\n",
      "['street_number', 'street_name', 'street_suffix', 'unit_number', 'zip_code', 'level_of_study', 'full_time', 'extra_large_unit', 'at_home']\n",
      "2023-2024.xlsx\n",
      "['street_number', 'street_name', 'street_suffix', 'unit_number', 'zip_code', 'level_of_study', 'full_time', 'extra_large_unit', 'at_home']\n",
      "2020-2021.xlsx\n",
      "['street_number', 'street_name', 'street_suffix', 'unit_number', 'zip_code', 'level_of_study', 'full_time', 'extra_large_unit', 'at_home']\n",
      "2016-2017.xlsx\n",
      "['street_number', 'street_name', 'street_suffix', 'unit_number', 'zip_code', 'level_of_study', 'full_time', 'extra_large_unit', 'at_home']\n",
      "2018-2019.xlsx\n",
      "['street_number', 'street_name', 'street_suffix', 'unit_number', 'zip_code', 'level_of_study', 'full_time', 'extra_large_unit', 'at_home']\n",
      "2021-2022.xlsx\n",
      "['street_number', 'street_name', 'street_suffix', 'unit_number', 'zip_code', 'level_of_study', 'full_time', 'extra_large_unit', 'at_home']\n"
     ]
    }
   ],
   "source": [
    "# 2022-2023 has at-home column\n",
    "# 2023-2024 has at-home column\n",
    "# the rest do not have at-home column\n",
    "\n",
    "dfs['2022-2023.xlsx'].columns = ['street_number','street_name','street_suffix','unit_number','zip_code','level_of_study','full_time','at_home']\n",
    "dfs['2023-2024.xlsx'].columns = ['street_number','street_name','street_suffix','unit_number','zip_code','level_of_study','full_time','at_home']\n",
    "\n",
    "for key in dfs:\n",
    "    if key in ['2022-2023.xlsx','2023-2024.xlsx']:\n",
    "        continue\n",
    "    dfs[key].columns = ['street_number','street_name','street_suffix','unit_number','zip_code','level_of_study','full_time','extra_large_unit']\n",
    "\n",
    "dfs = fix_missing_columns(dfs, ['at_home','extra_large_unit'])\n",
    "\n",
    "dfs = reorder_columns(dfs, ['extra_large_unit','at_home'])\n",
    "\n",
    "print_columns(dfs)"
   ]
  },
  {
   "cell_type": "markdown",
   "metadata": {},
   "source": [
    "#### Save the Result"
   ]
  },
  {
   "cell_type": "code",
   "execution_count": 45,
   "metadata": {},
   "outputs": [],
   "source": [
    "polish_and_save(dfs, 'Emmanuel College', 'EmmanuelCollege.csv')"
   ]
  },
  {
   "cell_type": "markdown",
   "metadata": {},
   "source": [
    "# Fisher College"
   ]
  },
  {
   "cell_type": "markdown",
   "metadata": {},
   "source": [
    "#### Polishing Columns"
   ]
  },
  {
   "cell_type": "code",
   "execution_count": 46,
   "metadata": {},
   "outputs": [
    {
     "name": "stdout",
     "output_type": "stream",
     "text": [
      "2022-2023.xlsx\n",
      "['6a. \\nStreet #', '6b. \\nStreet Name', '6c. \\nStreet Suffix  ', '6d.\\n Unit #', '6e. \\nZip', '7. \\nUndergraduate (U) or Graduate (G)', '8. \\nFull-time (FT) or \\nPart-time (PT)', '9. \\n 5 or More Undergrads/Unit\\n(Y/N)']\n",
      "2017-2018.xlsx\n",
      "['6a. \\nStreet #', '6b. \\nStreet Name', '6c. \\nStreet Suffix  ', '6d.\\n Unit #', '6e. \\nZip', '7. \\nUndergraduate (U) or Graduate (G)', '8. \\nFull-time (FT) or \\nPart-time (PT)', '9. \\n 5 or More Undergrads/Unit\\n(Y/N)']\n",
      "2019-2020.xlsx\n",
      "['6a. \\nStreet #', '6b. \\nStreet Name', '6c. \\nStreet Suffix  ', '6d.\\n Unit #', '6e. \\nZip', '7. \\nUndergraduate (U) or Graduate (G)', '8. \\nFull-time (FT) or \\nPart-time (PT)', '9. \\n 5 or More Undergrads/Unit\\n(Y/N)']\n",
      "2023-2024.xlsx\n",
      "['6a. \\nStreet #', '6b. \\nStreet Name', '6c. \\nStreet Suffix  ', '6d.\\n Unit #', '6e. \\nZip', '7. \\nUndergraduate (U) or Graduate (G)', '8. \\nFull-time (FT) or \\nPart-time (PT)', '9. \\n 5 or More Undergrads/Unit\\n(Y/N)']\n",
      "2020-2021.xlsx\n",
      "['6a. \\nStreet #', '6b. \\nStreet Name', '6c. \\nStreet Suffix  ', '6d.\\n Unit #', '6e. \\nZip', '7. \\nUndergraduate (U) or Graduate (G)', '8. \\nFull-time (FT) or \\nPart-time (PT)', '9. \\n 5 or More Undergrads/Unit\\n(Y/N)']\n",
      "2016-2017.xlsx\n",
      "['6a. \\nStreet #', '6b. \\nStreet Name', '6c. \\nStreet Suffix  ', '6d.\\n Unit #', '6e. \\nZip', '7. \\nUndergraduate (U) or Graduate (G)', '8. \\nFull-time (FT) or \\nPart-time (PT)', '9. \\n 5 or More Undergrads/Unit\\n(Y/N)']\n",
      "2018-2019.xlsx\n",
      "['6a. \\nStreet #', '6b. \\nStreet Name', '6c. \\nStreet Suffix  ', '6d.\\n Unit #', '6e. \\nZip', '7. \\nUndergraduate (U) or Graduate (G)', '8. \\nFull-time (FT) or \\nPart-time (PT)', '9. \\n 5 or More Undergrads/Unit\\n(Y/N)']\n",
      "2021-2022.xlsx\n",
      "['6a. \\nStreet #', '6b. \\nStreet Name', '6c. \\nStreet Suffix  ', '6d.\\n Unit #', '6e. \\nZip', '7. \\nUndergraduate (U) or Graduate (G)', '8. \\nFull-time (FT) or \\nPart-time (PT)', '9. \\n 5 or More Undergrads/Unit\\n(Y/N)']\n"
     ]
    }
   ],
   "source": [
    "dfs = prep_dfs('FisherCollege')\n",
    "print_columns(dfs)"
   ]
  },
  {
   "cell_type": "code",
   "execution_count": 47,
   "metadata": {},
   "outputs": [
    {
     "name": "stdout",
     "output_type": "stream",
     "text": [
      "2022-2023.xlsx\n",
      "['street_number', 'street_name', 'street_suffix', 'unit_number', 'zip_code', 'level_of_study', 'full_time', 'extra_large_unit', 'at_home']\n",
      "2017-2018.xlsx\n",
      "['street_number', 'street_name', 'street_suffix', 'unit_number', 'zip_code', 'level_of_study', 'full_time', 'extra_large_unit', 'at_home']\n",
      "2019-2020.xlsx\n",
      "['street_number', 'street_name', 'street_suffix', 'unit_number', 'zip_code', 'level_of_study', 'full_time', 'extra_large_unit', 'at_home']\n",
      "2023-2024.xlsx\n",
      "['street_number', 'street_name', 'street_suffix', 'unit_number', 'zip_code', 'level_of_study', 'full_time', 'extra_large_unit', 'at_home']\n",
      "2020-2021.xlsx\n",
      "['street_number', 'street_name', 'street_suffix', 'unit_number', 'zip_code', 'level_of_study', 'full_time', 'extra_large_unit', 'at_home']\n",
      "2016-2017.xlsx\n",
      "['street_number', 'street_name', 'street_suffix', 'unit_number', 'zip_code', 'level_of_study', 'full_time', 'extra_large_unit', 'at_home']\n",
      "2018-2019.xlsx\n",
      "['street_number', 'street_name', 'street_suffix', 'unit_number', 'zip_code', 'level_of_study', 'full_time', 'extra_large_unit', 'at_home']\n",
      "2021-2022.xlsx\n",
      "['street_number', 'street_name', 'street_suffix', 'unit_number', 'zip_code', 'level_of_study', 'full_time', 'extra_large_unit', 'at_home']\n"
     ]
    }
   ],
   "source": [
    "# all of them do not have at-home column\n",
    "for key in dfs:\n",
    "    dfs[key].columns = ['street_number','street_name','street_suffix','unit_number','zip_code','level_of_study','full_time','extra_large_unit']\n",
    "\n",
    "# add at-home column\n",
    "dfs = fix_missing_columns(dfs, ['at_home'])\n",
    "\n",
    "print_columns(dfs)"
   ]
  },
  {
   "cell_type": "markdown",
   "metadata": {},
   "source": [
    "#### Save the Result"
   ]
  },
  {
   "cell_type": "code",
   "execution_count": 48,
   "metadata": {},
   "outputs": [],
   "source": [
    "polish_and_save(dfs, 'Fisher College', 'FisherCollege.csv')"
   ]
  },
  {
   "cell_type": "markdown",
   "metadata": {},
   "source": [
    "# Franklin Institute of Technology"
   ]
  },
  {
   "cell_type": "markdown",
   "metadata": {},
   "source": [
    "#### Polishing Columns"
   ]
  },
  {
   "cell_type": "code",
   "execution_count": 49,
   "metadata": {},
   "outputs": [
    {
     "name": "stdout",
     "output_type": "stream",
     "text": [
      "2022-2023.xlsx\n",
      "['6a. \\nStreet #', '6b. \\nStreet Name', '6c. \\nStreet Suffix  ', '6d.\\n Unit #', '6e. \\nZip', '7. \\nUndergraduate (U) or Graduate (G)', '8. \\nFull-time (FT) or \\nPart-time (PT)', '9. \\nAt-Home or Not-at-Home']\n",
      "2017-2018.xlsx\n",
      "['6a. \\nStreet #', '6b. \\nStreet Name', '6c. \\nStreet Suffix  ', '6d.\\n Unit #', '6e. \\nZip', '7. \\nUndergraduate (U) or Graduate (G)', '8. \\nFull-time (FT) or \\nPart-time (PT)', '9. \\n 5 or More Undergrads/Unit\\n(Y/N)']\n",
      "2019-2020.xlsx\n",
      "['6a. \\nStreet #', '6b. \\nStreet Name', '6c. \\nStreet Suffix  ', '6d.\\n Unit #', '6e. \\nZip', '7. \\nUndergraduate (U) or Graduate (G)', '8. \\nFull-time (FT) or \\nPart-time (PT)', '9. \\n 5 or More Undergrads/Unit\\n(Y/N)']\n",
      "2023-2024.xlsx\n",
      "['6a. \\nStreet #', '6b. \\nStreet Name', '6c. \\nStreet Suffix  ', '6d.\\n Unit #', '6e. \\nZip', '7. \\nUndergraduate (U) or Graduate (G)', '8. \\nFull-time (FT) or \\nPart-time (PT)', '9. \\n 5 or More Undergrads/Unit\\n(Y/N)']\n",
      "2020-2021.xlsx\n",
      "['6a. \\nStreet #', '6b. \\nStreet Name', '6c. \\nStreet Suffix  ', '6d.\\n Unit #', '6e. \\nZip', '7. \\nUndergraduate (U) or Graduate (G)', '8. \\nFull-time (FT) or \\nPart-time (PT)', '9. \\n 5 or More Undergrads/Unit\\n(Y/N)']\n",
      "2016-2017.xlsx\n",
      "['6a. \\nStreet #', '6b. \\nStreet Name', '6c. \\nStreet Suffix  ', '6d.\\n Unit #', '6e. \\nZip', '7. \\nUndergraduate (U) or Graduate (G)', '8. \\nFull-time (FT) or \\nPart-time (PT)', '9. \\n 5 or More Undergrads/Unit\\n(Y/N)']\n",
      "2018-2019.xlsx\n",
      "['6a. \\nStreet #', '6b. \\nStreet Name', '6c. \\nStreet Suffix  ', '6d.\\n Unit #', '6e. \\nZip', '7. \\nUndergraduate (U) or Graduate (G)', '8. \\nFull-time (FT) or \\nPart-time (PT)', '9. \\n 5 or More Undergrads/Unit\\n(Y/N)']\n",
      "2021-2022.xlsx\n",
      "['6a. \\nStreet #', '6b. \\nStreet Name', '6c. \\nStreet Suffix  ', '6d.\\n Unit #', '6e. \\nZip', '7. \\nUndergraduate (U) or Graduate (G)', '8. \\nFull-time (FT) or \\nPart-time (PT)', '9. \\n 5 or More Undergrads/Unit\\n(Y/N)']\n"
     ]
    }
   ],
   "source": [
    "dfs = prep_dfs('FranklinInstituteTechnology')\n",
    "print_columns(dfs)"
   ]
  },
  {
   "cell_type": "code",
   "execution_count": 50,
   "metadata": {},
   "outputs": [
    {
     "name": "stdout",
     "output_type": "stream",
     "text": [
      "2022-2023.xlsx\n",
      "['street_number', 'street_name', 'street_suffix', 'unit_number', 'zip_code', 'level_of_study', 'full_time', 'at_home']\n",
      "2017-2018.xlsx\n",
      "['street_number', 'street_name', 'street_suffix', 'unit_number', 'zip_code', 'level_of_study', 'full_time', 'extra_large_unit']\n",
      "2019-2020.xlsx\n",
      "['street_number', 'street_name', 'street_suffix', 'unit_number', 'zip_code', 'level_of_study', 'full_time', 'extra_large_unit']\n",
      "2023-2024.xlsx\n",
      "['street_number', 'street_name', 'street_suffix', 'unit_number', 'zip_code', 'level_of_study', 'full_time', 'extra_large_unit']\n",
      "2020-2021.xlsx\n",
      "['street_number', 'street_name', 'street_suffix', 'unit_number', 'zip_code', 'level_of_study', 'full_time', 'extra_large_unit']\n",
      "2016-2017.xlsx\n",
      "['street_number', 'street_name', 'street_suffix', 'unit_number', 'zip_code', 'level_of_study', 'full_time', 'extra_large_unit']\n",
      "2018-2019.xlsx\n",
      "['street_number', 'street_name', 'street_suffix', 'unit_number', 'zip_code', 'level_of_study', 'full_time', 'extra_large_unit']\n",
      "2021-2022.xlsx\n",
      "['street_number', 'street_name', 'street_suffix', 'unit_number', 'zip_code', 'level_of_study', 'full_time', 'extra_large_unit']\n"
     ]
    }
   ],
   "source": [
    "# 2022-2023 has at-home column\n",
    "# others do not have at-home column\n",
    "dfs['2022-2023.xlsx'].columns = ['street_number','street_name','street_suffix','unit_number','zip_code','level_of_study','full_time','at_home']\n",
    "for key in dfs:\n",
    "    if key in ['2022-2023.xlsx']:\n",
    "        continue\n",
    "    dfs[key].columns = ['street_number','street_name','street_suffix','unit_number','zip_code','level_of_study','full_time','extra_large_unit']\n",
    "\n",
    "print_columns(dfs)"
   ]
  },
  {
   "cell_type": "code",
   "execution_count": 51,
   "metadata": {},
   "outputs": [
    {
     "name": "stdout",
     "output_type": "stream",
     "text": [
      "2022-2023.xlsx\n",
      "['street_number', 'street_name', 'street_suffix', 'unit_number', 'zip_code', 'level_of_study', 'full_time', 'extra_large_unit', 'at_home']\n",
      "2017-2018.xlsx\n",
      "['street_number', 'street_name', 'street_suffix', 'unit_number', 'zip_code', 'level_of_study', 'full_time', 'extra_large_unit', 'at_home']\n",
      "2019-2020.xlsx\n",
      "['street_number', 'street_name', 'street_suffix', 'unit_number', 'zip_code', 'level_of_study', 'full_time', 'extra_large_unit', 'at_home']\n",
      "2023-2024.xlsx\n",
      "['street_number', 'street_name', 'street_suffix', 'unit_number', 'zip_code', 'level_of_study', 'full_time', 'extra_large_unit', 'at_home']\n",
      "2020-2021.xlsx\n",
      "['street_number', 'street_name', 'street_suffix', 'unit_number', 'zip_code', 'level_of_study', 'full_time', 'extra_large_unit', 'at_home']\n",
      "2016-2017.xlsx\n",
      "['street_number', 'street_name', 'street_suffix', 'unit_number', 'zip_code', 'level_of_study', 'full_time', 'extra_large_unit', 'at_home']\n",
      "2018-2019.xlsx\n",
      "['street_number', 'street_name', 'street_suffix', 'unit_number', 'zip_code', 'level_of_study', 'full_time', 'extra_large_unit', 'at_home']\n",
      "2021-2022.xlsx\n",
      "['street_number', 'street_name', 'street_suffix', 'unit_number', 'zip_code', 'level_of_study', 'full_time', 'extra_large_unit', 'at_home']\n"
     ]
    }
   ],
   "source": [
    "dfs = fix_missing_columns(dfs, ['at_home','extra_large_unit'])\n",
    "dfs = reorder_columns(dfs, ['extra_large_unit','at_home'])\n",
    "print_columns(dfs)"
   ]
  },
  {
   "cell_type": "markdown",
   "metadata": {},
   "source": [
    "#### Save the Result"
   ]
  },
  {
   "cell_type": "code",
   "execution_count": 52,
   "metadata": {},
   "outputs": [],
   "source": [
    "polish_and_save(dfs, 'Franklin Institute of Technology', 'FranklinInstituteTechnology.csv')"
   ]
  },
  {
   "cell_type": "markdown",
   "metadata": {},
   "source": [
    "# Harvard University"
   ]
  },
  {
   "cell_type": "markdown",
   "metadata": {},
   "source": [
    "#### Polishing Columns"
   ]
  },
  {
   "cell_type": "code",
   "execution_count": 53,
   "metadata": {},
   "outputs": [
    {
     "name": "stdout",
     "output_type": "stream",
     "text": [
      "Student Addresses\n",
      "2022-2023.xlsx\n",
      "['6a. \\nStreet #', '6b. \\nStreet Name', '6c. \\nStreet Suffix  ', '6d.\\n Unit #', '6e. \\nZip', '7. \\nUndergraduate (U) or Graduate (G)', '8. \\nFull-time (FT) or \\nPart-time (PT)', '9. \\nAt-Home or Not-at-Home']\n",
      "2017-2018.xlsx\n",
      "['6a. \\nStreet #', '6b. \\nStreet Name', '6c. \\nStreet Suffix  ', '6d.\\n Unit #', '6e. \\nZip', '7. \\nUndergraduate (U) or Graduate (G)', '8. \\nFull-time (FT) or \\nPart-time (PT)', '9. \\n 5 or More Undergrads/Unit\\n(Y/N)']\n",
      "2019-2020.xlsx\n",
      "['6a. \\nStreet #', '6b. \\nStreet Name', '6c. \\nStreet Suffix  ', '6d.\\n Unit #', '6e. \\nZip', '7. \\nUndergraduate (U) or Graduate (G)', '8. \\nFull-time (FT) or \\nPart-time (PT)', '9. \\n 5 or More Undergrads/Unit\\n(Y/N)']\n",
      "2023-2024.xlsx\n",
      "['6a. \\nStreet #', '6b. \\nStreet Name', '6c. \\nStreet Suffix  ', '6d.\\n Unit #', '6e. \\nZip', '7. \\nUndergraduate (U) or Graduate (G)', '8. \\nFull-time (FT) or \\nPart-time (PT)', '9. \\nAt-Home or Not-at-Home']\n",
      "2020-2021.xlsx\n",
      "['6a. \\nStreet #', '6b. \\nStreet Name', '6c. \\nStreet Suffix  ', '6d.\\nUnit#', '6e. \\nZip', '7. \\nUndergraduate (U) or Graduate (G)', '8. \\nFull-time (FT) or \\nPart-time (PT)', '9. \\n 5 or More Undergrads/Unit\\n(Y/N)']\n",
      "2016-2017.xlsx\n",
      "['6a. \\nStreet #', '6b. \\nStreet Name', '6c. \\nStreet Suffix  ', '6d.\\n Unit #', '6e. \\nZip', '7. \\nUndergraduate (U) or Graduate (G)', '8. \\nFull-time (FT) or \\nPart-time (PT)', '9. \\n 5 or More Undergrads/Unit\\n(Y/N)']\n",
      "2018-2019.xlsx\n",
      "['6a. \\nStreet #', '6b. \\nStreet Name', '6c. \\nStreet Suffix  ', '6d.\\n Unit #', '6e. \\nZip', '7. \\nUndergraduate (U) or Graduate (G)', '8. \\nFull-time (FT) or \\nPart-time (PT)', '9. \\n 5 or More Undergrads/Unit\\n(Y/N)']\n",
      "2021-2022.xlsx\n",
      "['6a. \\nStreet #', '6b. \\nStreet Name', '6c. \\nStreet Suffix  ', '6d.\\n Unit #', '6e. \\nZip', '7. \\nUndergraduate (U) or Graduate (G)', '8. \\nFull-time (FT) or \\nPart-time (PT)', '9. \\n 5 or More Undergrads/Unit\\n(Y/N)']\n"
     ]
    }
   ],
   "source": [
    "dfs = prep_dfs('HarvardUniversity')\n",
    "print_columns(dfs)"
   ]
  },
  {
   "cell_type": "code",
   "execution_count": 54,
   "metadata": {},
   "outputs": [
    {
     "name": "stdout",
     "output_type": "stream",
     "text": [
      "2022-2023.xlsx\n",
      "['street_number', 'street_name', 'street_suffix', 'unit_number', 'zip_code', 'level_of_study', 'full_time', 'at_home']\n",
      "2017-2018.xlsx\n",
      "['street_number', 'street_name', 'street_suffix', 'unit_number', 'zip_code', 'level_of_study', 'full_time', 'extra_large_unit']\n",
      "2019-2020.xlsx\n",
      "['street_number', 'street_name', 'street_suffix', 'unit_number', 'zip_code', 'level_of_study', 'full_time', 'extra_large_unit']\n",
      "2023-2024.xlsx\n",
      "['street_number', 'street_name', 'street_suffix', 'unit_number', 'zip_code', 'level_of_study', 'full_time', 'at_home']\n",
      "2020-2021.xlsx\n",
      "['street_number', 'street_name', 'street_suffix', 'unit_number', 'zip_code', 'level_of_study', 'full_time', 'extra_large_unit']\n",
      "2016-2017.xlsx\n",
      "['street_number', 'street_name', 'street_suffix', 'unit_number', 'zip_code', 'level_of_study', 'full_time', 'extra_large_unit']\n",
      "2018-2019.xlsx\n",
      "['street_number', 'street_name', 'street_suffix', 'unit_number', 'zip_code', 'level_of_study', 'full_time', 'extra_large_unit']\n",
      "2021-2022.xlsx\n",
      "['street_number', 'street_name', 'street_suffix', 'unit_number', 'zip_code', 'level_of_study', 'full_time', 'extra_large_unit']\n"
     ]
    }
   ],
   "source": [
    "# 2022-2023 has at-home column\n",
    "# 2023-2024 has at-home column\n",
    "# others do not have at-home column\n",
    "\n",
    "dfs['2022-2023.xlsx'].columns = ['street_number','street_name','street_suffix','unit_number','zip_code','level_of_study','full_time','at_home']\n",
    "dfs['2023-2024.xlsx'].columns = ['street_number','street_name','street_suffix','unit_number','zip_code','level_of_study','full_time','at_home']\n",
    "\n",
    "for key in dfs:\n",
    "    if key in ['2022-2023.xlsx','2023-2024.xlsx']:\n",
    "        continue\n",
    "    dfs[key].columns = ['street_number','street_name','street_suffix','unit_number','zip_code','level_of_study','full_time','extra_large_unit']\n",
    "\n",
    "print_columns(dfs)"
   ]
  },
  {
   "cell_type": "code",
   "execution_count": 55,
   "metadata": {},
   "outputs": [
    {
     "name": "stdout",
     "output_type": "stream",
     "text": [
      "2022-2023.xlsx\n",
      "['street_number', 'street_name', 'street_suffix', 'unit_number', 'zip_code', 'level_of_study', 'full_time', 'extra_large_unit', 'at_home']\n",
      "2017-2018.xlsx\n",
      "['street_number', 'street_name', 'street_suffix', 'unit_number', 'zip_code', 'level_of_study', 'full_time', 'extra_large_unit', 'at_home']\n",
      "2019-2020.xlsx\n",
      "['street_number', 'street_name', 'street_suffix', 'unit_number', 'zip_code', 'level_of_study', 'full_time', 'extra_large_unit', 'at_home']\n",
      "2023-2024.xlsx\n",
      "['street_number', 'street_name', 'street_suffix', 'unit_number', 'zip_code', 'level_of_study', 'full_time', 'extra_large_unit', 'at_home']\n",
      "2020-2021.xlsx\n",
      "['street_number', 'street_name', 'street_suffix', 'unit_number', 'zip_code', 'level_of_study', 'full_time', 'extra_large_unit', 'at_home']\n",
      "2016-2017.xlsx\n",
      "['street_number', 'street_name', 'street_suffix', 'unit_number', 'zip_code', 'level_of_study', 'full_time', 'extra_large_unit', 'at_home']\n",
      "2018-2019.xlsx\n",
      "['street_number', 'street_name', 'street_suffix', 'unit_number', 'zip_code', 'level_of_study', 'full_time', 'extra_large_unit', 'at_home']\n",
      "2021-2022.xlsx\n",
      "['street_number', 'street_name', 'street_suffix', 'unit_number', 'zip_code', 'level_of_study', 'full_time', 'extra_large_unit', 'at_home']\n"
     ]
    }
   ],
   "source": [
    "dfs = fix_missing_columns(dfs, ['at_home','extra_large_unit'])\n",
    "\n",
    "dfs = reorder_columns(dfs, ['extra_large_unit','at_home'])\n",
    "\n",
    "print_columns(dfs)"
   ]
  },
  {
   "cell_type": "markdown",
   "metadata": {},
   "source": [
    "#### Save the Result"
   ]
  },
  {
   "cell_type": "code",
   "execution_count": 56,
   "metadata": {},
   "outputs": [],
   "source": [
    "polish_and_save(dfs, 'Harvard University', 'HarvardUniversity.csv')"
   ]
  },
  {
   "cell_type": "markdown",
   "metadata": {},
   "source": [
    "# Massachusetts College of Pharamacy and Health Sciences"
   ]
  },
  {
   "cell_type": "markdown",
   "metadata": {},
   "source": [
    "#### Polishing Columns"
   ]
  },
  {
   "cell_type": "code",
   "execution_count": 57,
   "metadata": {},
   "outputs": [
    {
     "name": "stdout",
     "output_type": "stream",
     "text": [
      "2022-2023.xlsx\n",
      "['6a. \\nStreet #', '6b. \\nStreet Name', '6c. \\nStreet Suffix  ', '6d.\\n Unit #', '6e. \\nZip', '7. \\nUndergraduate (U) or Graduate (G)', '8. \\nFull-time (FT) or \\nPart-time (PT)', '9. \\nAt-Home or Not-at-Home']\n",
      "2017-2018.xlsx\n",
      "['6a. \\nStreet #', '6b. \\nStreet Name', '6c. \\nStreet Suffix  ', '6d.\\n Unit #', '6e. \\nZip', '7. \\nUnderGaduate (U) or Gaduate (G)', '8. \\nFull-time (FT) or \\nPart-time (PT)', '9. \\n 5 or More Undergrads/Unit\\n(Y/N)']\n",
      "2019-2020.xlsx\n",
      "['6a. \\nStreet #', '6b. \\nStreet Name', '6c. \\nStreet Suffix  ', '6d.\\n Unit #', '6e. \\nZip', '7. \\nUndergraduate (U) or Graduate (G)', '8. \\nFull-time (FT) or \\nPart-time (PT)', '9. \\n 5 or More Undergrads/Unit\\n(Y/N)']\n",
      "2023-2024.xlsx\n",
      "['6a. \\nStreet #', '6b. \\nStreet Name', '6c. \\nStreet Suffix  ', '6d.\\n Unit #', '6e. \\nZip', '7. \\nUndergraduate (U) or Graduate (G)', '8. \\nFull-time (FT) or \\nPart-time (PT)', '9. \\nAt-Home or Not-at-Home']\n",
      "2020-2021.xlsx\n",
      "['6a. \\nStreet #', '6b. \\nStreet Name', '6c. \\nStreet Suffix  ', '6d.\\n Unit #', '6e. \\nZip', '7. \\nUndergraduate (U) or Graduate (G)', '8. \\nFull-time (FT) or \\nPart-time (PT)', '9. \\n 5 or More Undergrads/Unit\\n(Y/N)']\n",
      "2016-2017.xlsx\n",
      "['6a. \\nStreet #', '6b. \\nStreet Name', '6c. \\nStreet Suffix  ', '6d.\\n Unit #', '6e. \\nZip', '7. \\nUndergraduate (U) or Graduate (G)', '8. \\nFull-time (FT) or \\nPart-time (PT)', '9. \\n 5 or More Undergrads/Unit\\n(Y/N)']\n",
      "2018-2019.xlsx\n",
      "['6a. \\nStreet #', '6b. \\nStreet Name', '6c. \\nStreet Suffix  ', '6d.\\n Unit #', '6e. \\nZip', '7. \\nUndergraduate (U) or Graduate (G)', '8. \\nFull-time (FT) or \\nPart-time (PT)', '9. \\n 5 or More Undergrads/Unit\\n(Y/N)']\n",
      "2021-2022.xlsx\n",
      "['6a. \\nStreet #', '6b. \\nStreet Name', '6c. \\nStreet Suffix  ', '6d.\\n Unit #', '6e. \\nZip', '7. \\nUndergraduate (U) or Graduate (G)', '8. \\nFull-time (FT) or \\nPart-time (PT)', '9. \\n 5 or More Undergrads/Unit\\n(Y/N)']\n"
     ]
    }
   ],
   "source": [
    "dfs = prep_dfs('MassachusettsCollegePharmacyHealthSciences')\n",
    "print_columns(dfs)"
   ]
  },
  {
   "cell_type": "code",
   "execution_count": 58,
   "metadata": {},
   "outputs": [
    {
     "name": "stdout",
     "output_type": "stream",
     "text": [
      "2022-2023.xlsx\n",
      "['street_number', 'street_name', 'street_suffix', 'unit_number', 'zip_code', 'level_of_study', 'full_time', 'at_home']\n",
      "2017-2018.xlsx\n",
      "['street_number', 'street_name', 'street_suffix', 'unit_number', 'zip_code', 'level_of_study', 'full_time', 'extra_large_unit']\n",
      "2019-2020.xlsx\n",
      "['street_number', 'street_name', 'street_suffix', 'unit_number', 'zip_code', 'level_of_study', 'full_time', 'extra_large_unit']\n",
      "2023-2024.xlsx\n",
      "['street_number', 'street_name', 'street_suffix', 'unit_number', 'zip_code', 'level_of_study', 'full_time', 'at_home']\n",
      "2020-2021.xlsx\n",
      "['street_number', 'street_name', 'street_suffix', 'unit_number', 'zip_code', 'level_of_study', 'full_time', 'extra_large_unit']\n",
      "2016-2017.xlsx\n",
      "['street_number', 'street_name', 'street_suffix', 'unit_number', 'zip_code', 'level_of_study', 'full_time', 'extra_large_unit']\n",
      "2018-2019.xlsx\n",
      "['street_number', 'street_name', 'street_suffix', 'unit_number', 'zip_code', 'level_of_study', 'full_time', 'extra_large_unit']\n",
      "2021-2022.xlsx\n",
      "['street_number', 'street_name', 'street_suffix', 'unit_number', 'zip_code', 'level_of_study', 'full_time', 'extra_large_unit']\n"
     ]
    }
   ],
   "source": [
    "# 2022-2023 has at-home column\n",
    "# 2023-2024 has at-home column\n",
    "# others do not have at-home column\n",
    "\n",
    "dfs['2022-2023.xlsx'].columns = ['street_number','street_name','street_suffix','unit_number','zip_code','level_of_study','full_time','at_home']\n",
    "dfs['2023-2024.xlsx'].columns = ['street_number','street_name','street_suffix','unit_number','zip_code','level_of_study','full_time','at_home']\n",
    "\n",
    "for key in dfs:\n",
    "    if key in ['2022-2023.xlsx','2023-2024.xlsx']:\n",
    "        continue\n",
    "    dfs[key].columns = ['street_number','street_name','street_suffix','unit_number','zip_code','level_of_study','full_time','extra_large_unit']\n",
    "\n",
    "print_columns(dfs)"
   ]
  },
  {
   "cell_type": "code",
   "execution_count": 59,
   "metadata": {},
   "outputs": [
    {
     "name": "stdout",
     "output_type": "stream",
     "text": [
      "2022-2023.xlsx\n",
      "['street_number', 'street_name', 'street_suffix', 'unit_number', 'zip_code', 'level_of_study', 'full_time', 'extra_large_unit', 'at_home']\n",
      "2017-2018.xlsx\n",
      "['street_number', 'street_name', 'street_suffix', 'unit_number', 'zip_code', 'level_of_study', 'full_time', 'extra_large_unit', 'at_home']\n",
      "2019-2020.xlsx\n",
      "['street_number', 'street_name', 'street_suffix', 'unit_number', 'zip_code', 'level_of_study', 'full_time', 'extra_large_unit', 'at_home']\n",
      "2023-2024.xlsx\n",
      "['street_number', 'street_name', 'street_suffix', 'unit_number', 'zip_code', 'level_of_study', 'full_time', 'extra_large_unit', 'at_home']\n",
      "2020-2021.xlsx\n",
      "['street_number', 'street_name', 'street_suffix', 'unit_number', 'zip_code', 'level_of_study', 'full_time', 'extra_large_unit', 'at_home']\n",
      "2016-2017.xlsx\n",
      "['street_number', 'street_name', 'street_suffix', 'unit_number', 'zip_code', 'level_of_study', 'full_time', 'extra_large_unit', 'at_home']\n",
      "2018-2019.xlsx\n",
      "['street_number', 'street_name', 'street_suffix', 'unit_number', 'zip_code', 'level_of_study', 'full_time', 'extra_large_unit', 'at_home']\n",
      "2021-2022.xlsx\n",
      "['street_number', 'street_name', 'street_suffix', 'unit_number', 'zip_code', 'level_of_study', 'full_time', 'extra_large_unit', 'at_home']\n"
     ]
    }
   ],
   "source": [
    "dfs = fix_missing_columns(dfs, ['at_home','extra_large_unit'])\n",
    "\n",
    "dfs = reorder_columns(dfs, ['extra_large_unit','at_home'])\n",
    "\n",
    "print_columns(dfs)"
   ]
  },
  {
   "cell_type": "markdown",
   "metadata": {},
   "source": [
    "#### Save the Result"
   ]
  },
  {
   "cell_type": "code",
   "execution_count": 60,
   "metadata": {},
   "outputs": [],
   "source": [
    "polish_and_save(dfs, 'Massachusetts College of Pharmacy and Health Sciences', 'MassachusettsCollegePharmacyHealthSciences.csv')"
   ]
  },
  {
   "cell_type": "markdown",
   "metadata": {},
   "source": [
    "# MIT"
   ]
  },
  {
   "cell_type": "markdown",
   "metadata": {},
   "source": [
    "#### Polishing Columns"
   ]
  },
  {
   "cell_type": "code",
   "execution_count": 61,
   "metadata": {},
   "outputs": [
    {
     "name": "stdout",
     "output_type": "stream",
     "text": [
      "2022-2023.xlsx\n",
      "['6a. \\nStreet #', '6b. \\nStreet Name', '6c. \\nStreet Suffix  ', '6d.\\n Unit #', '6e. \\nZip', '7. \\nUndergraduate (U) or Graduate (G)', '8. \\nFull-time (FT) or \\nPart-time (PT)', '9. \\nAt-Home or Not-at-Home']\n",
      "2017-2018.xlsx\n",
      "['6a. \\nStreet #', '6b. \\nStreet Name', '6c. \\nStreet Suffix  ', '6d.\\n Unit #', '6e. \\nZip', '7. \\nUndergraduate (U) or Graduate (G)', '8. \\nFull-time (FT) or \\nPart-time (PT)', '9. \\n 5 or More Undergrads/Unit\\n(Y/N)']\n",
      "2019-2020.xlsx\n",
      "['6a. \\nStreet #', '6b. \\nStreet Name', '6c. \\nStreet Suffix  ', '6d.\\n Unit #', '6e. \\nZip', '7. \\nUndergraduate (U) or Graduate (G)', '8. \\nFull-time (FT) or \\nPart-time (PT)', '9. \\n 5 or More Undergrads/Unit\\n(Y/N)']\n",
      "2023-2024.xlsx\n",
      "['6a. \\nStreet #', '6b. \\nStreet Name', '6c. \\nStreet Suffix  ', '6d.\\n Unit #', '6e. \\nZip', '7. \\nUndergraduate (U) or Graduate (G)', '8. \\nFull-time (FT) or \\nPart-time (PT)', '9. \\nAt-Home or Not-at-Home']\n",
      "2020-2021.xlsx\n",
      "['6a. \\nStreet #', '6b. \\nStreet Name', '6c. \\nStreet Suffix  ', '6d.\\n Unit #', '6e. \\nZip', '7. \\nUndergraduate (U) or Graduate (G)', '8. \\nFull-time (FT) or \\nPart-time (PT)', '9. \\n 5 or More Undergrads/Unit\\n(Y/N)']\n",
      "2018-2019.xlsx\n",
      "['6a. \\nStreet #', '6b. \\nStreet Name', '6c. \\nStreet Suffix  ', '6d.\\n Unit #', '6e. \\nZip', '7. \\nUndergraduate (U) or Graduate (G)', '8. \\nFull-time (FT) or \\nPart-time (PT)', '9. \\n 5 or More Undergrads/Unit\\n(Y/N)']\n",
      "2021-2022.xlsx\n",
      "['6a. \\nStreet #', '6b. \\nStreet Name', '6c. \\nStreet Suffix  ', '6d.\\n Unit #', '6e. \\nZip', '7. \\nUndergraduate (U) or Graduate (G)', '8. \\nFull-time (FT) or \\nPart-time (PT)', '9. \\n 5 or More Undergrads/Unit\\n(Y/N)']\n"
     ]
    }
   ],
   "source": [
    "dfs = prep_dfs('MassachusettsInstituteTechnology')\n",
    "print_columns(dfs)"
   ]
  },
  {
   "cell_type": "code",
   "execution_count": 62,
   "metadata": {},
   "outputs": [
    {
     "name": "stdout",
     "output_type": "stream",
     "text": [
      "2022-2023.xlsx\n",
      "['street_number', 'street_name', 'street_suffix', 'unit_number', 'zip_code', 'level_of_study', 'full_time', 'at_home']\n",
      "2017-2018.xlsx\n",
      "['street_number', 'street_name', 'street_suffix', 'unit_number', 'zip_code', 'level_of_study', 'full_time', 'extra_large_unit']\n",
      "2019-2020.xlsx\n",
      "['street_number', 'street_name', 'street_suffix', 'unit_number', 'zip_code', 'level_of_study', 'full_time', 'extra_large_unit']\n",
      "2023-2024.xlsx\n",
      "['street_number', 'street_name', 'street_suffix', 'unit_number', 'zip_code', 'level_of_study', 'full_time', 'at_home']\n",
      "2020-2021.xlsx\n",
      "['street_number', 'street_name', 'street_suffix', 'unit_number', 'zip_code', 'level_of_study', 'full_time', 'extra_large_unit']\n",
      "2018-2019.xlsx\n",
      "['street_number', 'street_name', 'street_suffix', 'unit_number', 'zip_code', 'level_of_study', 'full_time', 'extra_large_unit']\n",
      "2021-2022.xlsx\n",
      "['street_number', 'street_name', 'street_suffix', 'unit_number', 'zip_code', 'level_of_study', 'full_time', 'extra_large_unit']\n"
     ]
    }
   ],
   "source": [
    "# 2022-2023 has at-home column\n",
    "# 2023-2024 has at-home column\n",
    "# others do not have at-home column\n",
    "\n",
    "dfs['2022-2023.xlsx'].columns = ['street_number','street_name','street_suffix','unit_number','zip_code','level_of_study','full_time','at_home']\n",
    "dfs['2023-2024.xlsx'].columns = ['street_number','street_name','street_suffix','unit_number','zip_code','level_of_study','full_time','at_home']\n",
    "\n",
    "for key in dfs:\n",
    "    if key in ['2022-2023.xlsx','2023-2024.xlsx']:\n",
    "        continue\n",
    "    dfs[key].columns = ['street_number','street_name','street_suffix','unit_number','zip_code','level_of_study','full_time','extra_large_unit']\n",
    "\n",
    "print_columns(dfs)"
   ]
  },
  {
   "cell_type": "code",
   "execution_count": 63,
   "metadata": {},
   "outputs": [
    {
     "name": "stdout",
     "output_type": "stream",
     "text": [
      "2022-2023.xlsx\n",
      "['street_number', 'street_name', 'street_suffix', 'unit_number', 'zip_code', 'level_of_study', 'full_time', 'extra_large_unit', 'at_home']\n",
      "2017-2018.xlsx\n",
      "['street_number', 'street_name', 'street_suffix', 'unit_number', 'zip_code', 'level_of_study', 'full_time', 'extra_large_unit', 'at_home']\n",
      "2019-2020.xlsx\n",
      "['street_number', 'street_name', 'street_suffix', 'unit_number', 'zip_code', 'level_of_study', 'full_time', 'extra_large_unit', 'at_home']\n",
      "2023-2024.xlsx\n",
      "['street_number', 'street_name', 'street_suffix', 'unit_number', 'zip_code', 'level_of_study', 'full_time', 'extra_large_unit', 'at_home']\n",
      "2020-2021.xlsx\n",
      "['street_number', 'street_name', 'street_suffix', 'unit_number', 'zip_code', 'level_of_study', 'full_time', 'extra_large_unit', 'at_home']\n",
      "2018-2019.xlsx\n",
      "['street_number', 'street_name', 'street_suffix', 'unit_number', 'zip_code', 'level_of_study', 'full_time', 'extra_large_unit', 'at_home']\n",
      "2021-2022.xlsx\n",
      "['street_number', 'street_name', 'street_suffix', 'unit_number', 'zip_code', 'level_of_study', 'full_time', 'extra_large_unit', 'at_home']\n"
     ]
    }
   ],
   "source": [
    "dfs = fix_missing_columns(dfs, ['at_home','extra_large_unit'])\n",
    "\n",
    "dfs = reorder_columns(dfs, ['extra_large_unit','at_home'])\n",
    "\n",
    "print_columns(dfs)"
   ]
  },
  {
   "cell_type": "markdown",
   "metadata": {},
   "source": [
    "#### Save the Result"
   ]
  },
  {
   "cell_type": "code",
   "execution_count": 64,
   "metadata": {},
   "outputs": [],
   "source": [
    "polish_and_save(dfs, 'Massachusetts Institute of Technology', 'MassachusettsInstituteTechnology.csv')"
   ]
  },
  {
   "cell_type": "markdown",
   "metadata": {},
   "source": [
    "# MGH Institute of Health Professions"
   ]
  },
  {
   "cell_type": "markdown",
   "metadata": {},
   "source": [
    "#### Polishing Columns"
   ]
  },
  {
   "cell_type": "code",
   "execution_count": 65,
   "metadata": {},
   "outputs": [
    {
     "name": "stdout",
     "output_type": "stream",
     "text": [
      "2022-2023.xlsx\n",
      "['6a. \\nStreet #', '6b. \\nStreet Name', '6c. \\nStreet Suffix  ', '6d.\\n Unit #', '6e. \\nZip', '7. \\nUndergraduate (U) or Graduate (G)', '8. \\nFull-time (FT) or \\nPart-time (PT)', '9. \\nAt-Home or Not-at-Home']\n",
      "2017-2018.xlsx\n",
      "['6a. \\nStreet #', '6b. \\nStreet Name', '6c. \\nStreet Suffix  ', '6d.\\n Unit #', '6e. \\nZip', '7. \\nUndergraduate (U) or Graduate (G)', '8. \\nFull-time (FT) or \\nPart-time (PT)', '9. \\n 5 or More Undergrads/Unit\\n(Y/N)']\n",
      "2019-2020.xlsx\n",
      "['6a. \\nStreet #', '6b. \\nStreet Name', '6c. \\nStreet Suffix  ', '6d.\\n Unit #', '6e. \\nZip', '7. \\nUndergraduate (U) or Graduate (G)', '8. \\nFull-time (FT) or \\nPart-time (PT)', '9. \\n 5 or More Undergrads/Unit\\n(Y/N)']\n",
      "2023-2024.xlsx\n",
      "['6a. \\nStreet #', '6b. \\nStreet Name', '6c. \\nStreet Suffix  ', '6d.\\n Unit #', '6e. \\nZip', '7. \\nUndergraduate (U) or Graduate (G)', '8. \\nFull-time (FT) or \\nPart-time (PT)', '9. \\nAt-Home or Not-at-Home']\n",
      "2020-2021.xlsx\n",
      "['6a. \\nStreet #', '6b. \\nStreet Name', '6c. \\nStreet Suffix  ', '6d.\\n Unit #', '6e. \\nZip', '7. \\nUndergraduate (U) or Graduate (G)', '8. \\nFull-time (FT) or \\nPart-time (PT)', '9. \\n 5 or More Undergrads/Unit\\n(Y/N)']\n",
      "2016-2017.xlsx\n",
      "['6a. \\nStreet #', '6b. \\nStreet Name', '6c. \\nStreet Suffix  ', '6d.\\n Unit #', '6e. \\nZip', '7. \\nUndergraduate (U) or Graduate (G)', '8. \\nFull-time (FT) or \\nPart-time (PT)', '9. \\n 5 or More Undergrads/Unit\\n(Y/N)']\n",
      "2018-2019.xlsx\n",
      "['6a. \\nStreet #', '6b. \\nStreet Name', '6c. \\nStreet Suffix  ', '6d.\\n Unit #', '6e. \\nZip', '7. \\nUndergraduate (U) or Graduate (G)', '8. \\nFull-time (FT) or \\nPart-time (PT)', '9. \\n 5 or More Undergrads/Unit\\n(Y/N)']\n",
      "2021-2022.xlsx\n",
      "['6a. \\nStreet #', '6b. \\nStreet Name', '6c. \\nStreet Suffix  ', '6d.\\n Unit #', '6e. \\nZip', '7. \\nUndergraduate (U) or Graduate (G)', '8. \\nFull-time (FT) or \\nPart-time (PT)', '9. \\n 5 or More Undergrads/Unit\\n(Y/N)']\n"
     ]
    }
   ],
   "source": [
    "dfs = prep_dfs('MGHInstituteHealthProfessions')\n",
    "print_columns(dfs)"
   ]
  },
  {
   "cell_type": "code",
   "execution_count": 66,
   "metadata": {},
   "outputs": [
    {
     "name": "stdout",
     "output_type": "stream",
     "text": [
      "2022-2023.xlsx\n",
      "['street_number', 'street_name', 'street_suffix', 'unit_number', 'zip_code', 'level_of_study', 'full_time', 'extra_large_unit', 'at_home']\n",
      "2017-2018.xlsx\n",
      "['street_number', 'street_name', 'street_suffix', 'unit_number', 'zip_code', 'level_of_study', 'full_time', 'extra_large_unit', 'at_home']\n",
      "2019-2020.xlsx\n",
      "['street_number', 'street_name', 'street_suffix', 'unit_number', 'zip_code', 'level_of_study', 'full_time', 'extra_large_unit', 'at_home']\n",
      "2023-2024.xlsx\n",
      "['street_number', 'street_name', 'street_suffix', 'unit_number', 'zip_code', 'level_of_study', 'full_time', 'extra_large_unit', 'at_home']\n",
      "2020-2021.xlsx\n",
      "['street_number', 'street_name', 'street_suffix', 'unit_number', 'zip_code', 'level_of_study', 'full_time', 'extra_large_unit', 'at_home']\n",
      "2016-2017.xlsx\n",
      "['street_number', 'street_name', 'street_suffix', 'unit_number', 'zip_code', 'level_of_study', 'full_time', 'extra_large_unit', 'at_home']\n",
      "2018-2019.xlsx\n",
      "['street_number', 'street_name', 'street_suffix', 'unit_number', 'zip_code', 'level_of_study', 'full_time', 'extra_large_unit', 'at_home']\n",
      "2021-2022.xlsx\n",
      "['street_number', 'street_name', 'street_suffix', 'unit_number', 'zip_code', 'level_of_study', 'full_time', 'extra_large_unit', 'at_home']\n"
     ]
    }
   ],
   "source": [
    "# 2022-2023 has at-home column\n",
    "# 2023-2024 has at-home column\n",
    "\n",
    "dfs['2022-2023.xlsx'].columns = ['street_number','street_name','street_suffix','unit_number','zip_code','level_of_study','full_time','at_home']\n",
    "dfs['2023-2024.xlsx'].columns = ['street_number','street_name','street_suffix','unit_number','zip_code','level_of_study','full_time','at_home']\n",
    "\n",
    "for key in dfs:\n",
    "    if key in ['2022-2023.xlsx','2023-2024.xlsx']:\n",
    "        continue\n",
    "    dfs[key].columns = ['street_number','street_name','street_suffix','unit_number','zip_code','level_of_study','full_time','extra_large_unit']\n",
    "\n",
    "\n",
    "dfs = fix_missing_columns(dfs, ['at_home','extra_large_unit'])\n",
    "\n",
    "dfs = reorder_columns(dfs, ['extra_large_unit','at_home'])\n",
    "\n",
    "print_columns(dfs)"
   ]
  },
  {
   "cell_type": "markdown",
   "metadata": {},
   "source": [
    "#### Save the Result"
   ]
  },
  {
   "cell_type": "code",
   "execution_count": 67,
   "metadata": {},
   "outputs": [],
   "source": [
    "polish_and_save(dfs, 'MGH Institute of Health Professions', 'MGHInstituteHealthProfessions.csv')"
   ]
  },
  {
   "cell_type": "markdown",
   "metadata": {},
   "source": [
    "# New England College of Optometry"
   ]
  },
  {
   "cell_type": "markdown",
   "metadata": {},
   "source": [
    "#### Polishing Columns"
   ]
  },
  {
   "cell_type": "code",
   "execution_count": 68,
   "metadata": {},
   "outputs": [
    {
     "name": "stdout",
     "output_type": "stream",
     "text": [
      "2022-2023.xlsx\n",
      "['6a. \\nStreet #', '6b. \\nStreet Name', '6c. \\nStreet Suffix  ', '6d.\\n Unit #', '6e. \\nZip', '7. \\nUndergraduate (U) or Graduate (G)', '8. \\nFull-time (FT) or \\nPart-time (PT)', '9. \\nAt-Home or Not-at-Home']\n",
      "2017-2018.xlsx\n",
      "['6a. \\nStreet #', '6b. \\nStreet Name', '6c. \\nStreet Suffix  ', '6d.\\n Unit #', '6e. \\nZip', '7. \\nUndergraduate (U) or Graduate (G)', '8. \\nFull-time (FT) or \\nPart-time (PT)', '9. \\n 5 or More Undergrads/Unit\\n(Y/N)']\n",
      "2019-2020.xlsx\n",
      "['Street Number', 'Street Name', 'Street Suffix', 'Unit Number', 'ZIP', 'Undergraduate (U) or Graduate (G)', '8. \\nFull-time (FT) or \\nPart-time (PT)', '9. \\n 5 or More Undergrads/Unit\\n(Y/N)']\n",
      "2023-2024.xlsx\n",
      "['6a. \\nStreet #', '6b. \\nStreet Name', '6c. \\nStreet Suffix  ', '6d.\\n Unit #', '6e. \\nZip', '7. \\nUndergraduate (U) or Graduate (G)', '8. \\nFull-time (FT) or \\nPart-time (PT)', '9. \\nAt-Home or Not-at-Home']\n",
      "2020-2021.xlsx\n",
      "['6a. \\nStreet #', '6b. \\nStreet Name', '6c. \\nStreet Suffix  ', '6d.\\n Unit #', '6e. \\nZip', '7. \\nUndergraduate (U) or Graduate (G)', '8. \\nFull-time (FT) or \\nPart-time (PT)', '9. \\n 5 or More Undergrads/Unit\\n(Y/N)']\n",
      "2016-2017.xlsx\n",
      "['6a. \\nStreet #', '6b. \\nStreet Name', '6c. \\nStreet Suffix  ', '6d.\\n Unit #', '6e. \\nZip', '7. \\nUndergraduate (U) or Graduate (G)', '8. \\nFull-time (FT) or \\nPart-time (PT)', '9. \\n 5 or More Undergrads/Unit\\n(Y/N)']\n",
      "2018-2019.xlsx\n",
      "['6a. \\nStreet #', '6b. \\nStreet Name', '6c. \\nStreet Suffix  ', '6d.\\n Unit #', '6e. \\nZip', '7. \\nUndergraduate (U) or Graduate (G)', '8. \\nFull-time (FT) or \\nPart-time (PT)', '9. \\n 5 or More Undergrads/Unit\\n(Y/N)']\n",
      "2021-2022.xlsx\n",
      "['6a. \\nStreet #', '6b. \\nStreet Name', '6c. \\nStreet Suffix  ', '6d.\\n Unit #', '6e. \\nZip', '7. \\nUndergraduate (U) or Graduate (G)', '8. \\nFull-time (FT) or \\nPart-time (PT)', '9. \\n 5 or More Undergrads/Unit\\n(Y/N)']\n"
     ]
    }
   ],
   "source": [
    "dfs = prep_dfs('NewEnglandCollegeOptometry')\n",
    "print_columns(dfs)"
   ]
  },
  {
   "cell_type": "code",
   "execution_count": 69,
   "metadata": {},
   "outputs": [
    {
     "name": "stdout",
     "output_type": "stream",
     "text": [
      "2022-2023.xlsx\n",
      "['street_number', 'street_name', 'street_suffix', 'unit_number', 'zip_code', 'level_of_study', 'full_time', 'extra_large_unit', 'at_home']\n",
      "2017-2018.xlsx\n",
      "['street_number', 'street_name', 'street_suffix', 'unit_number', 'zip_code', 'level_of_study', 'full_time', 'extra_large_unit', 'at_home']\n",
      "2019-2020.xlsx\n",
      "['street_number', 'street_name', 'street_suffix', 'unit_number', 'zip_code', 'level_of_study', 'full_time', 'extra_large_unit', 'at_home']\n",
      "2023-2024.xlsx\n",
      "['street_number', 'street_name', 'street_suffix', 'unit_number', 'zip_code', 'level_of_study', 'full_time', 'extra_large_unit', 'at_home']\n",
      "2020-2021.xlsx\n",
      "['street_number', 'street_name', 'street_suffix', 'unit_number', 'zip_code', 'level_of_study', 'full_time', 'extra_large_unit', 'at_home']\n",
      "2016-2017.xlsx\n",
      "['street_number', 'street_name', 'street_suffix', 'unit_number', 'zip_code', 'level_of_study', 'full_time', 'extra_large_unit', 'at_home']\n",
      "2018-2019.xlsx\n",
      "['street_number', 'street_name', 'street_suffix', 'unit_number', 'zip_code', 'level_of_study', 'full_time', 'extra_large_unit', 'at_home']\n",
      "2021-2022.xlsx\n",
      "['street_number', 'street_name', 'street_suffix', 'unit_number', 'zip_code', 'level_of_study', 'full_time', 'extra_large_unit', 'at_home']\n"
     ]
    }
   ],
   "source": [
    "# 2022-2023 has at-home column\n",
    "# 2023-2024 has at-home column\n",
    "\n",
    "dfs['2022-2023.xlsx'].columns = ['street_number','street_name','street_suffix','unit_number','zip_code','level_of_study','full_time','at_home']\n",
    "dfs['2023-2024.xlsx'].columns = ['street_number','street_name','street_suffix','unit_number','zip_code','level_of_study','full_time','at_home']\n",
    "\n",
    "for key in dfs:\n",
    "    if key in ['2022-2023.xlsx','2023-2024.xlsx']:\n",
    "        continue\n",
    "    dfs[key].columns = ['street_number','street_name','street_suffix','unit_number','zip_code','level_of_study','full_time','extra_large_unit']\n",
    "\n",
    "dfs = fix_missing_columns(dfs, ['at_home','extra_large_unit'])\n",
    "\n",
    "dfs = reorder_columns(dfs, ['extra_large_unit','at_home'])\n",
    "\n",
    "print_columns(dfs)"
   ]
  },
  {
   "cell_type": "markdown",
   "metadata": {},
   "source": [
    "#### Save the Result"
   ]
  },
  {
   "cell_type": "code",
   "execution_count": 70,
   "metadata": {},
   "outputs": [],
   "source": [
    "polish_and_save(dfs, 'New England College of Optometry', 'NewEnglandCollegeOptometry.csv')"
   ]
  },
  {
   "cell_type": "markdown",
   "metadata": {},
   "source": [
    "# New England Conservatory"
   ]
  },
  {
   "cell_type": "markdown",
   "metadata": {},
   "source": [
    "#### Polishing Columns"
   ]
  },
  {
   "cell_type": "code",
   "execution_count": 71,
   "metadata": {},
   "outputs": [
    {
     "name": "stdout",
     "output_type": "stream",
     "text": [
      "2022-2023.xlsx\n",
      "['6a. \\nStreet #', '6b. \\nStreet Name', '6c. \\nStreet Suffix  ', '6d.\\n Unit #', '6e. \\nZip', '7. \\nUndergraduate (U) or Graduate (G)', '8. \\nFull-time (FT) or \\nPart-time (PT)', '9. \\nAt-Home or Not-at-Home']\n",
      "2017-2018.xlsx\n",
      "['6a. \\nStreet #', '6b. \\nStreet Name', '6c. \\nStreet Suffix  ', '6d.\\n Unit #', '6e. \\nZip', '7. \\nUndergraduate (U) or Graduate (G)', '8. \\nFT-time (FT) or \\nPT-time (PT)', '9. \\n 5 or More Undergrads/Unit\\n(Y/N)']\n",
      "2019-2020.xlsx\n",
      "['6a. \\nStreet #', '6b. \\nStreet Name', '6c. \\nStreet Suffix  ', '6d.\\n Unit #', '6e. \\nZip', '7. \\nUndergraduate (U) or Graduate (G)', '8. \\nFull-time (FT) or \\nPart-time (PT)', '9. \\n 5 or More Undergrads/Unit\\n(Y/N)']\n",
      "2023-2024.xlsx\n",
      "['6a. \\nStreet #', '6b. \\nStreet Name', '6c. \\nStreet Suffix  ', '6d.\\n Unit #', '6e. \\nZip', '7. \\nUndergraduate (U) or Graduate (G)', '8. \\nFull-time (FT) or \\nPart-time (PT)', '9. \\nAt-Home or Not-at-Home']\n",
      "2020-2021.xlsx\n",
      "['6a. \\nStreet #', '6b. \\nStreet Name', '6c. \\nStreet Suffix  ', '6d.\\n Unit #', '6e. \\nZip', '7. \\nUndergraduate (U) or Graduate (G)', '8. \\nFull-time (FT) or \\nPart-time (PT)', '9. \\n 5 or More Undergrads/Unit\\n(Y/N)']\n",
      "2016-2017.xlsx\n",
      "['6a. \\nStreet #', '6b. \\nStreet Name', '6c. \\nStreet Suffix  ', '6d.\\n Unit #', '6e. \\nZip', '7. \\nUndergraduate (U) or Graduate (G)', '8. \\nFull-time (FT) or \\nPart-time (PT)', '9. \\n 5 or More Undergrads/Unit\\n(Y/N)']\n",
      "2018-2019.xlsx\n",
      "['6a. \\nStreet #', '6b. \\nStreet Name', '6c. \\nStreet Suffix  ', '6d. \\n Unit #', '6e. \\nZip', '7. \\nUndergraduate (U) or Graduate (G)', '8. \\nFull-time (FT) or \\nPart-time (PT)', '9. \\n 5 or More Undergrads/Unit\\n(Y/N)']\n",
      "2021-2022.xlsx\n",
      "['6a. \\nStreet #', '6b. \\nStreet Name', '6c. \\nStreet Suffix  ', '6d.\\n Unit #', '6e. \\nZip', '7. \\nUndergraduate (U) or Graduate (G)', '8. \\nFull-time (FT) or \\nPart-time (PT)', '9. \\n 5 or More Undergrads/Unit\\n(Y/N)']\n"
     ]
    }
   ],
   "source": [
    "dfs = prep_dfs('NewEnglandConservatory')\n",
    "print_columns(dfs)"
   ]
  },
  {
   "cell_type": "code",
   "execution_count": 72,
   "metadata": {},
   "outputs": [
    {
     "name": "stdout",
     "output_type": "stream",
     "text": [
      "2022-2023.xlsx\n",
      "['street_number', 'street_name', 'street_suffix', 'unit_number', 'zip_code', 'level_of_study', 'full_time', 'extra_large_unit', 'at_home']\n",
      "2017-2018.xlsx\n",
      "['street_number', 'street_name', 'street_suffix', 'unit_number', 'zip_code', 'level_of_study', 'full_time', 'extra_large_unit', 'at_home']\n",
      "2019-2020.xlsx\n",
      "['street_number', 'street_name', 'street_suffix', 'unit_number', 'zip_code', 'level_of_study', 'full_time', 'extra_large_unit', 'at_home']\n",
      "2023-2024.xlsx\n",
      "['street_number', 'street_name', 'street_suffix', 'unit_number', 'zip_code', 'level_of_study', 'full_time', 'extra_large_unit', 'at_home']\n",
      "2020-2021.xlsx\n",
      "['street_number', 'street_name', 'street_suffix', 'unit_number', 'zip_code', 'level_of_study', 'full_time', 'extra_large_unit', 'at_home']\n",
      "2016-2017.xlsx\n",
      "['street_number', 'street_name', 'street_suffix', 'unit_number', 'zip_code', 'level_of_study', 'full_time', 'extra_large_unit', 'at_home']\n",
      "2018-2019.xlsx\n",
      "['street_number', 'street_name', 'street_suffix', 'unit_number', 'zip_code', 'level_of_study', 'full_time', 'extra_large_unit', 'at_home']\n",
      "2021-2022.xlsx\n",
      "['street_number', 'street_name', 'street_suffix', 'unit_number', 'zip_code', 'level_of_study', 'full_time', 'extra_large_unit', 'at_home']\n"
     ]
    }
   ],
   "source": [
    "# 2022-2023 has at-home column\n",
    "# 2023-2024 has at-home column\n",
    "\n",
    "dfs['2022-2023.xlsx'].columns = ['street_number','street_name','street_suffix','unit_number','zip_code','level_of_study','full_time','at_home']\n",
    "dfs['2023-2024.xlsx'].columns = ['street_number','street_name','street_suffix','unit_number','zip_code','level_of_study','full_time','at_home']\n",
    "\n",
    "for key in dfs:\n",
    "    if key in ['2022-2023.xlsx','2023-2024.xlsx']:\n",
    "        continue\n",
    "    dfs[key].columns = ['street_number','street_name','street_suffix','unit_number','zip_code','level_of_study','full_time','extra_large_unit']\n",
    "\n",
    "dfs = fix_missing_columns(dfs, ['at_home','extra_large_unit'])\n",
    "\n",
    "dfs = reorder_columns(dfs, ['extra_large_unit','at_home'])\n",
    "\n",
    "print_columns(dfs)"
   ]
  },
  {
   "cell_type": "markdown",
   "metadata": {},
   "source": [
    "#### Save the Result"
   ]
  },
  {
   "cell_type": "code",
   "execution_count": 73,
   "metadata": {},
   "outputs": [],
   "source": [
    "polish_and_save(dfs, 'New England Conservatory', 'NewEnglandConservatory.csv')"
   ]
  },
  {
   "cell_type": "markdown",
   "metadata": {},
   "source": [
    "# New England Law"
   ]
  },
  {
   "cell_type": "markdown",
   "metadata": {},
   "source": [
    "#### Polishing Columns"
   ]
  },
  {
   "cell_type": "code",
   "execution_count": 74,
   "metadata": {},
   "outputs": [
    {
     "name": "stdout",
     "output_type": "stream",
     "text": [
      "2022-2023.xlsx\n",
      "['6a. \\nStreet #', '6b. \\nStreet Name', '6c. \\nStreet Suffix  ', '6d.\\n Unit #', '6e. \\nZip', '7. \\nUndergraduate (U) or Graduate (G)', '8. \\nFull-time (FT) or \\nPart-time (PT)', '9. \\nAt-Home or Not-at-Home']\n",
      "2017-2018.xlsx\n",
      "['6a. \\nStreet #', '6b. \\nStreet Name', '6c. \\nStreet Suffix  ', '6d.\\n Unit #', '6e. \\nZip', '7. \\nUndergraduate (U) or Graduate (G)', '8. \\nFull-time (FT) or \\nPart-time (PT)', '9. \\n 5 or More Undergrads/Unit\\n(Y/N)']\n",
      "2019-2020.xlsx\n",
      "['6a. \\nStreet #', '6b. \\nStreet Name', '6c. \\nStreet Suffix  ', '6d.\\n Unit #', '6e. \\nZip', '7. \\nUndergraduate (U) or Graduate (G)', '8. \\nFull-time (FT) or \\nPart-time (PT)', '9. \\n 5 or More Undergrads/Unit\\n(Y/N)']\n",
      "2023-2024.xlsx\n",
      "['6a. \\nStreet #', '6b. \\nStreet Name', '6c. \\nStreet Suffix  ', '6d.\\n Unit #', '6e. \\nZip', '7. \\nUndergraduate (U) or Graduate (G)', '8. \\nFull-time (FT) or \\nPart-time (PT)', '9. \\nAt-Home or Not-at-Home']\n",
      "2020-2021.xlsx\n",
      "['6a. \\nStreet #', '6b. \\nStreet Name', '6c. \\nStreet Suffix  ', '6d.\\n Unit #', '6e. \\nZip', '7. \\nUndergraduate (U) or Graduate (G)', '8. \\nFull-time (FT) or \\nPart-time (PT)', '9. \\n 5 or More Undergrads/Unit\\n(Y/N)']\n",
      "2016-2017.xlsx\n",
      "['6a. \\nStreet #', '6b. \\nStreet Name', '6c. \\nStreet Suffix  ', '6d.\\n Unit #', '6e. \\nZip', '7. \\nUndergraduate (U) or Graduate (G)', '8. \\nFull-time (FT) or \\nPart-time (PT)', '9. \\n 5 or More Undergrads/Unit\\n(Y/N)']\n",
      "2018-2019.xlsx\n",
      "['6a. \\nStreet #', '6b. \\nStreet Name', '6c. \\nStreet Suffix  ', '6d.\\n Unit #', '6e. \\nZip', '7. \\nUndergraduate (U) or Graduate (G)', '8. \\nFull-time (FT) or \\nPart-time (PT)', '9. \\n 5 or More Undergrads/Unit\\n(Y/N)']\n",
      "2021-2022.xlsx\n",
      "['6a. \\nStreet #', '6b. \\nStreet Name', '6c. \\nStreet Suffix  ', '6d.\\n Unit #', '6e. \\nZip', '7. \\nUndergraduate (U) or Graduate (G)', '8. \\nFull-time (FT) or \\nPart-time (PT)', '9. \\n 5 or More Undergrads/Unit\\n(Y/N)']\n"
     ]
    }
   ],
   "source": [
    "dfs = prep_dfs('NewEnglandLaw')\n",
    "print_columns(dfs)"
   ]
  },
  {
   "cell_type": "code",
   "execution_count": 75,
   "metadata": {},
   "outputs": [
    {
     "name": "stdout",
     "output_type": "stream",
     "text": [
      "2022-2023.xlsx\n",
      "['street_number', 'street_name', 'street_suffix', 'unit_number', 'zip_code', 'level_of_study', 'full_time', 'extra_large_unit', 'at_home']\n",
      "2017-2018.xlsx\n",
      "['street_number', 'street_name', 'street_suffix', 'unit_number', 'zip_code', 'level_of_study', 'full_time', 'extra_large_unit', 'at_home']\n",
      "2019-2020.xlsx\n",
      "['street_number', 'street_name', 'street_suffix', 'unit_number', 'zip_code', 'level_of_study', 'full_time', 'extra_large_unit', 'at_home']\n",
      "2023-2024.xlsx\n",
      "['street_number', 'street_name', 'street_suffix', 'unit_number', 'zip_code', 'level_of_study', 'full_time', 'extra_large_unit', 'at_home']\n",
      "2020-2021.xlsx\n",
      "['street_number', 'street_name', 'street_suffix', 'unit_number', 'zip_code', 'level_of_study', 'full_time', 'extra_large_unit', 'at_home']\n",
      "2016-2017.xlsx\n",
      "['street_number', 'street_name', 'street_suffix', 'unit_number', 'zip_code', 'level_of_study', 'full_time', 'extra_large_unit', 'at_home']\n",
      "2018-2019.xlsx\n",
      "['street_number', 'street_name', 'street_suffix', 'unit_number', 'zip_code', 'level_of_study', 'full_time', 'extra_large_unit', 'at_home']\n",
      "2021-2022.xlsx\n",
      "['street_number', 'street_name', 'street_suffix', 'unit_number', 'zip_code', 'level_of_study', 'full_time', 'extra_large_unit', 'at_home']\n"
     ]
    }
   ],
   "source": [
    "# 2022-2023 has at-home column\n",
    "# 2023-2024 has at-home column\n",
    "\n",
    "dfs['2022-2023.xlsx'].columns = ['street_number','street_name','street_suffix','unit_number','zip_code','level_of_study','full_time','at_home']\n",
    "dfs['2023-2024.xlsx'].columns = ['street_number','street_name','street_suffix','unit_number','zip_code','level_of_study','full_time','at_home']\n",
    "\n",
    "for key in dfs:\n",
    "    if key in ['2022-2023.xlsx','2023-2024.xlsx']:\n",
    "        continue\n",
    "    dfs[key].columns = ['street_number','street_name','street_suffix','unit_number','zip_code','level_of_study','full_time','extra_large_unit']\n",
    "\n",
    "dfs = fix_missing_columns(dfs, ['at_home','extra_large_unit'])\n",
    "\n",
    "dfs = reorder_columns(dfs, ['extra_large_unit','at_home'])\n",
    "\n",
    "print_columns(dfs)"
   ]
  },
  {
   "cell_type": "markdown",
   "metadata": {},
   "source": [
    "#### Save the Result"
   ]
  },
  {
   "cell_type": "code",
   "execution_count": 76,
   "metadata": {},
   "outputs": [],
   "source": [
    "polish_and_save(dfs, 'New England Law', 'NewEnglandLaw.csv')"
   ]
  },
  {
   "cell_type": "markdown",
   "metadata": {},
   "source": [
    "# Sattler College"
   ]
  },
  {
   "cell_type": "markdown",
   "metadata": {},
   "source": [
    "#### Polishing Columns"
   ]
  },
  {
   "cell_type": "code",
   "execution_count": 77,
   "metadata": {},
   "outputs": [
    {
     "name": "stdout",
     "output_type": "stream",
     "text": [
      "2022-2023.xlsx\n",
      "['6a. \\nStreet #', '6b. \\nStreet Name', '6c. \\nStreet Suffix  ', '6d.\\n Unit #', '6e. \\nZip', '7. \\nUndergraduate (U) or Graduate (G)', '8. \\nFull-time (FT) or \\nPart-time (PT)', '9. \\nAt-Home or Not-at-Home']\n",
      "2020-2021.xlsx\n",
      "['6a. \\nStreet #', '6b. \\nStreet Name', '6c. \\nStreet Suffix  ', '6d.\\n Unit #', '6e. \\nZip', '7. \\nUndergraduate (U) or Graduate (G)', '8. \\nFull-time (FT) or \\nPart-time (PT)', '9. \\n 5 or More Undergrads/Unit\\n(Y/N)']\n",
      "2021-2022.xlsx\n",
      "['6a. \\nStreet #', '6b. \\nStreet Name', '6c. \\nStreet Suffix  ', '6d.\\n Unit #', '6e. \\nZip', '7. \\nUndergraduate (U) or Graduate (G)', '8. \\nFull-time (FT) or \\nPart-time (PT)', '9. \\n 5 or More Undergrads/Unit\\n(Y/N)']\n"
     ]
    }
   ],
   "source": [
    "dfs = prep_dfs('SattlerCollege')\n",
    "print_columns(dfs)"
   ]
  },
  {
   "cell_type": "code",
   "execution_count": 78,
   "metadata": {},
   "outputs": [
    {
     "name": "stdout",
     "output_type": "stream",
     "text": [
      "2022-2023.xlsx\n",
      "['street_number', 'street_name', 'street_suffix', 'unit_number', 'zip_code', 'level_of_study', 'full_time', 'extra_large_unit', 'at_home']\n",
      "2020-2021.xlsx\n",
      "['street_number', 'street_name', 'street_suffix', 'unit_number', 'zip_code', 'level_of_study', 'full_time', 'extra_large_unit', 'at_home']\n",
      "2021-2022.xlsx\n",
      "['street_number', 'street_name', 'street_suffix', 'unit_number', 'zip_code', 'level_of_study', 'full_time', 'extra_large_unit', 'at_home']\n"
     ]
    }
   ],
   "source": [
    "# 2022-2023 has at-home column\n",
    "\n",
    "dfs['2022-2023.xlsx'].columns = ['street_number','street_name','street_suffix','unit_number','zip_code','level_of_study','full_time','at_home']\n",
    "\n",
    "for key in dfs:\n",
    "    if key in ['2022-2023.xlsx']:\n",
    "        continue\n",
    "    dfs[key].columns = ['street_number','street_name','street_suffix','unit_number','zip_code','level_of_study','full_time','extra_large_unit']\n",
    "\n",
    "dfs = fix_missing_columns(dfs, ['at_home','extra_large_unit'])\n",
    "\n",
    "dfs = reorder_columns(dfs, ['extra_large_unit','at_home'])\n",
    "\n",
    "print_columns(dfs)"
   ]
  },
  {
   "cell_type": "markdown",
   "metadata": {},
   "source": [
    "#### Save the Result"
   ]
  },
  {
   "cell_type": "code",
   "execution_count": 79,
   "metadata": {},
   "outputs": [],
   "source": [
    "polish_and_save(dfs, 'Sattler College', 'SattlerCollege.csv')"
   ]
  },
  {
   "cell_type": "markdown",
   "metadata": {},
   "source": [
    "# SHOWA Boston Institute"
   ]
  },
  {
   "cell_type": "markdown",
   "metadata": {},
   "source": [
    "#### Polishing Columns"
   ]
  },
  {
   "cell_type": "code",
   "execution_count": 80,
   "metadata": {},
   "outputs": [
    {
     "name": "stdout",
     "output_type": "stream",
     "text": [
      "2022-2023.xlsx\n",
      "['6a. \\nStreet #', '6b. \\nStreet Name', '6c. \\nStreet Suffix  ', '6d.\\n Unit #', '6e. \\nZip', '7. \\nUndergraduate (U) or Graduate (G)', '8. \\nFull-time (FT) or \\nPart-time (PT)', '9. \\nAt-Home or Not-at-Home']\n",
      "2017-2018.xlsx\n",
      "['6a. \\nStreet #', '6b. \\nStreet Name', '6c. \\nStreet Suffix  ', '6d.\\n Unit #', '6e. \\nZip', '7. \\nUndergraduate (U) or Graduate (G)', '8. \\nFull-time (FT) or \\nPart-time (PT)', '9. \\n 5 or More Undergrads/Unit\\n(Y/N)']\n",
      "2019-2020.xlsx\n",
      "['6a. \\nStreet #', '6b. \\nStreet Name', '6c. \\nStreet Suffix  ', '6d.\\n Unit #', '6e. \\nZip', '7. \\nUndergraduate (U) or Graduate (G)', '8. \\nFull-time (FT) or \\nPart-time (PT)', '9. \\n 5 or More Undergrads/Unit\\n(Y/N)']\n",
      "2023-2024.xlsx\n",
      "['6a. \\nStreet #', '6b. \\nStreet Name', '6c. \\nStreet Suffix  ', '6d.\\n Unit #', '6e. \\nZip', '7. \\nUndergraduate (U) or Graduate (G)', '8. \\nFull-time (FT) or \\nPart-time (PT)', '9. \\nAt-Home or Not-at-Home']\n",
      "2020-2021.xlsx\n",
      "['6a. \\nStreet #', '6b. \\nStreet Name', '6c. \\nStreet Suffix  ', '6d.\\n Unit #', '6e. \\nZip', '7. \\nUndergraduate (U) or Graduate (G)', '8. \\nFull-time (FT) or \\nPart-time (PT)', '9. \\n 5 or More Undergrads/Unit\\n(Y/N)']\n",
      "2016-2017.xlsx\n",
      "['6a. \\nStreet #', '6b. \\nStreet Name', '6c. \\nStreet Suffix  ', '6d.\\n Unit #', '6e. \\nZip', '7. \\nUndergraduate (U) or Graduate (G)', '8. \\nFull-time (FT) or \\nPart-time (PT)', '9. \\n 5 or More Undergrads/Unit\\n(Y/N)']\n",
      "2018-2019.xlsx\n",
      "['6a. \\nStreet #', '6b. \\nStreet Name', '6c. \\nStreet Suffix  ', '6d.\\n Unit #', '6e. \\nZip', '7. \\nUndergraduate (U) or Graduate (G)', '8. \\nFull-time (FT) or \\nPart-time (PT)', '9. \\n 5 or More Undergrads/Unit\\n(Y/N)']\n",
      "2021-2022.xlsx\n",
      "['6a. \\nStreet #', '6b. \\nStreet Name', '6c. \\nStreet Suffix  ', '6d.\\n Unit #', '6e. \\nZip', '7. \\nUndergraduate (U) or Graduate (G)', '8. \\nFull-time (FT) or \\nPart-time (PT)', '9. \\n 5 or More Undergrads/Unit\\n(Y/N)']\n"
     ]
    }
   ],
   "source": [
    "dfs = prep_dfs('SHOWABostonInstitute')\n",
    "print_columns(dfs)"
   ]
  },
  {
   "cell_type": "code",
   "execution_count": 81,
   "metadata": {},
   "outputs": [
    {
     "name": "stdout",
     "output_type": "stream",
     "text": [
      "2022-2023.xlsx\n",
      "['street_number', 'street_name', 'street_suffix', 'unit_number', 'zip_code', 'level_of_study', 'full_time', 'extra_large_unit', 'at_home']\n",
      "2017-2018.xlsx\n",
      "['street_number', 'street_name', 'street_suffix', 'unit_number', 'zip_code', 'level_of_study', 'full_time', 'extra_large_unit', 'at_home']\n",
      "2019-2020.xlsx\n",
      "['street_number', 'street_name', 'street_suffix', 'unit_number', 'zip_code', 'level_of_study', 'full_time', 'extra_large_unit', 'at_home']\n",
      "2023-2024.xlsx\n",
      "['street_number', 'street_name', 'street_suffix', 'unit_number', 'zip_code', 'level_of_study', 'full_time', 'extra_large_unit', 'at_home']\n",
      "2020-2021.xlsx\n",
      "['street_number', 'street_name', 'street_suffix', 'unit_number', 'zip_code', 'level_of_study', 'full_time', 'extra_large_unit', 'at_home']\n",
      "2016-2017.xlsx\n",
      "['street_number', 'street_name', 'street_suffix', 'unit_number', 'zip_code', 'level_of_study', 'full_time', 'extra_large_unit', 'at_home']\n",
      "2018-2019.xlsx\n",
      "['street_number', 'street_name', 'street_suffix', 'unit_number', 'zip_code', 'level_of_study', 'full_time', 'extra_large_unit', 'at_home']\n",
      "2021-2022.xlsx\n",
      "['street_number', 'street_name', 'street_suffix', 'unit_number', 'zip_code', 'level_of_study', 'full_time', 'extra_large_unit', 'at_home']\n"
     ]
    }
   ],
   "source": [
    "# 2022-2023 has at-home column\n",
    "# 2023-2024 has at-home column\n",
    "\n",
    "dfs['2022-2023.xlsx'].columns = ['street_number','street_name','street_suffix','unit_number','zip_code','level_of_study','full_time','at_home']\n",
    "dfs['2023-2024.xlsx'].columns = ['street_number','street_name','street_suffix','unit_number','zip_code','level_of_study','full_time','at_home']\n",
    "\n",
    "for key in dfs:\n",
    "    if key in ['2022-2023.xlsx','2023-2024.xlsx']:\n",
    "        continue\n",
    "    dfs[key].columns = ['street_number','street_name','street_suffix','unit_number','zip_code','level_of_study','full_time','extra_large_unit']\n",
    "\n",
    "dfs = fix_missing_columns(dfs, ['at_home','extra_large_unit'])\n",
    "\n",
    "dfs = reorder_columns(dfs, ['extra_large_unit','at_home'])\n",
    "\n",
    "print_columns(dfs)"
   ]
  },
  {
   "cell_type": "markdown",
   "metadata": {},
   "source": [
    "#### Save the Result"
   ]
  },
  {
   "cell_type": "code",
   "execution_count": 82,
   "metadata": {},
   "outputs": [],
   "source": [
    "polish_and_save(dfs, 'SHOWA Boston Institute', 'SHOWABostonInstitute.csv')"
   ]
  },
  {
   "cell_type": "markdown",
   "metadata": {},
   "source": [
    "# Simmons College"
   ]
  },
  {
   "cell_type": "markdown",
   "metadata": {},
   "source": [
    "#### Polishing Columns"
   ]
  },
  {
   "cell_type": "code",
   "execution_count": 83,
   "metadata": {},
   "outputs": [
    {
     "name": "stdout",
     "output_type": "stream",
     "text": [
      "2022-2023.xlsx\n",
      "['6a. \\nStreet #', '6b. \\nStreet Name', '6c. \\nStreet Suffix  ', '6d.\\n Unit #', '6e. \\nZip', '7. \\nUndergraduate (U) or Graduate (G)', '8. \\nFull-time (FT) or \\nPart-time (PT)', '9. \\n 5 or More Undergrads/Unit\\n(Y/N)']\n",
      "2017-2018.xlsx\n",
      "['6a. \\nStreet #', '6b. \\nStreet Name', '6c. \\nStreet Suffix  ', '6d.\\n Unit #', '6e. \\nZip', '7. \\nUndergraduate (U) or Graduate (G)', '8. \\nFull-time (FT) or \\nPart-time (PT)', '9. \\n 5 or More Undergrads/Unit\\n(Y/N)']\n",
      "2019-2020.xlsx\n",
      "['6a. \\nStreet #', '6b. \\nStreet Name', '6c. \\nStreet Suffix  ', '6d.\\n Unit #', '6e. \\nZip', '7. \\nUndergraduate (U) or Graduate (G)', '8. \\nFull-time (FT) or \\nPart-time (PT)', '9. \\n 5 or More Undergrads/Unit\\n(Y/N)']\n",
      "2023-2024.xlsx\n",
      "['6a. \\nStreet #', '6b. \\nStreet Name', '6c. \\nStreet Suffix  ', '6d.\\n Unit #', '6e. \\nZip', '7. \\nUndergraduate (U) or Graduate (G)', '8. \\nFull-time (FT) or \\nPart-time (PT)', '9. \\nAt-Home or Not-at-Home']\n",
      "2020-2021.xlsx\n",
      "['6a. \\nStreet #', '6b. \\nStreet Name', '6c. \\nSt Suffix  ', '6d.\\n Unit #', '6e. \\nZip', '7. \\nUndergraduate (U) or Graduate (G)', '8. \\nFull-time (FT) or \\nPart-time (PT)', '9. \\n 5 or More Undergrads/Unit\\n(Y/N)']\n",
      "2016-2017.xlsx\n",
      "['6a. \\nStreet #', '6b. \\nStreet Name', '6c. \\nStreet Suffix  ', '6d.\\n Unit #', '6e. \\nZip', '7. \\nUndergraduate (U) or Graduate (G)', '8. \\nFull-time (FT) or \\nPart-time (PT)', '9. \\n 5 or More Undergrads/Unit\\n(Y/N)']\n",
      "2021-2022.xlsx\n",
      "['6a. \\nStreet #', '6b. \\nStreet Name', '6c. \\nStreet Suffix  ', '6d.\\n Unit #', '6e. \\nZip', '7. \\nUndergraduate (U) or Graduate (G)', '8. \\nFull-time (FT) or \\nPart-time (PT)', '9. \\n 5 or More Undergrads/Unit\\n(Y/N)']\n"
     ]
    },
    {
     "name": "stderr",
     "output_type": "stream",
     "text": [
      "/Library/Frameworks/Python.framework/Versions/3.12/lib/python3.12/site-packages/openpyxl/worksheet/_reader.py:329: UserWarning: Unknown extension is not supported and will be removed\n",
      "  warn(msg)\n"
     ]
    }
   ],
   "source": [
    "dfs = prep_dfs('SimmonsCollege')\n",
    "print_columns(dfs)"
   ]
  },
  {
   "cell_type": "code",
   "execution_count": 84,
   "metadata": {},
   "outputs": [
    {
     "name": "stdout",
     "output_type": "stream",
     "text": [
      "2022-2023.xlsx\n",
      "['street_number', 'street_name', 'street_suffix', 'unit_number', 'zip_code', 'level_of_study', 'full_time', 'extra_large_unit', 'at_home']\n",
      "2017-2018.xlsx\n",
      "['street_number', 'street_name', 'street_suffix', 'unit_number', 'zip_code', 'level_of_study', 'full_time', 'extra_large_unit', 'at_home']\n",
      "2019-2020.xlsx\n",
      "['street_number', 'street_name', 'street_suffix', 'unit_number', 'zip_code', 'level_of_study', 'full_time', 'extra_large_unit', 'at_home']\n",
      "2023-2024.xlsx\n",
      "['street_number', 'street_name', 'street_suffix', 'unit_number', 'zip_code', 'level_of_study', 'full_time', 'extra_large_unit', 'at_home']\n",
      "2020-2021.xlsx\n",
      "['street_number', 'street_name', 'street_suffix', 'unit_number', 'zip_code', 'level_of_study', 'full_time', 'extra_large_unit', 'at_home']\n",
      "2016-2017.xlsx\n",
      "['street_number', 'street_name', 'street_suffix', 'unit_number', 'zip_code', 'level_of_study', 'full_time', 'extra_large_unit', 'at_home']\n",
      "2021-2022.xlsx\n",
      "['street_number', 'street_name', 'street_suffix', 'unit_number', 'zip_code', 'level_of_study', 'full_time', 'extra_large_unit', 'at_home']\n"
     ]
    }
   ],
   "source": [
    "# 2022-2023 has at-home column\n",
    "# 2023-2024 has at-home column\n",
    "\n",
    "dfs['2022-2023.xlsx'].columns = ['street_number','street_name','street_suffix','unit_number','zip_code','level_of_study','full_time','at_home']\n",
    "dfs['2023-2024.xlsx'].columns = ['street_number','street_name','street_suffix','unit_number','zip_code','level_of_study','full_time','at_home']\n",
    "\n",
    "for key in dfs:\n",
    "    if key in ['2022-2023.xlsx','2023-2024.xlsx']:\n",
    "        continue\n",
    "    dfs[key].columns = ['street_number','street_name','street_suffix','unit_number','zip_code','level_of_study','full_time','extra_large_unit']\n",
    "\n",
    "dfs = fix_missing_columns(dfs, ['at_home','extra_large_unit'])\n",
    "\n",
    "dfs = reorder_columns(dfs, ['extra_large_unit','at_home'])\n",
    "\n",
    "print_columns(dfs)"
   ]
  },
  {
   "cell_type": "markdown",
   "metadata": {},
   "source": [
    "#### Save the Result"
   ]
  },
  {
   "cell_type": "code",
   "execution_count": 85,
   "metadata": {},
   "outputs": [],
   "source": [
    "polish_and_save(dfs, 'Simmons College', 'SimmonsCollege.csv')"
   ]
  },
  {
   "cell_type": "markdown",
   "metadata": {},
   "source": [
    "# St. John's Seminary"
   ]
  },
  {
   "cell_type": "markdown",
   "metadata": {},
   "source": [
    "#### Polishing Columns"
   ]
  },
  {
   "cell_type": "code",
   "execution_count": 86,
   "metadata": {},
   "outputs": [
    {
     "name": "stdout",
     "output_type": "stream",
     "text": [
      "2022-2023.xlsx\n",
      "['6a. \\nStreet #', '6b. \\nStreet Name', '6c. \\nStreet Suffix  ', '6d.\\n Unit #', '6e. \\nZip', '7. \\nUndergraduate (U) or Graduate (G)', '8. \\nFull-time (FT) or \\nPart-time (PT)', '9. \\nAt-Home or Not-at-Home']\n",
      "2017-2018.xlsx\n",
      "['6a. \\nStreet #', '6b. \\nStreet Name', '6c. \\nStreet Suffix  ', '6d.\\n Unit #', '6e. \\nZip', '7. \\nUndergraduate (U) or Graduate (G)', '8. \\nFull-time (FT) or \\nPart-time (PT)', '9. \\n 5 or More Undergrads/Unit\\n(Y/N)']\n",
      "2019-2020.xlsx\n",
      "['6a. \\nStreet #', '6b. \\nStreet Name', '6c. \\nStreet Suffix  ', '6d.\\n Unit #', '6e. \\nZip', '7. \\nUndergraduate (U) or Graduate (G)', '8. \\nFull-time (FT) or \\nPart-time (PT)', '9. \\n 5 or More Undergrads/Unit\\n(Y/N)']\n",
      "2023-2024.xlsx\n",
      "['6a. \\nStreet #', '6b. \\nStreet Name', '6c. \\nStreet Suffix  ', '6d.\\n Unit #', '6e. \\nZip', '7. \\nUndergraduate (U) or Graduate (G)', '8. \\nFull-time (FT) or \\nPart-time (PT)', '9. \\nAt-Home or Not-at-Home']\n",
      "2020-2021.xlsx\n",
      "['6a. \\nStreet #', '6b. \\nStreet Name', '6c. \\nStreet Suffix  ', '6d.\\n Unit #', '6e. \\nZip', '7. \\nUndergraduate (U) or Graduate (G)', '8. \\nFull-time (FT) or \\nPart-time (PT)', '9. \\n 5 or More Undergrads/Unit\\n(Y/N)']\n",
      "2016-2017.xlsx\n",
      "['6a. \\nStreet #', '6b. \\nStreet Name', '6c. \\nStreet Suffix  ', '6d.\\n Unit #', '6e. \\nZip', '7. \\nUndergraduate (U) or Graduate (G)', '8. \\nFull-time (FT) or \\nPart-time (PT)', '9. \\n 5 or More Undergrads/Unit\\n(Y/N)']\n",
      "2018-2019.xlsx\n",
      "['6a. \\nStreet #', '6b. \\nStreet Name', '6c. \\nStreet Suffix  ', '6d.\\n Unit #', '6e. \\nZip', '7. \\nUndergraduate (U) or Graduate (G)', '8. \\nFull-time (FT) or \\nPart-time (PT)', '9. \\n 5 or More Undergrads/Unit\\n(Y/N)']\n",
      "2021-2022.xlsx\n",
      "['6a. \\nStreet #', '6b. \\nStreet Name', '6c. \\nStreet Suffix  ', '6d.\\n Unit #', '6e. \\nZip', '7. \\nUndergraduate (U) or Graduate (G)', '8. \\nFull-time (FT) or \\nPart-time (PT)', '9. \\n 5 or More Undergrads/Unit\\n(Y/N)']\n"
     ]
    }
   ],
   "source": [
    "dfs = prep_dfs('StJohnSeminary')\n",
    "print_columns(dfs)"
   ]
  },
  {
   "cell_type": "code",
   "execution_count": 87,
   "metadata": {},
   "outputs": [
    {
     "name": "stdout",
     "output_type": "stream",
     "text": [
      "2022-2023.xlsx\n",
      "['street_number', 'street_name', 'street_suffix', 'unit_number', 'zip_code', 'level_of_study', 'full_time', 'extra_large_unit', 'at_home']\n",
      "2017-2018.xlsx\n",
      "['street_number', 'street_name', 'street_suffix', 'unit_number', 'zip_code', 'level_of_study', 'full_time', 'extra_large_unit', 'at_home']\n",
      "2019-2020.xlsx\n",
      "['street_number', 'street_name', 'street_suffix', 'unit_number', 'zip_code', 'level_of_study', 'full_time', 'extra_large_unit', 'at_home']\n",
      "2023-2024.xlsx\n",
      "['street_number', 'street_name', 'street_suffix', 'unit_number', 'zip_code', 'level_of_study', 'full_time', 'extra_large_unit', 'at_home']\n",
      "2020-2021.xlsx\n",
      "['street_number', 'street_name', 'street_suffix', 'unit_number', 'zip_code', 'level_of_study', 'full_time', 'extra_large_unit', 'at_home']\n",
      "2016-2017.xlsx\n",
      "['street_number', 'street_name', 'street_suffix', 'unit_number', 'zip_code', 'level_of_study', 'full_time', 'extra_large_unit', 'at_home']\n",
      "2018-2019.xlsx\n",
      "['street_number', 'street_name', 'street_suffix', 'unit_number', 'zip_code', 'level_of_study', 'full_time', 'extra_large_unit', 'at_home']\n",
      "2021-2022.xlsx\n",
      "['street_number', 'street_name', 'street_suffix', 'unit_number', 'zip_code', 'level_of_study', 'full_time', 'extra_large_unit', 'at_home']\n"
     ]
    }
   ],
   "source": [
    "# 2022-2023 has at-home column\n",
    "# 2023-2024 has at-home column\n",
    "\n",
    "dfs['2022-2023.xlsx'].columns = ['street_number','street_name','street_suffix','unit_number','zip_code','level_of_study','full_time','at_home']\n",
    "dfs['2023-2024.xlsx'].columns = ['street_number','street_name','street_suffix','unit_number','zip_code','level_of_study','full_time','at_home']\n",
    "\n",
    "for key in dfs:\n",
    "    if key in ['2022-2023.xlsx','2023-2024.xlsx']:\n",
    "        continue\n",
    "    dfs[key].columns = ['street_number','street_name','street_suffix','unit_number','zip_code','level_of_study','full_time','extra_large_unit']\n",
    "\n",
    "dfs = fix_missing_columns(dfs, ['at_home','extra_large_unit'])\n",
    "\n",
    "dfs = reorder_columns(dfs, ['extra_large_unit','at_home'])\n",
    "\n",
    "print_columns(dfs)"
   ]
  },
  {
   "cell_type": "markdown",
   "metadata": {},
   "source": [
    "#### Save the Result"
   ]
  },
  {
   "cell_type": "code",
   "execution_count": 88,
   "metadata": {},
   "outputs": [],
   "source": [
    "polish_and_save(dfs, 'St John Seminary', 'StJohnSeminary.csv')"
   ]
  },
  {
   "cell_type": "markdown",
   "metadata": {},
   "source": [
    "# Suffolk University"
   ]
  },
  {
   "cell_type": "markdown",
   "metadata": {},
   "source": [
    "#### Polishing Columns"
   ]
  },
  {
   "cell_type": "code",
   "execution_count": 89,
   "metadata": {},
   "outputs": [
    {
     "name": "stdout",
     "output_type": "stream",
     "text": [
      "2022-2023.xlsx\n",
      "['6a. \\nStreet #', '6b. \\nStreet Name', '6c. \\nStreet Suffix  ', '6d.\\n Unit #', '6e. \\nZip', '7. \\nUndergraduate (U) or Graduate (G)', '8. \\nFull-time (FT) or \\nPart-time (PT)', '9. \\nAt-Home or Not-at-Home']\n",
      "2017-2018.xlsx\n",
      "['6a. \\nStreet #', '6b. \\nStreet Name', '6c. \\nStreet Suffix  ', '6d.\\n Unit #', '6e. \\nZip', '7. \\nUndergraduate (U) or Graduate (G)', '8. \\nFull-time (FT) or \\nPart-time (PT)', '9. \\n 5 or More Undergrads/Unit\\n(Y/N)']\n",
      "2019-2020.xlsx\n",
      "['6a. \\nStreet #', '6b. \\nStreet Name', '6c. \\nStreet Suffix  ', '6d.\\n Unit #', '6e. \\nZip', '7. \\nUndergraduate (U) or Graduate (G)', '8. \\nFull-time (FT) or \\nPart-time (PT)', '9. \\n 5 or More Undergrads/Unit\\n(Y/N)']\n",
      "2023-2024.xlsx\n",
      "['6a. \\nStreet #', '6b. \\nStreet Name', '6c. \\nStreet Suffix  ', '6d.\\n Unit #', '6e. \\nZip', '7. \\nUndergraduate (U) or Graduate (G)', '8. \\nFull-time (FT) or \\nPart-time (PT)', '9. \\nAt-Home or Not-at-Home']\n",
      "2020-2021.xlsx\n",
      "['6a. \\nStreet #', '6b. \\nStreet Name', '6c. \\nStreet Suffix  ', '6d.\\n Unit #', '6e. \\nZip', '7. \\nUndergraduate (U) or Graduate (G)', '8. \\nFull-time (FT) or \\nPart-time (PT)', '9. \\n 5 or More Undergrads/Unit\\n(Y/N)']\n",
      "2016-2017.xlsx\n",
      "['6a. \\nStreet #', '6b. \\nStreet Name', '6c. \\nStreet Suffix  ', '6d.\\n Unit #', '6e. \\nZip', '7. \\nUndergraduate (U) or Graduate (G)', '8. \\nFull-time (FT) or \\nPart-time (PT)', '9. \\n 5 or More Undergrads/Unit\\n(Y/N)']\n",
      "2018-2019.xlsx\n",
      "['6a. \\nStreet #', '6b. \\nStreet Name', '6c. \\nStreet Suffix  ', '6d.\\n Unit #', '6e. \\nZip', '7. \\nUndergraduate (U) or Graduate (G)', '8. \\nFull-time (FT) or \\nPart-time (PT)', '9. \\n 5 or More Undergrads/Unit\\n(Y/N)']\n",
      "2021-2022.xlsx\n",
      "['6a. \\nStreet #', '6b. \\nStreet Name', '6c. \\nStreet Suffix  ', '6d.\\n Unit #', '6e. \\nZip', '7. \\nUndergraduate (U) or Graduate (G)', '8. \\nFull-time (FT) or \\nPart-time (PT)', '9. \\n 5 or More Undergrads/Unit\\n(Y/N)']\n"
     ]
    }
   ],
   "source": [
    "dfs = prep_dfs('SuffolkUniversity')\n",
    "print_columns(dfs)"
   ]
  },
  {
   "cell_type": "code",
   "execution_count": 90,
   "metadata": {},
   "outputs": [
    {
     "name": "stdout",
     "output_type": "stream",
     "text": [
      "2022-2023.xlsx\n",
      "['street_number', 'street_name', 'street_suffix', 'unit_number', 'zip_code', 'level_of_study', 'full_time', 'extra_large_unit', 'at_home']\n",
      "2017-2018.xlsx\n",
      "['street_number', 'street_name', 'street_suffix', 'unit_number', 'zip_code', 'level_of_study', 'full_time', 'extra_large_unit', 'at_home']\n",
      "2019-2020.xlsx\n",
      "['street_number', 'street_name', 'street_suffix', 'unit_number', 'zip_code', 'level_of_study', 'full_time', 'extra_large_unit', 'at_home']\n",
      "2023-2024.xlsx\n",
      "['street_number', 'street_name', 'street_suffix', 'unit_number', 'zip_code', 'level_of_study', 'full_time', 'extra_large_unit', 'at_home']\n",
      "2020-2021.xlsx\n",
      "['street_number', 'street_name', 'street_suffix', 'unit_number', 'zip_code', 'level_of_study', 'full_time', 'extra_large_unit', 'at_home']\n",
      "2016-2017.xlsx\n",
      "['street_number', 'street_name', 'street_suffix', 'unit_number', 'zip_code', 'level_of_study', 'full_time', 'extra_large_unit', 'at_home']\n",
      "2018-2019.xlsx\n",
      "['street_number', 'street_name', 'street_suffix', 'unit_number', 'zip_code', 'level_of_study', 'full_time', 'extra_large_unit', 'at_home']\n",
      "2021-2022.xlsx\n",
      "['street_number', 'street_name', 'street_suffix', 'unit_number', 'zip_code', 'level_of_study', 'full_time', 'extra_large_unit', 'at_home']\n"
     ]
    }
   ],
   "source": [
    "# 2022-2023 has at-home column\n",
    "# 2023-2024 has at-home column\n",
    "\n",
    "dfs['2022-2023.xlsx'].columns = ['street_number','street_name','street_suffix','unit_number','zip_code','level_of_study','full_time','at_home']\n",
    "dfs['2023-2024.xlsx'].columns = ['street_number','street_name','street_suffix','unit_number','zip_code','level_of_study','full_time','at_home']\n",
    "\n",
    "for key in dfs:\n",
    "    if key in ['2022-2023.xlsx','2023-2024.xlsx']:\n",
    "        continue\n",
    "    dfs[key].columns = ['street_number','street_name','street_suffix','unit_number','zip_code','level_of_study','full_time','extra_large_unit']\n",
    "\n",
    "dfs = fix_missing_columns(dfs, ['at_home','extra_large_unit'])\n",
    "\n",
    "dfs = reorder_columns(dfs, ['extra_large_unit','at_home'])\n",
    "\n",
    "\n",
    "print_columns(dfs)"
   ]
  },
  {
   "cell_type": "markdown",
   "metadata": {},
   "source": [
    "#### Save the Result"
   ]
  },
  {
   "cell_type": "code",
   "execution_count": 91,
   "metadata": {},
   "outputs": [],
   "source": [
    "polish_and_save(dfs, 'Suffolk University', 'SuffolkUniversity.csv')"
   ]
  },
  {
   "cell_type": "markdown",
   "metadata": {},
   "source": [
    "# Tufts University"
   ]
  },
  {
   "cell_type": "markdown",
   "metadata": {},
   "source": [
    "#### Polishing Columns"
   ]
  },
  {
   "cell_type": "code",
   "execution_count": 92,
   "metadata": {},
   "outputs": [
    {
     "name": "stdout",
     "output_type": "stream",
     "text": [
      "2022-2023.xlsx\n",
      "['6a. \\nStreet #', '6b. \\nStreet Name', '6c. \\nStreet Suffix  ', '6d.\\n Unit #', '6e. \\nZip', '7. \\nUndergraduate (U) or Graduate (G)', '8. \\nFull-time (FT) or \\nPart-time (PT)', '9. \\nAt-Home or Not-at-Home']\n",
      "2017-2018.xlsx\n",
      "['6a. \\nStreet #', '6b. \\nStreet Name', '6c. \\nStreet Suffix  ', '6d.\\n Unit #', '6e. \\nZip', '7. \\nUndergraduate (U) or Graduate (G)', '8. \\nFull-time (FT) or \\nPart-time (PT)', '9. \\n 5 or More Undergrads/Unit\\n(Y/N)']\n",
      "2019-2020.xlsx\n",
      "['6a. \\nStreet #', '6b. \\nStreet Name', '6c. \\nStreet Suffix  ', '6d.\\n Unit #', '6e. \\nZip', '7. \\nUndergraduate (U) or Graduate (G)', '8. \\nFull-time (FT) or \\nPart-time (PT)', '9. \\n 5 or More Undergrads/Unit\\n(Y/N)']\n",
      "2023-2024.xlsx\n",
      "['6a. \\nStreet #', '6b. \\nStreet Name', '6c. \\nStreet Suffix  ', '6d.\\n Unit #', '6e. \\nZip', '7. \\nUndergraduate (U) or Graduate (G)', '8. \\nFull-time (FT) or \\nPart-time (PT)', '9. \\nAt-Home or Not-at-Home']\n",
      "2020-2021.xlsx\n",
      "['6a. \\nStreet #', '6b. \\nStreet Name', '6c. \\nStreet Suffix  ', '6d.\\n Unit #', '6e. \\nZip', '7. \\nUndergraduate (U) or Graduate (G)', '8. \\nFull-time (FT) or \\nPart-time (PT)', '9. \\n 5 or More Undergrads/Unit\\n(Y/N)']\n",
      "2016-2017.xlsx\n",
      "['6a. \\nStreet #', '6b. \\nStreet Name', '6c. \\nStreet Suffix  ', '6d.\\n Unit #', '6e. \\nZip', '7. \\nUndergraduate (U) or Graduate (G)', '8. \\nFull-time (FT) or \\nPart-time (PT)', '9. \\n 5 or More Undergrads/Unit\\n(Y/N)', 'Unnamed: 8', 'Home address', 'Current address same as home address', 'SMFA student']\n",
      "2018-2019.xlsx\n",
      "['6a. \\nStreet #', '6b. \\nStreet Name', '6c. \\nStreet Suffix  ', '6d.\\n Unit #', '6e. \\nZip', '7. \\nUndergraduate (U) or Graduate (G)', '8. \\nFull-time (FT) or \\nPart-time (PT)', '9. \\n 5 or More Undergrads/Unit\\n(Y/N)']\n",
      "2021-2022.xlsx\n",
      "['6a. \\nStreet #', '6b. \\nStreet Name', '6c. \\nStreet Suffix  ', '6d.\\n Unit #', '6e. \\nZip', '7. \\nUndergraduate (U) or Graduate (G)', '8. \\nFull-time (FT) or \\nPart-time (PT)', '9. \\n 5 or More Undergrads/Unit\\n(Y/N)']\n"
     ]
    }
   ],
   "source": [
    "dfs = prep_dfs('TuftsUniversity')\n",
    "print_columns(dfs)\n"
   ]
  },
  {
   "cell_type": "code",
   "execution_count": 93,
   "metadata": {},
   "outputs": [
    {
     "name": "stdout",
     "output_type": "stream",
     "text": [
      "2022-2023.xlsx\n",
      "['6a. \\nStreet #', '6b. \\nStreet Name', '6c. \\nStreet Suffix  ', '6d.\\n Unit #', '6e. \\nZip', '7. \\nUndergraduate (U) or Graduate (G)', '8. \\nFull-time (FT) or \\nPart-time (PT)', '9. \\nAt-Home or Not-at-Home']\n",
      "2017-2018.xlsx\n",
      "['6a. \\nStreet #', '6b. \\nStreet Name', '6c. \\nStreet Suffix  ', '6d.\\n Unit #', '6e. \\nZip', '7. \\nUndergraduate (U) or Graduate (G)', '8. \\nFull-time (FT) or \\nPart-time (PT)', '9. \\n 5 or More Undergrads/Unit\\n(Y/N)']\n",
      "2019-2020.xlsx\n",
      "['6a. \\nStreet #', '6b. \\nStreet Name', '6c. \\nStreet Suffix  ', '6d.\\n Unit #', '6e. \\nZip', '7. \\nUndergraduate (U) or Graduate (G)', '8. \\nFull-time (FT) or \\nPart-time (PT)', '9. \\n 5 or More Undergrads/Unit\\n(Y/N)']\n",
      "2023-2024.xlsx\n",
      "['6a. \\nStreet #', '6b. \\nStreet Name', '6c. \\nStreet Suffix  ', '6d.\\n Unit #', '6e. \\nZip', '7. \\nUndergraduate (U) or Graduate (G)', '8. \\nFull-time (FT) or \\nPart-time (PT)', '9. \\nAt-Home or Not-at-Home']\n",
      "2020-2021.xlsx\n",
      "['6a. \\nStreet #', '6b. \\nStreet Name', '6c. \\nStreet Suffix  ', '6d.\\n Unit #', '6e. \\nZip', '7. \\nUndergraduate (U) or Graduate (G)', '8. \\nFull-time (FT) or \\nPart-time (PT)', '9. \\n 5 or More Undergrads/Unit\\n(Y/N)']\n",
      "2016-2017.xlsx\n",
      "['6a. \\nStreet #', '6b. \\nStreet Name', '6c. \\nStreet Suffix  ', '6d.\\n Unit #', '6e. \\nZip', '7. \\nUndergraduate (U) or Graduate (G)', '8. \\nFull-time (FT) or \\nPart-time (PT)', '9. \\n 5 or More Undergrads/Unit\\n(Y/N)']\n",
      "2018-2019.xlsx\n",
      "['6a. \\nStreet #', '6b. \\nStreet Name', '6c. \\nStreet Suffix  ', '6d.\\n Unit #', '6e. \\nZip', '7. \\nUndergraduate (U) or Graduate (G)', '8. \\nFull-time (FT) or \\nPart-time (PT)', '9. \\n 5 or More Undergrads/Unit\\n(Y/N)']\n",
      "2021-2022.xlsx\n",
      "['6a. \\nStreet #', '6b. \\nStreet Name', '6c. \\nStreet Suffix  ', '6d.\\n Unit #', '6e. \\nZip', '7. \\nUndergraduate (U) or Graduate (G)', '8. \\nFull-time (FT) or \\nPart-time (PT)', '9. \\n 5 or More Undergrads/Unit\\n(Y/N)']\n"
     ]
    }
   ],
   "source": [
    "# in 2016-2017, let's remove the columns that do not belong there\n",
    "# remove:  'Unnamed: 8', 'Home address', 'Current address same as home address', 'SMFA student'\n",
    "dfs['2016-2017.xlsx'].drop(columns=['Unnamed: 8', 'Home address', 'Current address same as home address', 'SMFA student'], inplace=True)\n",
    "print_columns(dfs)"
   ]
  },
  {
   "cell_type": "code",
   "execution_count": 94,
   "metadata": {},
   "outputs": [
    {
     "name": "stdout",
     "output_type": "stream",
     "text": [
      "2022-2023.xlsx\n",
      "['street_number', 'street_name', 'street_suffix', 'unit_number', 'zip_code', 'level_of_study', 'full_time', 'extra_large_unit', 'at_home']\n",
      "2017-2018.xlsx\n",
      "['street_number', 'street_name', 'street_suffix', 'unit_number', 'zip_code', 'level_of_study', 'full_time', 'extra_large_unit', 'at_home']\n",
      "2019-2020.xlsx\n",
      "['street_number', 'street_name', 'street_suffix', 'unit_number', 'zip_code', 'level_of_study', 'full_time', 'extra_large_unit', 'at_home']\n",
      "2023-2024.xlsx\n",
      "['street_number', 'street_name', 'street_suffix', 'unit_number', 'zip_code', 'level_of_study', 'full_time', 'extra_large_unit', 'at_home']\n",
      "2020-2021.xlsx\n",
      "['street_number', 'street_name', 'street_suffix', 'unit_number', 'zip_code', 'level_of_study', 'full_time', 'extra_large_unit', 'at_home']\n",
      "2016-2017.xlsx\n",
      "['street_number', 'street_name', 'street_suffix', 'unit_number', 'zip_code', 'level_of_study', 'full_time', 'extra_large_unit', 'at_home']\n",
      "2018-2019.xlsx\n",
      "['street_number', 'street_name', 'street_suffix', 'unit_number', 'zip_code', 'level_of_study', 'full_time', 'extra_large_unit', 'at_home']\n",
      "2021-2022.xlsx\n",
      "['street_number', 'street_name', 'street_suffix', 'unit_number', 'zip_code', 'level_of_study', 'full_time', 'extra_large_unit', 'at_home']\n"
     ]
    }
   ],
   "source": [
    "# 2022-2023 has at-home column\n",
    "# 2023-2024 has at-home column\n",
    "\n",
    "dfs['2022-2023.xlsx'].columns = ['street_number','street_name','street_suffix','unit_number','zip_code','level_of_study','full_time','at_home']\n",
    "dfs['2023-2024.xlsx'].columns = ['street_number','street_name','street_suffix','unit_number','zip_code','level_of_study','full_time','at_home']\n",
    "\n",
    "for key in dfs:\n",
    "    if key in ['2022-2023.xlsx','2023-2024.xlsx']:\n",
    "        continue\n",
    "    dfs[key].columns = ['street_number','street_name','street_suffix','unit_number','zip_code','level_of_study','full_time','extra_large_unit']\n",
    "\n",
    "dfs = fix_missing_columns(dfs, ['at_home','extra_large_unit'])\n",
    "\n",
    "dfs = reorder_columns(dfs, ['extra_large_unit','at_home'])\n",
    "\n",
    "print_columns(dfs)\n"
   ]
  },
  {
   "cell_type": "markdown",
   "metadata": {},
   "source": [
    "#### Save the Result"
   ]
  },
  {
   "cell_type": "code",
   "execution_count": 95,
   "metadata": {},
   "outputs": [],
   "source": [
    "polish_and_save(dfs, 'Tufts University', 'TuftsUniversity.csv')"
   ]
  },
  {
   "cell_type": "markdown",
   "metadata": {},
   "source": [
    "# University of Massachusetts Boston"
   ]
  },
  {
   "cell_type": "markdown",
   "metadata": {},
   "source": [
    "#### Polishing Columns"
   ]
  },
  {
   "cell_type": "code",
   "execution_count": 96,
   "metadata": {},
   "outputs": [
    {
     "name": "stdout",
     "output_type": "stream",
     "text": [
      "2022-2023.xlsx\n",
      "['6a. \\nStreet #', '6b. \\nStreet Name', '6c. \\nStreet Suffix  ', '6d.\\n Unit #', '6e. \\nZip', '7. \\nUndergraduate (U) or Graduate (G)', '8. \\nFull-time (FT) or \\nPart-time (PT)', '9. \\nAt-Home or Not-at-Home']\n",
      "2017-2018.xlsx\n",
      "['6a. \\nStreet #', '6b. \\nStreet Name', '6c. \\nStreet Suffix  ', '6d.\\n Unit #', '6e. \\nZip', '7. \\nUndergraduate (U) or Graduate (G)', '8. \\nFull-time (FT) or \\nPart-time (PT)', '9. \\n 5 or More Undergrads/Unit\\n(Y/N)']\n",
      "2019-2020.xlsx\n",
      "['6a. \\nStreet #', '6b. \\nStreet Name', '6c. \\nStreet Suffix  ', '6d.\\n Unit #', '6e. \\nZip', '7. \\nUndergraduate (U) or Graduate (G)', '8. \\nFull-time (FT) or \\nPart-time (PT)', '9. \\n 5 or More Undergrads/Unit\\n(Y/N)']\n",
      "2023-2024.xlsx\n",
      "['6a. \\nStreet #', '6b. \\nStreet Name', '6c. \\nStreet Suffix  ', '6d.\\n Unit #', '6e. \\nZip', '7. \\nUndergraduate (U) or Graduate (G)', '8. \\nFull-time (FT) or \\nPart-time (PT)', '9. \\nAt-Home or Not-at-Home']\n",
      "2020-2021.xlsx\n",
      "['6a. \\nStreet #', '6b. \\nStreet Name', '6c. \\nStreet Suffix  ', '6d.\\n Unit #', '6e. \\nZip', '7. \\nUndergraduate (U) or Graduate (G)', '8. \\nFull-time (FT) or \\nPart-time (PT)', '9. \\n 5 or More Undergrads/Unit\\n(Y/N)']\n",
      "2016-2017.xlsx\n",
      "['6a. \\nStreet #', '6b. \\nStreet Name', '6c. \\nStreet Suffix  ', '6d.\\n Unit #', '6e. \\nZip', '7. \\nUndergraduate (U) or Graduate (G)', '8. \\nFull-time (FT) or \\nPart-time (PT)', '9. \\n 5 or More Undergrads/Unit\\n(Y/N)']\n",
      "2018-2019.xlsx\n",
      "['6a. \\nStreet #', '6b. \\nStreet Name', '6c. \\nStreet Suffix  ', '6d.\\n Unit #', '6e. \\nZip', '7. \\nUndergraduate (U) or Graduate (G)', '8. \\nFull-time (FT) or \\nPart-time (PT)', '9. \\n 5 or More Undergrads/Unit\\n(Y/N)']\n",
      "2021-2022.xlsx\n",
      "['6a. \\nStreet #', '6b. \\nStreet Name', '6c. \\nStreet Suffix  ', '6d.\\n Unit #', '6e. \\nZip', '7. \\nUndergraduate (U) or Graduate (G)', '8. \\nFull-time (FT) or \\nPart-time (PT)', '9. \\n 5 or More Undergrads/Unit\\n(Y/N)']\n"
     ]
    }
   ],
   "source": [
    "dfs = prep_dfs('UniversityMassachusettsBoston')\n",
    "print_columns(dfs)"
   ]
  },
  {
   "cell_type": "code",
   "execution_count": 97,
   "metadata": {},
   "outputs": [
    {
     "name": "stdout",
     "output_type": "stream",
     "text": [
      "2022-2023.xlsx\n",
      "['street_number', 'street_name', 'street_suffix', 'unit_number', 'zip_code', 'level_of_study', 'full_time', 'extra_large_unit', 'at_home']\n",
      "2017-2018.xlsx\n",
      "['street_number', 'street_name', 'street_suffix', 'unit_number', 'zip_code', 'level_of_study', 'full_time', 'extra_large_unit', 'at_home']\n",
      "2019-2020.xlsx\n",
      "['street_number', 'street_name', 'street_suffix', 'unit_number', 'zip_code', 'level_of_study', 'full_time', 'extra_large_unit', 'at_home']\n",
      "2023-2024.xlsx\n",
      "['street_number', 'street_name', 'street_suffix', 'unit_number', 'zip_code', 'level_of_study', 'full_time', 'extra_large_unit', 'at_home']\n",
      "2020-2021.xlsx\n",
      "['street_number', 'street_name', 'street_suffix', 'unit_number', 'zip_code', 'level_of_study', 'full_time', 'extra_large_unit', 'at_home']\n",
      "2016-2017.xlsx\n",
      "['street_number', 'street_name', 'street_suffix', 'unit_number', 'zip_code', 'level_of_study', 'full_time', 'extra_large_unit', 'at_home']\n",
      "2018-2019.xlsx\n",
      "['street_number', 'street_name', 'street_suffix', 'unit_number', 'zip_code', 'level_of_study', 'full_time', 'extra_large_unit', 'at_home']\n",
      "2021-2022.xlsx\n",
      "['street_number', 'street_name', 'street_suffix', 'unit_number', 'zip_code', 'level_of_study', 'full_time', 'extra_large_unit', 'at_home']\n"
     ]
    }
   ],
   "source": [
    "# 2022-2023 has at-home column\n",
    "# 2023-2024 has at-home column\n",
    "\n",
    "dfs['2022-2023.xlsx'].columns = ['street_number','street_name','street_suffix','unit_number','zip_code','level_of_study','full_time','at_home']\n",
    "dfs['2023-2024.xlsx'].columns = ['street_number','street_name','street_suffix','unit_number','zip_code','level_of_study','full_time','at_home']\n",
    "\n",
    "for key in dfs:\n",
    "    if key in ['2022-2023.xlsx','2023-2024.xlsx']:\n",
    "        continue\n",
    "    dfs[key].columns = ['street_number','street_name','street_suffix','unit_number','zip_code','level_of_study','full_time','extra_large_unit']\n",
    "\n",
    "dfs = fix_missing_columns(dfs, ['at_home','extra_large_unit'])\n",
    "\n",
    "dfs = reorder_columns(dfs, ['extra_large_unit','at_home'])\n",
    "\n",
    "print_columns(dfs)"
   ]
  },
  {
   "cell_type": "markdown",
   "metadata": {},
   "source": [
    "#### Save the Result"
   ]
  },
  {
   "cell_type": "code",
   "execution_count": 98,
   "metadata": {},
   "outputs": [],
   "source": [
    "polish_and_save(dfs, 'University of Massachusetts Boston', 'UniversityMassachusettsBoston.csv')"
   ]
  },
  {
   "cell_type": "markdown",
   "metadata": {},
   "source": [
    "# Urban College Boston"
   ]
  },
  {
   "cell_type": "markdown",
   "metadata": {},
   "source": [
    "#### Polishing Columns"
   ]
  },
  {
   "cell_type": "code",
   "execution_count": 99,
   "metadata": {},
   "outputs": [
    {
     "name": "stdout",
     "output_type": "stream",
     "text": [
      "2022-2023.xlsx\n",
      "['6a. \\nStreet #', '6b. \\nStreet Name', '6c. \\nStreet Suffix  ', '6d.\\n Unit #', '6e. \\nZip', '7. \\nUndergraduate (U) or Graduate (G)', '8. \\nFull-time (FT) or \\nPart-time (PT)', '9. \\n 5 or More Undergrads/Unit\\n(Y/N)']\n",
      "2017-2018.xlsx\n",
      "['6a. \\nStreet #', '6b. \\nStreet Name', '6c. \\nStreet Suffix  ', '6d.\\n Unit #', '6e. \\nZip', '7. \\nUndergraduate (U) or Graduate (G)', '8. \\nFull-time (FT) or \\nPart-time (PT)', '9. \\n 5 or More Undergrads/Unit\\n(Y/N)']\n",
      "2019-2020.xlsx\n",
      "['6a. \\nStreet #', '6b. \\nStreet Name', '6c. \\nStreet Suffix  ', '6d.\\n Unit #', '6e. \\nZip', '7. \\nUndergraduate (U) or Graduate (G)', '8. \\nFull-time (FT) or \\nPart-time (PT)', '9. \\n 5 or More Undergrads/Unit\\n(Y/N)']\n",
      "2023-2024.xlsx\n",
      "['6a. \\nStreet #', '6b. \\nStreet Name', '6c. \\nStreet Suffix  ', '6d.\\n Unit #', '6e. \\nZip', '7. \\nUndergraduate (U) or Graduate (G)', '8. \\nFull-time (FT) or \\nPart-time (PT)', '9. \\nAt-Home or Not-at-Home']\n",
      "2020-2021.xlsx\n",
      "['6a. \\nStreet #', '6b. \\nStreet Name', '6c. \\nStreet Suffix  ', '6d.\\n Unit #', '6e. \\nZip', '7. \\nUndergraduate (U) or Graduate (G)', '8. \\nFull-time (FT) or \\nPart-time (PT)', '9. \\n 5 or More Undergrads/Unit\\n(Y/N)']\n",
      "2016-2017.xlsx\n",
      "['6a. \\nStreet #', '6b. \\nStreet Name', '6c. \\nStreet Suffix  ', '6d.\\n Unit #', '6e. \\nZip', '7. \\nUndergraduate (U) or Graduate (G)', '8. \\nFull-time (FT) or \\nPart-time (PT)', '9. \\n 5 or More Undergrads/Unit\\n(Y/N)']\n",
      "2018-2019.xlsx\n",
      "['6a. \\nStreet #', '6b. \\nStreet Name', '6c. \\nStreet Suffix  ', '6d.\\n Unit #', '6e. \\nZip', '7. \\nUndergraduate (U) or Graduate (G)', '8. \\nFull-time (FT) or \\nPart-time (PT)', '9. \\n 5 or More Undergrads/Unit\\n(Y/N)']\n",
      "2021-2022.xlsx\n",
      "['6a. \\nStreet #', '6b. \\nStreet Name', '6c. \\nStreet Suffix  ', '6d.\\n Unit #', '6e. \\nZip', '7. \\nUndergraduate (U) or Graduate (G)', '8. \\nFull-time (FT) or \\nPart-time (PT)', '9. \\n 5 or More Undergrads/Unit\\n(Y/N)']\n"
     ]
    }
   ],
   "source": [
    "dfs = prep_dfs('UrbanCollegeBoston')\n",
    "print_columns(dfs)"
   ]
  },
  {
   "cell_type": "code",
   "execution_count": 100,
   "metadata": {},
   "outputs": [
    {
     "name": "stdout",
     "output_type": "stream",
     "text": [
      "2022-2023.xlsx\n",
      "['street_number', 'street_name', 'street_suffix', 'unit_number', 'zip_code', 'level_of_study', 'full_time', 'extra_large_unit', 'at_home']\n",
      "2017-2018.xlsx\n",
      "['street_number', 'street_name', 'street_suffix', 'unit_number', 'zip_code', 'level_of_study', 'full_time', 'extra_large_unit', 'at_home']\n",
      "2019-2020.xlsx\n",
      "['street_number', 'street_name', 'street_suffix', 'unit_number', 'zip_code', 'level_of_study', 'full_time', 'extra_large_unit', 'at_home']\n",
      "2023-2024.xlsx\n",
      "['street_number', 'street_name', 'street_suffix', 'unit_number', 'zip_code', 'level_of_study', 'full_time', 'extra_large_unit', 'at_home']\n",
      "2020-2021.xlsx\n",
      "['street_number', 'street_name', 'street_suffix', 'unit_number', 'zip_code', 'level_of_study', 'full_time', 'extra_large_unit', 'at_home']\n",
      "2016-2017.xlsx\n",
      "['street_number', 'street_name', 'street_suffix', 'unit_number', 'zip_code', 'level_of_study', 'full_time', 'extra_large_unit', 'at_home']\n",
      "2018-2019.xlsx\n",
      "['street_number', 'street_name', 'street_suffix', 'unit_number', 'zip_code', 'level_of_study', 'full_time', 'extra_large_unit', 'at_home']\n",
      "2021-2022.xlsx\n",
      "['street_number', 'street_name', 'street_suffix', 'unit_number', 'zip_code', 'level_of_study', 'full_time', 'extra_large_unit', 'at_home']\n"
     ]
    }
   ],
   "source": [
    "# 2023-2024 has at-home column\n",
    "\n",
    "dfs['2023-2024.xlsx'].columns = ['street_number','street_name','street_suffix','unit_number','zip_code','level_of_study','full_time','at_home']\n",
    "\n",
    "for key in dfs:\n",
    "    if key in ['2023-2024.xlsx']:\n",
    "        continue\n",
    "    dfs[key].columns = ['street_number','street_name','street_suffix','unit_number','zip_code','level_of_study','full_time','extra_large_unit']\n",
    "\n",
    "dfs = fix_missing_columns(dfs, ['at_home','extra_large_unit'])\n",
    "\n",
    "dfs = reorder_columns(dfs, ['extra_large_unit','at_home'])\n",
    "\n",
    "print_columns(dfs)"
   ]
  },
  {
   "cell_type": "markdown",
   "metadata": {},
   "source": [
    "#### Save the Result"
   ]
  },
  {
   "cell_type": "code",
   "execution_count": 101,
   "metadata": {},
   "outputs": [],
   "source": [
    "polish_and_save(dfs, 'Urban College of Boston', 'UrbanCollegeBoston.csv')"
   ]
  },
  {
   "cell_type": "markdown",
   "metadata": {},
   "source": [
    "# Wentworth Institute of Technology"
   ]
  },
  {
   "cell_type": "markdown",
   "metadata": {},
   "source": [
    "#### Polishing Columns"
   ]
  },
  {
   "cell_type": "code",
   "execution_count": 102,
   "metadata": {},
   "outputs": [
    {
     "name": "stdout",
     "output_type": "stream",
     "text": [
      "2022-2023.xlsx\n",
      "['6a. \\nStreet #', '6b. \\nStreet Name', '6c. \\nStreet Suffix  ', '6d.\\n Unit #', '6e. \\nZip', '7. \\nUndergraduate (U) or Graduate (G)', '8. \\nFull-time (FT) or \\nPart-time (PT)', '9. \\nAt-Home or Not-at-Home']\n",
      "2017-2018.xlsx\n",
      "['6a. \\nStreet #', '6b. \\nStreet Name', '6c. \\nStreet Suffix  ', '6d.\\n Unit #', '6e. \\nZip', '7. \\nUndergraduate (U) or Graduate (G)', '8. \\nFull-time (FT) or \\nPart-time (PT)', '9. \\n 5 or More Undergrads/Unit\\n(Y/N)']\n",
      "2019-2020.xlsx\n",
      "['Street Number', 'Street Name', 'Unit Number', 'Degree Level', 'Full Part Time', 'Local Zip', 'Yes or No 5 or more']\n",
      "2023-2024.xlsx\n",
      "['6a. \\nStreet #', '6b. \\nStreet Name', '6c. \\nStreet Suffix  ', '6d.\\n Unit #', '6e. \\nZip', '7. \\nUndergraduate (U) or Graduate (G)', '8. \\nFull-time (FT) or \\nPart-time (PT)', '9. \\nAt-Home or Not-at-Home']\n",
      "2020-2021.xlsx\n",
      "['6a. \\nStreet #', '6b. \\nStreet Name', '6c. \\nStreet Suffix  ', '6d.\\n Unit #', '6e. \\nZip', '7. \\nUndergraduate (U) or Graduate (G)', '8. \\nFull-time (FT) or \\nPart-time (PT)', '9. \\n 5 or More Undergrads/Unit\\n(Y/N)']\n",
      "2016-2017.xlsx\n",
      "['6a. \\nStreet #', '6b. \\nStreet Name', '6c. \\nStreet Suffix  ', '6d.\\n Unit #', '6e. \\nZip', '7. \\nUndergraduate (U) or Graduate (G)', '8. \\nFull-time (FT) or \\nPart-time (PT)', '9. \\n 5 or More Undergrads/Unit\\n(Y/N)']\n",
      "2018-2019.xlsx\n",
      "['6a. \\nStreet #', '6b. \\nStreet Name', '6c. \\nStreet Suffix  ', '6d.\\n Unit #', '6e. \\nZip', '7. \\nUndergraduate (U) or Graduate (G)', '8. \\nFull-time (FT) or \\nPart-time (PT)', '9. \\n 5 or More Undergrads/Unit\\n(Y/N)']\n",
      "2021-2022.xlsx\n",
      "['6a. \\nStreet #', '6b. \\nStreet Name', '6c. \\nStreet Suffix  ', '6d.\\n Unit #', '6e. \\nZip', '7. \\nUndergraduate (U) or Graduate (G)', '8. \\nFull-time (FT) or \\nPart-time (PT)', '9. \\n 5 or More Undergrads/Unit\\n(Y/N)']\n"
     ]
    }
   ],
   "source": [
    "dfs = prep_dfs('WentworthInstituteTechnology')\n",
    "print_columns(dfs)"
   ]
  },
  {
   "cell_type": "code",
   "execution_count": 103,
   "metadata": {},
   "outputs": [],
   "source": [
    "# 2019-2020 doesn't have suffix column\n",
    "\n",
    "street_names = dfs['2019-2020.xlsx']['Street Name']\n",
    "\n",
    "# fills nulls with empty string\n",
    "street_names = street_names.fillna('')\n",
    "\n",
    "# splits the street name by space\n",
    "street_suffix = street_names.apply(lambda name: name.split(' ')[-1] if len(name.split(' ')) > 1 else '')\n",
    "\n",
    "# splits the street name by space\n",
    "street_name = street_names.apply(lambda name: ' '.join(name.split(' ')[:-1]))\n",
    "\n",
    "dfs['2019-2020.xlsx']['Street Suffix'] = street_suffix\n",
    "dfs['2019-2020.xlsx']['Street Name'] = street_name"
   ]
  },
  {
   "cell_type": "code",
   "execution_count": 104,
   "metadata": {},
   "outputs": [
    {
     "data": {
      "text/plain": [
       "Index(['Street Number', 'Street Name', 'Unit Number', 'Degree Level',\n",
       "       'Full Part Time', 'Local Zip', 'Yes or No 5 or more', 'Street Suffix'],\n",
       "      dtype='object')"
      ]
     },
     "execution_count": 104,
     "metadata": {},
     "output_type": "execute_result"
    }
   ],
   "source": [
    "dfs['2019-2020.xlsx'].columns"
   ]
  },
  {
   "cell_type": "code",
   "execution_count": 105,
   "metadata": {},
   "outputs": [],
   "source": [
    "# reorder the columns for 2019-2020\n",
    "# street_num - street_name - street_suffix - unit_num - zip_code - level_of_study - full_time - extra_large_unit\n",
    "dfs['2019-2020.xlsx'] = dfs['2019-2020.xlsx'][['Street Number','Street Name','Street Suffix','Unit Number','Local Zip','Degree Level','Full Part Time','Yes or No 5 or more']]\n",
    "\n",
    "# 2022-2023 has at-home column\n",
    "# 2023-2024 has at-home column\n",
    "\n",
    "dfs['2022-2023.xlsx'].columns = ['street_number','street_name','street_suffix','unit_number','zip_code','level_of_study','full_time','at_home']\n",
    "dfs['2023-2024.xlsx'].columns = ['street_number','street_name','street_suffix','unit_number','zip_code','level_of_study','full_time','at_home']\n",
    "\n",
    "for key in dfs:\n",
    "    if key in ['2022-2023.xlsx','2023-2024.xlsx']:\n",
    "        continue\n",
    "    dfs[key].columns = ['street_number','street_name','street_suffix','unit_number','zip_code','level_of_study','full_time','extra_large_unit']"
   ]
  },
  {
   "cell_type": "code",
   "execution_count": 106,
   "metadata": {},
   "outputs": [
    {
     "name": "stdout",
     "output_type": "stream",
     "text": [
      "2022-2023.xlsx\n",
      "['street_number', 'street_name', 'street_suffix', 'unit_number', 'zip_code', 'level_of_study', 'full_time', 'extra_large_unit', 'at_home']\n",
      "2017-2018.xlsx\n",
      "['street_number', 'street_name', 'street_suffix', 'unit_number', 'zip_code', 'level_of_study', 'full_time', 'extra_large_unit', 'at_home']\n",
      "2019-2020.xlsx\n",
      "['street_number', 'street_name', 'street_suffix', 'unit_number', 'zip_code', 'level_of_study', 'full_time', 'extra_large_unit', 'at_home']\n",
      "2023-2024.xlsx\n",
      "['street_number', 'street_name', 'street_suffix', 'unit_number', 'zip_code', 'level_of_study', 'full_time', 'extra_large_unit', 'at_home']\n",
      "2020-2021.xlsx\n",
      "['street_number', 'street_name', 'street_suffix', 'unit_number', 'zip_code', 'level_of_study', 'full_time', 'extra_large_unit', 'at_home']\n",
      "2016-2017.xlsx\n",
      "['street_number', 'street_name', 'street_suffix', 'unit_number', 'zip_code', 'level_of_study', 'full_time', 'extra_large_unit', 'at_home']\n",
      "2018-2019.xlsx\n",
      "['street_number', 'street_name', 'street_suffix', 'unit_number', 'zip_code', 'level_of_study', 'full_time', 'extra_large_unit', 'at_home']\n",
      "2021-2022.xlsx\n",
      "['street_number', 'street_name', 'street_suffix', 'unit_number', 'zip_code', 'level_of_study', 'full_time', 'extra_large_unit', 'at_home']\n"
     ]
    }
   ],
   "source": [
    "dfs = fix_missing_columns(dfs, ['at_home','extra_large_unit'])\n",
    "dfs = reorder_columns(dfs, ['extra_large_unit','at_home'])\n",
    "print_columns(dfs)"
   ]
  },
  {
   "cell_type": "markdown",
   "metadata": {},
   "source": [
    "#### Save the Result"
   ]
  },
  {
   "cell_type": "code",
   "execution_count": 107,
   "metadata": {},
   "outputs": [],
   "source": [
    "polish_and_save(dfs, 'Wentworth Institute of Technology', 'WentworthInstituteTechnology.csv')"
   ]
  },
  {
   "cell_type": "markdown",
   "metadata": {},
   "source": [
    "# Wheelock College"
   ]
  },
  {
   "cell_type": "markdown",
   "metadata": {},
   "source": [
    "#### Polishing Columns"
   ]
  },
  {
   "cell_type": "code",
   "execution_count": 108,
   "metadata": {},
   "outputs": [
    {
     "name": "stdout",
     "output_type": "stream",
     "text": [
      "2017-2018.xlsx\n",
      "['6a. \\nStreet #', '6b. \\nStreet Name', '6c. \\nStreet Suffix  ', '6d.\\n Unit #', '6e. \\nZip', '7. \\nUndergraduate (U) or Graduate (G)', '8. \\nFull-time (FT) or \\nPart-time (PT)', '9. \\n 5 or More Undergrads/Unit\\n(Y/N)']\n",
      "2016-2017.xlsx\n",
      "['6a. \\nStreet #', '6b. \\nStreet Name', '6c. \\nStreet Suffix  ', '6d.\\n Unit #', '6e. \\nZip', '7. \\nUndergraduate (U) or Graduate (G)', '8. \\nFull-time (FT) or \\nPart-time (PT)', '9. \\n 5 or More Undergrads/Unit\\n(Y/N)']\n"
     ]
    }
   ],
   "source": [
    "dfs = prep_dfs('WheelockCollege')\n",
    "print_columns(dfs)"
   ]
  },
  {
   "cell_type": "code",
   "execution_count": 109,
   "metadata": {},
   "outputs": [
    {
     "name": "stdout",
     "output_type": "stream",
     "text": [
      "2017-2018.xlsx\n",
      "['street_number', 'street_name', 'street_suffix', 'unit_number', 'zip_code', 'level_of_study', 'full_time', 'extra_large_unit']\n",
      "2016-2017.xlsx\n",
      "['street_number', 'street_name', 'street_suffix', 'unit_number', 'zip_code', 'level_of_study', 'full_time', 'extra_large_unit']\n"
     ]
    }
   ],
   "source": [
    "for key in dfs:\n",
    "    dfs[key].columns = ['street_number','street_name','street_suffix','unit_number','zip_code','level_of_study','full_time','extra_large_unit']\n",
    "\n",
    "print_columns(dfs)"
   ]
  },
  {
   "cell_type": "markdown",
   "metadata": {},
   "source": [
    "#### Save the Result"
   ]
  },
  {
   "cell_type": "code",
   "execution_count": 110,
   "metadata": {},
   "outputs": [],
   "source": [
    "polish_and_save(dfs, 'Wheelock College', 'WheelockCollege.csv')"
   ]
  }
 ],
 "metadata": {
  "kernelspec": {
   "display_name": "Python 3",
   "language": "python",
   "name": "python3"
  },
  "language_info": {
   "codemirror_mode": {
    "name": "ipython",
    "version": 3
   },
   "file_extension": ".py",
   "mimetype": "text/x-python",
   "name": "python",
   "nbconvert_exporter": "python",
   "pygments_lexer": "ipython3",
   "version": "3.12.6"
  }
 },
 "nbformat": 4,
 "nbformat_minor": 2
}
