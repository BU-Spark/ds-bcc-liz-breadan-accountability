{
 "cells": [
  {
   "cell_type": "markdown",
   "metadata": {},
   "source": [
    "# Moving files\n",
    "\n",
    "the purpose of this file is for simplifying the automation process for future phases of data manipulation\n",
    "\n",
    "this files just makes sure every university file is organized under 1 folder"
   ]
  },
  {
   "cell_type": "code",
   "execution_count": 1,
   "metadata": {},
   "outputs": [],
   "source": [
    "import os\n",
    "import warnings\n",
    "warnings.simplefilter(action='ignore', category=UserWarning)\n",
    "\n",
    "\n",
    "dirname = '../data/universities/BostonUniversity/'\n",
    "files = os.listdir(dirname)\n",
    "\n",
    "files.remove('.DS_Store')"
   ]
  },
  {
   "cell_type": "code",
   "execution_count": 2,
   "metadata": {},
   "outputs": [
    {
     "name": "stdout",
     "output_type": "stream",
     "text": [
      "['2016-2017.xlsx', '2017-2018.xlsx', '2018-2019.xlsx', '2019-2020.xlsx', '2020-2021.xlsx', '2021-2022.xlsx', '2022-2023.xlsx', '2023-2024.xlsx']\n"
     ]
    }
   ],
   "source": [
    "files = sorted(files)\n",
    "print(files)"
   ]
  },
  {
   "cell_type": "code",
   "execution_count": 4,
   "metadata": {},
   "outputs": [
    {
     "name": "stdout",
     "output_type": "stream",
     "text": [
      "Definitions\n",
      "University Bldgs\n",
      "University Bldgs\n"
     ]
    }
   ],
   "source": [
    "import pandas as pd\n",
    "\n",
    "data = {}\n",
    "\n",
    "for file in files:\n",
    "    path_to_file = os.path.join(dirname, file)\n",
    "\n",
    "    df = pd.read_excel(path_to_file, sheet_name='Student Addresses')\n",
    "    # remove the extension in the name\n",
    "    name = file.split('.')[0]\n",
    "    data[name] = df\n",
    "    "
   ]
  },
  {
   "cell_type": "code",
   "execution_count": 5,
   "metadata": {},
   "outputs": [
    {
     "data": {
      "text/plain": [
       "dict_keys(['2016-2017', '2017-2018', '2018-2019', '2019-2020', '2020-2021', '2021-2022', '2022-2023', '2023-2024'])"
      ]
     },
     "execution_count": 5,
     "metadata": {},
     "output_type": "execute_result"
    }
   ],
   "source": [
    "data.keys()"
   ]
  },
  {
   "cell_type": "code",
   "execution_count": 8,
   "metadata": {},
   "outputs": [],
   "source": [
    "# now convert it into function, that takes in University name and folder (where to move the files)\n",
    "# and does the same thing\n",
    "\n",
    "import os\n",
    "import shutil\n",
    "\n",
    "def move_files(university_name, move_to_folder):\n",
    "    dirname = '../data/University Accountability Report all files/'\n",
    "    folders = os.listdir(dirname)\n",
    "\n",
    "    folders = sorted(folders)\n",
    "\n",
    "    for folder in folders:\n",
    "        # skip the .DS_Store file\n",
    "        if folder == '.DS_Store':\n",
    "            continue\n",
    "        # pattern to search for, 20xx - 20xx School Year Reports\n",
    "        if 'School Year Reports' in folder:\n",
    "            path_to_folder = os.path.join(dirname, folder)\n",
    "            files = os.listdir(path_to_folder)\n",
    "            for file in files:\n",
    "                if university_name in file:\n",
    "                    year = folder.split(' ')[0]\n",
    "                    new_name = year + '.xlsx'\n",
    "                    path_to_file = os.path.join(path_to_folder, file)\n",
    "                    path_to_new_file = os.path.join(move_to_folder, new_name)\n",
    "                    shutil.copyfile(path_to_file, path_to_new_file)\n",
    "                    print(path_to_file, path_to_new_file)\n",
    "\n",
    "    for folder in folders:\n",
    "        # skip the .DS_Store file\n",
    "        if folder == '.DS_Store':\n",
    "            continue\n",
    "        # pattern to search for, 20xx - 20xx School Year Reports\n",
    "        if 'School Year Reports' in folder:\n",
    "            path_to_folder = os.path.join(dirname, folder)\n",
    "            files = os.listdir(path_to_folder)\n",
    "            for file in files:\n",
    "                if university_name in file:\n",
    "                    path_to_file = os.path.join(path_to_folder, file)\n",
    "                    os.remove(path_to_file)\n",
    "                    print(path_to_file)"
   ]
  },
  {
   "cell_type": "code",
   "execution_count": 9,
   "metadata": {},
   "outputs": [],
   "source": [
    "dirname = '../data/universities/BostonArchitecturalCollege/'\n",
    "move_files('Boston Architectural College', dirname)"
   ]
  },
  {
   "cell_type": "code",
   "execution_count": 10,
   "metadata": {},
   "outputs": [],
   "source": [
    "dirname = '../data/universities/EmersonCollege/'\n",
    "move_files('Emerson College', dirname)"
   ]
  },
  {
   "cell_type": "code",
   "execution_count": 11,
   "metadata": {},
   "outputs": [],
   "source": [
    "dirname = '../data/universities/FisherCollege/'\n",
    "move_files('Fisher College', dirname)"
   ]
  },
  {
   "cell_type": "code",
   "execution_count": 12,
   "metadata": {},
   "outputs": [],
   "source": [
    "d = '../data/universities/BostonConservatoryBerklee/'\n",
    "move_files('Boston Conservatory at Berklee', d)"
   ]
  },
  {
   "cell_type": "code",
   "execution_count": 13,
   "metadata": {},
   "outputs": [],
   "source": [
    "d = '../data/universities/EmmanuelCollege/'\n",
    "move_files('Emmanuel College', d)"
   ]
  },
  {
   "cell_type": "code",
   "execution_count": 14,
   "metadata": {},
   "outputs": [],
   "source": [
    "d = '../data/universities/FranklinInstituteTechnology/'\n",
    "move_files('Franklin Institute of Technology', d)"
   ]
  },
  {
   "cell_type": "code",
   "execution_count": 15,
   "metadata": {},
   "outputs": [],
   "source": [
    "d = '../data/universities/HarvardUniversity/'\n",
    "move_files('Harvard University', d)"
   ]
  },
  {
   "cell_type": "code",
   "execution_count": 16,
   "metadata": {},
   "outputs": [],
   "source": [
    "d = '../data/universities/MACollegeArtDesign/'\n",
    "move_files('Massachusetts College of Art and Design', d)"
   ]
  },
  {
   "cell_type": "code",
   "execution_count": 17,
   "metadata": {},
   "outputs": [],
   "source": [
    "d = '../data/universities/MACollegeArtDesign/'\n",
    "move_files('MA College of Art and Design', d)"
   ]
  },
  {
   "cell_type": "code",
   "execution_count": 18,
   "metadata": {},
   "outputs": [],
   "source": [
    "d = '../data/universities/MassachusettsCollegePharmacyHealthSciences/'\n",
    "move_files('Massachusetts College of Pharmacy and Health Sciences', d)"
   ]
  },
  {
   "cell_type": "code",
   "execution_count": 19,
   "metadata": {},
   "outputs": [],
   "source": [
    "d = '../data/universities/MassachusettsInstituteTechnology/'\n",
    "move_files('Massachusetts Institute of Technology', d)"
   ]
  },
  {
   "cell_type": "code",
   "execution_count": 20,
   "metadata": {},
   "outputs": [],
   "source": [
    "d = '../data/universities/BostonCollege/'\n",
    "move_files('Boston College', d)"
   ]
  },
  {
   "cell_type": "code",
   "execution_count": 21,
   "metadata": {},
   "outputs": [],
   "source": [
    "d = '../data/universities/MGHInstituteHealthProfessions/'\n",
    "move_files('MGH Institute of Health Professions', d)"
   ]
  },
  {
   "cell_type": "code",
   "execution_count": 22,
   "metadata": {},
   "outputs": [],
   "source": [
    "d = '../data/universities/NewEnglandCollegeOptometry/'\n",
    "move_files('New England College of Optometry', d)"
   ]
  },
  {
   "cell_type": "code",
   "execution_count": 23,
   "metadata": {},
   "outputs": [],
   "source": [
    "d = '../data/universities/NewEnglandConservatory/'\n",
    "move_files('New England Conservatory of Music', d)"
   ]
  },
  {
   "cell_type": "code",
   "execution_count": 24,
   "metadata": {},
   "outputs": [],
   "source": [
    "d = '../data/universities/NewEnglandConservatory/'\n",
    "move_files('New England Conservatory', d)"
   ]
  },
  {
   "cell_type": "code",
   "execution_count": 25,
   "metadata": {},
   "outputs": [],
   "source": [
    "d = '../data/universities/NewEnglandLaw/'\n",
    "move_files('New England Law', d)"
   ]
  },
  {
   "cell_type": "code",
   "execution_count": 26,
   "metadata": {},
   "outputs": [],
   "source": [
    "d = '../data/universities/NortheasternUniversity/'\n",
    "move_files('Northeastern University', d)"
   ]
  },
  {
   "cell_type": "code",
   "execution_count": 27,
   "metadata": {},
   "outputs": [],
   "source": [
    "d = '../data/universities/SimmonsCollege/'\n",
    "move_files('Simmons College', d)"
   ]
  },
  {
   "cell_type": "code",
   "execution_count": 28,
   "metadata": {},
   "outputs": [],
   "source": [
    "d = '../data/universities/SimmonsCollege/'\n",
    "move_files('Simmons University', d)"
   ]
  },
  {
   "cell_type": "code",
   "execution_count": 29,
   "metadata": {},
   "outputs": [],
   "source": [
    "d = '../data/universities/SHOWABostonInstitute/'\n",
    "move_files('SHOWA Boston Institute', d)"
   ]
  },
  {
   "cell_type": "code",
   "execution_count": 30,
   "metadata": {},
   "outputs": [],
   "source": [
    "d = '../data/universities/SHOWABostonInstitute/'\n",
    "move_files('SHOWA Boston', d)"
   ]
  },
  {
   "cell_type": "code",
   "execution_count": 31,
   "metadata": {},
   "outputs": [],
   "source": [
    "d = '../data/universities/StJohnSeminary/'\n",
    "move_files('St. John\\'s Seminary', d)"
   ]
  },
  {
   "cell_type": "code",
   "execution_count": 32,
   "metadata": {},
   "outputs": [],
   "source": [
    "d = '../data/universities/SuffolkUniversity/'\n",
    "move_files('Suffolk University', d)"
   ]
  },
  {
   "cell_type": "code",
   "execution_count": 33,
   "metadata": {},
   "outputs": [],
   "source": [
    "d = '../data/universities/TuftsUniversity/'\n",
    "move_files('Tufts University', d)"
   ]
  },
  {
   "cell_type": "code",
   "execution_count": 34,
   "metadata": {},
   "outputs": [],
   "source": [
    "d = '../data/universities/UniversityMassachusettsBoston/'\n",
    "move_files('University of Massachusetts Boston', d)"
   ]
  },
  {
   "cell_type": "code",
   "execution_count": 35,
   "metadata": {},
   "outputs": [],
   "source": [
    "d = '../data/universities/UniversityMassachusettsBoston/'\n",
    "move_files('University of Massachusetts-Boston', d)"
   ]
  },
  {
   "cell_type": "code",
   "execution_count": 36,
   "metadata": {},
   "outputs": [],
   "source": [
    "d = '../data/universities/UrbanCollegeBoston/'\n",
    "move_files('Urban College of Boston', d)"
   ]
  },
  {
   "cell_type": "code",
   "execution_count": 37,
   "metadata": {},
   "outputs": [],
   "source": [
    "d = '../data/universities/WentworhInstituteTechnology/'\n",
    "move_files('Wentworth Institute of Technology', d)"
   ]
  },
  {
   "cell_type": "code",
   "execution_count": 38,
   "metadata": {},
   "outputs": [],
   "source": [
    "d = '../data/universities/WheelockCollege/'\n",
    "move_files('Wheelock College', d)"
   ]
  },
  {
   "cell_type": "code",
   "execution_count": 39,
   "metadata": {},
   "outputs": [],
   "source": [
    "d = '../data/universities/SattlerCollege/'\n",
    "move_files('Sattler College', d)"
   ]
  }
 ],
 "metadata": {
  "kernelspec": {
   "display_name": "Python 3",
   "language": "python",
   "name": "python3"
  },
  "language_info": {
   "codemirror_mode": {
    "name": "ipython",
    "version": 3
   },
   "file_extension": ".py",
   "mimetype": "text/x-python",
   "name": "python",
   "nbconvert_exporter": "python",
   "pygments_lexer": "ipython3",
   "version": "3.12.6"
  }
 },
 "nbformat": 4,
 "nbformat_minor": 2
}
