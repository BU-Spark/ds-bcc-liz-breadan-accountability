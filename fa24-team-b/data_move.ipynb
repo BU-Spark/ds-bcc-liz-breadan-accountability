{
 "cells": [
  {
   "cell_type": "code",
   "execution_count": 93,
   "metadata": {},
   "outputs": [],
   "source": [
    "import os\n",
    "import warnings\n",
    "warnings.simplefilter(action='ignore', category=UserWarning)\n",
    "\n",
    "\n",
    "dirname = './data/BostonUniversity/'\n",
    "files = os.listdir(dirname)\n",
    "\n",
    "files.remove('.DS_Store')"
   ]
  },
  {
   "cell_type": "code",
   "execution_count": 96,
   "metadata": {},
   "outputs": [
    {
     "name": "stdout",
     "output_type": "stream",
     "text": [
      "['2016-2017.xlsx', '2017-2018.xlsx', '2018-2019.xlsx', '2019-2020.xlsx', '2020-2021.xlsx', '2021-2022.xlsx', '2022-2023.xlsx']\n"
     ]
    }
   ],
   "source": [
    "files = sorted(files)\n",
    "print(files)"
   ]
  },
  {
   "cell_type": "code",
   "execution_count": 104,
   "metadata": {},
   "outputs": [],
   "source": [
    "import pandas as pd\n",
    "\n",
    "data = {}\n",
    "\n",
    "for file in files:\n",
    "    path_to_file = os.path.join(dirname, file)\n",
    "\n",
    "    df = pd.read_excel(path_to_file, sheet_name='Student Addresses')\n",
    "    # remove the extension in the name\n",
    "    name = file.split('.')[0]\n",
    "    data[name] = df\n",
    "    "
   ]
  },
  {
   "cell_type": "code",
   "execution_count": 105,
   "metadata": {},
   "outputs": [
    {
     "data": {
      "text/plain": [
       "dict_keys(['2016-2017', '2017-2018', '2018-2019', '2019-2020', '2020-2021', '2021-2022', '2022-2023'])"
      ]
     },
     "execution_count": 105,
     "metadata": {},
     "output_type": "execute_result"
    }
   ],
   "source": [
    "data.keys()"
   ]
  },
  {
   "cell_type": "code",
   "execution_count": 134,
   "metadata": {},
   "outputs": [],
   "source": [
    "# now convert it into function, that takes in University name and folder (where to move the files)\n",
    "# and does the same thing\n",
    "\n",
    "import os\n",
    "import shutil\n",
    "\n",
    "def move_files(university_name, move_to_folder):\n",
    "    dirname = './data/University Accountability Report all files/'\n",
    "    folders = os.listdir(dirname)\n",
    "\n",
    "    folders = sorted(folders)\n",
    "\n",
    "    for folder in folders:\n",
    "        # skip the .DS_Store file\n",
    "        if folder == '.DS_Store':\n",
    "            continue\n",
    "        # pattern to search for, 20xx - 20xx School Year Reports\n",
    "        if 'School Year Reports' in folder:\n",
    "            path_to_folder = os.path.join(dirname, folder)\n",
    "            files = os.listdir(path_to_folder)\n",
    "            for file in files:\n",
    "                if university_name in file:\n",
    "                    year = folder.split(' ')[0]\n",
    "                    new_name = year + '.xlsx'\n",
    "                    path_to_file = os.path.join(path_to_folder, file)\n",
    "                    path_to_new_file = os.path.join(move_to_folder, new_name)\n",
    "                    shutil.copyfile(path_to_file, path_to_new_file)\n",
    "                    print(path_to_file, path_to_new_file)\n",
    "\n",
    "    for folder in folders:\n",
    "        # skip the .DS_Store file\n",
    "        if folder == '.DS_Store':\n",
    "            continue\n",
    "        # pattern to search for, 20xx - 20xx School Year Reports\n",
    "        if 'School Year Reports' in folder:\n",
    "            path_to_folder = os.path.join(dirname, folder)\n",
    "            files = os.listdir(path_to_folder)\n",
    "            for file in files:\n",
    "                if university_name in file:\n",
    "                    path_to_file = os.path.join(path_to_folder, file)\n",
    "                    os.remove(path_to_file)\n",
    "                    print(path_to_file)"
   ]
  },
  {
   "cell_type": "code",
   "execution_count": 135,
   "metadata": {},
   "outputs": [
    {
     "name": "stdout",
     "output_type": "stream",
     "text": [
      "./data/University Accountability Report all files/2016-2017 School Year Reports/Boston Architectural College.xlsx ./data/BostonArchitecturalCollege/2016-2017.xlsx\n",
      "./data/University Accountability Report all files/2017-2018 School Year Reports/Boston Architectural College.xlsx ./data/BostonArchitecturalCollege/2017-2018.xlsx\n",
      "./data/University Accountability Report all files/2018-2019 School Year Reports/Boston Architectural College.xlsx ./data/BostonArchitecturalCollege/2018-2019.xlsx\n",
      "./data/University Accountability Report all files/2019-2020 School Year Reports/Boston Architectural College.xlsx ./data/BostonArchitecturalCollege/2019-2020.xlsx\n",
      "./data/University Accountability Report all files/2020-2021 School Year Reports/Boston Architectural College.xlsx ./data/BostonArchitecturalCollege/2020-2021.xlsx\n",
      "./data/University Accountability Report all files/2020-2021 School Year Reports/Boston Architectural College.pdf ./data/BostonArchitecturalCollege/2020-2021.xlsx\n",
      "./data/University Accountability Report all files/2021-2022 School Year Reports/Boston Architectural College.xlsx ./data/BostonArchitecturalCollege/2021-2022.xlsx\n",
      "./data/University Accountability Report all files/2022-2023 School Year Reports/Boston Architectural College.xlsx ./data/BostonArchitecturalCollege/2022-2023.xlsx\n",
      "./data/University Accountability Report all files/2023-2024 School Year Reports/Boston Architectural College.xlsx ./data/BostonArchitecturalCollege/2023-2024.xlsx\n",
      "./data/University Accountability Report all files/2016-2017 School Year Reports/Boston Architectural College.xlsx\n",
      "./data/University Accountability Report all files/2017-2018 School Year Reports/Boston Architectural College.xlsx\n",
      "./data/University Accountability Report all files/2018-2019 School Year Reports/Boston Architectural College.xlsx\n",
      "./data/University Accountability Report all files/2019-2020 School Year Reports/Boston Architectural College.xlsx\n",
      "./data/University Accountability Report all files/2020-2021 School Year Reports/Boston Architectural College.xlsx\n",
      "./data/University Accountability Report all files/2020-2021 School Year Reports/Boston Architectural College.pdf\n",
      "./data/University Accountability Report all files/2021-2022 School Year Reports/Boston Architectural College.xlsx\n",
      "./data/University Accountability Report all files/2022-2023 School Year Reports/Boston Architectural College.xlsx\n",
      "./data/University Accountability Report all files/2023-2024 School Year Reports/Boston Architectural College.xlsx\n"
     ]
    }
   ],
   "source": [
    "dirname = './data/BostonArchitecturalCollege/'\n",
    "move_files('Boston Architectural College', dirname)"
   ]
  },
  {
   "cell_type": "code",
   "execution_count": 136,
   "metadata": {},
   "outputs": [
    {
     "name": "stdout",
     "output_type": "stream",
     "text": [
      "./data/University Accountability Report all files/2016-2017 School Year Reports/Emerson College.xlsx data/EmersonCollege/2016-2017.xlsx\n",
      "./data/University Accountability Report all files/2017-2018 School Year Reports/Emerson College.xlsx data/EmersonCollege/2017-2018.xlsx\n",
      "./data/University Accountability Report all files/2018-2019 School Year Reports/Emerson College.xlsx data/EmersonCollege/2018-2019.xlsx\n",
      "./data/University Accountability Report all files/2019-2020 School Year Reports/Emerson College.xlsx data/EmersonCollege/2019-2020.xlsx\n",
      "./data/University Accountability Report all files/2020-2021 School Year Reports/Emerson College-Updated Report.xlsx data/EmersonCollege/2020-2021.xlsx\n",
      "./data/University Accountability Report all files/2021-2022 School Year Reports/Emerson College.xlsx data/EmersonCollege/2021-2022.xlsx\n",
      "./data/University Accountability Report all files/2022-2023 School Year Reports/Emerson College.xlsx data/EmersonCollege/2022-2023.xlsx\n",
      "./data/University Accountability Report all files/2023-2024 School Year Reports/Emerson College.xlsx data/EmersonCollege/2023-2024.xlsx\n",
      "./data/University Accountability Report all files/2016-2017 School Year Reports/Emerson College.xlsx\n",
      "./data/University Accountability Report all files/2017-2018 School Year Reports/Emerson College.xlsx\n",
      "./data/University Accountability Report all files/2018-2019 School Year Reports/Emerson College.xlsx\n",
      "./data/University Accountability Report all files/2019-2020 School Year Reports/Emerson College.xlsx\n",
      "./data/University Accountability Report all files/2020-2021 School Year Reports/Emerson College-Updated Report.xlsx\n",
      "./data/University Accountability Report all files/2021-2022 School Year Reports/Emerson College.xlsx\n",
      "./data/University Accountability Report all files/2022-2023 School Year Reports/Emerson College.xlsx\n",
      "./data/University Accountability Report all files/2023-2024 School Year Reports/Emerson College.xlsx\n"
     ]
    }
   ],
   "source": [
    "dirname = 'data/EmersonCollege/'\n",
    "move_files('Emerson College', dirname)"
   ]
  },
  {
   "cell_type": "code",
   "execution_count": 137,
   "metadata": {},
   "outputs": [
    {
     "name": "stdout",
     "output_type": "stream",
     "text": [
      "./data/University Accountability Report all files/2016-2017 School Year Reports/Fisher College.xlsx data/FisherCollege/2016-2017.xlsx\n",
      "./data/University Accountability Report all files/2017-2018 School Year Reports/Fisher College.xlsx data/FisherCollege/2017-2018.xlsx\n",
      "./data/University Accountability Report all files/2018-2019 School Year Reports/Fisher College.xlsx data/FisherCollege/2018-2019.xlsx\n",
      "./data/University Accountability Report all files/2019-2020 School Year Reports/Fisher College.xlsx data/FisherCollege/2019-2020.xlsx\n",
      "./data/University Accountability Report all files/2020-2021 School Year Reports/Fisher College.xlsx data/FisherCollege/2020-2021.xlsx\n",
      "./data/University Accountability Report all files/2021-2022 School Year Reports/Fisher College.xlsx data/FisherCollege/2021-2022.xlsx\n",
      "./data/University Accountability Report all files/2022-2023 School Year Reports/Fisher College.xlsx data/FisherCollege/2022-2023.xlsx\n",
      "./data/University Accountability Report all files/2023-2024 School Year Reports/Fisher College.xlsx data/FisherCollege/2023-2024.xlsx\n",
      "./data/University Accountability Report all files/2016-2017 School Year Reports/Fisher College.xlsx\n",
      "./data/University Accountability Report all files/2017-2018 School Year Reports/Fisher College.xlsx\n",
      "./data/University Accountability Report all files/2018-2019 School Year Reports/Fisher College.xlsx\n",
      "./data/University Accountability Report all files/2019-2020 School Year Reports/Fisher College.xlsx\n",
      "./data/University Accountability Report all files/2020-2021 School Year Reports/Fisher College.xlsx\n",
      "./data/University Accountability Report all files/2021-2022 School Year Reports/Fisher College.xlsx\n",
      "./data/University Accountability Report all files/2022-2023 School Year Reports/Fisher College.xlsx\n",
      "./data/University Accountability Report all files/2023-2024 School Year Reports/Fisher College.xlsx\n"
     ]
    }
   ],
   "source": [
    "dirname = 'data/FisherCollege/'\n",
    "move_files('Fisher College', dirname)"
   ]
  },
  {
   "cell_type": "code",
   "execution_count": 138,
   "metadata": {},
   "outputs": [
    {
     "name": "stdout",
     "output_type": "stream",
     "text": [
      "./data/University Accountability Report all files/2016-2017 School Year Reports/Boston Conservatory at Berklee.xlsx data/BostonConservatoryBerklee/2016-2017.xlsx\n",
      "./data/University Accountability Report all files/2017-2018 School Year Reports/Boston Conservatory at Berklee.xlsx data/BostonConservatoryBerklee/2017-2018.xlsx\n",
      "./data/University Accountability Report all files/2016-2017 School Year Reports/Boston Conservatory at Berklee.xlsx\n",
      "./data/University Accountability Report all files/2017-2018 School Year Reports/Boston Conservatory at Berklee.xlsx\n"
     ]
    }
   ],
   "source": [
    "d = 'data/BostonConservatoryBerklee/'\n",
    "move_files('Boston Conservatory at Berklee', d)"
   ]
  },
  {
   "cell_type": "code",
   "execution_count": 139,
   "metadata": {},
   "outputs": [
    {
     "name": "stdout",
     "output_type": "stream",
     "text": [
      "./data/University Accountability Report all files/2016-2017 School Year Reports/Emmanuel College.xlsx data/EmmanuelCollege/2016-2017.xlsx\n",
      "./data/University Accountability Report all files/2017-2018 School Year Reports/Emmanuel College.xlsx data/EmmanuelCollege/2017-2018.xlsx\n",
      "./data/University Accountability Report all files/2018-2019 School Year Reports/Emmanuel College.xlsx data/EmmanuelCollege/2018-2019.xlsx\n",
      "./data/University Accountability Report all files/2019-2020 School Year Reports/Emmanuel College.xlsx data/EmmanuelCollege/2019-2020.xlsx\n",
      "./data/University Accountability Report all files/2020-2021 School Year Reports/Emmanuel College.xlsx data/EmmanuelCollege/2020-2021.xlsx\n",
      "./data/University Accountability Report all files/2021-2022 School Year Reports/Emmanuel College.xlsx data/EmmanuelCollege/2021-2022.xlsx\n",
      "./data/University Accountability Report all files/2022-2023 School Year Reports/Emmanuel College.xlsx data/EmmanuelCollege/2022-2023.xlsx\n",
      "./data/University Accountability Report all files/2023-2024 School Year Reports/Emmanuel College.xlsx data/EmmanuelCollege/2023-2024.xlsx\n",
      "./data/University Accountability Report all files/2016-2017 School Year Reports/Emmanuel College.xlsx\n",
      "./data/University Accountability Report all files/2017-2018 School Year Reports/Emmanuel College.xlsx\n",
      "./data/University Accountability Report all files/2018-2019 School Year Reports/Emmanuel College.xlsx\n",
      "./data/University Accountability Report all files/2019-2020 School Year Reports/Emmanuel College.xlsx\n",
      "./data/University Accountability Report all files/2020-2021 School Year Reports/Emmanuel College.xlsx\n",
      "./data/University Accountability Report all files/2021-2022 School Year Reports/Emmanuel College.xlsx\n",
      "./data/University Accountability Report all files/2022-2023 School Year Reports/Emmanuel College.xlsx\n",
      "./data/University Accountability Report all files/2023-2024 School Year Reports/Emmanuel College.xlsx\n"
     ]
    }
   ],
   "source": [
    "d = 'data/EmmanuelCollege/'\n",
    "move_files('Emmanuel College', d)"
   ]
  },
  {
   "cell_type": "code",
   "execution_count": 140,
   "metadata": {},
   "outputs": [
    {
     "name": "stdout",
     "output_type": "stream",
     "text": [
      "./data/University Accountability Report all files/2016-2017 School Year Reports/Franklin Institute of Technology.xlsx data/FranklinInstituteTechnology/2016-2017.xlsx\n",
      "./data/University Accountability Report all files/2017-2018 School Year Reports/Franklin Institute of Technology.xlsx data/FranklinInstituteTechnology/2017-2018.xlsx\n",
      "./data/University Accountability Report all files/2018-2019 School Year Reports/Franklin Institute of Technology.xlsx data/FranklinInstituteTechnology/2018-2019.xlsx\n",
      "./data/University Accountability Report all files/2019-2020 School Year Reports/Franklin Institute of Technology.xlsx data/FranklinInstituteTechnology/2019-2020.xlsx\n",
      "./data/University Accountability Report all files/2020-2021 School Year Reports/Franklin Institute of Technology.xlsx data/FranklinInstituteTechnology/2020-2021.xlsx\n",
      "./data/University Accountability Report all files/2021-2022 School Year Reports/Franklin Institute of Technology.xlsx data/FranklinInstituteTechnology/2021-2022.xlsx\n",
      "./data/University Accountability Report all files/2022-2023 School Year Reports/Franklin Institute of Technology.xlsx data/FranklinInstituteTechnology/2022-2023.xlsx\n",
      "./data/University Accountability Report all files/2016-2017 School Year Reports/Franklin Institute of Technology.xlsx\n",
      "./data/University Accountability Report all files/2017-2018 School Year Reports/Franklin Institute of Technology.xlsx\n",
      "./data/University Accountability Report all files/2018-2019 School Year Reports/Franklin Institute of Technology.xlsx\n",
      "./data/University Accountability Report all files/2019-2020 School Year Reports/Franklin Institute of Technology.xlsx\n",
      "./data/University Accountability Report all files/2020-2021 School Year Reports/Franklin Institute of Technology.xlsx\n",
      "./data/University Accountability Report all files/2021-2022 School Year Reports/Franklin Institute of Technology.xlsx\n",
      "./data/University Accountability Report all files/2022-2023 School Year Reports/Franklin Institute of Technology.xlsx\n"
     ]
    }
   ],
   "source": [
    "d = 'data/FranklinInstituteTechnology/'\n",
    "move_files('Franklin Institute of Technology', d)"
   ]
  },
  {
   "cell_type": "code",
   "execution_count": 141,
   "metadata": {},
   "outputs": [
    {
     "name": "stdout",
     "output_type": "stream",
     "text": [
      "./data/University Accountability Report all files/2016-2017 School Year Reports/Harvard University.xlsx data/HarvardUniversity/2016-2017.xlsx\n",
      "./data/University Accountability Report all files/2017-2018 School Year Reports/Harvard University.xlsx data/HarvardUniversity/2017-2018.xlsx\n",
      "./data/University Accountability Report all files/2018-2019 School Year Reports/Harvard University.xlsx data/HarvardUniversity/2018-2019.xlsx\n",
      "./data/University Accountability Report all files/2019-2020 School Year Reports/Harvard University.xlsx data/HarvardUniversity/2019-2020.xlsx\n",
      "./data/University Accountability Report all files/2020-2021 School Year Reports/Harvard University_Boston-Based Students.xlsx data/HarvardUniversity/2020-2021.xlsx\n",
      "./data/University Accountability Report all files/2021-2022 School Year Reports/Harvard University.xlsx data/HarvardUniversity/2021-2022.xlsx\n",
      "./data/University Accountability Report all files/2022-2023 School Year Reports/Harvard University.xlsx data/HarvardUniversity/2022-2023.xlsx\n",
      "./data/University Accountability Report all files/2023-2024 School Year Reports/Harvard University.xlsx data/HarvardUniversity/2023-2024.xlsx\n",
      "./data/University Accountability Report all files/2016-2017 School Year Reports/Harvard University.xlsx\n",
      "./data/University Accountability Report all files/2017-2018 School Year Reports/Harvard University.xlsx\n",
      "./data/University Accountability Report all files/2018-2019 School Year Reports/Harvard University.xlsx\n",
      "./data/University Accountability Report all files/2019-2020 School Year Reports/Harvard University.xlsx\n",
      "./data/University Accountability Report all files/2020-2021 School Year Reports/Harvard University_Boston-Based Students.xlsx\n",
      "./data/University Accountability Report all files/2021-2022 School Year Reports/Harvard University.xlsx\n",
      "./data/University Accountability Report all files/2022-2023 School Year Reports/Harvard University.xlsx\n",
      "./data/University Accountability Report all files/2023-2024 School Year Reports/Harvard University.xlsx\n"
     ]
    }
   ],
   "source": [
    "d = 'data/HarvardUniversity/'\n",
    "move_files('Harvard University', d)"
   ]
  },
  {
   "cell_type": "code",
   "execution_count": 142,
   "metadata": {},
   "outputs": [
    {
     "name": "stdout",
     "output_type": "stream",
     "text": [
      "./data/University Accountability Report all files/2020-2021 School Year Reports/Massachusetts College of Art and Design.xlsx data/MACollegeArtDesign/2020-2021.xlsx\n",
      "./data/University Accountability Report all files/2021-2022 School Year Reports/Massachusetts College of Art and Design.xlsx data/MACollegeArtDesign/2021-2022.xlsx\n",
      "./data/University Accountability Report all files/2022-2023 School Year Reports/Massachusetts College of Art and Design.xlsx data/MACollegeArtDesign/2022-2023.xlsx\n",
      "./data/University Accountability Report all files/2023-2024 School Year Reports/Massachusetts College of Art and Design.xlsx data/MACollegeArtDesign/2023-2024.xlsx\n",
      "./data/University Accountability Report all files/2020-2021 School Year Reports/Massachusetts College of Art and Design.xlsx\n",
      "./data/University Accountability Report all files/2021-2022 School Year Reports/Massachusetts College of Art and Design.xlsx\n",
      "./data/University Accountability Report all files/2022-2023 School Year Reports/Massachusetts College of Art and Design.xlsx\n",
      "./data/University Accountability Report all files/2023-2024 School Year Reports/Massachusetts College of Art and Design.xlsx\n"
     ]
    }
   ],
   "source": [
    "d = 'data/MACollegeArtDesign/'\n",
    "move_files('Massachusetts College of Art and Design', d)"
   ]
  },
  {
   "cell_type": "code",
   "execution_count": 164,
   "metadata": {},
   "outputs": [
    {
     "name": "stdout",
     "output_type": "stream",
     "text": [
      "./data/University Accountability Report all files/2016-2017 School Year Reports/MA College of Art and Design.xlsx data/MACollegeArtDesign/2016-2017.xlsx\n",
      "./data/University Accountability Report all files/2016-2017 School Year Reports/MA College of Art and Design.xlsx\n"
     ]
    }
   ],
   "source": [
    "d = 'data/MACollegeArtDesign/'\n",
    "move_files('MA College of Art and Design', d)"
   ]
  },
  {
   "cell_type": "code",
   "execution_count": 145,
   "metadata": {},
   "outputs": [
    {
     "name": "stdout",
     "output_type": "stream",
     "text": [
      "./data/University Accountability Report all files/2016-2017 School Year Reports/Massachusetts College of Pharmacy and Health Sciences.xlsx data/MassachusettsCollegePharmacyHealthSciences/2016-2017.xlsx\n",
      "./data/University Accountability Report all files/2016-2017 School Year Reports/Massachusetts College of Pharmacy and Health Sciences.xlsx\n"
     ]
    }
   ],
   "source": [
    "d = 'data/MassachusettsCollegePharmacyHealthSciences/'\n",
    "move_files('Massachusetts College of Pharmacy and Health Sciences', d)"
   ]
  },
  {
   "cell_type": "code",
   "execution_count": 146,
   "metadata": {},
   "outputs": [
    {
     "name": "stdout",
     "output_type": "stream",
     "text": [
      "./data/University Accountability Report all files/2016-2017 School Year Reports/Massachusetts Institute of Technology.xls data/MassachusettsInstituteTechnology/2016-2017.xlsx\n",
      "./data/University Accountability Report all files/2017-2018 School Year Reports/Massachusetts Institute of Technology.xlsx data/MassachusettsInstituteTechnology/2017-2018.xlsx\n",
      "./data/University Accountability Report all files/2018-2019 School Year Reports/Massachusetts Institute of Technology.xlsx data/MassachusettsInstituteTechnology/2018-2019.xlsx\n",
      "./data/University Accountability Report all files/2019-2020 School Year Reports/Massachusetts Institute of Technology.xlsx data/MassachusettsInstituteTechnology/2019-2020.xlsx\n",
      "./data/University Accountability Report all files/2020-2021 School Year Reports/Massachusetts Institute of Technology.xlsx data/MassachusettsInstituteTechnology/2020-2021.xlsx\n",
      "./data/University Accountability Report all files/2021-2022 School Year Reports/Massachusetts Institute of Technology.xlsx data/MassachusettsInstituteTechnology/2021-2022.xlsx\n",
      "./data/University Accountability Report all files/2022-2023 School Year Reports/Massachusetts Institute of Technology.xlsx data/MassachusettsInstituteTechnology/2022-2023.xlsx\n",
      "./data/University Accountability Report all files/2023-2024 School Year Reports/Massachusetts Institute of Technology.xlsx data/MassachusettsInstituteTechnology/2023-2024.xlsx\n",
      "./data/University Accountability Report all files/2016-2017 School Year Reports/Massachusetts Institute of Technology.xls\n",
      "./data/University Accountability Report all files/2017-2018 School Year Reports/Massachusetts Institute of Technology.xlsx\n",
      "./data/University Accountability Report all files/2018-2019 School Year Reports/Massachusetts Institute of Technology.xlsx\n",
      "./data/University Accountability Report all files/2019-2020 School Year Reports/Massachusetts Institute of Technology.xlsx\n",
      "./data/University Accountability Report all files/2020-2021 School Year Reports/Massachusetts Institute of Technology.xlsx\n",
      "./data/University Accountability Report all files/2021-2022 School Year Reports/Massachusetts Institute of Technology.xlsx\n",
      "./data/University Accountability Report all files/2022-2023 School Year Reports/Massachusetts Institute of Technology.xlsx\n",
      "./data/University Accountability Report all files/2023-2024 School Year Reports/Massachusetts Institute of Technology.xlsx\n"
     ]
    }
   ],
   "source": [
    "d = 'data/MassachusettsInstituteTechnology/'\n",
    "move_files('Massachusetts Institute of Technology', d)"
   ]
  },
  {
   "cell_type": "code",
   "execution_count": 147,
   "metadata": {},
   "outputs": [
    {
     "name": "stdout",
     "output_type": "stream",
     "text": [
      "./data/University Accountability Report all files/2016-2017 School Year Reports/Boston College.xlsx data/BostonCollege/2016-2017.xlsx\n",
      "./data/University Accountability Report all files/2016-2017 School Year Reports/Boston College, WCAS.xlsx data/BostonCollege/2016-2017.xlsx\n",
      "./data/University Accountability Report all files/2017-2018 School Year Reports/Boston College.xlsx data/BostonCollege/2017-2018.xlsx\n",
      "./data/University Accountability Report all files/2018-2019 School Year Reports/Boston College.xlsx data/BostonCollege/2018-2019.xlsx\n",
      "./data/University Accountability Report all files/2018-2019 School Year Reports/Boston College WCAS.xlsx data/BostonCollege/2018-2019.xlsx\n",
      "./data/University Accountability Report all files/2019-2020 School Year Reports/Boston College.xlsx data/BostonCollege/2019-2020.xlsx\n",
      "./data/University Accountability Report all files/2019-2020 School Year Reports/Boston College WCAS.xlsx data/BostonCollege/2019-2020.xlsx\n",
      "./data/University Accountability Report all files/2020-2021 School Year Reports/Boston College.xlsx data/BostonCollege/2020-2021.xlsx\n",
      "./data/University Accountability Report all files/2020-2021 School Year Reports/Boston College WCAS.xlsx data/BostonCollege/2020-2021.xlsx\n",
      "./data/University Accountability Report all files/2021-2022 School Year Reports/Boston College.xlsx data/BostonCollege/2021-2022.xlsx\n",
      "./data/University Accountability Report all files/2021-2022 School Year Reports/Boston College WCAS.xlsx data/BostonCollege/2021-2022.xlsx\n",
      "./data/University Accountability Report all files/2022-2023 School Year Reports/Boston College.xlsx data/BostonCollege/2022-2023.xlsx\n",
      "./data/University Accountability Report all files/2022-2023 School Year Reports/Boston College WCAS.xlsx data/BostonCollege/2022-2023.xlsx\n",
      "./data/University Accountability Report all files/2023-2024 School Year Reports/Boston College.xlsx data/BostonCollege/2023-2024.xlsx\n",
      "./data/University Accountability Report all files/2016-2017 School Year Reports/Boston College.xlsx\n",
      "./data/University Accountability Report all files/2016-2017 School Year Reports/Boston College, WCAS.xlsx\n",
      "./data/University Accountability Report all files/2017-2018 School Year Reports/Boston College.xlsx\n",
      "./data/University Accountability Report all files/2018-2019 School Year Reports/Boston College.xlsx\n",
      "./data/University Accountability Report all files/2018-2019 School Year Reports/Boston College WCAS.xlsx\n",
      "./data/University Accountability Report all files/2019-2020 School Year Reports/Boston College.xlsx\n",
      "./data/University Accountability Report all files/2019-2020 School Year Reports/Boston College WCAS.xlsx\n",
      "./data/University Accountability Report all files/2020-2021 School Year Reports/Boston College.xlsx\n",
      "./data/University Accountability Report all files/2020-2021 School Year Reports/Boston College WCAS.xlsx\n",
      "./data/University Accountability Report all files/2021-2022 School Year Reports/Boston College.xlsx\n",
      "./data/University Accountability Report all files/2021-2022 School Year Reports/Boston College WCAS.xlsx\n",
      "./data/University Accountability Report all files/2022-2023 School Year Reports/Boston College.xlsx\n",
      "./data/University Accountability Report all files/2022-2023 School Year Reports/Boston College WCAS.xlsx\n",
      "./data/University Accountability Report all files/2023-2024 School Year Reports/Boston College.xlsx\n"
     ]
    }
   ],
   "source": [
    "d = 'data/BostonCollege/'\n",
    "move_files('Boston College', d)"
   ]
  },
  {
   "cell_type": "code",
   "execution_count": 148,
   "metadata": {},
   "outputs": [
    {
     "name": "stdout",
     "output_type": "stream",
     "text": [
      "./data/University Accountability Report all files/2016-2017 School Year Reports/MGH Institute of Health Professions.xlsx data/MGHInstituteHealthProfessions/2016-2017.xlsx\n",
      "./data/University Accountability Report all files/2017-2018 School Year Reports/MGH Institute of Health Professions.xlsx data/MGHInstituteHealthProfessions/2017-2018.xlsx\n",
      "./data/University Accountability Report all files/2018-2019 School Year Reports/MGH Institute of Health Professions.xlsx data/MGHInstituteHealthProfessions/2018-2019.xlsx\n",
      "./data/University Accountability Report all files/2019-2020 School Year Reports/MGH Institute of Health Professions.xlsx data/MGHInstituteHealthProfessions/2019-2020.xlsx\n",
      "./data/University Accountability Report all files/2020-2021 School Year Reports/MGH Institute of Health Professions.xlsx data/MGHInstituteHealthProfessions/2020-2021.xlsx\n",
      "./data/University Accountability Report all files/2021-2022 School Year Reports/MGH Institute of Health Professions.xlsx data/MGHInstituteHealthProfessions/2021-2022.xlsx\n",
      "./data/University Accountability Report all files/2022-2023 School Year Reports/MGH Institute of Health Professions.xlsx data/MGHInstituteHealthProfessions/2022-2023.xlsx\n",
      "./data/University Accountability Report all files/2023-2024 School Year Reports/MGH Institute of Health Professions.xlsx data/MGHInstituteHealthProfessions/2023-2024.xlsx\n",
      "./data/University Accountability Report all files/2016-2017 School Year Reports/MGH Institute of Health Professions.xlsx\n",
      "./data/University Accountability Report all files/2017-2018 School Year Reports/MGH Institute of Health Professions.xlsx\n",
      "./data/University Accountability Report all files/2018-2019 School Year Reports/MGH Institute of Health Professions.xlsx\n",
      "./data/University Accountability Report all files/2019-2020 School Year Reports/MGH Institute of Health Professions.xlsx\n",
      "./data/University Accountability Report all files/2020-2021 School Year Reports/MGH Institute of Health Professions.xlsx\n",
      "./data/University Accountability Report all files/2021-2022 School Year Reports/MGH Institute of Health Professions.xlsx\n",
      "./data/University Accountability Report all files/2022-2023 School Year Reports/MGH Institute of Health Professions.xlsx\n",
      "./data/University Accountability Report all files/2023-2024 School Year Reports/MGH Institute of Health Professions.xlsx\n"
     ]
    }
   ],
   "source": [
    "d = 'data/MGHInstituteHealthProfessions/'\n",
    "move_files('MGH Institute of Health Professions', d)"
   ]
  },
  {
   "cell_type": "code",
   "execution_count": 149,
   "metadata": {},
   "outputs": [
    {
     "name": "stdout",
     "output_type": "stream",
     "text": [
      "./data/University Accountability Report all files/2016-2017 School Year Reports/New England College of Optometry.xlsx data/NewEnglandCollegeOptometry/2016-2017.xlsx\n",
      "./data/University Accountability Report all files/2017-2018 School Year Reports/New England College of Optometry.xlsx data/NewEnglandCollegeOptometry/2017-2018.xlsx\n",
      "./data/University Accountability Report all files/2018-2019 School Year Reports/New England College of Optometry.xlsx data/NewEnglandCollegeOptometry/2018-2019.xlsx\n",
      "./data/University Accountability Report all files/2019-2020 School Year Reports/New England College of Optometry.xlsx data/NewEnglandCollegeOptometry/2019-2020.xlsx\n",
      "./data/University Accountability Report all files/2020-2021 School Year Reports/New England College of Optometry.xlsx data/NewEnglandCollegeOptometry/2020-2021.xlsx\n",
      "./data/University Accountability Report all files/2021-2022 School Year Reports/New England College of Optometry.xlsx data/NewEnglandCollegeOptometry/2021-2022.xlsx\n",
      "./data/University Accountability Report all files/2022-2023 School Year Reports/New England College of Optometry.xlsx data/NewEnglandCollegeOptometry/2022-2023.xlsx\n",
      "./data/University Accountability Report all files/2023-2024 School Year Reports/New England College of Optometry.xlsx data/NewEnglandCollegeOptometry/2023-2024.xlsx\n",
      "./data/University Accountability Report all files/2016-2017 School Year Reports/New England College of Optometry.xlsx\n",
      "./data/University Accountability Report all files/2017-2018 School Year Reports/New England College of Optometry.xlsx\n",
      "./data/University Accountability Report all files/2018-2019 School Year Reports/New England College of Optometry.xlsx\n",
      "./data/University Accountability Report all files/2019-2020 School Year Reports/New England College of Optometry.xlsx\n",
      "./data/University Accountability Report all files/2020-2021 School Year Reports/New England College of Optometry.xlsx\n",
      "./data/University Accountability Report all files/2021-2022 School Year Reports/New England College of Optometry.xlsx\n",
      "./data/University Accountability Report all files/2022-2023 School Year Reports/New England College of Optometry.xlsx\n",
      "./data/University Accountability Report all files/2023-2024 School Year Reports/New England College of Optometry.xlsx\n"
     ]
    }
   ],
   "source": [
    "d = 'data/NewEnglandCollegeOptometry/'\n",
    "move_files('New England College of Optometry', d)"
   ]
  },
  {
   "cell_type": "code",
   "execution_count": 150,
   "metadata": {},
   "outputs": [
    {
     "name": "stdout",
     "output_type": "stream",
     "text": [
      "./data/University Accountability Report all files/2023-2024 School Year Reports/New England Conservatory of Music.xlsx data/NewEnglandConservatory/2023-2024.xlsx\n",
      "./data/University Accountability Report all files/2023-2024 School Year Reports/New England Conservatory of Music.xlsx\n"
     ]
    }
   ],
   "source": [
    "d = 'data/NewEnglandConservatory/'\n",
    "move_files('New England Conservatory of Music', d)"
   ]
  },
  {
   "cell_type": "code",
   "execution_count": 166,
   "metadata": {},
   "outputs": [
    {
     "name": "stdout",
     "output_type": "stream",
     "text": [
      "./data/University Accountability Report all files/2016-2017 School Year Reports/New England Conservatory.xlsx data/NewEnglandConservatory/2016-2017.xlsx\n",
      "./data/University Accountability Report all files/2017-2018 School Year Reports/New England Conservatory.xlsx data/NewEnglandConservatory/2017-2018.xlsx\n",
      "./data/University Accountability Report all files/2018-2019 School Year Reports/New England Conservatory.xlsx data/NewEnglandConservatory/2018-2019.xlsx\n",
      "./data/University Accountability Report all files/2019-2020 School Year Reports/New England Conservatory.xlsx data/NewEnglandConservatory/2019-2020.xlsx\n",
      "./data/University Accountability Report all files/2020-2021 School Year Reports/New England Conservatory.xlsx data/NewEnglandConservatory/2020-2021.xlsx\n",
      "./data/University Accountability Report all files/2021-2022 School Year Reports/New England Conservatory University.xlsx data/NewEnglandConservatory/2021-2022.xlsx\n",
      "./data/University Accountability Report all files/2022-2023 School Year Reports/New England Conservatory.xlsx data/NewEnglandConservatory/2022-2023.xlsx\n",
      "./data/University Accountability Report all files/2016-2017 School Year Reports/New England Conservatory.xlsx\n",
      "./data/University Accountability Report all files/2017-2018 School Year Reports/New England Conservatory.xlsx\n",
      "./data/University Accountability Report all files/2018-2019 School Year Reports/New England Conservatory.xlsx\n",
      "./data/University Accountability Report all files/2019-2020 School Year Reports/New England Conservatory.xlsx\n",
      "./data/University Accountability Report all files/2020-2021 School Year Reports/New England Conservatory.xlsx\n",
      "./data/University Accountability Report all files/2021-2022 School Year Reports/New England Conservatory University.xlsx\n",
      "./data/University Accountability Report all files/2022-2023 School Year Reports/New England Conservatory.xlsx\n"
     ]
    }
   ],
   "source": [
    "d = 'data/NewEnglandConservatory/'\n",
    "move_files('New England Conservatory', d)"
   ]
  },
  {
   "cell_type": "code",
   "execution_count": 151,
   "metadata": {},
   "outputs": [
    {
     "name": "stdout",
     "output_type": "stream",
     "text": [
      "./data/University Accountability Report all files/2016-2017 School Year Reports/New England Law.xlsx data/NewEnglandLaw/2016-2017.xlsx\n",
      "./data/University Accountability Report all files/2017-2018 School Year Reports/New England Law Boston.xlsx data/NewEnglandLaw/2017-2018.xlsx\n",
      "./data/University Accountability Report all files/2018-2019 School Year Reports/New England Law.xlsx data/NewEnglandLaw/2018-2019.xlsx\n",
      "./data/University Accountability Report all files/2019-2020 School Year Reports/New England Law.xlsx data/NewEnglandLaw/2019-2020.xlsx\n",
      "./data/University Accountability Report all files/2020-2021 School Year Reports/New England Law.xlsx data/NewEnglandLaw/2020-2021.xlsx\n",
      "./data/University Accountability Report all files/2021-2022 School Year Reports/New England Law-Boston.xlsx data/NewEnglandLaw/2021-2022.xlsx\n",
      "./data/University Accountability Report all files/2022-2023 School Year Reports/New England Law.xlsx data/NewEnglandLaw/2022-2023.xlsx\n",
      "./data/University Accountability Report all files/2023-2024 School Year Reports/New England Law.xlsx data/NewEnglandLaw/2023-2024.xlsx\n",
      "./data/University Accountability Report all files/2016-2017 School Year Reports/New England Law.xlsx\n",
      "./data/University Accountability Report all files/2017-2018 School Year Reports/New England Law Boston.xlsx\n",
      "./data/University Accountability Report all files/2018-2019 School Year Reports/New England Law.xlsx\n",
      "./data/University Accountability Report all files/2019-2020 School Year Reports/New England Law.xlsx\n",
      "./data/University Accountability Report all files/2020-2021 School Year Reports/New England Law.xlsx\n",
      "./data/University Accountability Report all files/2021-2022 School Year Reports/New England Law-Boston.xlsx\n",
      "./data/University Accountability Report all files/2022-2023 School Year Reports/New England Law.xlsx\n",
      "./data/University Accountability Report all files/2023-2024 School Year Reports/New England Law.xlsx\n"
     ]
    }
   ],
   "source": [
    "d = 'data/NewEnglandLaw/'\n",
    "move_files('New England Law', d)"
   ]
  },
  {
   "cell_type": "code",
   "execution_count": 152,
   "metadata": {},
   "outputs": [
    {
     "name": "stdout",
     "output_type": "stream",
     "text": [
      "./data/University Accountability Report all files/2016-2017 School Year Reports/Northeastern University.xlsx data/NortheasternUniversity/2016-2017.xlsx\n",
      "./data/University Accountability Report all files/2016-2017 School Year Reports/Northeastern University Student Addresses.xlsx data/NortheasternUniversity/2016-2017.xlsx\n",
      "./data/University Accountability Report all files/2017-2018 School Year Reports/Northeastern University Street Addresses (2).xlsx data/NortheasternUniversity/2017-2018.xlsx\n",
      "./data/University Accountability Report all files/2017-2018 School Year Reports/Northeastern University.xlsx data/NortheasternUniversity/2017-2018.xlsx\n",
      "./data/University Accountability Report all files/2018-2019 School Year Reports/Northeastern University.xlsx data/NortheasternUniversity/2018-2019.xlsx\n",
      "./data/University Accountability Report all files/2019-2020 School Year Reports/Northeastern University.xlsx data/NortheasternUniversity/2019-2020.xlsx\n",
      "./data/University Accountability Report all files/2020-2021 School Year Reports/Northeastern University.xlsx data/NortheasternUniversity/2020-2021.xlsx\n",
      "./data/University Accountability Report all files/2021-2022 School Year Reports/Northeastern University.xlsx data/NortheasternUniversity/2021-2022.xlsx\n",
      "./data/University Accountability Report all files/2022-2023 School Year Reports/Northeastern University.xlsx data/NortheasternUniversity/2022-2023.xlsx\n",
      "./data/University Accountability Report all files/2023-2024 School Year Reports/Northeastern University.xlsx data/NortheasternUniversity/2023-2024.xlsx\n",
      "./data/University Accountability Report all files/2016-2017 School Year Reports/Northeastern University.xlsx\n",
      "./data/University Accountability Report all files/2016-2017 School Year Reports/Northeastern University Student Addresses.xlsx\n",
      "./data/University Accountability Report all files/2017-2018 School Year Reports/Northeastern University Street Addresses (2).xlsx\n",
      "./data/University Accountability Report all files/2017-2018 School Year Reports/Northeastern University.xlsx\n",
      "./data/University Accountability Report all files/2018-2019 School Year Reports/Northeastern University.xlsx\n",
      "./data/University Accountability Report all files/2019-2020 School Year Reports/Northeastern University.xlsx\n",
      "./data/University Accountability Report all files/2020-2021 School Year Reports/Northeastern University.xlsx\n",
      "./data/University Accountability Report all files/2021-2022 School Year Reports/Northeastern University.xlsx\n",
      "./data/University Accountability Report all files/2022-2023 School Year Reports/Northeastern University.xlsx\n",
      "./data/University Accountability Report all files/2023-2024 School Year Reports/Northeastern University.xlsx\n"
     ]
    }
   ],
   "source": [
    "d = 'data/NortheasternUniversity/'\n",
    "move_files('Northeastern University', d)"
   ]
  },
  {
   "cell_type": "code",
   "execution_count": 153,
   "metadata": {},
   "outputs": [
    {
     "name": "stdout",
     "output_type": "stream",
     "text": [
      "./data/University Accountability Report all files/2016-2017 School Year Reports/Simmons College.xlsx data/SimmonsCollege/2016-2017.xlsx\n",
      "./data/University Accountability Report all files/2017-2018 School Year Reports/Simmons College.xlsx data/SimmonsCollege/2017-2018.xlsx\n",
      "./data/University Accountability Report all files/2016-2017 School Year Reports/Simmons College.xlsx\n",
      "./data/University Accountability Report all files/2017-2018 School Year Reports/Simmons College.xlsx\n"
     ]
    }
   ],
   "source": [
    "d = 'data/SimmonsCollege/'\n",
    "move_files('Simmons College', d)"
   ]
  },
  {
   "cell_type": "code",
   "execution_count": 168,
   "metadata": {},
   "outputs": [
    {
     "name": "stdout",
     "output_type": "stream",
     "text": [
      "./data/University Accountability Report all files/2018-2019 School Year Reports/Simmons University.xlsx data/SimmonsCollege/2018-2019.xlsx\n",
      "./data/University Accountability Report all files/2018-2019 School Year Reports/~$Simmons University.xlsx data/SimmonsCollege/2018-2019.xlsx\n",
      "./data/University Accountability Report all files/2019-2020 School Year Reports/Simmons University.xlsx data/SimmonsCollege/2019-2020.xlsx\n",
      "./data/University Accountability Report all files/2020-2021 School Year Reports/Simmons University.xlsx data/SimmonsCollege/2020-2021.xlsx\n",
      "./data/University Accountability Report all files/2021-2022 School Year Reports/Simmons University.xlsx data/SimmonsCollege/2021-2022.xlsx\n",
      "./data/University Accountability Report all files/2022-2023 School Year Reports/Simmons University.xlsx data/SimmonsCollege/2022-2023.xlsx\n",
      "./data/University Accountability Report all files/2023-2024 School Year Reports/Simmons University.xlsx data/SimmonsCollege/2023-2024.xlsx\n",
      "./data/University Accountability Report all files/2018-2019 School Year Reports/Simmons University.xlsx\n",
      "./data/University Accountability Report all files/2018-2019 School Year Reports/~$Simmons University.xlsx\n",
      "./data/University Accountability Report all files/2019-2020 School Year Reports/Simmons University.xlsx\n",
      "./data/University Accountability Report all files/2020-2021 School Year Reports/Simmons University.xlsx\n",
      "./data/University Accountability Report all files/2021-2022 School Year Reports/Simmons University.xlsx\n",
      "./data/University Accountability Report all files/2022-2023 School Year Reports/Simmons University.xlsx\n",
      "./data/University Accountability Report all files/2023-2024 School Year Reports/Simmons University.xlsx\n"
     ]
    }
   ],
   "source": [
    "d = 'data/SimmonsCollege/'\n",
    "move_files('Simmons University', d)"
   ]
  },
  {
   "cell_type": "code",
   "execution_count": 154,
   "metadata": {},
   "outputs": [
    {
     "name": "stdout",
     "output_type": "stream",
     "text": [
      "./data/University Accountability Report all files/2016-2017 School Year Reports/SHOWA Boston Institute.xlsx data/SHOWABostonInstitute/2016-2017.xlsx\n",
      "./data/University Accountability Report all files/2017-2018 School Year Reports/SHOWA Boston Institute.xlsx data/SHOWABostonInstitute/2017-2018.xlsx\n",
      "./data/University Accountability Report all files/2018-2019 School Year Reports/SHOWA Boston Institute.xlsx data/SHOWABostonInstitute/2018-2019.xlsx\n",
      "./data/University Accountability Report all files/2016-2017 School Year Reports/SHOWA Boston Institute.xlsx\n",
      "./data/University Accountability Report all files/2017-2018 School Year Reports/SHOWA Boston Institute.xlsx\n",
      "./data/University Accountability Report all files/2018-2019 School Year Reports/SHOWA Boston Institute.xlsx\n"
     ]
    }
   ],
   "source": [
    "d = 'data/SHOWABostonInstitute/'\n",
    "move_files('SHOWA Boston Institute', d)"
   ]
  },
  {
   "cell_type": "code",
   "execution_count": 167,
   "metadata": {},
   "outputs": [
    {
     "name": "stdout",
     "output_type": "stream",
     "text": [
      "./data/University Accountability Report all files/2019-2020 School Year Reports/SHOWA Boston.xlsx data/SHOWABostonInstitute/2019-2020.xlsx\n",
      "./data/University Accountability Report all files/2020-2021 School Year Reports/SHOWA Boston.xlsx data/SHOWABostonInstitute/2020-2021.xlsx\n",
      "./data/University Accountability Report all files/2022-2023 School Year Reports/SHOWA Boston.xlsx data/SHOWABostonInstitute/2022-2023.xlsx\n",
      "./data/University Accountability Report all files/2023-2024 School Year Reports/SHOWA Boston.xlsx data/SHOWABostonInstitute/2023-2024.xlsx\n",
      "./data/University Accountability Report all files/2019-2020 School Year Reports/SHOWA Boston.xlsx\n",
      "./data/University Accountability Report all files/2020-2021 School Year Reports/SHOWA Boston.xlsx\n",
      "./data/University Accountability Report all files/2022-2023 School Year Reports/SHOWA Boston.xlsx\n",
      "./data/University Accountability Report all files/2023-2024 School Year Reports/SHOWA Boston.xlsx\n"
     ]
    }
   ],
   "source": [
    "d = 'data/SHOWABostonInstitute/'\n",
    "move_files('SHOWA Boston', d)"
   ]
  },
  {
   "cell_type": "code",
   "execution_count": 155,
   "metadata": {},
   "outputs": [
    {
     "name": "stdout",
     "output_type": "stream",
     "text": [
      "./data/University Accountability Report all files/2016-2017 School Year Reports/St. John's Seminary.xlsx data/StJohnSeminary/2016-2017.xlsx\n",
      "./data/University Accountability Report all files/2017-2018 School Year Reports/St. John's Seminary.xlsx data/StJohnSeminary/2017-2018.xlsx\n",
      "./data/University Accountability Report all files/2018-2019 School Year Reports/St. John's Seminary.xlsx data/StJohnSeminary/2018-2019.xlsx\n",
      "./data/University Accountability Report all files/2019-2020 School Year Reports/St. John's Seminary.xlsx data/StJohnSeminary/2019-2020.xlsx\n",
      "./data/University Accountability Report all files/2020-2021 School Year Reports/St. John's Seminary.xlsx data/StJohnSeminary/2020-2021.xlsx\n",
      "./data/University Accountability Report all files/2021-2022 School Year Reports/St. John's Seminary.xlsx data/StJohnSeminary/2021-2022.xlsx\n",
      "./data/University Accountability Report all files/2022-2023 School Year Reports/St. John's Seminary.xlsx data/StJohnSeminary/2022-2023.xlsx\n",
      "./data/University Accountability Report all files/2023-2024 School Year Reports/St. John's Seminary.xlsx data/StJohnSeminary/2023-2024.xlsx\n",
      "./data/University Accountability Report all files/2016-2017 School Year Reports/St. John's Seminary.xlsx\n",
      "./data/University Accountability Report all files/2017-2018 School Year Reports/St. John's Seminary.xlsx\n",
      "./data/University Accountability Report all files/2018-2019 School Year Reports/St. John's Seminary.xlsx\n",
      "./data/University Accountability Report all files/2019-2020 School Year Reports/St. John's Seminary.xlsx\n",
      "./data/University Accountability Report all files/2020-2021 School Year Reports/St. John's Seminary.xlsx\n",
      "./data/University Accountability Report all files/2021-2022 School Year Reports/St. John's Seminary.xlsx\n",
      "./data/University Accountability Report all files/2022-2023 School Year Reports/St. John's Seminary.xlsx\n",
      "./data/University Accountability Report all files/2023-2024 School Year Reports/St. John's Seminary.xlsx\n"
     ]
    }
   ],
   "source": [
    "d = 'data/StJohnSeminary/'\n",
    "move_files('St. John\\'s Seminary', d)"
   ]
  },
  {
   "cell_type": "code",
   "execution_count": 156,
   "metadata": {},
   "outputs": [
    {
     "name": "stdout",
     "output_type": "stream",
     "text": [
      "./data/University Accountability Report all files/2016-2017 School Year Reports/Suffolk University.xlsx data/SuffolkUniversity/2016-2017.xlsx\n",
      "./data/University Accountability Report all files/2017-2018 School Year Reports/Suffolk University.xlsx data/SuffolkUniversity/2017-2018.xlsx\n",
      "./data/University Accountability Report all files/2018-2019 School Year Reports/Suffolk University.xlsx data/SuffolkUniversity/2018-2019.xlsx\n",
      "./data/University Accountability Report all files/2019-2020 School Year Reports/Suffolk University.xlsx data/SuffolkUniversity/2019-2020.xlsx\n",
      "./data/University Accountability Report all files/2020-2021 School Year Reports/Suffolk University.xlsx data/SuffolkUniversity/2020-2021.xlsx\n",
      "./data/University Accountability Report all files/2021-2022 School Year Reports/Suffolk University.xlsx data/SuffolkUniversity/2021-2022.xlsx\n",
      "./data/University Accountability Report all files/2022-2023 School Year Reports/Suffolk University.xlsx data/SuffolkUniversity/2022-2023.xlsx\n",
      "./data/University Accountability Report all files/2023-2024 School Year Reports/Suffolk University.xlsx data/SuffolkUniversity/2023-2024.xlsx\n",
      "./data/University Accountability Report all files/2016-2017 School Year Reports/Suffolk University.xlsx\n",
      "./data/University Accountability Report all files/2017-2018 School Year Reports/Suffolk University.xlsx\n",
      "./data/University Accountability Report all files/2018-2019 School Year Reports/Suffolk University.xlsx\n",
      "./data/University Accountability Report all files/2019-2020 School Year Reports/Suffolk University.xlsx\n",
      "./data/University Accountability Report all files/2020-2021 School Year Reports/Suffolk University.xlsx\n",
      "./data/University Accountability Report all files/2021-2022 School Year Reports/Suffolk University.xlsx\n",
      "./data/University Accountability Report all files/2022-2023 School Year Reports/Suffolk University.xlsx\n",
      "./data/University Accountability Report all files/2023-2024 School Year Reports/Suffolk University.xlsx\n"
     ]
    }
   ],
   "source": [
    "d = 'data/SuffolkUniversity/'\n",
    "move_files('Suffolk University', d)"
   ]
  },
  {
   "cell_type": "code",
   "execution_count": 157,
   "metadata": {},
   "outputs": [
    {
     "name": "stdout",
     "output_type": "stream",
     "text": [
      "./data/University Accountability Report all files/2016-2017 School Year Reports/Preliminary Tufts University-SMFA.xlsx data/TuftsUniversity/2016-2017.xlsx\n",
      "./data/University Accountability Report all files/2017-2018 School Year Reports/Tufts University-SMFA.xlsx data/TuftsUniversity/2017-2018.xlsx\n",
      "./data/University Accountability Report all files/2018-2019 School Year Reports/Tufts University.xlsx data/TuftsUniversity/2018-2019.xlsx\n",
      "./data/University Accountability Report all files/2019-2020 School Year Reports/Tufts University.xlsx data/TuftsUniversity/2019-2020.xlsx\n",
      "./data/University Accountability Report all files/2020-2021 School Year Reports/Tufts University.xlsx data/TuftsUniversity/2020-2021.xlsx\n",
      "./data/University Accountability Report all files/2021-2022 School Year Reports/Tufts University.xlsx data/TuftsUniversity/2021-2022.xlsx\n",
      "./data/University Accountability Report all files/2022-2023 School Year Reports/Tufts University.xlsx data/TuftsUniversity/2022-2023.xlsx\n",
      "./data/University Accountability Report all files/2023-2024 School Year Reports/Tufts University.xlsx data/TuftsUniversity/2023-2024.xlsx\n",
      "./data/University Accountability Report all files/2016-2017 School Year Reports/Preliminary Tufts University-SMFA.xlsx\n",
      "./data/University Accountability Report all files/2017-2018 School Year Reports/Tufts University-SMFA.xlsx\n",
      "./data/University Accountability Report all files/2018-2019 School Year Reports/Tufts University.xlsx\n",
      "./data/University Accountability Report all files/2019-2020 School Year Reports/Tufts University.xlsx\n",
      "./data/University Accountability Report all files/2020-2021 School Year Reports/Tufts University.xlsx\n",
      "./data/University Accountability Report all files/2021-2022 School Year Reports/Tufts University.xlsx\n",
      "./data/University Accountability Report all files/2022-2023 School Year Reports/Tufts University.xlsx\n",
      "./data/University Accountability Report all files/2023-2024 School Year Reports/Tufts University.xlsx\n"
     ]
    }
   ],
   "source": [
    "d = 'data/TuftsUniversity/'\n",
    "move_files('Tufts University', d)"
   ]
  },
  {
   "cell_type": "code",
   "execution_count": 158,
   "metadata": {},
   "outputs": [
    {
     "name": "stdout",
     "output_type": "stream",
     "text": [
      "./data/University Accountability Report all files/2019-2020 School Year Reports/University of Massachusetts Boston.xlsx data/UniversityMassachusettsBoston/2019-2020.xlsx\n",
      "./data/University Accountability Report all files/2020-2021 School Year Reports/University of Massachusetts Boston.xlsx data/UniversityMassachusettsBoston/2020-2021.xlsx\n",
      "./data/University Accountability Report all files/2019-2020 School Year Reports/University of Massachusetts Boston.xlsx\n",
      "./data/University Accountability Report all files/2020-2021 School Year Reports/University of Massachusetts Boston.xlsx\n"
     ]
    }
   ],
   "source": [
    "d = 'data/UniversityMassachusettsBoston/'\n",
    "move_files('University of Massachusetts Boston', d)"
   ]
  },
  {
   "cell_type": "code",
   "execution_count": 165,
   "metadata": {},
   "outputs": [
    {
     "name": "stdout",
     "output_type": "stream",
     "text": [
      "./data/University Accountability Report all files/2016-2017 School Year Reports/University of Massachusetts-Boston.xlsx data/UniversityMassachusettsBoston/2016-2017.xlsx\n",
      "./data/University Accountability Report all files/2017-2018 School Year Reports/University of Massachusetts-Boston.xlsx data/UniversityMassachusettsBoston/2017-2018.xlsx\n",
      "./data/University Accountability Report all files/2018-2019 School Year Reports/University of Massachusetts-Boston.xlsx data/UniversityMassachusettsBoston/2018-2019.xlsx\n",
      "./data/University Accountability Report all files/2021-2022 School Year Reports/University of Massachusetts-Boston.xlsx data/UniversityMassachusettsBoston/2021-2022.xlsx\n",
      "./data/University Accountability Report all files/2022-2023 School Year Reports/University of Massachusetts-Boston.xlsx data/UniversityMassachusettsBoston/2022-2023.xlsx\n",
      "./data/University Accountability Report all files/2023-2024 School Year Reports/University of Massachusetts-Boston.xlsx data/UniversityMassachusettsBoston/2023-2024.xlsx\n",
      "./data/University Accountability Report all files/2016-2017 School Year Reports/University of Massachusetts-Boston.xlsx\n",
      "./data/University Accountability Report all files/2017-2018 School Year Reports/University of Massachusetts-Boston.xlsx\n",
      "./data/University Accountability Report all files/2018-2019 School Year Reports/University of Massachusetts-Boston.xlsx\n",
      "./data/University Accountability Report all files/2021-2022 School Year Reports/University of Massachusetts-Boston.xlsx\n",
      "./data/University Accountability Report all files/2022-2023 School Year Reports/University of Massachusetts-Boston.xlsx\n",
      "./data/University Accountability Report all files/2023-2024 School Year Reports/University of Massachusetts-Boston.xlsx\n"
     ]
    }
   ],
   "source": [
    "d = 'data/UniversityMassachusettsBoston/'\n",
    "move_files('University of Massachusetts-Boston', d)"
   ]
  },
  {
   "cell_type": "code",
   "execution_count": 161,
   "metadata": {},
   "outputs": [
    {
     "name": "stdout",
     "output_type": "stream",
     "text": [
      "./data/University Accountability Report all files/2016-2017 School Year Reports/Urban College of Boston.xlsx data/UrbanCollegeBoston/2016-2017.xlsx\n",
      "./data/University Accountability Report all files/2017-2018 School Year Reports/Urban College of Boston.xlsx data/UrbanCollegeBoston/2017-2018.xlsx\n",
      "./data/University Accountability Report all files/2018-2019 School Year Reports/Urban College of Boston.xlsx data/UrbanCollegeBoston/2018-2019.xlsx\n",
      "./data/University Accountability Report all files/2019-2020 School Year Reports/Urban College of Boston.xlsx data/UrbanCollegeBoston/2019-2020.xlsx\n",
      "./data/University Accountability Report all files/2020-2021 School Year Reports/Urban College of Boston.xlsx data/UrbanCollegeBoston/2020-2021.xlsx\n",
      "./data/University Accountability Report all files/2021-2022 School Year Reports/Urban College of Boston.xlsx data/UrbanCollegeBoston/2021-2022.xlsx\n",
      "./data/University Accountability Report all files/2022-2023 School Year Reports/Urban College of Boston.xlsx data/UrbanCollegeBoston/2022-2023.xlsx\n",
      "./data/University Accountability Report all files/2023-2024 School Year Reports/Urban College of Boston.xlsx data/UrbanCollegeBoston/2023-2024.xlsx\n",
      "./data/University Accountability Report all files/2016-2017 School Year Reports/Urban College of Boston.xlsx\n",
      "./data/University Accountability Report all files/2017-2018 School Year Reports/Urban College of Boston.xlsx\n",
      "./data/University Accountability Report all files/2018-2019 School Year Reports/Urban College of Boston.xlsx\n",
      "./data/University Accountability Report all files/2019-2020 School Year Reports/Urban College of Boston.xlsx\n",
      "./data/University Accountability Report all files/2020-2021 School Year Reports/Urban College of Boston.xlsx\n",
      "./data/University Accountability Report all files/2021-2022 School Year Reports/Urban College of Boston.xlsx\n",
      "./data/University Accountability Report all files/2022-2023 School Year Reports/Urban College of Boston.xlsx\n",
      "./data/University Accountability Report all files/2023-2024 School Year Reports/Urban College of Boston.xlsx\n"
     ]
    }
   ],
   "source": [
    "d = 'data/UrbanCollegeBoston/'\n",
    "move_files('Urban College of Boston', d)"
   ]
  },
  {
   "cell_type": "code",
   "execution_count": 162,
   "metadata": {},
   "outputs": [
    {
     "name": "stdout",
     "output_type": "stream",
     "text": [
      "./data/University Accountability Report all files/2016-2017 School Year Reports/Wentworth Institute of Technology.xlsx data/WentworhInstituteTechnology/2016-2017.xlsx\n",
      "./data/University Accountability Report all files/2017-2018 School Year Reports/Wentworth Institute of Technology.xlsx data/WentworhInstituteTechnology/2017-2018.xlsx\n",
      "./data/University Accountability Report all files/2018-2019 School Year Reports/Wentworth Institute of Technology.xlsx data/WentworhInstituteTechnology/2018-2019.xlsx\n",
      "./data/University Accountability Report all files/2019-2020 School Year Reports/Wentworth Institute of Technology.xlsx data/WentworhInstituteTechnology/2019-2020.xlsx\n",
      "./data/University Accountability Report all files/2020-2021 School Year Reports/Wentworth Institute of Technology.xlsx data/WentworhInstituteTechnology/2020-2021.xlsx\n",
      "./data/University Accountability Report all files/2021-2022 School Year Reports/Wentworth Institute of Technology.xlsx data/WentworhInstituteTechnology/2021-2022.xlsx\n",
      "./data/University Accountability Report all files/2022-2023 School Year Reports/Wentworth Institute of Technology.xlsx data/WentworhInstituteTechnology/2022-2023.xlsx\n",
      "./data/University Accountability Report all files/2023-2024 School Year Reports/Wentworth Institute of Technology.xlsx data/WentworhInstituteTechnology/2023-2024.xlsx\n",
      "./data/University Accountability Report all files/2016-2017 School Year Reports/Wentworth Institute of Technology.xlsx\n",
      "./data/University Accountability Report all files/2017-2018 School Year Reports/Wentworth Institute of Technology.xlsx\n",
      "./data/University Accountability Report all files/2018-2019 School Year Reports/Wentworth Institute of Technology.xlsx\n",
      "./data/University Accountability Report all files/2019-2020 School Year Reports/Wentworth Institute of Technology.xlsx\n",
      "./data/University Accountability Report all files/2020-2021 School Year Reports/Wentworth Institute of Technology.xlsx\n",
      "./data/University Accountability Report all files/2021-2022 School Year Reports/Wentworth Institute of Technology.xlsx\n",
      "./data/University Accountability Report all files/2022-2023 School Year Reports/Wentworth Institute of Technology.xlsx\n",
      "./data/University Accountability Report all files/2023-2024 School Year Reports/Wentworth Institute of Technology.xlsx\n"
     ]
    }
   ],
   "source": [
    "d = 'data/WentworhInstituteTechnology/'\n",
    "move_files('Wentworth Institute of Technology', d)"
   ]
  },
  {
   "cell_type": "code",
   "execution_count": 163,
   "metadata": {},
   "outputs": [
    {
     "name": "stdout",
     "output_type": "stream",
     "text": [
      "./data/University Accountability Report all files/2016-2017 School Year Reports/Wheelock College.xlsx data/WheelockCollege/2016-2017.xlsx\n",
      "./data/University Accountability Report all files/2017-2018 School Year Reports/Wheelock College.xlsx data/WheelockCollege/2017-2018.xlsx\n",
      "./data/University Accountability Report all files/2016-2017 School Year Reports/Wheelock College.xlsx\n",
      "./data/University Accountability Report all files/2017-2018 School Year Reports/Wheelock College.xlsx\n"
     ]
    }
   ],
   "source": [
    "d = 'data/WheelockCollege/'\n",
    "move_files('Wheelock College', d)"
   ]
  },
  {
   "cell_type": "code",
   "execution_count": 169,
   "metadata": {},
   "outputs": [
    {
     "name": "stdout",
     "output_type": "stream",
     "text": [
      "./data/University Accountability Report all files/2020-2021 School Year Reports/Sattler College.xlsx data/SattlerCollege/2020-2021.xlsx\n",
      "./data/University Accountability Report all files/2021-2022 School Year Reports/Sattler College.xlsx data/SattlerCollege/2021-2022.xlsx\n",
      "./data/University Accountability Report all files/2022-2023 School Year Reports/Sattler College.xlsx data/SattlerCollege/2022-2023.xlsx\n",
      "./data/University Accountability Report all files/2020-2021 School Year Reports/Sattler College.xlsx\n",
      "./data/University Accountability Report all files/2021-2022 School Year Reports/Sattler College.xlsx\n",
      "./data/University Accountability Report all files/2022-2023 School Year Reports/Sattler College.xlsx\n"
     ]
    }
   ],
   "source": [
    "d = 'data/SattlerCollege/'\n",
    "move_files('Sattler College', d)"
   ]
  }
 ],
 "metadata": {
  "kernelspec": {
   "display_name": "Python 3",
   "language": "python",
   "name": "python3"
  },
  "language_info": {
   "codemirror_mode": {
    "name": "ipython",
    "version": 3
   },
   "file_extension": ".py",
   "mimetype": "text/x-python",
   "name": "python",
   "nbconvert_exporter": "python",
   "pygments_lexer": "ipython3",
   "version": "3.12.6"
  }
 },
 "nbformat": 4,
 "nbformat_minor": 2
}
