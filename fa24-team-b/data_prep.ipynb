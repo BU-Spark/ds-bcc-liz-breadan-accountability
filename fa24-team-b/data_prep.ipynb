{
 "cells": [
  {
   "cell_type": "code",
   "execution_count": 129,
   "metadata": {},
   "outputs": [],
   "source": [
    "import pandas as pd\n",
    "import numpy as np"
   ]
  },
  {
   "cell_type": "markdown",
   "metadata": {},
   "source": [
    "# Boston University"
   ]
  },
  {
   "cell_type": "code",
   "execution_count": 130,
   "metadata": {},
   "outputs": [],
   "source": [
    "dir = './data/BostonUniversity/'"
   ]
  },
  {
   "cell_type": "code",
   "execution_count": 131,
   "metadata": {},
   "outputs": [
    {
     "data": {
      "text/plain": [
       "['2022-2023.xlsx',\n",
       " '.DS_Store',\n",
       " '2017-2018.xlsx',\n",
       " '2019-2020.xlsx',\n",
       " '2023-2024.xlsx',\n",
       " '2020-2021.xlsx',\n",
       " '2016-2017.xlsx',\n",
       " '2018-2019.xlsx',\n",
       " '2021-2022.xlsx']"
      ]
     },
     "execution_count": 131,
     "metadata": {},
     "output_type": "execute_result"
    }
   ],
   "source": [
    "import os\n",
    "# list all files in the dir\n",
    "files = os.listdir(dir)\n",
    "files"
   ]
  },
  {
   "cell_type": "code",
   "execution_count": 132,
   "metadata": {},
   "outputs": [
    {
     "name": "stdout",
     "output_type": "stream",
     "text": [
      "University Bldgs\n"
     ]
    },
    {
     "name": "stderr",
     "output_type": "stream",
     "text": [
      "/Library/Frameworks/Python.framework/Versions/3.12/lib/python3.12/site-packages/openpyxl/reader/workbook.py:120: UserWarning: Print area cannot be set to Defined name: 'Summary Stats'!$1:$31.\n",
      "  warn(f\"Print area cannot be set to Defined name: {defn.value}.\")\n"
     ]
    },
    {
     "name": "stdout",
     "output_type": "stream",
     "text": [
      "Definitions\n",
      "University Bldgs\n"
     ]
    }
   ],
   "source": [
    "dfs = {}\n",
    "for file in files:\n",
    "    if file == '.DS_Store':\n",
    "        continue\n",
    "    df = pd.read_excel(dir + file, sheet_name='Student Addresses')\n",
    "    dfs[file] = df"
   ]
  },
  {
   "cell_type": "code",
   "execution_count": 133,
   "metadata": {},
   "outputs": [
    {
     "data": {
      "text/plain": [
       "dict_keys(['2022-2023.xlsx', '2017-2018.xlsx', '2019-2020.xlsx', '2023-2024.xlsx', '2020-2021.xlsx', '2016-2017.xlsx', '2018-2019.xlsx', '2021-2022.xlsx'])"
      ]
     },
     "execution_count": 133,
     "metadata": {},
     "output_type": "execute_result"
    }
   ],
   "source": [
    "dfs.keys()"
   ]
  },
  {
   "cell_type": "code",
   "execution_count": 134,
   "metadata": {},
   "outputs": [
    {
     "name": "stdout",
     "output_type": "stream",
     "text": [
      "2022-2023.xlsx\n",
      "['6a. \\nStreet #', '6b. \\nStreet Name', '6c. \\nStreet Suffix  ', '6d.\\n Unit #', '6e. \\nZip', '7. \\nUndergraduate (U) or Graduate (G)', '8. \\nFull-time (FT) or \\nPart-time (PT)', '9. \\nAt-Home or Not-at-Home']\n",
      "2017-2018.xlsx\n",
      "['6a. \\nStreet #', '6b. \\nStreet Name', '6c. \\nStreet Suffix  ', '6d.\\n Unit #', '6e. \\nZip', '7. \\nUndergraduate (U) or Graduate (G)', '8. \\nFull-time (FT) or \\nPart-time (PT)', '9. \\n 5 or More Undergrads/Unit\\n(Y/N)']\n",
      "2019-2020.xlsx\n",
      "['6a. \\nStreet #', '6b. \\nStreet Name', '6c. \\nStreet Suffix  ', '6d.\\n Unit #', '6e. \\nZip', '7. \\nUndergraduate (U) or Graduate (G)', '8. \\nFull-time (FT) or \\nPart-time (PT)', '9. \\n 5 or More Undergrads/Unit\\n(Y/N)']\n",
      "2023-2024.xlsx\n",
      "['6a. \\nStreet #', '6b. \\nStreet Name', '6c. \\nStreet Suffix  ', '6d.\\n Unit #', '6e. \\nZip', '7. \\nUndergraduate (U) or Graduate (G)', '8. \\nFull-time (FT) or \\nPart-time (PT)', '9. \\nAt-Home or Not-at-Home']\n",
      "2020-2021.xlsx\n",
      "['6a. \\nStreet #', '6b. \\nStreet Name', '6c. \\nStreet Suffix  ', '6d.\\n Unit #', '6e. \\nZip', '7. \\nUndergraduate (U) or Graduate (G)', '8. \\nFull-time (FT) or \\nPart-time (PT)', '9. \\n 5 or More Undergrads/Unit\\n(Y/N)']\n",
      "2016-2017.xlsx\n",
      "['6a. \\nStreet #', '6b. \\nStreet Name', '6c. \\nStreet Suffix  ', '6d.\\n Unit #', '6e. \\nZip', '7. \\nUndergraduate (U) or Graduate (G)', '8. \\nFull-time (FT) or \\nPart-time (PT)', '9. \\n 5 or More Undergrads/Unit\\n(Y/N)']\n",
      "2018-2019.xlsx\n",
      "['6a. \\nStreet #', '6b. \\nStreet Name', '6c. \\nStreet Suffix  ', '6d.\\n Unit #', '6e. \\nZip', '7. \\nUndergraduate (U) or Graduate (G)', '8. \\nFull-time (FT) or \\nPart-time (PT)', '9. \\n 5 or More Undergrads/Unit\\n(Y/N)']\n",
      "2021-2022.xlsx\n",
      "['6a. \\nStreet #', '6b. \\nStreet Name', '6c. \\nStreet Suffix  ', '6d.\\n Unit #', '6e. \\nZip', '7. \\nUndergraduate (U) or Graduate (G)', '8. \\nFull-time (FT) or \\nPart-time (PT)', '9. \\n 5 or More Undergrads/Unit\\n(Y/N)']\n"
     ]
    }
   ],
   "source": [
    "# print the columns of each df\n",
    "for key in dfs.keys():\n",
    "    print(key)\n",
    "    print(list(dfs[key].columns))"
   ]
  },
  {
   "cell_type": "code",
   "execution_count": 135,
   "metadata": {},
   "outputs": [],
   "source": [
    "columns = ['street_name','street_number','street_suffix','unit_number','zip_code','level_of_study','full_time', 'at_home', 'extra_large_unit', 'year_range','university']"
   ]
  },
  {
   "cell_type": "code",
   "execution_count": 136,
   "metadata": {},
   "outputs": [
    {
     "name": "stdout",
     "output_type": "stream",
     "text": [
      "2022-2023.xlsx\n",
      "2023-2024.xlsx\n"
     ]
    }
   ],
   "source": [
    "for key in dfs:\n",
    "    if '9. \\nAt-Home or Not-at-Home' in list(dfs[key].columns):\n",
    "        print(key)"
   ]
  },
  {
   "cell_type": "code",
   "execution_count": 137,
   "metadata": {},
   "outputs": [
    {
     "data": {
      "text/plain": [
       "Index(['6a. \\nStreet #', '6b. \\nStreet Name', '6c. \\nStreet Suffix  ',\n",
       "       '6d.\\n Unit #', '6e. \\nZip', '7. \\nUndergraduate (U) or Graduate (G)',\n",
       "       '8. \\nFull-time (FT) or \\nPart-time (PT)',\n",
       "       '9. \\nAt-Home or Not-at-Home'],\n",
       "      dtype='object')"
      ]
     },
     "execution_count": 137,
     "metadata": {},
     "output_type": "execute_result"
    }
   ],
   "source": [
    "dfs['2022-2023.xlsx'].columns"
   ]
  },
  {
   "cell_type": "code",
   "execution_count": 138,
   "metadata": {},
   "outputs": [],
   "source": [
    "# 2022-2023.xlsx\n",
    "# 2023-2024.xlsx\n",
    "# they have at-home or not-at-home column\n",
    "dfs['2022-2023.xlsx'].columns = ['street_number','street_name','street_suffix','unit_number','zip_code','level_of_study','full_time', 'at_home']\n",
    "dfs['2023-2024.xlsx'].columns = ['street_number','street_name','street_suffix','unit_number','zip_code','level_of_study','full_time', 'at_home']"
   ]
  },
  {
   "cell_type": "code",
   "execution_count": 139,
   "metadata": {},
   "outputs": [
    {
     "data": {
      "text/html": [
       "<div>\n",
       "<style scoped>\n",
       "    .dataframe tbody tr th:only-of-type {\n",
       "        vertical-align: middle;\n",
       "    }\n",
       "\n",
       "    .dataframe tbody tr th {\n",
       "        vertical-align: top;\n",
       "    }\n",
       "\n",
       "    .dataframe thead th {\n",
       "        text-align: right;\n",
       "    }\n",
       "</style>\n",
       "<table border=\"1\" class=\"dataframe\">\n",
       "  <thead>\n",
       "    <tr style=\"text-align: right;\">\n",
       "      <th></th>\n",
       "      <th>street_number</th>\n",
       "      <th>street_name</th>\n",
       "      <th>street_suffix</th>\n",
       "      <th>unit_number</th>\n",
       "      <th>zip_code</th>\n",
       "      <th>level_of_study</th>\n",
       "      <th>full_time</th>\n",
       "      <th>at_home</th>\n",
       "    </tr>\n",
       "  </thead>\n",
       "  <tbody>\n",
       "    <tr>\n",
       "      <th>0</th>\n",
       "      <td>11</td>\n",
       "      <td>Revere</td>\n",
       "      <td>St</td>\n",
       "      <td></td>\n",
       "      <td>2114</td>\n",
       "      <td>G</td>\n",
       "      <td>FT</td>\n",
       "      <td>NaN</td>\n",
       "    </tr>\n",
       "    <tr>\n",
       "      <th>1</th>\n",
       "      <td>42</td>\n",
       "      <td>8th</td>\n",
       "      <td>St</td>\n",
       "      <td>Apt 1307</td>\n",
       "      <td>2129</td>\n",
       "      <td>G</td>\n",
       "      <td>FT</td>\n",
       "      <td>NaN</td>\n",
       "    </tr>\n",
       "    <tr>\n",
       "      <th>2</th>\n",
       "      <td>11</td>\n",
       "      <td>Aberdeen</td>\n",
       "      <td>St</td>\n",
       "      <td>Apartment 2A</td>\n",
       "      <td>2215</td>\n",
       "      <td>U</td>\n",
       "      <td>FT</td>\n",
       "      <td>NaN</td>\n",
       "    </tr>\n",
       "    <tr>\n",
       "      <th>3</th>\n",
       "      <td>11</td>\n",
       "      <td>Aberdeen</td>\n",
       "      <td>st</td>\n",
       "      <td></td>\n",
       "      <td>2215</td>\n",
       "      <td>U</td>\n",
       "      <td>FT</td>\n",
       "      <td>NaN</td>\n",
       "    </tr>\n",
       "    <tr>\n",
       "      <th>4</th>\n",
       "      <td>11</td>\n",
       "      <td>Aberdeen</td>\n",
       "      <td>St</td>\n",
       "      <td>#6A</td>\n",
       "      <td>2215</td>\n",
       "      <td>U</td>\n",
       "      <td>FT</td>\n",
       "      <td>NaN</td>\n",
       "    </tr>\n",
       "  </tbody>\n",
       "</table>\n",
       "</div>"
      ],
      "text/plain": [
       "  street_number street_name street_suffix  \\\n",
       "0           11       Revere            St   \n",
       "1           42          8th            St   \n",
       "2           11     Aberdeen            St   \n",
       "3           11     Aberdeen            st   \n",
       "4           11     Aberdeen            St   \n",
       "\n",
       "                                unit_number  zip_code level_of_study  \\\n",
       "0                                                2114              G   \n",
       "1  Apt 1307                                      2129              G   \n",
       "2  Apartment 2A                                  2215              U   \n",
       "3                                                2215              U   \n",
       "4  #6A                                           2215              U   \n",
       "\n",
       "  full_time  at_home  \n",
       "0        FT      NaN  \n",
       "1        FT      NaN  \n",
       "2        FT      NaN  \n",
       "3        FT      NaN  \n",
       "4        FT      NaN  "
      ]
     },
     "execution_count": 139,
     "metadata": {},
     "output_type": "execute_result"
    }
   ],
   "source": [
    "dfs['2022-2023.xlsx'].head()"
   ]
  },
  {
   "cell_type": "code",
   "execution_count": 140,
   "metadata": {},
   "outputs": [],
   "source": [
    "# for everything else, do the same\n",
    "\n",
    "for key in dfs:\n",
    "    if key in ['2022-2023.xlsx','2023-2024.xlsx']:\n",
    "        continue\n",
    "    dfs[key].columns = ['street_number','street_name','street_suffix','unit_number','zip_code','level_of_study','full_time', 'extra_large_unit']"
   ]
  },
  {
   "cell_type": "code",
   "execution_count": 141,
   "metadata": {},
   "outputs": [],
   "source": [
    "# now, we need to add at_home column to the rest of the dfs and extra_large_unit to the first two dfs\n",
    "for key in dfs:\n",
    "    if key in ['2022-2023.xlsx','2023-2024.xlsx']:\n",
    "        dfs[key]['extra_large_unit'] = np.nan\n",
    "    else:\n",
    "        dfs[key]['at_home'] = np.nan"
   ]
  },
  {
   "cell_type": "code",
   "execution_count": 142,
   "metadata": {},
   "outputs": [
    {
     "name": "stdout",
     "output_type": "stream",
     "text": [
      "2022-2023.xlsx\n",
      "['street_number', 'street_name', 'street_suffix', 'unit_number', 'zip_code', 'level_of_study', 'full_time', 'at_home', 'extra_large_unit']\n",
      "2017-2018.xlsx\n",
      "['street_number', 'street_name', 'street_suffix', 'unit_number', 'zip_code', 'level_of_study', 'full_time', 'extra_large_unit', 'at_home']\n",
      "2019-2020.xlsx\n",
      "['street_number', 'street_name', 'street_suffix', 'unit_number', 'zip_code', 'level_of_study', 'full_time', 'extra_large_unit', 'at_home']\n",
      "2023-2024.xlsx\n",
      "['street_number', 'street_name', 'street_suffix', 'unit_number', 'zip_code', 'level_of_study', 'full_time', 'at_home', 'extra_large_unit']\n",
      "2020-2021.xlsx\n",
      "['street_number', 'street_name', 'street_suffix', 'unit_number', 'zip_code', 'level_of_study', 'full_time', 'extra_large_unit', 'at_home']\n",
      "2016-2017.xlsx\n",
      "['street_number', 'street_name', 'street_suffix', 'unit_number', 'zip_code', 'level_of_study', 'full_time', 'extra_large_unit', 'at_home']\n",
      "2018-2019.xlsx\n",
      "['street_number', 'street_name', 'street_suffix', 'unit_number', 'zip_code', 'level_of_study', 'full_time', 'extra_large_unit', 'at_home']\n",
      "2021-2022.xlsx\n",
      "['street_number', 'street_name', 'street_suffix', 'unit_number', 'zip_code', 'level_of_study', 'full_time', 'extra_large_unit', 'at_home']\n"
     ]
    }
   ],
   "source": [
    "# now, check the columns\n",
    "for key in dfs:\n",
    "    print(key)\n",
    "    print(list(dfs[key].columns))"
   ]
  },
  {
   "cell_type": "code",
   "execution_count": 144,
   "metadata": {},
   "outputs": [
    {
     "name": "stdout",
     "output_type": "stream",
     "text": [
      "2022-2023.xlsx\n",
      "['street_number', 'street_name', 'street_suffix', 'unit_number', 'zip_code', 'level_of_study', 'full_time', 'extra_large_unit', 'at_home']\n",
      "2017-2018.xlsx\n",
      "['street_number', 'street_name', 'street_suffix', 'unit_number', 'zip_code', 'level_of_study', 'full_time', 'extra_large_unit', 'at_home']\n",
      "2019-2020.xlsx\n",
      "['street_number', 'street_name', 'street_suffix', 'unit_number', 'zip_code', 'level_of_study', 'full_time', 'extra_large_unit', 'at_home']\n",
      "2023-2024.xlsx\n",
      "['street_number', 'street_name', 'street_suffix', 'unit_number', 'zip_code', 'level_of_study', 'full_time', 'extra_large_unit', 'at_home']\n",
      "2020-2021.xlsx\n",
      "['street_number', 'street_name', 'street_suffix', 'unit_number', 'zip_code', 'level_of_study', 'full_time', 'extra_large_unit', 'at_home']\n",
      "2016-2017.xlsx\n",
      "['street_number', 'street_name', 'street_suffix', 'unit_number', 'zip_code', 'level_of_study', 'full_time', 'extra_large_unit', 'at_home']\n",
      "2018-2019.xlsx\n",
      "['street_number', 'street_name', 'street_suffix', 'unit_number', 'zip_code', 'level_of_study', 'full_time', 'extra_large_unit', 'at_home']\n",
      "2021-2022.xlsx\n",
      "['street_number', 'street_name', 'street_suffix', 'unit_number', 'zip_code', 'level_of_study', 'full_time', 'extra_large_unit', 'at_home']\n"
     ]
    }
   ],
   "source": [
    "# now rearrange the columns so that at_home is last and extra_large_unit is second to last\n",
    "\n",
    "for key in dfs:\n",
    "    if 'extra_large_unit' in list(dfs[key].columns):\n",
    "        extra_large_unit = dfs[key]['extra_large_unit']\n",
    "        dfs[key].drop(columns=['extra_large_unit'], inplace=True)\n",
    "        dfs[key]['extra_large_unit'] = extra_large_unit\n",
    "\n",
    "for key in dfs:\n",
    "    if 'at_home' in list(dfs[key].columns):\n",
    "        at_home = dfs[key]['at_home']\n",
    "        dfs[key].drop(columns=['at_home'], inplace=True)\n",
    "        dfs[key]['at_home'] = at_home\n",
    "\n",
    "# now, check the columns\n",
    "for key in dfs:\n",
    "    print(key)\n",
    "    print(list(dfs[key].columns))"
   ]
  },
  {
   "cell_type": "code",
   "execution_count": 146,
   "metadata": {},
   "outputs": [],
   "source": [
    "# now, add year_range and university columns\n",
    "for key in dfs:\n",
    "    dfs[key]['year_range'] = key.split('.')[0]\n",
    "    dfs[key]['university'] = 'Boston University'"
   ]
  },
  {
   "cell_type": "code",
   "execution_count": 147,
   "metadata": {},
   "outputs": [
    {
     "data": {
      "text/html": [
       "<div>\n",
       "<style scoped>\n",
       "    .dataframe tbody tr th:only-of-type {\n",
       "        vertical-align: middle;\n",
       "    }\n",
       "\n",
       "    .dataframe tbody tr th {\n",
       "        vertical-align: top;\n",
       "    }\n",
       "\n",
       "    .dataframe thead th {\n",
       "        text-align: right;\n",
       "    }\n",
       "</style>\n",
       "<table border=\"1\" class=\"dataframe\">\n",
       "  <thead>\n",
       "    <tr style=\"text-align: right;\">\n",
       "      <th></th>\n",
       "      <th>street_number</th>\n",
       "      <th>street_name</th>\n",
       "      <th>street_suffix</th>\n",
       "      <th>unit_number</th>\n",
       "      <th>zip_code</th>\n",
       "      <th>level_of_study</th>\n",
       "      <th>full_time</th>\n",
       "      <th>extra_large_unit</th>\n",
       "      <th>at_home</th>\n",
       "      <th>year_range</th>\n",
       "      <th>university</th>\n",
       "    </tr>\n",
       "  </thead>\n",
       "  <tbody>\n",
       "    <tr>\n",
       "      <th>0</th>\n",
       "      <td>11</td>\n",
       "      <td>Revere</td>\n",
       "      <td>St</td>\n",
       "      <td></td>\n",
       "      <td>2114</td>\n",
       "      <td>G</td>\n",
       "      <td>FT</td>\n",
       "      <td>NaN</td>\n",
       "      <td>NaN</td>\n",
       "      <td>2022-2023</td>\n",
       "      <td>Boston University</td>\n",
       "    </tr>\n",
       "    <tr>\n",
       "      <th>1</th>\n",
       "      <td>42</td>\n",
       "      <td>8th</td>\n",
       "      <td>St</td>\n",
       "      <td>Apt 1307</td>\n",
       "      <td>2129</td>\n",
       "      <td>G</td>\n",
       "      <td>FT</td>\n",
       "      <td>NaN</td>\n",
       "      <td>NaN</td>\n",
       "      <td>2022-2023</td>\n",
       "      <td>Boston University</td>\n",
       "    </tr>\n",
       "    <tr>\n",
       "      <th>2</th>\n",
       "      <td>11</td>\n",
       "      <td>Aberdeen</td>\n",
       "      <td>St</td>\n",
       "      <td>Apartment 2A</td>\n",
       "      <td>2215</td>\n",
       "      <td>U</td>\n",
       "      <td>FT</td>\n",
       "      <td>NaN</td>\n",
       "      <td>NaN</td>\n",
       "      <td>2022-2023</td>\n",
       "      <td>Boston University</td>\n",
       "    </tr>\n",
       "    <tr>\n",
       "      <th>3</th>\n",
       "      <td>11</td>\n",
       "      <td>Aberdeen</td>\n",
       "      <td>st</td>\n",
       "      <td></td>\n",
       "      <td>2215</td>\n",
       "      <td>U</td>\n",
       "      <td>FT</td>\n",
       "      <td>NaN</td>\n",
       "      <td>NaN</td>\n",
       "      <td>2022-2023</td>\n",
       "      <td>Boston University</td>\n",
       "    </tr>\n",
       "    <tr>\n",
       "      <th>4</th>\n",
       "      <td>11</td>\n",
       "      <td>Aberdeen</td>\n",
       "      <td>St</td>\n",
       "      <td>#6A</td>\n",
       "      <td>2215</td>\n",
       "      <td>U</td>\n",
       "      <td>FT</td>\n",
       "      <td>NaN</td>\n",
       "      <td>NaN</td>\n",
       "      <td>2022-2023</td>\n",
       "      <td>Boston University</td>\n",
       "    </tr>\n",
       "  </tbody>\n",
       "</table>\n",
       "</div>"
      ],
      "text/plain": [
       "  street_number street_name street_suffix  \\\n",
       "0           11       Revere            St   \n",
       "1           42          8th            St   \n",
       "2           11     Aberdeen            St   \n",
       "3           11     Aberdeen            st   \n",
       "4           11     Aberdeen            St   \n",
       "\n",
       "                                unit_number  zip_code level_of_study  \\\n",
       "0                                                2114              G   \n",
       "1  Apt 1307                                      2129              G   \n",
       "2  Apartment 2A                                  2215              U   \n",
       "3                                                2215              U   \n",
       "4  #6A                                           2215              U   \n",
       "\n",
       "  full_time  extra_large_unit  at_home year_range         university  \n",
       "0        FT               NaN      NaN  2022-2023  Boston University  \n",
       "1        FT               NaN      NaN  2022-2023  Boston University  \n",
       "2        FT               NaN      NaN  2022-2023  Boston University  \n",
       "3        FT               NaN      NaN  2022-2023  Boston University  \n",
       "4        FT               NaN      NaN  2022-2023  Boston University  "
      ]
     },
     "execution_count": 147,
     "metadata": {},
     "output_type": "execute_result"
    }
   ],
   "source": [
    "dfs['2022-2023.xlsx'].head()"
   ]
  },
  {
   "cell_type": "code",
   "execution_count": 148,
   "metadata": {},
   "outputs": [
    {
     "data": {
      "text/html": [
       "<div>\n",
       "<style scoped>\n",
       "    .dataframe tbody tr th:only-of-type {\n",
       "        vertical-align: middle;\n",
       "    }\n",
       "\n",
       "    .dataframe tbody tr th {\n",
       "        vertical-align: top;\n",
       "    }\n",
       "\n",
       "    .dataframe thead th {\n",
       "        text-align: right;\n",
       "    }\n",
       "</style>\n",
       "<table border=\"1\" class=\"dataframe\">\n",
       "  <thead>\n",
       "    <tr style=\"text-align: right;\">\n",
       "      <th></th>\n",
       "      <th>street_number</th>\n",
       "      <th>street_name</th>\n",
       "      <th>street_suffix</th>\n",
       "      <th>unit_number</th>\n",
       "      <th>zip_code</th>\n",
       "      <th>level_of_study</th>\n",
       "      <th>full_time</th>\n",
       "      <th>extra_large_unit</th>\n",
       "      <th>at_home</th>\n",
       "      <th>year_range</th>\n",
       "      <th>university</th>\n",
       "    </tr>\n",
       "  </thead>\n",
       "  <tbody>\n",
       "    <tr>\n",
       "      <th>0</th>\n",
       "      <td>11</td>\n",
       "      <td>Revere</td>\n",
       "      <td>St</td>\n",
       "      <td></td>\n",
       "      <td>2114</td>\n",
       "      <td>G</td>\n",
       "      <td>FT</td>\n",
       "      <td>NaN</td>\n",
       "      <td>NaN</td>\n",
       "      <td>2022-2023</td>\n",
       "      <td>Boston University</td>\n",
       "    </tr>\n",
       "    <tr>\n",
       "      <th>1</th>\n",
       "      <td>42</td>\n",
       "      <td>8th</td>\n",
       "      <td>St</td>\n",
       "      <td>Apt 1307</td>\n",
       "      <td>2129</td>\n",
       "      <td>G</td>\n",
       "      <td>FT</td>\n",
       "      <td>NaN</td>\n",
       "      <td>NaN</td>\n",
       "      <td>2022-2023</td>\n",
       "      <td>Boston University</td>\n",
       "    </tr>\n",
       "    <tr>\n",
       "      <th>2</th>\n",
       "      <td>11</td>\n",
       "      <td>Aberdeen</td>\n",
       "      <td>St</td>\n",
       "      <td>Apartment 2A</td>\n",
       "      <td>2215</td>\n",
       "      <td>U</td>\n",
       "      <td>FT</td>\n",
       "      <td>NaN</td>\n",
       "      <td>NaN</td>\n",
       "      <td>2022-2023</td>\n",
       "      <td>Boston University</td>\n",
       "    </tr>\n",
       "    <tr>\n",
       "      <th>3</th>\n",
       "      <td>11</td>\n",
       "      <td>Aberdeen</td>\n",
       "      <td>st</td>\n",
       "      <td></td>\n",
       "      <td>2215</td>\n",
       "      <td>U</td>\n",
       "      <td>FT</td>\n",
       "      <td>NaN</td>\n",
       "      <td>NaN</td>\n",
       "      <td>2022-2023</td>\n",
       "      <td>Boston University</td>\n",
       "    </tr>\n",
       "    <tr>\n",
       "      <th>4</th>\n",
       "      <td>11</td>\n",
       "      <td>Aberdeen</td>\n",
       "      <td>St</td>\n",
       "      <td>#6A</td>\n",
       "      <td>2215</td>\n",
       "      <td>U</td>\n",
       "      <td>FT</td>\n",
       "      <td>NaN</td>\n",
       "      <td>NaN</td>\n",
       "      <td>2022-2023</td>\n",
       "      <td>Boston University</td>\n",
       "    </tr>\n",
       "  </tbody>\n",
       "</table>\n",
       "</div>"
      ],
      "text/plain": [
       "  street_number street_name street_suffix  \\\n",
       "0           11       Revere            St   \n",
       "1           42          8th            St   \n",
       "2           11     Aberdeen            St   \n",
       "3           11     Aberdeen            st   \n",
       "4           11     Aberdeen            St   \n",
       "\n",
       "                                unit_number  zip_code level_of_study  \\\n",
       "0                                                2114              G   \n",
       "1  Apt 1307                                      2129              G   \n",
       "2  Apartment 2A                                  2215              U   \n",
       "3                                                2215              U   \n",
       "4  #6A                                           2215              U   \n",
       "\n",
       "  full_time extra_large_unit at_home year_range         university  \n",
       "0        FT              NaN     NaN  2022-2023  Boston University  \n",
       "1        FT              NaN     NaN  2022-2023  Boston University  \n",
       "2        FT              NaN     NaN  2022-2023  Boston University  \n",
       "3        FT              NaN     NaN  2022-2023  Boston University  \n",
       "4        FT              NaN     NaN  2022-2023  Boston University  "
      ]
     },
     "execution_count": 148,
     "metadata": {},
     "output_type": "execute_result"
    }
   ],
   "source": [
    "# now, concatenate all the dfs\n",
    "df = pd.concat(dfs.values(), ignore_index=True)\n",
    "\n",
    "df.head()"
   ]
  },
  {
   "cell_type": "code",
   "execution_count": 150,
   "metadata": {},
   "outputs": [],
   "source": [
    "# save as BostonUniversity.csv\n",
    "df.to_csv('BostonUniversity.csv', index=False)"
   ]
  },
  {
   "cell_type": "markdown",
   "metadata": {},
   "source": [
    "# Baptist College"
   ]
  },
  {
   "cell_type": "code",
   "execution_count": 157,
   "metadata": {},
   "outputs": [],
   "source": [
    "def read_files_from_dir(dirname):\n",
    "    files = os.listdir(dirname)\n",
    "    if '.DS_Store' in files:\n",
    "        files.remove('.DS_Store')\n",
    "    return sorted(files)"
   ]
  },
  {
   "cell_type": "code",
   "execution_count": 158,
   "metadata": {},
   "outputs": [],
   "source": [
    "dir = './data/BaptistCollege/'\n",
    "files = read_files_from_dir(dir)"
   ]
  },
  {
   "cell_type": "code",
   "execution_count": 163,
   "metadata": {},
   "outputs": [],
   "source": [
    "files.remove('2021-2022.xlsx')"
   ]
  },
  {
   "cell_type": "code",
   "execution_count": 233,
   "metadata": {},
   "outputs": [],
   "source": [
    "def create_df_from_files(dir, files):\n",
    "    dfs = {}\n",
    "    for file in files:\n",
    "        df = pd.read_excel(dir + file, sheet_name='Student Addresses')\n",
    "        dfs[file] = df\n",
    "    return dfs"
   ]
  },
  {
   "cell_type": "code",
   "execution_count": 165,
   "metadata": {},
   "outputs": [],
   "source": [
    "dfs = create_df_from_files(dir, files)"
   ]
  },
  {
   "cell_type": "code",
   "execution_count": 166,
   "metadata": {},
   "outputs": [
    {
     "name": "stdout",
     "output_type": "stream",
     "text": [
      "2016-2017.xlsx\n",
      "['6a. \\nStreet #', '6b. \\nStreet Name', '6c. \\nStreet Suffix  ', '6d.\\n Unit #', '6e. \\nZip', '7. \\nUndergraduate (U) or Graduate (G)', '8. \\nFull-time (FT) or \\nPart-time (PT)', '9. \\n 5 or More Undergrads/Unit\\n(Y/N)']\n",
      "2017-2018.xlsx\n",
      "['6a. \\nStreet #', '6b. \\nStreet Name', '6c. \\nStreet Suffix  ', '6d.\\n Unit #', '6e. \\nZip', '7. \\nUndergraduate (U) or Graduate (G)', '8. \\nFull-time (FT) or \\nPart-time (PT)', '9. \\n 5 or More Undergrads/Unit\\n(Y/N)']\n",
      "2018-2019.xlsx\n",
      "['6a. \\nStreet #', '6b. \\nStreet Name', '6c. \\nStreet Suffix  ', '6d.\\n Unit #', '6e. \\nZip', '7. \\nUndergraduate (U) or Graduate (G)', '8. \\nFull-time (FT) or \\nPart-time (PT)', '9. \\n 5 or More Undergrads/Unit\\n(Y/N)']\n",
      "2019-2020.xlsx\n",
      "['6a. \\nStreet #', '6b. \\nStreet Name', '6c. \\nStreet Suffix  ', '6d.\\n Unit #', '6e. \\nZip', '7. \\nUndergraduate (U) or Graduate (G)', '8. \\nFull-time (FT) or \\nPart-time (PT)', '9. \\n 5 or More Undergrads/Unit\\n(Y/N)']\n",
      "2020-2021.xlsx\n",
      "['6a. \\nStreet #', '6b. \\nStreet Name', '6c. \\nStreet Suffix  ', '6d.\\n Unit #', '6e. \\nZip', '7. \\nUndergraduate (U) or Graduate (G)', '8. \\nFull-time (FT) or \\nPart-time (PT)', '9. \\n 5 or More Undergrads/Unit\\n(Y/N)']\n",
      "2022-2023.xlsx\n",
      "['6a. \\nStreet #', '6b. \\nStreet Name', '6c. \\nStreet Suffix  ', '6d.\\n Unit #', '6e. \\nZip', '7. \\nUndergraduate (U) or Graduate (G)', '8. \\nFull-time (FT) or \\nPart-time (PT)', '9. \\n 5 or More Undergrads/Unit\\n(Y/N)']\n",
      "2023-2024.xlsx\n",
      "['6a. \\nStreet #', '6b. \\nStreet Name', '6c. \\nStreet Suffix  ', '6d.\\n Unit #', '6e. \\nZip', '7. \\nUndergraduate (U) or Graduate (G)', '8. \\nFull-time (FT) or \\nPart-time (PT)', '9. \\nAt-Home or Not-at-Home']\n"
     ]
    }
   ],
   "source": [
    "# print the columns of each df\n",
    "for key in dfs.keys():\n",
    "    print(key)\n",
    "    print(list(dfs[key].columns))"
   ]
  },
  {
   "cell_type": "code",
   "execution_count": 168,
   "metadata": {},
   "outputs": [],
   "source": [
    "dfs['2023-2024.xlsx'].columns = ['street_number','street_name','street_suffix','unit_number','zip_code','level_of_study','full_time', 'at_home']"
   ]
  },
  {
   "cell_type": "code",
   "execution_count": 170,
   "metadata": {},
   "outputs": [],
   "source": [
    "for key in dfs:\n",
    "    if key in ['2023-2024.xlsx']:\n",
    "        continue\n",
    "    dfs[key].columns = ['street_number','street_name','street_suffix','unit_number','zip_code','level_of_study','full_time','extra_large_unit']"
   ]
  },
  {
   "cell_type": "code",
   "execution_count": 171,
   "metadata": {},
   "outputs": [
    {
     "name": "stdout",
     "output_type": "stream",
     "text": [
      "2016-2017.xlsx\n",
      "['street_number', 'street_name', 'street_suffix', 'unit_number', 'zip_code', 'level_of_study', 'full_time', 'extra_large_unit', 'at_home']\n",
      "2017-2018.xlsx\n",
      "['street_number', 'street_name', 'street_suffix', 'unit_number', 'zip_code', 'level_of_study', 'full_time', 'extra_large_unit', 'at_home']\n",
      "2018-2019.xlsx\n",
      "['street_number', 'street_name', 'street_suffix', 'unit_number', 'zip_code', 'level_of_study', 'full_time', 'extra_large_unit', 'at_home']\n",
      "2019-2020.xlsx\n",
      "['street_number', 'street_name', 'street_suffix', 'unit_number', 'zip_code', 'level_of_study', 'full_time', 'extra_large_unit', 'at_home']\n",
      "2020-2021.xlsx\n",
      "['street_number', 'street_name', 'street_suffix', 'unit_number', 'zip_code', 'level_of_study', 'full_time', 'extra_large_unit', 'at_home']\n",
      "2022-2023.xlsx\n",
      "['street_number', 'street_name', 'street_suffix', 'unit_number', 'zip_code', 'level_of_study', 'full_time', 'extra_large_unit', 'at_home']\n",
      "2023-2024.xlsx\n",
      "['street_number', 'street_name', 'street_suffix', 'unit_number', 'zip_code', 'level_of_study', 'full_time', 'at_home', 'extra_large_unit']\n"
     ]
    }
   ],
   "source": [
    "# now, we need to add at_home column to the rest of the dfs and extra_large_unit to the first two dfs\n",
    "for key in dfs:\n",
    "    if key in ['2023-2024.xlsx']:\n",
    "        dfs[key]['extra_large_unit'] = np.nan\n",
    "    else:\n",
    "        dfs[key]['at_home'] = np.nan\n",
    "\n",
    "# now, check the columns\n",
    "for key in dfs:\n",
    "    print(key)\n",
    "    print(list(dfs[key].columns))"
   ]
  },
  {
   "cell_type": "code",
   "execution_count": 172,
   "metadata": {},
   "outputs": [
    {
     "name": "stdout",
     "output_type": "stream",
     "text": [
      "2016-2017.xlsx\n",
      "['street_number', 'street_name', 'street_suffix', 'unit_number', 'zip_code', 'level_of_study', 'full_time', 'extra_large_unit', 'at_home']\n",
      "2017-2018.xlsx\n",
      "['street_number', 'street_name', 'street_suffix', 'unit_number', 'zip_code', 'level_of_study', 'full_time', 'extra_large_unit', 'at_home']\n",
      "2018-2019.xlsx\n",
      "['street_number', 'street_name', 'street_suffix', 'unit_number', 'zip_code', 'level_of_study', 'full_time', 'extra_large_unit', 'at_home']\n",
      "2019-2020.xlsx\n",
      "['street_number', 'street_name', 'street_suffix', 'unit_number', 'zip_code', 'level_of_study', 'full_time', 'extra_large_unit', 'at_home']\n",
      "2020-2021.xlsx\n",
      "['street_number', 'street_name', 'street_suffix', 'unit_number', 'zip_code', 'level_of_study', 'full_time', 'extra_large_unit', 'at_home']\n",
      "2022-2023.xlsx\n",
      "['street_number', 'street_name', 'street_suffix', 'unit_number', 'zip_code', 'level_of_study', 'full_time', 'extra_large_unit', 'at_home']\n",
      "2023-2024.xlsx\n",
      "['street_number', 'street_name', 'street_suffix', 'unit_number', 'zip_code', 'level_of_study', 'full_time', 'extra_large_unit', 'at_home']\n"
     ]
    }
   ],
   "source": [
    "# now reorder the columns\n",
    "for key in dfs:\n",
    "    if 'extra_large_unit' in list(dfs[key].columns):\n",
    "        extra_large_unit = dfs[key]['extra_large_unit']\n",
    "        dfs[key].drop(columns=['extra_large_unit'], inplace=True)\n",
    "        dfs[key]['extra_large_unit'] = extra_large_unit\n",
    "\n",
    "for key in dfs:\n",
    "    if 'at_home' in list(dfs[key].columns):\n",
    "        at_home = dfs[key]['at_home']\n",
    "        dfs[key].drop(columns=['at_home'], inplace=True)\n",
    "        dfs[key]['at_home'] = at_home\n",
    "\n",
    "# now, check the columns\n",
    "for key in dfs:\n",
    "    print(key)\n",
    "    print(list(dfs[key].columns))"
   ]
  },
  {
   "cell_type": "code",
   "execution_count": 173,
   "metadata": {},
   "outputs": [
    {
     "data": {
      "text/html": [
       "<div>\n",
       "<style scoped>\n",
       "    .dataframe tbody tr th:only-of-type {\n",
       "        vertical-align: middle;\n",
       "    }\n",
       "\n",
       "    .dataframe tbody tr th {\n",
       "        vertical-align: top;\n",
       "    }\n",
       "\n",
       "    .dataframe thead th {\n",
       "        text-align: right;\n",
       "    }\n",
       "</style>\n",
       "<table border=\"1\" class=\"dataframe\">\n",
       "  <thead>\n",
       "    <tr style=\"text-align: right;\">\n",
       "      <th></th>\n",
       "      <th>street_number</th>\n",
       "      <th>street_name</th>\n",
       "      <th>street_suffix</th>\n",
       "      <th>unit_number</th>\n",
       "      <th>zip_code</th>\n",
       "      <th>level_of_study</th>\n",
       "      <th>full_time</th>\n",
       "      <th>extra_large_unit</th>\n",
       "      <th>at_home</th>\n",
       "      <th>year_range</th>\n",
       "      <th>university</th>\n",
       "    </tr>\n",
       "  </thead>\n",
       "  <tbody>\n",
       "    <tr>\n",
       "      <th>0</th>\n",
       "      <td>75</td>\n",
       "      <td>West Milton</td>\n",
       "      <td>St</td>\n",
       "      <td>NaN</td>\n",
       "      <td>2136</td>\n",
       "      <td>U</td>\n",
       "      <td>FT</td>\n",
       "      <td>NaN</td>\n",
       "      <td>At-Home</td>\n",
       "      <td>2023-2024</td>\n",
       "      <td>Baptist College</td>\n",
       "    </tr>\n",
       "    <tr>\n",
       "      <th>1</th>\n",
       "      <td>675</td>\n",
       "      <td>Concord</td>\n",
       "      <td>Ave</td>\n",
       "      <td>605.0</td>\n",
       "      <td>2138</td>\n",
       "      <td>U</td>\n",
       "      <td>PT</td>\n",
       "      <td>NaN</td>\n",
       "      <td>at-home</td>\n",
       "      <td>2023-2024</td>\n",
       "      <td>Baptist College</td>\n",
       "    </tr>\n",
       "  </tbody>\n",
       "</table>\n",
       "</div>"
      ],
      "text/plain": [
       "   street_number  street_name street_suffix  unit_number  zip_code  \\\n",
       "0             75  West Milton            St          NaN      2136   \n",
       "1            675      Concord           Ave        605.0      2138   \n",
       "\n",
       "  level_of_study full_time  extra_large_unit  at_home year_range  \\\n",
       "0              U        FT               NaN  At-Home  2023-2024   \n",
       "1              U        PT               NaN  at-home  2023-2024   \n",
       "\n",
       "        university  \n",
       "0  Baptist College  \n",
       "1  Baptist College  "
      ]
     },
     "execution_count": 173,
     "metadata": {},
     "output_type": "execute_result"
    }
   ],
   "source": [
    "# now, add year_range and university columns\n",
    "for key in dfs:\n",
    "    dfs[key]['year_range'] = key.split('.')[0]\n",
    "    dfs[key]['university'] = 'Baptist College'\n",
    "\n",
    "dfs['2023-2024.xlsx'].head()"
   ]
  },
  {
   "cell_type": "code",
   "execution_count": 175,
   "metadata": {},
   "outputs": [
    {
     "name": "stderr",
     "output_type": "stream",
     "text": [
      "/var/folders/84/77bd4kwn42z962bs6hf0gqnr0000gn/T/ipykernel_11897/2030390210.py:2: FutureWarning: The behavior of DataFrame concatenation with empty or all-NA entries is deprecated. In a future version, this will no longer exclude empty or all-NA columns when determining the result dtypes. To retain the old behavior, exclude the relevant entries before the concat operation.\n",
      "  df = pd.concat(dfs.values(), ignore_index=True)\n"
     ]
    },
    {
     "data": {
      "text/html": [
       "<div>\n",
       "<style scoped>\n",
       "    .dataframe tbody tr th:only-of-type {\n",
       "        vertical-align: middle;\n",
       "    }\n",
       "\n",
       "    .dataframe tbody tr th {\n",
       "        vertical-align: top;\n",
       "    }\n",
       "\n",
       "    .dataframe thead th {\n",
       "        text-align: right;\n",
       "    }\n",
       "</style>\n",
       "<table border=\"1\" class=\"dataframe\">\n",
       "  <thead>\n",
       "    <tr style=\"text-align: right;\">\n",
       "      <th></th>\n",
       "      <th>street_number</th>\n",
       "      <th>street_name</th>\n",
       "      <th>street_suffix</th>\n",
       "      <th>unit_number</th>\n",
       "      <th>zip_code</th>\n",
       "      <th>level_of_study</th>\n",
       "      <th>full_time</th>\n",
       "      <th>extra_large_unit</th>\n",
       "      <th>at_home</th>\n",
       "      <th>year_range</th>\n",
       "      <th>university</th>\n",
       "    </tr>\n",
       "  </thead>\n",
       "  <tbody>\n",
       "    <tr>\n",
       "      <th>0</th>\n",
       "      <td>66</td>\n",
       "      <td>Leighton</td>\n",
       "      <td>Rd.</td>\n",
       "      <td>NaN</td>\n",
       "      <td>2136</td>\n",
       "      <td>U</td>\n",
       "      <td>FT</td>\n",
       "      <td>N</td>\n",
       "      <td>NaN</td>\n",
       "      <td>2018-2019</td>\n",
       "      <td>Baptist College</td>\n",
       "    </tr>\n",
       "    <tr>\n",
       "      <th>1</th>\n",
       "      <td>66</td>\n",
       "      <td>Leighton</td>\n",
       "      <td>Rd.</td>\n",
       "      <td>NaN</td>\n",
       "      <td>2136</td>\n",
       "      <td>U</td>\n",
       "      <td>FT</td>\n",
       "      <td>N</td>\n",
       "      <td>NaN</td>\n",
       "      <td>2018-2019</td>\n",
       "      <td>Baptist College</td>\n",
       "    </tr>\n",
       "    <tr>\n",
       "      <th>2</th>\n",
       "      <td>50</td>\n",
       "      <td>Rockwell</td>\n",
       "      <td>St.</td>\n",
       "      <td>NaN</td>\n",
       "      <td>2124</td>\n",
       "      <td>U</td>\n",
       "      <td>PT</td>\n",
       "      <td>N</td>\n",
       "      <td>NaN</td>\n",
       "      <td>2019-2020</td>\n",
       "      <td>Baptist College</td>\n",
       "    </tr>\n",
       "    <tr>\n",
       "      <th>3</th>\n",
       "      <td>50</td>\n",
       "      <td>Rockwell</td>\n",
       "      <td>St.</td>\n",
       "      <td>NaN</td>\n",
       "      <td>2124</td>\n",
       "      <td>U</td>\n",
       "      <td>PT</td>\n",
       "      <td>N</td>\n",
       "      <td>NaN</td>\n",
       "      <td>2020-2021</td>\n",
       "      <td>Baptist College</td>\n",
       "    </tr>\n",
       "    <tr>\n",
       "      <th>4</th>\n",
       "      <td>75</td>\n",
       "      <td>West Milton</td>\n",
       "      <td>St</td>\n",
       "      <td>NaN</td>\n",
       "      <td>2136</td>\n",
       "      <td>U</td>\n",
       "      <td>FT</td>\n",
       "      <td>NaN</td>\n",
       "      <td>At-Home</td>\n",
       "      <td>2023-2024</td>\n",
       "      <td>Baptist College</td>\n",
       "    </tr>\n",
       "  </tbody>\n",
       "</table>\n",
       "</div>"
      ],
      "text/plain": [
       "  street_number  street_name street_suffix  unit_number zip_code  \\\n",
       "0            66     Leighton          Rd.           NaN     2136   \n",
       "1            66     Leighton          Rd.           NaN     2136   \n",
       "2            50     Rockwell           St.          NaN     2124   \n",
       "3            50    Rockwell            St.          NaN     2124   \n",
       "4            75  West Milton            St          NaN     2136   \n",
       "\n",
       "  level_of_study full_time extra_large_unit  at_home year_range  \\\n",
       "0              U        FT                N      NaN  2018-2019   \n",
       "1             U         FT                N      NaN  2018-2019   \n",
       "2              U        PT                N      NaN  2019-2020   \n",
       "3              U        PT                N      NaN  2020-2021   \n",
       "4              U        FT              NaN  At-Home  2023-2024   \n",
       "\n",
       "        university  \n",
       "0  Baptist College  \n",
       "1  Baptist College  \n",
       "2  Baptist College  \n",
       "3  Baptist College  \n",
       "4  Baptist College  "
      ]
     },
     "execution_count": 175,
     "metadata": {},
     "output_type": "execute_result"
    }
   ],
   "source": [
    "# now, concatenate all the dfs ( allow for missing columns )\n",
    "df = pd.concat(dfs.values(), ignore_index=True)\n",
    "\n",
    "df.head()"
   ]
  },
  {
   "cell_type": "code",
   "execution_count": 176,
   "metadata": {},
   "outputs": [],
   "source": [
    "# save as BaptistCollege.csv\n",
    "df.to_csv('BaptistCollege.csv', index=False)"
   ]
  },
  {
   "cell_type": "markdown",
   "metadata": {},
   "source": [
    "# BayStateCollege"
   ]
  },
  {
   "cell_type": "code",
   "execution_count": 203,
   "metadata": {},
   "outputs": [
    {
     "name": "stdout",
     "output_type": "stream",
     "text": [
      "2016-2017.xlsx\n",
      "['6a. \\nStreet #', '6b. \\nStreet Name', '6c. \\nStreet Suffix  ', '6d.\\n Unit #', '6e. \\nZip', '7. \\nUndergraduate (U) or Graduate (G)', '8. \\nFull-time (FT) or \\nPart-time (PT)', '9. \\n 5 or More Undergrads/Unit\\n(Y/N)']\n",
      "2017-2018.xlsx\n",
      "['6a. \\nStreet #', '6b. \\nStreet Name', '6c. \\nStreet Suffix  ', '6d.\\n Unit #', '6e. \\nZip', '7. \\nUndergraduate (U) or Graduate (G)', '8. \\nFull-time (FT) or \\nPart-time (PT)', '9. \\n 5 or More Undergrads/Unit\\n(Y/N)']\n",
      "2018-2019.xlsx\n",
      "['6a. \\nStreet #', '6b. \\nStreet Name', '6c. \\nStreet Suffix  ', '6d.\\n Unit #', '6e. \\nZip', '7. \\nUndergraduate (U) or Graduate (G)', '8. \\nFull-time (FT) or \\nPart-time (PT)', '9. \\n 5 or More Undergrads/Unit\\n(Y/N)']\n",
      "2019-2020.xlsx\n",
      "['6a. \\nStreet #', '6b. \\nStreet Name', 'Unnamed: 2', '6d.\\n Unit #', '6e. \\nZip', '7. \\nUndergraduate (U) or Graduate (G)', '8. \\nFull-time (FT) or \\nPart-time (PT)', '9. \\n 5 or More Undergrads/Unit\\n(Y/N)']\n",
      "2020-2021.xlsx\n",
      "['6a. \\nStreet #', '6b. \\nStreet Name', 'Unnamed: 2', '6d.\\n Unit #', '6e. \\nZip', '7. \\nUndergraduate (U) or Graduate (G)', '8. \\nFull-time (FT) or \\nPart-time (PT)', '9. \\n 5 or More Undergrads/Unit\\n(Y/N)', '10. At Home or Not at Home']\n",
      "2021-2022.xlsx\n",
      "['6a. \\nStreet #', '6b. \\nStreet Name', '6c. \\nStreet Suffix  ', '6d.\\n Unit #', '6e. \\nZip', '7. \\nUndergraduate (U) or Graduate (G)', '8. \\nFull-time (FT) or \\nPart-time (PT)', '9. \\n 5 or More Undergrads/Unit\\n(Y/N)']\n",
      "2022-2023.xlsx\n",
      "['6a. \\nStreet #', '6b. \\nStreet Name', '6c. \\nStreet Suffix  ', '6d.\\n Unit #', '6e. \\nZip', '7. \\nUndergraduate (U) or Graduate (G)', '8. \\nFull-time (FT) or \\nPart-time (PT)', '9. \\nAt-Home or Not-at-Home']\n"
     ]
    }
   ],
   "source": [
    "dir = './data/BayStateCollege/'\n",
    "files = read_files_from_dir(dir)\n",
    "\n",
    "dfs = create_df_from_files(dir, files)\n",
    "\n",
    "# print the columns of each df\n",
    "for key in dfs.keys():\n",
    "    print(key)\n",
    "    print(list(dfs[key].columns))"
   ]
  },
  {
   "cell_type": "code",
   "execution_count": 204,
   "metadata": {},
   "outputs": [],
   "source": [
    "# from 2016-2017 to 2019-2020 there is no at-home column\n",
    "\n",
    "for key in dfs:\n",
    "    if key in ['2016-2017.xlsx','2017-2018.xlsx','2018-2019.xlsx','2019-2020.xlsx','2021-2022.xlsx']:\n",
    "        dfs[key].columns = ['street_number','street_name','street_suffix','unit_number','zip_code','level_of_study','full_time','extra_large_unit']"
   ]
  },
  {
   "cell_type": "code",
   "execution_count": 208,
   "metadata": {},
   "outputs": [
    {
     "name": "stdout",
     "output_type": "stream",
     "text": [
      "2016-2017.xlsx\n",
      "['street_number', 'street_name', 'street_suffix', 'unit_number', 'zip_code', 'level_of_study', 'full_time', 'extra_large_unit']\n",
      "2017-2018.xlsx\n",
      "['street_number', 'street_name', 'street_suffix', 'unit_number', 'zip_code', 'level_of_study', 'full_time', 'extra_large_unit']\n",
      "2018-2019.xlsx\n",
      "['street_number', 'street_name', 'street_suffix', 'unit_number', 'zip_code', 'level_of_study', 'full_time', 'extra_large_unit']\n",
      "2019-2020.xlsx\n",
      "['street_number', 'street_name', 'street_suffix', 'unit_number', 'zip_code', 'level_of_study', 'full_time', 'extra_large_unit']\n",
      "2020-2021.xlsx\n",
      "['street_number', 'street_name', 'street_suffix', 'unit_number', 'zip_code', 'level_of_study', 'full_time', 'extra_large_unit', 'at_home']\n",
      "2021-2022.xlsx\n",
      "['street_number', 'street_name', 'street_suffix', 'unit_number', 'zip_code', 'level_of_study', 'full_time', 'extra_large_unit']\n",
      "2022-2023.xlsx\n",
      "['street_number', 'street_name', 'street_suffix', 'unit_number', 'zip_code', 'level_of_study', 'full_time', 'at_home']\n"
     ]
    }
   ],
   "source": [
    "# print the columns of each df\n",
    "for key in dfs.keys():\n",
    "    print(key)\n",
    "    print(list(dfs[key].columns))"
   ]
  },
  {
   "cell_type": "code",
   "execution_count": 206,
   "metadata": {},
   "outputs": [],
   "source": [
    "# 2020-2021 has at-home column ( at the end )\n",
    "dfs['2020-2021.xlsx'].columns = ['street_number','street_name','street_suffix','unit_number','zip_code','level_of_study','full_time','extra_large_unit','at_home']"
   ]
  },
  {
   "cell_type": "code",
   "execution_count": 207,
   "metadata": {},
   "outputs": [],
   "source": [
    "dfs['2022-2023.xlsx'].columns = ['street_number','street_name','street_suffix','unit_number','zip_code','level_of_study','full_time','at_home']"
   ]
  },
  {
   "cell_type": "code",
   "execution_count": 210,
   "metadata": {},
   "outputs": [],
   "source": [
    "# now, add at_home where it is missing, and extra_large_unit where it is missing\n",
    "for key in dfs:\n",
    "    if 'at_home' not in list(dfs[key].columns):\n",
    "        dfs[key]['at_home'] = np.nan\n",
    "\n",
    "    if 'extra_large_unit' not in list(dfs[key].columns):\n",
    "        dfs[key]['extra_large_unit'] = np.nan"
   ]
  },
  {
   "cell_type": "code",
   "execution_count": 211,
   "metadata": {},
   "outputs": [
    {
     "name": "stdout",
     "output_type": "stream",
     "text": [
      "2016-2017.xlsx\n",
      "['street_number', 'street_name', 'street_suffix', 'unit_number', 'zip_code', 'level_of_study', 'full_time', 'extra_large_unit', 'at_home']\n",
      "2017-2018.xlsx\n",
      "['street_number', 'street_name', 'street_suffix', 'unit_number', 'zip_code', 'level_of_study', 'full_time', 'extra_large_unit', 'at_home']\n",
      "2018-2019.xlsx\n",
      "['street_number', 'street_name', 'street_suffix', 'unit_number', 'zip_code', 'level_of_study', 'full_time', 'extra_large_unit', 'at_home']\n",
      "2019-2020.xlsx\n",
      "['street_number', 'street_name', 'street_suffix', 'unit_number', 'zip_code', 'level_of_study', 'full_time', 'extra_large_unit', 'at_home']\n",
      "2020-2021.xlsx\n",
      "['street_number', 'street_name', 'street_suffix', 'unit_number', 'zip_code', 'level_of_study', 'full_time', 'extra_large_unit', 'at_home']\n",
      "2021-2022.xlsx\n",
      "['street_number', 'street_name', 'street_suffix', 'unit_number', 'zip_code', 'level_of_study', 'full_time', 'extra_large_unit', 'at_home']\n",
      "2022-2023.xlsx\n",
      "['street_number', 'street_name', 'street_suffix', 'unit_number', 'zip_code', 'level_of_study', 'full_time', 'at_home', 'extra_large_unit']\n"
     ]
    }
   ],
   "source": [
    "# now, check the columns\n",
    "for key in dfs:\n",
    "    print(key)\n",
    "    print(list(dfs[key].columns))"
   ]
  },
  {
   "cell_type": "code",
   "execution_count": 212,
   "metadata": {},
   "outputs": [],
   "source": [
    "# now reorder the columns\n",
    "for key in dfs:\n",
    "    if 'extra_large_unit' in list(dfs[key].columns):\n",
    "        extra_large_unit = dfs[key]['extra_large_unit']\n",
    "        dfs[key].drop(columns=['extra_large_unit'], inplace=True)\n",
    "        dfs[key]['extra_large_unit'] = extra_large_unit\n",
    "\n",
    "for key in dfs:\n",
    "    if 'at_home' in list(dfs[key].columns):\n",
    "        at_home = dfs[key]['at_home']\n",
    "        dfs[key].drop(columns=['at_home'], inplace=True)\n",
    "        dfs[key]['at_home'] = at_home"
   ]
  },
  {
   "cell_type": "code",
   "execution_count": 213,
   "metadata": {},
   "outputs": [
    {
     "name": "stdout",
     "output_type": "stream",
     "text": [
      "2016-2017.xlsx\n",
      "['street_number', 'street_name', 'street_suffix', 'unit_number', 'zip_code', 'level_of_study', 'full_time', 'extra_large_unit', 'at_home']\n",
      "2017-2018.xlsx\n",
      "['street_number', 'street_name', 'street_suffix', 'unit_number', 'zip_code', 'level_of_study', 'full_time', 'extra_large_unit', 'at_home']\n",
      "2018-2019.xlsx\n",
      "['street_number', 'street_name', 'street_suffix', 'unit_number', 'zip_code', 'level_of_study', 'full_time', 'extra_large_unit', 'at_home']\n",
      "2019-2020.xlsx\n",
      "['street_number', 'street_name', 'street_suffix', 'unit_number', 'zip_code', 'level_of_study', 'full_time', 'extra_large_unit', 'at_home']\n",
      "2020-2021.xlsx\n",
      "['street_number', 'street_name', 'street_suffix', 'unit_number', 'zip_code', 'level_of_study', 'full_time', 'extra_large_unit', 'at_home']\n",
      "2021-2022.xlsx\n",
      "['street_number', 'street_name', 'street_suffix', 'unit_number', 'zip_code', 'level_of_study', 'full_time', 'extra_large_unit', 'at_home']\n",
      "2022-2023.xlsx\n",
      "['street_number', 'street_name', 'street_suffix', 'unit_number', 'zip_code', 'level_of_study', 'full_time', 'extra_large_unit', 'at_home']\n"
     ]
    }
   ],
   "source": [
    "# print the columns of each df\n",
    "for key in dfs.keys():\n",
    "    print(key)\n",
    "    print(list(dfs[key].columns))"
   ]
  },
  {
   "cell_type": "code",
   "execution_count": 214,
   "metadata": {},
   "outputs": [],
   "source": [
    "# now, add year_range and university columns\n",
    "for key in dfs:\n",
    "    dfs[key]['year_range'] = key.split('.')[0]\n",
    "    dfs[key]['university'] = 'Bay State College'"
   ]
  },
  {
   "cell_type": "code",
   "execution_count": 215,
   "metadata": {},
   "outputs": [
    {
     "data": {
      "text/html": [
       "<div>\n",
       "<style scoped>\n",
       "    .dataframe tbody tr th:only-of-type {\n",
       "        vertical-align: middle;\n",
       "    }\n",
       "\n",
       "    .dataframe tbody tr th {\n",
       "        vertical-align: top;\n",
       "    }\n",
       "\n",
       "    .dataframe thead th {\n",
       "        text-align: right;\n",
       "    }\n",
       "</style>\n",
       "<table border=\"1\" class=\"dataframe\">\n",
       "  <thead>\n",
       "    <tr style=\"text-align: right;\">\n",
       "      <th></th>\n",
       "      <th>street_number</th>\n",
       "      <th>street_name</th>\n",
       "      <th>street_suffix</th>\n",
       "      <th>unit_number</th>\n",
       "      <th>zip_code</th>\n",
       "      <th>level_of_study</th>\n",
       "      <th>full_time</th>\n",
       "      <th>extra_large_unit</th>\n",
       "      <th>at_home</th>\n",
       "      <th>year_range</th>\n",
       "      <th>university</th>\n",
       "    </tr>\n",
       "  </thead>\n",
       "  <tbody>\n",
       "    <tr>\n",
       "      <th>0</th>\n",
       "      <td>45</td>\n",
       "      <td>Province</td>\n",
       "      <td>Street</td>\n",
       "      <td>1106</td>\n",
       "      <td>02108</td>\n",
       "      <td>U</td>\n",
       "      <td>FT</td>\n",
       "      <td>N</td>\n",
       "      <td>NaN</td>\n",
       "      <td>2016-2017</td>\n",
       "      <td>Bay State College</td>\n",
       "    </tr>\n",
       "    <tr>\n",
       "      <th>1</th>\n",
       "      <td>48</td>\n",
       "      <td>Richfield</td>\n",
       "      <td>Street</td>\n",
       "      <td>NaN</td>\n",
       "      <td>02125</td>\n",
       "      <td>U</td>\n",
       "      <td>FT</td>\n",
       "      <td>N</td>\n",
       "      <td>NaN</td>\n",
       "      <td>2016-2017</td>\n",
       "      <td>Bay State College</td>\n",
       "    </tr>\n",
       "    <tr>\n",
       "      <th>2</th>\n",
       "      <td>40</td>\n",
       "      <td>Langdon</td>\n",
       "      <td>Street</td>\n",
       "      <td>NaN</td>\n",
       "      <td>02119</td>\n",
       "      <td>U</td>\n",
       "      <td>FT</td>\n",
       "      <td>N</td>\n",
       "      <td>NaN</td>\n",
       "      <td>2016-2017</td>\n",
       "      <td>Bay State College</td>\n",
       "    </tr>\n",
       "    <tr>\n",
       "      <th>3</th>\n",
       "      <td>42</td>\n",
       "      <td>Langdon</td>\n",
       "      <td>Street</td>\n",
       "      <td>NaN</td>\n",
       "      <td>02119</td>\n",
       "      <td>U</td>\n",
       "      <td>FT</td>\n",
       "      <td>N</td>\n",
       "      <td>NaN</td>\n",
       "      <td>2016-2017</td>\n",
       "      <td>Bay State College</td>\n",
       "    </tr>\n",
       "    <tr>\n",
       "      <th>4</th>\n",
       "      <td>59</td>\n",
       "      <td>B Street</td>\n",
       "      <td>Street</td>\n",
       "      <td>3015</td>\n",
       "      <td>02127</td>\n",
       "      <td>U</td>\n",
       "      <td>FT</td>\n",
       "      <td>N</td>\n",
       "      <td>NaN</td>\n",
       "      <td>2016-2017</td>\n",
       "      <td>Bay State College</td>\n",
       "    </tr>\n",
       "  </tbody>\n",
       "</table>\n",
       "</div>"
      ],
      "text/plain": [
       "  street_number street_name street_suffix unit_number    zip_code  \\\n",
       "0            45   Province         Street        1106  02108        \n",
       "1            48  Richfield         Street         NaN  02125        \n",
       "2            40     Langdon        Street         NaN  02119        \n",
       "3            42     Langdon        Street         NaN  02119        \n",
       "4            59    B Street        Street        3015  02127        \n",
       "\n",
       "  level_of_study full_time extra_large_unit at_home year_range  \\\n",
       "0              U        FT                N     NaN  2016-2017   \n",
       "1              U        FT                N     NaN  2016-2017   \n",
       "2              U        FT                N     NaN  2016-2017   \n",
       "3              U        FT                N     NaN  2016-2017   \n",
       "4              U        FT                N     NaN  2016-2017   \n",
       "\n",
       "          university  \n",
       "0  Bay State College  \n",
       "1  Bay State College  \n",
       "2  Bay State College  \n",
       "3  Bay State College  \n",
       "4  Bay State College  "
      ]
     },
     "execution_count": 215,
     "metadata": {},
     "output_type": "execute_result"
    }
   ],
   "source": [
    "# now, concatenate all the dfs ( allow for missing columns )\n",
    "df = pd.concat(dfs.values(), ignore_index=True)\n",
    "\n",
    "df.head()"
   ]
  },
  {
   "cell_type": "code",
   "execution_count": 216,
   "metadata": {},
   "outputs": [],
   "source": [
    "# save as BayStateCollege.csv\n",
    "df.to_csv('./data/clean/BayStateCollege.csv', index=False)"
   ]
  },
  {
   "cell_type": "markdown",
   "metadata": {},
   "source": [
    "# BerkleeCollegeMusic"
   ]
  },
  {
   "cell_type": "code",
   "execution_count": 218,
   "metadata": {},
   "outputs": [
    {
     "name": "stderr",
     "output_type": "stream",
     "text": [
      "/Library/Frameworks/Python.framework/Versions/3.12/lib/python3.12/site-packages/openpyxl/worksheet/_reader.py:329: UserWarning: Unknown extension is not supported and will be removed\n",
      "  warn(msg)\n"
     ]
    }
   ],
   "source": [
    "dir = './data/BerkleeCollegeMusic/'\n",
    "files = read_files_from_dir(dir)\n",
    "\n",
    "dfs = create_df_from_files(dir, files)"
   ]
  },
  {
   "cell_type": "code",
   "execution_count": 219,
   "metadata": {},
   "outputs": [
    {
     "name": "stdout",
     "output_type": "stream",
     "text": [
      "2016-2017.xlsx\n",
      "['6a. \\nStreet #', '6b. \\nStreet Name', '6c. \\nStreet Suffix  ', '6d.\\n Unit #', '6e. \\nZip', '7. \\nUndergraduate (U) or Graduate (G)', '8. \\nFull-time (FT) or \\nPart-time (PT)', '9. \\n 5 or More Undergrads/Unit\\n(Y/N)']\n",
      "2017-2018.xlsx\n",
      "['6a. \\nStreet #', '6b. \\nStreet Name', '6c. \\nStreet Suffix  ', '6d.\\n Unit #', '6e. \\nZip', '7. \\nUndergraduate (U) or Graduate (G)', '8. \\nFull-time (FT) or \\nPart-time (PT)', '9. \\n 5 or More Undergrads/Unit\\n(Y/N)']\n",
      "2018-2019.xlsx\n",
      "['6a. \\nStreet #', '6b. \\nStreet Name', '6c. \\nStreet Suffix  ', '6d.\\n Unit #', '6e. \\nZip', '7. \\nUndergraduate (U) or Graduate (G)', '8. \\nFull-time (FT) or \\nPart-time (PT)', '9. \\n 5 or More Undergrads/Unit\\n(Y/N)']\n",
      "2019-2020.xlsx\n",
      "['6a. \\nStreet #', '6b. \\nStreet Name', '6c. \\nStreet Suffix  ', '6d.\\n Unit #', '6e. \\nZip', '7. \\nUndergraduate (U) or Graduate (G)', '8. \\nFull-time (FT) or \\nPart-time (PT)', '9. \\n 5 or More Undergrads/Unit\\n(Y/N)']\n",
      "2020-2021.xlsx\n",
      "['6a. \\nStreet #', '6b. \\nStreet Name', '6c. \\nStreet Suffix  ', '6d.\\n Unit #', '6e. \\nZip', '7. \\nUndergraduate (U) or Graduate (G)', '8. \\nFull-time (FT) or \\nPart-time (PT)', '9. \\n 5 or More Undergrads/Unit\\n(Y/N)']\n",
      "2021-2022.xlsx\n",
      "['6a. \\nStreet #', '6b. \\nStreet Name', '6c. \\nStreet Suffix  ', '6d.\\n Unit #', '6e. \\nZip', '7. \\nUndergraduate (U) or Graduate (G)', '8. \\nFull-time (FT) or \\nPart-time (PT)', '9. \\n 5 or More Undergrads/Unit\\n(Y/N)']\n",
      "2022-2023.xlsx\n",
      "['6a. \\nStreet #', '6b. \\nStreet Name', '6c. \\nStreet Suffix  ', '6d.\\n Unit #', '6e. \\nZip', '7. \\nUndergraduate (U) or Graduate (G)', '8. \\nFull-time (FT) or \\nPart-time (PT)', '9. \\nAt-Home or Not-at-Home']\n",
      "2023-2024.xlsx\n",
      "['6a. \\nStreet #', '6b. \\nStreet Name', '6c. \\nStreet Suffix  ', '6d.\\n Unit #', '6e. \\nZip', '7. \\nUndergraduate (U) or Graduate (G)', '8. \\nFull-time (FT) or \\nPart-time (PT)', '9. \\nAt-Home or Not-at-Home']\n"
     ]
    }
   ],
   "source": [
    "# print the columns of each df\n",
    "for key in dfs.keys():\n",
    "    print(key)\n",
    "    print(list(dfs[key].columns))"
   ]
  },
  {
   "cell_type": "code",
   "execution_count": 220,
   "metadata": {},
   "outputs": [],
   "source": [
    "# up to 2022-2023, there is no at-home column\n",
    "for key in dfs:\n",
    "    if key in ['2022-2023.xlsx','2023-2024.xlsx']:\n",
    "        dfs[key].columns = ['street_number','street_name','street_suffix','unit_number','zip_code','level_of_study','full_time','at_home']\n",
    "    else:\n",
    "        dfs[key].columns = ['street_number','street_name','street_suffix','unit_number','zip_code','level_of_study','full_time','extra_large_unit']"
   ]
  },
  {
   "cell_type": "code",
   "execution_count": 221,
   "metadata": {},
   "outputs": [
    {
     "name": "stdout",
     "output_type": "stream",
     "text": [
      "2016-2017.xlsx\n",
      "['street_number', 'street_name', 'street_suffix', 'unit_number', 'zip_code', 'level_of_study', 'full_time', 'extra_large_unit']\n",
      "2017-2018.xlsx\n",
      "['street_number', 'street_name', 'street_suffix', 'unit_number', 'zip_code', 'level_of_study', 'full_time', 'extra_large_unit']\n",
      "2018-2019.xlsx\n",
      "['street_number', 'street_name', 'street_suffix', 'unit_number', 'zip_code', 'level_of_study', 'full_time', 'extra_large_unit']\n",
      "2019-2020.xlsx\n",
      "['street_number', 'street_name', 'street_suffix', 'unit_number', 'zip_code', 'level_of_study', 'full_time', 'extra_large_unit']\n",
      "2020-2021.xlsx\n",
      "['street_number', 'street_name', 'street_suffix', 'unit_number', 'zip_code', 'level_of_study', 'full_time', 'extra_large_unit']\n",
      "2021-2022.xlsx\n",
      "['street_number', 'street_name', 'street_suffix', 'unit_number', 'zip_code', 'level_of_study', 'full_time', 'extra_large_unit']\n",
      "2022-2023.xlsx\n",
      "['street_number', 'street_name', 'street_suffix', 'unit_number', 'zip_code', 'level_of_study', 'full_time', 'at_home']\n",
      "2023-2024.xlsx\n",
      "['street_number', 'street_name', 'street_suffix', 'unit_number', 'zip_code', 'level_of_study', 'full_time', 'at_home']\n"
     ]
    }
   ],
   "source": [
    "# print the columns of each df\n",
    "for key in dfs.keys():\n",
    "    print(key)\n",
    "    print(list(dfs[key].columns))"
   ]
  },
  {
   "cell_type": "code",
   "execution_count": 222,
   "metadata": {},
   "outputs": [],
   "source": [
    "def fix_missing_columns(dfs, columns):\n",
    "    for key in dfs:\n",
    "        for column in columns:\n",
    "            if column not in list(dfs[key].columns):\n",
    "                dfs[key][column] = np.nan\n",
    "    return dfs\n",
    "\n",
    "dfs = fix_missing_columns(dfs, ['at_home','extra_large_unit'])"
   ]
  },
  {
   "cell_type": "code",
   "execution_count": 226,
   "metadata": {},
   "outputs": [],
   "source": [
    "def reorder_columns(dfs, columns):\n",
    "    for key in dfs:\n",
    "        for column in columns:\n",
    "            if column in list(dfs[key].columns):\n",
    "                col = dfs[key][column]\n",
    "                dfs[key].drop(columns=[column], inplace=True)\n",
    "                dfs[key][column] = col\n",
    "    return dfs\n",
    "\n",
    "dfs = reorder_columns(dfs, ['extra_large_unit','at_home'])"
   ]
  },
  {
   "cell_type": "code",
   "execution_count": 227,
   "metadata": {},
   "outputs": [
    {
     "name": "stdout",
     "output_type": "stream",
     "text": [
      "2016-2017.xlsx\n",
      "['street_number', 'street_name', 'street_suffix', 'unit_number', 'zip_code', 'level_of_study', 'full_time', 'extra_large_unit', 'at_home']\n",
      "2017-2018.xlsx\n",
      "['street_number', 'street_name', 'street_suffix', 'unit_number', 'zip_code', 'level_of_study', 'full_time', 'extra_large_unit', 'at_home']\n",
      "2018-2019.xlsx\n",
      "['street_number', 'street_name', 'street_suffix', 'unit_number', 'zip_code', 'level_of_study', 'full_time', 'extra_large_unit', 'at_home']\n",
      "2019-2020.xlsx\n",
      "['street_number', 'street_name', 'street_suffix', 'unit_number', 'zip_code', 'level_of_study', 'full_time', 'extra_large_unit', 'at_home']\n",
      "2020-2021.xlsx\n",
      "['street_number', 'street_name', 'street_suffix', 'unit_number', 'zip_code', 'level_of_study', 'full_time', 'extra_large_unit', 'at_home']\n",
      "2021-2022.xlsx\n",
      "['street_number', 'street_name', 'street_suffix', 'unit_number', 'zip_code', 'level_of_study', 'full_time', 'extra_large_unit', 'at_home']\n",
      "2022-2023.xlsx\n",
      "['street_number', 'street_name', 'street_suffix', 'unit_number', 'zip_code', 'level_of_study', 'full_time', 'extra_large_unit', 'at_home']\n",
      "2023-2024.xlsx\n",
      "['street_number', 'street_name', 'street_suffix', 'unit_number', 'zip_code', 'level_of_study', 'full_time', 'extra_large_unit', 'at_home']\n"
     ]
    }
   ],
   "source": [
    "# print the columns of each df\n",
    "for key in dfs.keys():\n",
    "    print(key)\n",
    "    print(list(dfs[key].columns))"
   ]
  },
  {
   "cell_type": "code",
   "execution_count": 229,
   "metadata": {},
   "outputs": [],
   "source": [
    "def polish_and_save(dfs, university_name, save_as):\n",
    "    for key in dfs:\n",
    "        dfs[key]['year_range'] = key.split('.')[0]\n",
    "        dfs[key]['university'] = university_name\n",
    "\n",
    "    df = pd.concat(dfs.values(), ignore_index=True)\n",
    "\n",
    "    df.to_csv(save_as, index=False)\n",
    "\n",
    "polish_and_save(dfs, 'Berklee College of Music', './data/clean/BerkleeCollegeMusic.csv')\n"
   ]
  },
  {
   "cell_type": "markdown",
   "metadata": {},
   "source": [
    "# Boston Architectural College"
   ]
  },
  {
   "cell_type": "code",
   "execution_count": 236,
   "metadata": {},
   "outputs": [],
   "source": [
    "dirname = './data/BostonArchitecturalCollege/'\n",
    "files = read_files_from_dir(dirname)\n",
    "\n",
    "dfs = create_df_from_files(dirname, files)"
   ]
  },
  {
   "cell_type": "code",
   "execution_count": 237,
   "metadata": {},
   "outputs": [
    {
     "name": "stdout",
     "output_type": "stream",
     "text": [
      "2016-2017.xlsx\n",
      "['6a. \\nStreet #', '6b. \\nStreet Name', '6c. \\nStreet Suffix  ', '6d.\\n Unit #', '6e. \\nZip', '7. \\nUndergraduate (U) or Graduate (G)', '8. \\nFull-time (FT) or \\nPart-time (PT)', '9. \\n 5 or More Undergrads/Unit\\n(Y/N)']\n",
      "2017-2018.xlsx\n",
      "['6a. \\nStreet #', '6b. \\nStreet Name', '6c. \\nStreet Suffix  ', '6d.\\n Unit #', '6e. \\nZip', '7. \\nUndergraduate (U) or Graduate (G)', '8. \\nFull-time (FT) or \\nPart-time (PT)', '9. \\n 5 or More Undergrads/Unit\\n(Y/N)']\n",
      "2018-2019.xlsx\n",
      "['6a. \\nStreet #', '6b. \\nStreet Name', '6c. \\nStreet Suffix  ', '6d.\\n Unit #', '6e. \\nZip', '7. \\nUndergraduate (U) or Graduate (G)', '8. \\nFull-time (FT) or \\nPart-time (PT)', '9. \\n 5 or More Undergrads/Unit\\n(Y/N)']\n",
      "2019-2020.xlsx\n",
      "['6a. \\nStreet #', '6b. \\nStreet Name', '6c. \\nStreet Suffix  ', '6d.\\n Unit #', '6e. \\nZip', '7. \\nUndergraduate (U) or Graduate (G)', '8. \\nFull-time (FT) or \\nPart-time (PT)', '9. \\n 5 or More Undergrads/Unit\\n(Y/N)']\n",
      "2021-2022.xlsx\n",
      "['6a. \\nStreet #', '6b. \\nStreet Name', '6c. \\nStreet Suffix  ', '6d.\\n Unit #', '6e. \\nZip', '7. \\nUndergraduate (U) or Graduate (G)', '8. \\nFull-time (FT) or \\nPart-time (PT)', '9. \\n 5 or More Undergrads/Unit\\n(Y/N)']\n",
      "2022-2023.xlsx\n",
      "['6a. \\nStreet #', '6b. \\nStreet Name', '6c. \\nStreet Suffix  ', '6d.\\n Unit #', '6e. \\nZip', '7. \\nUndergraduate (U) or Graduate (G)', '8. \\nFull-time (FT) or \\nPart-time (PT)', '9. \\nAt-Home or Not-at-Home']\n",
      "2023-2024.xlsx\n",
      "['6a. \\nStreet #', '6b. \\nStreet Name', '6c. \\nStreet Suffix  ', '6d.\\n Unit #', '6e. \\nZip', '7. \\nUndergraduate (U) or Graduate (G)', '8. \\nFull-time (FT) or \\nPart-time (PT)', '9. \\nAt-Home or Not-at-Home']\n"
     ]
    }
   ],
   "source": [
    "# print the columns of each df\n",
    "for key in dfs.keys():\n",
    "    print(key)\n",
    "    print(list(dfs[key].columns))"
   ]
  },
  {
   "cell_type": "code",
   "execution_count": 238,
   "metadata": {},
   "outputs": [],
   "source": [
    "# 2022-2023.xlsx and 2023-2024.xlsx have at-home column\n",
    "dfs['2022-2023.xlsx'].columns = ['street_number','street_name','street_suffix','unit_number','zip_code','level_of_study','full_time','at_home']\n",
    "dfs['2023-2024.xlsx'].columns = ['street_number','street_name','street_suffix','unit_number','zip_code','level_of_study','full_time','at_home']"
   ]
  },
  {
   "cell_type": "code",
   "execution_count": 239,
   "metadata": {},
   "outputs": [],
   "source": [
    "# the rest of the files do not have at-home column\n",
    "for key in dfs:\n",
    "    if key in ['2022-2023.xlsx','2023-2024.xlsx']:\n",
    "        continue\n",
    "    dfs[key].columns = ['street_number','street_name','street_suffix','unit_number','zip_code','level_of_study','full_time','extra_large_unit']"
   ]
  },
  {
   "cell_type": "code",
   "execution_count": 240,
   "metadata": {},
   "outputs": [
    {
     "name": "stdout",
     "output_type": "stream",
     "text": [
      "2016-2017.xlsx\n",
      "['street_number', 'street_name', 'street_suffix', 'unit_number', 'zip_code', 'level_of_study', 'full_time', 'extra_large_unit']\n",
      "2017-2018.xlsx\n",
      "['street_number', 'street_name', 'street_suffix', 'unit_number', 'zip_code', 'level_of_study', 'full_time', 'extra_large_unit']\n",
      "2018-2019.xlsx\n",
      "['street_number', 'street_name', 'street_suffix', 'unit_number', 'zip_code', 'level_of_study', 'full_time', 'extra_large_unit']\n",
      "2019-2020.xlsx\n",
      "['street_number', 'street_name', 'street_suffix', 'unit_number', 'zip_code', 'level_of_study', 'full_time', 'extra_large_unit']\n",
      "2021-2022.xlsx\n",
      "['street_number', 'street_name', 'street_suffix', 'unit_number', 'zip_code', 'level_of_study', 'full_time', 'extra_large_unit']\n",
      "2022-2023.xlsx\n",
      "['street_number', 'street_name', 'street_suffix', 'unit_number', 'zip_code', 'level_of_study', 'full_time', 'at_home']\n",
      "2023-2024.xlsx\n",
      "['street_number', 'street_name', 'street_suffix', 'unit_number', 'zip_code', 'level_of_study', 'full_time', 'at_home']\n"
     ]
    }
   ],
   "source": [
    "# print the columns of each df\n",
    "for key in dfs.keys():\n",
    "    print(key)\n",
    "    print(list(dfs[key].columns))"
   ]
  },
  {
   "cell_type": "code",
   "execution_count": 241,
   "metadata": {},
   "outputs": [],
   "source": [
    "dfs = fix_missing_columns(dfs, ['at_home','extra_large_unit'])"
   ]
  },
  {
   "cell_type": "code",
   "execution_count": 242,
   "metadata": {},
   "outputs": [],
   "source": [
    "dfs = reorder_columns(dfs, ['extra_large_unit','at_home'])"
   ]
  },
  {
   "cell_type": "code",
   "execution_count": 243,
   "metadata": {},
   "outputs": [
    {
     "name": "stdout",
     "output_type": "stream",
     "text": [
      "2016-2017.xlsx\n",
      "['street_number', 'street_name', 'street_suffix', 'unit_number', 'zip_code', 'level_of_study', 'full_time', 'extra_large_unit', 'at_home']\n",
      "2017-2018.xlsx\n",
      "['street_number', 'street_name', 'street_suffix', 'unit_number', 'zip_code', 'level_of_study', 'full_time', 'extra_large_unit', 'at_home']\n",
      "2018-2019.xlsx\n",
      "['street_number', 'street_name', 'street_suffix', 'unit_number', 'zip_code', 'level_of_study', 'full_time', 'extra_large_unit', 'at_home']\n",
      "2019-2020.xlsx\n",
      "['street_number', 'street_name', 'street_suffix', 'unit_number', 'zip_code', 'level_of_study', 'full_time', 'extra_large_unit', 'at_home']\n",
      "2021-2022.xlsx\n",
      "['street_number', 'street_name', 'street_suffix', 'unit_number', 'zip_code', 'level_of_study', 'full_time', 'extra_large_unit', 'at_home']\n",
      "2022-2023.xlsx\n",
      "['street_number', 'street_name', 'street_suffix', 'unit_number', 'zip_code', 'level_of_study', 'full_time', 'extra_large_unit', 'at_home']\n",
      "2023-2024.xlsx\n",
      "['street_number', 'street_name', 'street_suffix', 'unit_number', 'zip_code', 'level_of_study', 'full_time', 'extra_large_unit', 'at_home']\n"
     ]
    }
   ],
   "source": [
    "# print the columns of each df\n",
    "for key in dfs.keys():\n",
    "    print(key)\n",
    "    print(list(dfs[key].columns))"
   ]
  },
  {
   "cell_type": "code",
   "execution_count": 244,
   "metadata": {},
   "outputs": [],
   "source": [
    "polish_and_save(dfs, 'Boston Architectural College', './data/clean/BostonArchitecturalCollege.csv')"
   ]
  },
  {
   "cell_type": "markdown",
   "metadata": {},
   "source": [
    "# Boston College"
   ]
  },
  {
   "cell_type": "code",
   "execution_count": 274,
   "metadata": {},
   "outputs": [],
   "source": [
    "dir = './data/BostonCollege/'\n",
    "files = read_files_from_dir(dir)\n",
    "\n",
    "dfs = create_df_from_files(dir, files)"
   ]
  },
  {
   "cell_type": "code",
   "execution_count": 275,
   "metadata": {},
   "outputs": [],
   "source": [
    "def print_columns(dfs):\n",
    "    for key in dfs.keys():\n",
    "        print(key)\n",
    "        print(list(dfs[key].columns))"
   ]
  },
  {
   "cell_type": "code",
   "execution_count": 276,
   "metadata": {},
   "outputs": [
    {
     "name": "stdout",
     "output_type": "stream",
     "text": [
      "2016-2017.xlsx\n",
      "['Street #', 'Street Name', 'Unit #', 'Zipcode', 'Grad, Undergrad, or Woods College', 'Full-Time/Part-Time', 'Expected Graduation Term', 'Housing Type']\n",
      "2017-2018.xlsx\n",
      "['6a. \\nStreet #', '6b. \\nStreet Name', '6c. \\nStreet Suffix  ', '6d.\\n Unit #', '6e. \\nZip', '7. \\nUndergraduate (U) or Graduate (G)', '8. \\nFull-time (FT) or \\nPart-time (PT)', '9. \\n 5 or More Undergrads/Unit\\n(Y/N)']\n",
      "2018-2019.xlsx\n",
      "['6a. \\nStreet #', '6b. \\nStreet Name', '6c. \\nStreet Suffix  ', '6d.\\n Unit #', '6e. \\nZip', '7. \\nUndergraduate (U) or Graduate (G)', '8. \\nFull-time (FT) or \\nPart-time (PT)', '9. \\n 5 or More Undergrads/Unit\\n(Y/N)']\n",
      "2019-2020.xlsx\n",
      "['6a. \\nStreet #', '6b. \\nStreet Name', '6c. \\nStreet Suffix  ', '6d.\\n Unit #', '6e. \\nZip', '7. \\nUndergraduate (U) or Graduate (G)', '8. \\nFull-time (FT) or \\nPart-time (PT)', '9. \\n 5 or More Undergrads/Unit\\n(Y/N)']\n",
      "2020-2021.xlsx\n",
      "['6a. \\nStreet #', '6b. \\nStreet Name', '6c. \\nStreet Suffix  ', '6d.\\n Unit #', '6e. \\nZip', '7. \\nUndergraduate (U) or Graduate (G)', '8. \\nFull-time (FT) or \\nPart-time (PT)', '9. \\n 5 or More Undergrads/Unit\\n(Y/N)']\n",
      "2021-2022.xlsx\n",
      "['6a. \\nStreet #', '6b. \\nStreet Name', '6c. \\nStreet Suffix  ', '6d.\\n Unit #', '6e. \\nZip', '7. \\nUndergraduate (U) or Graduate (G)', '8. \\nFull-time (FT) or \\nPart-time (PT)', '9. \\n 5 or More Undergrads/Unit\\n(Y/N)']\n",
      "2022-2023.xlsx\n",
      "['6a. \\nStreet #', '6b. \\nStreet Name', '6c. \\nStreet Suffix  ', '6d.\\n Unit #', '6e. \\nZip', '7. \\nUndergraduate (U) or Graduate (G)', '8. \\nFull-time (FT) or \\nPart-time (PT)', '9. \\n 5 or More Undergrads/Unit\\n(Y/N)', 'Housing Type']\n",
      "2023-2024.xlsx\n",
      "['6a. \\nStreet #', '6b. \\nStreet Name', '6c. \\nStreet Suffix  ', '6d.\\n Unit #', '6e. \\nZip', '7. \\nUndergraduate (U) or Graduate (G)', '8. \\nFull-time (FT) or \\nPart-time (PT)', '9. \\nAt-Home or Not-at-Home']\n"
     ]
    }
   ],
   "source": [
    "print_columns(dfs)"
   ]
  },
  {
   "cell_type": "code",
   "execution_count": null,
   "metadata": {},
   "outputs": [],
   "source": []
  },
  {
   "cell_type": "code",
   "execution_count": 277,
   "metadata": {},
   "outputs": [],
   "source": [
    "# 2016-2017 has expected graduation term and housing type columns\n",
    "# from 2017-2018 to 2022-2023, there is no at-home column\n",
    "# at 2022-2023, there is an housing type column\n",
    "# 2023-2024 has at-home column\n",
    "dfs['2016-2017.xlsx'].columns = ['street_number','street_name','unit_number','zip_code','level_of_study','full_time','expected_graduation_term','housing_type']\n",
    "dfs['2023-2024.xlsx'].columns = ['street_number','street_name','street_suffix','unit_number','zip_code','level_of_study','full_time','at_home']\n",
    "dfs['2022-2023.xlsx'].columns = ['street_number','street_name','street_suffix','unit_number','zip_code','level_of_study','full_time','extra_large_unit','housing_type']\n",
    "\n",
    "for key in dfs:\n",
    "    if key in ['2016-2017.xlsx','2023-2024.xlsx','2022-2023.xlsx']:\n",
    "        continue\n",
    "    dfs[key].columns = ['street_number','street_name','street_suffix','unit_number','zip_code','level_of_study','full_time','extra_large_unit']"
   ]
  },
  {
   "cell_type": "code",
   "execution_count": 278,
   "metadata": {},
   "outputs": [],
   "source": [
    "# fill 2016-2017 na columns in stree_name with empty string\n",
    "dfs['2016-2017.xlsx']['street_name'] = dfs['2016-2017.xlsx']['street_name'].fillna('')"
   ]
  },
  {
   "cell_type": "code",
   "execution_count": 279,
   "metadata": {},
   "outputs": [],
   "source": [
    "# print the columns of each df\n",
    "# for 2016-2017, street name also has a suffix, let's fix that\n",
    "street_suffix = dfs['2016-2017.xlsx']['street_name'].apply(lambda name: name.split(' ')[-1] if len(name.split(' ')) > 1 else '')\n",
    "dfs['2016-2017.xlsx']['street_suffix'] = street_suffix\n",
    "dfs['2016-2017.xlsx']['street_name'] = dfs['2016-2017.xlsx']['street_name'].apply(lambda name: ' '.join(name.split(' ')[:-1]))"
   ]
  },
  {
   "cell_type": "code",
   "execution_count": 280,
   "metadata": {},
   "outputs": [
    {
     "name": "stdout",
     "output_type": "stream",
     "text": [
      "2016-2017.xlsx\n",
      "['street_number', 'street_name', 'unit_number', 'zip_code', 'level_of_study', 'full_time', 'expected_graduation_term', 'housing_type', 'street_suffix']\n",
      "2017-2018.xlsx\n",
      "['street_number', 'street_name', 'street_suffix', 'unit_number', 'zip_code', 'level_of_study', 'full_time', 'extra_large_unit']\n",
      "2018-2019.xlsx\n",
      "['street_number', 'street_name', 'street_suffix', 'unit_number', 'zip_code', 'level_of_study', 'full_time', 'extra_large_unit']\n",
      "2019-2020.xlsx\n",
      "['street_number', 'street_name', 'street_suffix', 'unit_number', 'zip_code', 'level_of_study', 'full_time', 'extra_large_unit']\n",
      "2020-2021.xlsx\n",
      "['street_number', 'street_name', 'street_suffix', 'unit_number', 'zip_code', 'level_of_study', 'full_time', 'extra_large_unit']\n",
      "2021-2022.xlsx\n",
      "['street_number', 'street_name', 'street_suffix', 'unit_number', 'zip_code', 'level_of_study', 'full_time', 'extra_large_unit']\n",
      "2022-2023.xlsx\n",
      "['street_number', 'street_name', 'street_suffix', 'unit_number', 'zip_code', 'level_of_study', 'full_time', 'extra_large_unit', 'housing_type']\n",
      "2023-2024.xlsx\n",
      "['street_number', 'street_name', 'street_suffix', 'unit_number', 'zip_code', 'level_of_study', 'full_time', 'at_home']\n"
     ]
    }
   ],
   "source": [
    "print_columns(dfs)"
   ]
  },
  {
   "cell_type": "code",
   "execution_count": 281,
   "metadata": {},
   "outputs": [
    {
     "data": {
      "text/plain": [
       "['street_number',\n",
       " 'street_name',\n",
       " 'unit_number',\n",
       " 'zip_code',\n",
       " 'level_of_study',\n",
       " 'full_time',\n",
       " 'expected_graduation_term',\n",
       " 'housing_type',\n",
       " 'street_suffix',\n",
       " 'extra_large_unit',\n",
       " 'at_home']"
      ]
     },
     "execution_count": 281,
     "metadata": {},
     "output_type": "execute_result"
    }
   ],
   "source": [
    "unique_columns = []\n",
    "for key in dfs:\n",
    "    for column in list(dfs[key].columns):\n",
    "        if column not in unique_columns:\n",
    "            unique_columns.append(column)\n",
    "\n",
    "unique_columns"
   ]
  },
  {
   "cell_type": "code",
   "execution_count": 282,
   "metadata": {},
   "outputs": [],
   "source": [
    "# now, make sure all of these columns are in each df\n",
    "dfs = fix_missing_columns(dfs, unique_columns)"
   ]
  },
  {
   "cell_type": "code",
   "execution_count": 283,
   "metadata": {},
   "outputs": [],
   "source": [
    "# now, reorder the columns\n",
    "dfs = reorder_columns(dfs, ['street_number','street_name','street_suffix','unit_number','zip_code','level_of_study','full_time','extra_large_unit','expected_graduation_term','housing_type','at_home'])"
   ]
  },
  {
   "cell_type": "code",
   "execution_count": 284,
   "metadata": {},
   "outputs": [
    {
     "name": "stdout",
     "output_type": "stream",
     "text": [
      "2016-2017.xlsx\n",
      "['street_number', 'street_name', 'street_suffix', 'unit_number', 'zip_code', 'level_of_study', 'full_time', 'extra_large_unit', 'expected_graduation_term', 'housing_type', 'at_home']\n",
      "2017-2018.xlsx\n",
      "['street_number', 'street_name', 'street_suffix', 'unit_number', 'zip_code', 'level_of_study', 'full_time', 'extra_large_unit', 'expected_graduation_term', 'housing_type', 'at_home']\n",
      "2018-2019.xlsx\n",
      "['street_number', 'street_name', 'street_suffix', 'unit_number', 'zip_code', 'level_of_study', 'full_time', 'extra_large_unit', 'expected_graduation_term', 'housing_type', 'at_home']\n",
      "2019-2020.xlsx\n",
      "['street_number', 'street_name', 'street_suffix', 'unit_number', 'zip_code', 'level_of_study', 'full_time', 'extra_large_unit', 'expected_graduation_term', 'housing_type', 'at_home']\n",
      "2020-2021.xlsx\n",
      "['street_number', 'street_name', 'street_suffix', 'unit_number', 'zip_code', 'level_of_study', 'full_time', 'extra_large_unit', 'expected_graduation_term', 'housing_type', 'at_home']\n",
      "2021-2022.xlsx\n",
      "['street_number', 'street_name', 'street_suffix', 'unit_number', 'zip_code', 'level_of_study', 'full_time', 'extra_large_unit', 'expected_graduation_term', 'housing_type', 'at_home']\n",
      "2022-2023.xlsx\n",
      "['street_number', 'street_name', 'street_suffix', 'unit_number', 'zip_code', 'level_of_study', 'full_time', 'extra_large_unit', 'expected_graduation_term', 'housing_type', 'at_home']\n",
      "2023-2024.xlsx\n",
      "['street_number', 'street_name', 'street_suffix', 'unit_number', 'zip_code', 'level_of_study', 'full_time', 'extra_large_unit', 'expected_graduation_term', 'housing_type', 'at_home']\n"
     ]
    }
   ],
   "source": [
    "# print the columns of each df\n",
    "print_columns(dfs)"
   ]
  },
  {
   "cell_type": "code",
   "execution_count": 285,
   "metadata": {},
   "outputs": [],
   "source": [
    "polish_and_save(dfs, 'Boston College', './data/clean/BostonCollege.csv')"
   ]
  },
  {
   "cell_type": "markdown",
   "metadata": {},
   "source": [
    "# Boston Conservatory Berklee"
   ]
  },
  {
   "cell_type": "code",
   "execution_count": 287,
   "metadata": {},
   "outputs": [],
   "source": [
    "dir = './data/BostonConservatoryBerklee/'\n",
    "files = read_files_from_dir(dir)\n",
    "\n",
    "dfs = create_df_from_files(dir, files)"
   ]
  },
  {
   "cell_type": "code",
   "execution_count": 288,
   "metadata": {},
   "outputs": [
    {
     "name": "stdout",
     "output_type": "stream",
     "text": [
      "2016-2017.xlsx\n",
      "['6a. \\nStreet #', '6b. \\nStreet Name', '6c. \\nStreet Suffix  ', '6d.\\n Unit #', '6e. \\nZip', '7. \\nUndergraduate (U) or Graduate (G)', '8. \\nFull-time (FT) or \\nPart-time (PT)', '9. \\n 5 or More Undergrads/Unit\\n(Y/N)']\n",
      "2017-2018.xlsx\n",
      "['6a. \\nStreet #', '6b. \\nStreet Name', '6c. \\nStreet Suffix  ', '6d.\\n Unit #', '6e. \\nZip', '7. \\nUndergraduate (U) or Graduate (G)', '8. \\nFull-time (FT) or \\nPart-time (PT)', '9. \\n 5 or More Undergrads/Unit\\n(Y/N)']\n"
     ]
    }
   ],
   "source": [
    "print_columns(dfs)"
   ]
  },
  {
   "cell_type": "code",
   "execution_count": 289,
   "metadata": {},
   "outputs": [],
   "source": [
    "for key in dfs:\n",
    "    dfs[key].columns = ['street_number','street_name','street_suffix','unit_number','zip_code','level_of_study','full_time','extra_large_unit']"
   ]
  },
  {
   "cell_type": "code",
   "execution_count": 290,
   "metadata": {},
   "outputs": [
    {
     "name": "stdout",
     "output_type": "stream",
     "text": [
      "2016-2017.xlsx\n",
      "['street_number', 'street_name', 'street_suffix', 'unit_number', 'zip_code', 'level_of_study', 'full_time', 'extra_large_unit']\n",
      "2017-2018.xlsx\n",
      "['street_number', 'street_name', 'street_suffix', 'unit_number', 'zip_code', 'level_of_study', 'full_time', 'extra_large_unit']\n"
     ]
    }
   ],
   "source": [
    "print_columns(dfs)"
   ]
  },
  {
   "cell_type": "code",
   "execution_count": 291,
   "metadata": {},
   "outputs": [],
   "source": [
    "# save\n",
    "polish_and_save(dfs, 'Boston Conservatory Berklee', './data/clean/BostonConservatoryBerklee.csv')"
   ]
  },
  {
   "cell_type": "markdown",
   "metadata": {},
   "source": [
    "# Emerson College"
   ]
  },
  {
   "cell_type": "code",
   "execution_count": 300,
   "metadata": {},
   "outputs": [],
   "source": [
    "dir = './data/EmersonCollege/'\n",
    "files = read_files_from_dir(dir)\n",
    "\n",
    "dfs = create_df_from_files(dir, files)"
   ]
  },
  {
   "cell_type": "code",
   "execution_count": 301,
   "metadata": {},
   "outputs": [
    {
     "name": "stdout",
     "output_type": "stream",
     "text": [
      "2016-2017.xlsx\n",
      "['6a. \\nStreet #', '6b. \\nStreet Name', '6c. \\nStreet Suffix  ', '6d.\\n Unit #', '6e. \\nZip', '7. \\nUndergraduate (U) or Graduate (G)', '8. \\nFull-time (FT) or \\nPart-time (PT)', '9. \\n 5 or More Undergrads/Unit\\n(Y/N)']\n",
      "2017-2018.xlsx\n",
      "['6a. \\nStreet #', '6b. \\nStreet Name', '6c. \\nStreet Suffix  ', '6d.\\n Unit #', '6e. \\nZip', '7. \\nUndergraduate (U) or Graduate (G)', '8. \\nFull-time (FT) or \\nPart-time (PT)', '9. \\n 5 or More Undergrads/Unit\\n(Y/N)']\n",
      "2018-2019.xlsx\n",
      "['6a. \\nStreet #', '6b. \\nStreet Name', '6c. \\nStreet Suffix  ', '6d.\\n Unit #', '6e. \\nZip', '7. \\nUuate (U) or G (G)', '8. \\nFull-time (FT) or \\nPart-time (PT)', '9. \\n 5 or More Undergrads/Unit\\n(Y/N)']\n",
      "2019-2020.xlsx\n",
      "['6a. \\nStreet #', '6b. \\nStreet Name', '6c. \\nStreet Suffix  ', '6d.\\n Unit #', '6e. \\nZip', '7. \\nUndergraduate (U) or Graduate (G)', '8. \\nFull-time (FT) or \\nPart-time (PT)', '9. \\n 5 or More Undergrads/Unit\\n(Y/N)']\n",
      "2020-2021.xlsx\n",
      "['6a. \\nStreet #', '6b. \\nStreet Name', '6c. \\nStreet Suffix  ', '6d.\\n Unit #', '6e. \\nZip', '7. \\nUndergraduate (U) or Graduate (G)', '8. \\nFull-time (FT) or \\nPart-time (PT)', '9. \\n 5 or More Undergrads/Unit\\n(Y/N)']\n",
      "2021-2022.xlsx\n",
      "['6a. \\nStreet #', '6b. \\nStreet Name', '6c. \\nStreet Suffix  ', '6d.\\n Unit #', '6e. \\nZip', '7. \\nUndergraduate (U) or Graduate (G)', '8. \\nFull-time (FT) or \\nPart-time (PT)', '9. \\n 5 or More Undergrads/Unit\\n(Y/N)', 'Not-at-home vs. At-home']\n",
      "2022-2023.xlsx\n",
      "['6a. \\nStreet #', '6b. \\nStreet Name', '6c. \\nStreet Suffix  ', '6d.\\n Unit #', '6e. \\nZip', '7. \\nUndergraduate (U) or Graduate (G)', '8. \\nFull-time (FT) or \\nPart-time (PT)', '9. \\nAt-Home or Not-at-Home']\n",
      "2023-2024.xlsx\n",
      "['6a. \\nStreet #', '6b. \\nStreet Name', '6c. \\nStreet Suffix  ', '6d.\\n Unit #', '6e. \\nZip', '7. \\nUndergraduate (U) or Graduate (G)', '8. \\nFull-time (FT) or \\nPart-time (PT)', '9. \\nAt-Home or Not-at-Home']\n"
     ]
    }
   ],
   "source": [
    "print_columns(dfs)"
   ]
  },
  {
   "cell_type": "code",
   "execution_count": 302,
   "metadata": {},
   "outputs": [],
   "source": [
    "# 2021-2022 has at-home column and extra large unit column\n",
    "# 2022-2023 has at-home column\n",
    "# 2023-2024 has at-home column\n",
    "# the rest do not have at-home column\n",
    "\n",
    "dfs['2021-2022.xlsx'].columns = ['street_number','street_name','street_suffix','unit_number','zip_code','level_of_study','full_time','extra_large_unit','at_home']\n",
    "dfs['2022-2023.xlsx'].columns = ['street_number','street_name','street_suffix','unit_number','zip_code','level_of_study','full_time','at_home']\n",
    "dfs['2023-2024.xlsx'].columns = ['street_number','street_name','street_suffix','unit_number','zip_code','level_of_study','full_time','at_home']"
   ]
  },
  {
   "cell_type": "code",
   "execution_count": 303,
   "metadata": {},
   "outputs": [],
   "source": [
    "for key in dfs:\n",
    "    if key in ['2021-2022.xlsx','2022-2023.xlsx','2023-2024.xlsx']:\n",
    "        continue\n",
    "    dfs[key].columns = ['street_number','street_name','street_suffix','unit_number','zip_code','level_of_study','full_time','extra_large_unit']"
   ]
  },
  {
   "cell_type": "code",
   "execution_count": 304,
   "metadata": {},
   "outputs": [],
   "source": [
    "dfs = fix_missing_columns(dfs, ['at_home','extra_large_unit'])"
   ]
  },
  {
   "cell_type": "code",
   "execution_count": 305,
   "metadata": {},
   "outputs": [],
   "source": [
    "dfs = reorder_columns(dfs, ['extra_large_unit','at_home'])"
   ]
  },
  {
   "cell_type": "code",
   "execution_count": 306,
   "metadata": {},
   "outputs": [
    {
     "name": "stdout",
     "output_type": "stream",
     "text": [
      "2016-2017.xlsx\n",
      "['street_number', 'street_name', 'street_suffix', 'unit_number', 'zip_code', 'level_of_study', 'full_time', 'extra_large_unit', 'at_home']\n",
      "2017-2018.xlsx\n",
      "['street_number', 'street_name', 'street_suffix', 'unit_number', 'zip_code', 'level_of_study', 'full_time', 'extra_large_unit', 'at_home']\n",
      "2018-2019.xlsx\n",
      "['street_number', 'street_name', 'street_suffix', 'unit_number', 'zip_code', 'level_of_study', 'full_time', 'extra_large_unit', 'at_home']\n",
      "2019-2020.xlsx\n",
      "['street_number', 'street_name', 'street_suffix', 'unit_number', 'zip_code', 'level_of_study', 'full_time', 'extra_large_unit', 'at_home']\n",
      "2020-2021.xlsx\n",
      "['street_number', 'street_name', 'street_suffix', 'unit_number', 'zip_code', 'level_of_study', 'full_time', 'extra_large_unit', 'at_home']\n",
      "2021-2022.xlsx\n",
      "['street_number', 'street_name', 'street_suffix', 'unit_number', 'zip_code', 'level_of_study', 'full_time', 'extra_large_unit', 'at_home']\n",
      "2022-2023.xlsx\n",
      "['street_number', 'street_name', 'street_suffix', 'unit_number', 'zip_code', 'level_of_study', 'full_time', 'extra_large_unit', 'at_home']\n",
      "2023-2024.xlsx\n",
      "['street_number', 'street_name', 'street_suffix', 'unit_number', 'zip_code', 'level_of_study', 'full_time', 'extra_large_unit', 'at_home']\n"
     ]
    }
   ],
   "source": [
    "print_columns(dfs)"
   ]
  },
  {
   "cell_type": "code",
   "execution_count": 307,
   "metadata": {},
   "outputs": [],
   "source": [
    "polish_and_save(dfs, 'Emerson College', './data/clean/EmersonCollege.csv')"
   ]
  },
  {
   "cell_type": "markdown",
   "metadata": {},
   "source": [
    "# Emmanuel College"
   ]
  },
  {
   "cell_type": "code",
   "execution_count": 344,
   "metadata": {},
   "outputs": [
    {
     "name": "stdout",
     "output_type": "stream",
     "text": [
      "2016-2017.xlsx\n",
      "['6a. \\nStreet #', '6b. \\nStreet Name', '6c. \\nStreet Suffix  ', '6d.\\n Unit #', '6e. \\nZip', '7. \\nUndergraduate (U) or Graduate (G)', '8. \\nFull-time (FT) or \\nPart-time (PT)', '9. \\n 5 or More Undergrads/Unit\\n(Y/N)']\n",
      "2017-2018.xlsx\n",
      "['6a. \\nStreet #', '6b. \\nStreet Name', '6c. \\nStreet Suffix  ', '6d.\\n Unit #', '6e. \\nZip', '7. \\nUndergraduate (U) or Graduate (G)', '8. \\nFull-time (FT) or \\nPart-time (PT)', '9. \\n 5 or More Undergrads/Unit\\n(Y/N)']\n",
      "2018-2019.xlsx\n",
      "['6a. \\nStreet #', '6b. \\nStreet Name', '6c. \\nStreet Suffix  ', '6d.\\n Unit #', '6e. \\nZip', '7. \\nUndergraduate (U) or Graduate (G)', '8. \\nFull-time (FT) or \\nPart-time (PT)', '9. \\n 5 or More Undergrads/Unit\\n(Y/N)']\n",
      "2019-2020.xlsx\n",
      "['6a. \\nStreet #', '6b. \\nStreet Name', '6c. \\nStreet Suffix  ', '6d.\\n Unit #', '6e. \\nZip', '7. \\nUndergraduate (U) or Graduate (G)', '8. \\nFull-time (FT) or \\nPart-time (PT)', '9. \\n 5 or More Undergrads/Unit\\n(Y/N)']\n",
      "2020-2021.xlsx\n",
      "['6a. \\nStreet #', '6b. \\nStreet Name', '6c. \\nStreet Suffix  ', '6d.\\n Unit #', '6e. \\nZip', '7. \\nUndergraduate (U) or Graduate (G)', '8. \\nFull-time (FT) or \\nPart-time (PT)', '9. \\n 5 or More Undergrads/Unit\\n(Y/N)']\n",
      "2021-2022.xlsx\n",
      "['6a. \\nStreet #', '6b. \\nStreet Name', '6c. \\nStreet Suffix  ', '6d.\\n Unit #', '6e. \\nZip', '7. \\nUndergraduate (U) or Graduate (G)', '8. \\nFull-time (FT) or \\nPart-time (PT)', '9. \\n 5 or More Undergrads/Unit\\n(Y/N)']\n",
      "2022-2023.xlsx\n",
      "['6a. \\nStreet #', '6b. \\nStreet Name', '6c. \\nStreet Suffix  ', '6d.\\n Unit #', '6e. \\nZip', '7. \\nUndergraduate (U) or Graduate (G)', '8. \\nFull-time (FT) or \\nPart-time (PT)', '9. \\nAt-Home or Not-at-Home']\n",
      "2023-2024.xlsx\n",
      "['6a. \\nStreet #', '6b. \\nStreet Name', '6c. \\nStreet Suffix  ', '6d.\\n Unit #', '6e. \\nZip', '7. \\nUndergraduate (U) or Graduate (G)', '8. \\nFull-time (FT) or \\nPart-time (PT)', '9. \\nAt-Home or Not-at-Home']\n"
     ]
    }
   ],
   "source": [
    "dir = './data/EmmanuelCollege/'\n",
    "files = read_files_from_dir(dir)\n",
    "\n",
    "dfs = create_df_from_files(dir, files)\n",
    "\n",
    "print_columns(dfs)"
   ]
  },
  {
   "cell_type": "code",
   "execution_count": 345,
   "metadata": {},
   "outputs": [
    {
     "name": "stdout",
     "output_type": "stream",
     "text": [
      "2016-2017.xlsx\n",
      "['street_number', 'street_name', 'street_suffix', 'unit_number', 'zip_code', 'level_of_study', 'full_time', 'extra_large_unit', 'at_home']\n",
      "2017-2018.xlsx\n",
      "['street_number', 'street_name', 'street_suffix', 'unit_number', 'zip_code', 'level_of_study', 'full_time', 'extra_large_unit', 'at_home']\n",
      "2018-2019.xlsx\n",
      "['street_number', 'street_name', 'street_suffix', 'unit_number', 'zip_code', 'level_of_study', 'full_time', 'extra_large_unit', 'at_home']\n",
      "2019-2020.xlsx\n",
      "['street_number', 'street_name', 'street_suffix', 'unit_number', 'zip_code', 'level_of_study', 'full_time', 'extra_large_unit', 'at_home']\n",
      "2020-2021.xlsx\n",
      "['street_number', 'street_name', 'street_suffix', 'unit_number', 'zip_code', 'level_of_study', 'full_time', 'extra_large_unit', 'at_home']\n",
      "2021-2022.xlsx\n",
      "['street_number', 'street_name', 'street_suffix', 'unit_number', 'zip_code', 'level_of_study', 'full_time', 'extra_large_unit', 'at_home']\n",
      "2022-2023.xlsx\n",
      "['street_number', 'street_name', 'street_suffix', 'unit_number', 'zip_code', 'level_of_study', 'full_time', 'extra_large_unit', 'at_home']\n",
      "2023-2024.xlsx\n",
      "['street_number', 'street_name', 'street_suffix', 'unit_number', 'zip_code', 'level_of_study', 'full_time', 'extra_large_unit', 'at_home']\n"
     ]
    }
   ],
   "source": [
    "# 2022-2023 has at-home column\n",
    "# 2023-2024 has at-home column\n",
    "# the rest do not have at-home column\n",
    "\n",
    "dfs['2022-2023.xlsx'].columns = ['street_number','street_name','street_suffix','unit_number','zip_code','level_of_study','full_time','at_home']\n",
    "dfs['2023-2024.xlsx'].columns = ['street_number','street_name','street_suffix','unit_number','zip_code','level_of_study','full_time','at_home']\n",
    "\n",
    "for key in dfs:\n",
    "    if key in ['2022-2023.xlsx','2023-2024.xlsx']:\n",
    "        continue\n",
    "    dfs[key].columns = ['street_number','street_name','street_suffix','unit_number','zip_code','level_of_study','full_time','extra_large_unit']\n",
    "\n",
    "dfs = fix_missing_columns(dfs, ['at_home','extra_large_unit'])\n",
    "\n",
    "dfs = reorder_columns(dfs, ['extra_large_unit','at_home'])\n",
    "\n",
    "print_columns(dfs)"
   ]
  },
  {
   "cell_type": "code",
   "execution_count": 346,
   "metadata": {},
   "outputs": [],
   "source": [
    "polish_and_save(dfs, 'Emmanuel College', './data/clean/EmmanuelCollege.csv')"
   ]
  },
  {
   "cell_type": "markdown",
   "metadata": {},
   "source": [
    "# Fisher College"
   ]
  },
  {
   "cell_type": "code",
   "execution_count": 464,
   "metadata": {},
   "outputs": [
    {
     "name": "stdout",
     "output_type": "stream",
     "text": [
      "2016-2017.xlsx\n",
      "['6a. \\nStreet #', '6b. \\nStreet Name', '6c. \\nStreet Suffix  ', '6d.\\n Unit #', '6e. \\nZip', '7. \\nUndergraduate (U) or Graduate (G)', '8. \\nFull-time (FT) or \\nPart-time (PT)', '9. \\n 5 or More Undergrads/Unit\\n(Y/N)']\n",
      "2017-2018.xlsx\n",
      "['6a. \\nStreet #', '6b. \\nStreet Name', '6c. \\nStreet Suffix  ', '6d.\\n Unit #', '6e. \\nZip', '7. \\nUndergraduate (U) or Graduate (G)', '8. \\nFull-time (FT) or \\nPart-time (PT)', '9. \\n 5 or More Undergrads/Unit\\n(Y/N)']\n",
      "2018-2019.xlsx\n",
      "['6a. \\nStreet #', '6b. \\nStreet Name', '6c. \\nStreet Suffix  ', '6d.\\n Unit #', '6e. \\nZip', '7. \\nUndergraduate (U) or Graduate (G)', '8. \\nFull-time (FT) or \\nPart-time (PT)', '9. \\n 5 or More Undergrads/Unit\\n(Y/N)']\n",
      "2019-2020.xlsx\n",
      "['6a. \\nStreet #', '6b. \\nStreet Name', '6c. \\nStreet Suffix  ', '6d.\\n Unit #', '6e. \\nZip', '7. \\nUndergraduate (U) or Graduate (G)', '8. \\nFull-time (FT) or \\nPart-time (PT)', '9. \\n 5 or More Undergrads/Unit\\n(Y/N)']\n",
      "2020-2021.xlsx\n",
      "['6a. \\nStreet #', '6b. \\nStreet Name', '6c. \\nStreet Suffix  ', '6d.\\n Unit #', '6e. \\nZip', '7. \\nUndergraduate (U) or Graduate (G)', '8. \\nFull-time (FT) or \\nPart-time (PT)', '9. \\n 5 or More Undergrads/Unit\\n(Y/N)']\n",
      "2021-2022.xlsx\n",
      "['6a. \\nStreet #', '6b. \\nStreet Name', '6c. \\nStreet Suffix  ', '6d.\\n Unit #', '6e. \\nZip', '7. \\nUndergraduate (U) or Graduate (G)', '8. \\nFull-time (FT) or \\nPart-time (PT)', '9. \\n 5 or More Undergrads/Unit\\n(Y/N)']\n",
      "2022-2023.xlsx\n",
      "['6a. \\nStreet #', '6b. \\nStreet Name', '6c. \\nStreet Suffix  ', '6d.\\n Unit #', '6e. \\nZip', '7. \\nUndergraduate (U) or Graduate (G)', '8. \\nFull-time (FT) or \\nPart-time (PT)', '9. \\n 5 or More Undergrads/Unit\\n(Y/N)']\n",
      "2023-2024.xlsx\n",
      "['6a. \\nStreet #', '6b. \\nStreet Name', '6c. \\nStreet Suffix  ', '6d.\\n Unit #', '6e. \\nZip', '7. \\nUndergraduate (U) or Graduate (G)', '8. \\nFull-time (FT) or \\nPart-time (PT)', '9. \\n 5 or More Undergrads/Unit\\n(Y/N)']\n"
     ]
    }
   ],
   "source": [
    "dir = './data/FisherCollege/'\n",
    "files = read_files_from_dir(dir)\n",
    "\n",
    "dfs = create_df_from_files(dir, files)\n",
    "\n",
    "print_columns(dfs)"
   ]
  },
  {
   "cell_type": "code",
   "execution_count": 465,
   "metadata": {},
   "outputs": [
    {
     "name": "stdout",
     "output_type": "stream",
     "text": [
      "2016-2017.xlsx\n",
      "['street_number', 'street_name', 'street_suffix', 'unit_number', 'zip_code', 'level_of_study', 'full_time', 'extra_large_unit', 'at_home']\n",
      "2017-2018.xlsx\n",
      "['street_number', 'street_name', 'street_suffix', 'unit_number', 'zip_code', 'level_of_study', 'full_time', 'extra_large_unit', 'at_home']\n",
      "2018-2019.xlsx\n",
      "['street_number', 'street_name', 'street_suffix', 'unit_number', 'zip_code', 'level_of_study', 'full_time', 'extra_large_unit', 'at_home']\n",
      "2019-2020.xlsx\n",
      "['street_number', 'street_name', 'street_suffix', 'unit_number', 'zip_code', 'level_of_study', 'full_time', 'extra_large_unit', 'at_home']\n",
      "2020-2021.xlsx\n",
      "['street_number', 'street_name', 'street_suffix', 'unit_number', 'zip_code', 'level_of_study', 'full_time', 'extra_large_unit', 'at_home']\n",
      "2021-2022.xlsx\n",
      "['street_number', 'street_name', 'street_suffix', 'unit_number', 'zip_code', 'level_of_study', 'full_time', 'extra_large_unit', 'at_home']\n",
      "2022-2023.xlsx\n",
      "['street_number', 'street_name', 'street_suffix', 'unit_number', 'zip_code', 'level_of_study', 'full_time', 'extra_large_unit', 'at_home']\n",
      "2023-2024.xlsx\n",
      "['street_number', 'street_name', 'street_suffix', 'unit_number', 'zip_code', 'level_of_study', 'full_time', 'extra_large_unit', 'at_home']\n"
     ]
    }
   ],
   "source": [
    "# all of them do not have at-home column\n",
    "for key in dfs:\n",
    "    dfs[key].columns = ['street_number','street_name','street_suffix','unit_number','zip_code','level_of_study','full_time','extra_large_unit']\n",
    "\n",
    "# add at-home column\n",
    "dfs = fix_missing_columns(dfs, ['at_home'])\n",
    "\n",
    "print_columns(dfs)"
   ]
  },
  {
   "cell_type": "code",
   "execution_count": 466,
   "metadata": {},
   "outputs": [],
   "source": [
    "polish_and_save(dfs, 'Fisher College', './data/clean/FisherCollege.csv')"
   ]
  },
  {
   "cell_type": "markdown",
   "metadata": {},
   "source": [
    "# Franklin Institute of Technology"
   ]
  },
  {
   "cell_type": "code",
   "execution_count": 312,
   "metadata": {},
   "outputs": [],
   "source": [
    "def prep_dfs(dir):\n",
    "    dir = './data/' + dir + '/'\n",
    "    files = read_files_from_dir(dir)\n",
    "    dfs = create_df_from_files(dir, files)\n",
    "    return dfs"
   ]
  },
  {
   "cell_type": "code",
   "execution_count": 314,
   "metadata": {},
   "outputs": [],
   "source": [
    "dfs = prep_dfs('FranklinInstituteTechnology')"
   ]
  },
  {
   "cell_type": "code",
   "execution_count": 315,
   "metadata": {},
   "outputs": [
    {
     "name": "stdout",
     "output_type": "stream",
     "text": [
      "2016-2017.xlsx\n",
      "['6a. \\nStreet #', '6b. \\nStreet Name', '6c. \\nStreet Suffix  ', '6d.\\n Unit #', '6e. \\nZip', '7. \\nUndergraduate (U) or Graduate (G)', '8. \\nFull-time (FT) or \\nPart-time (PT)', '9. \\n 5 or More Undergrads/Unit\\n(Y/N)']\n",
      "2017-2018.xlsx\n",
      "['6a. \\nStreet #', '6b. \\nStreet Name', '6c. \\nStreet Suffix  ', '6d.\\n Unit #', '6e. \\nZip', '7. \\nUndergraduate (U) or Graduate (G)', '8. \\nFull-time (FT) or \\nPart-time (PT)', '9. \\n 5 or More Undergrads/Unit\\n(Y/N)']\n",
      "2018-2019.xlsx\n",
      "['6a. \\nStreet #', '6b. \\nStreet Name', '6c. \\nStreet Suffix  ', '6d.\\n Unit #', '6e. \\nZip', '7. \\nUndergraduate (U) or Graduate (G)', '8. \\nFull-time (FT) or \\nPart-time (PT)', '9. \\n 5 or More Undergrads/Unit\\n(Y/N)']\n",
      "2019-2020.xlsx\n",
      "['6a. \\nStreet #', '6b. \\nStreet Name', '6c. \\nStreet Suffix  ', '6d.\\n Unit #', '6e. \\nZip', '7. \\nUndergraduate (U) or Graduate (G)', '8. \\nFull-time (FT) or \\nPart-time (PT)', '9. \\n 5 or More Undergrads/Unit\\n(Y/N)']\n",
      "2020-2021.xlsx\n",
      "['6a. \\nStreet #', '6b. \\nStreet Name', '6c. \\nStreet Suffix  ', '6d.\\n Unit #', '6e. \\nZip', '7. \\nUndergraduate (U) or Graduate (G)', '8. \\nFull-time (FT) or \\nPart-time (PT)', '9. \\n 5 or More Undergrads/Unit\\n(Y/N)']\n",
      "2021-2022.xlsx\n",
      "['6a. \\nStreet #', '6b. \\nStreet Name', '6c. \\nStreet Suffix  ', '6d.\\n Unit #', '6e. \\nZip', '7. \\nUndergraduate (U) or Graduate (G)', '8. \\nFull-time (FT) or \\nPart-time (PT)', '9. \\n 5 or More Undergrads/Unit\\n(Y/N)']\n",
      "2022-2023.xlsx\n",
      "['6a. \\nStreet #', '6b. \\nStreet Name', '6c. \\nStreet Suffix  ', '6d.\\n Unit #', '6e. \\nZip', '7. \\nUndergraduate (U) or Graduate (G)', '8. \\nFull-time (FT) or \\nPart-time (PT)', '9. \\nAt-Home or Not-at-Home']\n",
      "2023-2024.xlsx\n",
      "['6a. \\nStreet #', '6b. \\nStreet Name', '6c. \\nStreet Suffix  ', '6d.\\n Unit #', '6e. \\nZip', '7. \\nUndergraduate (U) or Graduate (G)', '8. \\nFull-time (FT) or \\nPart-time (PT)', '9. \\n 5 or More Undergrads/Unit\\n(Y/N)']\n"
     ]
    }
   ],
   "source": [
    "print_columns(dfs)"
   ]
  },
  {
   "cell_type": "code",
   "execution_count": 317,
   "metadata": {},
   "outputs": [
    {
     "name": "stdout",
     "output_type": "stream",
     "text": [
      "2016-2017.xlsx\n",
      "['street_number', 'street_name', 'street_suffix', 'unit_number', 'zip_code', 'level_of_study', 'full_time', 'extra_large_unit']\n",
      "2017-2018.xlsx\n",
      "['street_number', 'street_name', 'street_suffix', 'unit_number', 'zip_code', 'level_of_study', 'full_time', 'extra_large_unit']\n",
      "2018-2019.xlsx\n",
      "['street_number', 'street_name', 'street_suffix', 'unit_number', 'zip_code', 'level_of_study', 'full_time', 'extra_large_unit']\n",
      "2019-2020.xlsx\n",
      "['street_number', 'street_name', 'street_suffix', 'unit_number', 'zip_code', 'level_of_study', 'full_time', 'extra_large_unit']\n",
      "2020-2021.xlsx\n",
      "['street_number', 'street_name', 'street_suffix', 'unit_number', 'zip_code', 'level_of_study', 'full_time', 'extra_large_unit']\n",
      "2021-2022.xlsx\n",
      "['street_number', 'street_name', 'street_suffix', 'unit_number', 'zip_code', 'level_of_study', 'full_time', 'extra_large_unit']\n",
      "2022-2023.xlsx\n",
      "['street_number', 'street_name', 'street_suffix', 'unit_number', 'zip_code', 'level_of_study', 'full_time', 'at_home']\n",
      "2023-2024.xlsx\n",
      "['street_number', 'street_name', 'street_suffix', 'unit_number', 'zip_code', 'level_of_study', 'full_time', 'extra_large_unit']\n"
     ]
    }
   ],
   "source": [
    "# 2022-2023 has at-home column\n",
    "# others do not have at-home column\n",
    "dfs['2022-2023.xlsx'].columns = ['street_number','street_name','street_suffix','unit_number','zip_code','level_of_study','full_time','at_home']\n",
    "for key in dfs:\n",
    "    if key in ['2022-2023.xlsx']:\n",
    "        continue\n",
    "    dfs[key].columns = ['street_number','street_name','street_suffix','unit_number','zip_code','level_of_study','full_time','extra_large_unit']\n",
    "\n",
    "print_columns(dfs)"
   ]
  },
  {
   "cell_type": "code",
   "execution_count": 318,
   "metadata": {},
   "outputs": [
    {
     "name": "stdout",
     "output_type": "stream",
     "text": [
      "2016-2017.xlsx\n",
      "['street_number', 'street_name', 'street_suffix', 'unit_number', 'zip_code', 'level_of_study', 'full_time', 'extra_large_unit', 'at_home']\n",
      "2017-2018.xlsx\n",
      "['street_number', 'street_name', 'street_suffix', 'unit_number', 'zip_code', 'level_of_study', 'full_time', 'extra_large_unit', 'at_home']\n",
      "2018-2019.xlsx\n",
      "['street_number', 'street_name', 'street_suffix', 'unit_number', 'zip_code', 'level_of_study', 'full_time', 'extra_large_unit', 'at_home']\n",
      "2019-2020.xlsx\n",
      "['street_number', 'street_name', 'street_suffix', 'unit_number', 'zip_code', 'level_of_study', 'full_time', 'extra_large_unit', 'at_home']\n",
      "2020-2021.xlsx\n",
      "['street_number', 'street_name', 'street_suffix', 'unit_number', 'zip_code', 'level_of_study', 'full_time', 'extra_large_unit', 'at_home']\n",
      "2021-2022.xlsx\n",
      "['street_number', 'street_name', 'street_suffix', 'unit_number', 'zip_code', 'level_of_study', 'full_time', 'extra_large_unit', 'at_home']\n",
      "2022-2023.xlsx\n",
      "['street_number', 'street_name', 'street_suffix', 'unit_number', 'zip_code', 'level_of_study', 'full_time', 'extra_large_unit', 'at_home']\n",
      "2023-2024.xlsx\n",
      "['street_number', 'street_name', 'street_suffix', 'unit_number', 'zip_code', 'level_of_study', 'full_time', 'extra_large_unit', 'at_home']\n"
     ]
    }
   ],
   "source": [
    "dfs = fix_missing_columns(dfs, ['at_home','extra_large_unit'])\n",
    "\n",
    "dfs = reorder_columns(dfs, ['extra_large_unit','at_home'])\n",
    "\n",
    "print_columns(dfs)"
   ]
  },
  {
   "cell_type": "code",
   "execution_count": 328,
   "metadata": {},
   "outputs": [],
   "source": [
    "polish_and_save(dfs, 'Franklin Institute of Technology', './data/clean/FranklinInstituteTechnology.csv')"
   ]
  },
  {
   "cell_type": "markdown",
   "metadata": {},
   "source": [
    "# Harvard University"
   ]
  },
  {
   "cell_type": "code",
   "execution_count": 322,
   "metadata": {},
   "outputs": [
    {
     "name": "stdout",
     "output_type": "stream",
     "text": [
      "Student Addresses\n",
      "2016-2017.xlsx\n",
      "['6a. \\nStreet #', '6b. \\nStreet Name', '6c. \\nStreet Suffix  ', '6d.\\n Unit #', '6e. \\nZip', '7. \\nUndergraduate (U) or Graduate (G)', '8. \\nFull-time (FT) or \\nPart-time (PT)', '9. \\n 5 or More Undergrads/Unit\\n(Y/N)']\n",
      "2017-2018.xlsx\n",
      "['6a. \\nStreet #', '6b. \\nStreet Name', '6c. \\nStreet Suffix  ', '6d.\\n Unit #', '6e. \\nZip', '7. \\nUndergraduate (U) or Graduate (G)', '8. \\nFull-time (FT) or \\nPart-time (PT)', '9. \\n 5 or More Undergrads/Unit\\n(Y/N)']\n",
      "2018-2019.xlsx\n",
      "['6a. \\nStreet #', '6b. \\nStreet Name', '6c. \\nStreet Suffix  ', '6d.\\n Unit #', '6e. \\nZip', '7. \\nUndergraduate (U) or Graduate (G)', '8. \\nFull-time (FT) or \\nPart-time (PT)', '9. \\n 5 or More Undergrads/Unit\\n(Y/N)']\n",
      "2019-2020.xlsx\n",
      "['6a. \\nStreet #', '6b. \\nStreet Name', '6c. \\nStreet Suffix  ', '6d.\\n Unit #', '6e. \\nZip', '7. \\nUndergraduate (U) or Graduate (G)', '8. \\nFull-time (FT) or \\nPart-time (PT)', '9. \\n 5 or More Undergrads/Unit\\n(Y/N)']\n",
      "2020-2021.xlsx\n",
      "['6a. \\nStreet #', '6b. \\nStreet Name', '6c. \\nStreet Suffix  ', '6d.\\nUnit#', '6e. \\nZip', '7. \\nUndergraduate (U) or Graduate (G)', '8. \\nFull-time (FT) or \\nPart-time (PT)', '9. \\n 5 or More Undergrads/Unit\\n(Y/N)']\n",
      "2021-2022.xlsx\n",
      "['6a. \\nStreet #', '6b. \\nStreet Name', '6c. \\nStreet Suffix  ', '6d.\\n Unit #', '6e. \\nZip', '7. \\nUndergraduate (U) or Graduate (G)', '8. \\nFull-time (FT) or \\nPart-time (PT)', '9. \\n 5 or More Undergrads/Unit\\n(Y/N)']\n",
      "2022-2023.xlsx\n",
      "['6a. \\nStreet #', '6b. \\nStreet Name', '6c. \\nStreet Suffix  ', '6d.\\n Unit #', '6e. \\nZip', '7. \\nUndergraduate (U) or Graduate (G)', '8. \\nFull-time (FT) or \\nPart-time (PT)', '9. \\nAt-Home or Not-at-Home']\n",
      "2023-2024.xlsx\n",
      "['6a. \\nStreet #', '6b. \\nStreet Name', '6c. \\nStreet Suffix  ', '6d.\\n Unit #', '6e. \\nZip', '7. \\nUndergraduate (U) or Graduate (G)', '8. \\nFull-time (FT) or \\nPart-time (PT)', '9. \\nAt-Home or Not-at-Home']\n"
     ]
    }
   ],
   "source": [
    "dfs = prep_dfs('HarvardUniversity')\n",
    "print_columns(dfs)"
   ]
  },
  {
   "cell_type": "code",
   "execution_count": 323,
   "metadata": {},
   "outputs": [
    {
     "name": "stdout",
     "output_type": "stream",
     "text": [
      "2016-2017.xlsx\n",
      "['street_number', 'street_name', 'street_suffix', 'unit_number', 'zip_code', 'level_of_study', 'full_time', 'extra_large_unit']\n",
      "2017-2018.xlsx\n",
      "['street_number', 'street_name', 'street_suffix', 'unit_number', 'zip_code', 'level_of_study', 'full_time', 'extra_large_unit']\n",
      "2018-2019.xlsx\n",
      "['street_number', 'street_name', 'street_suffix', 'unit_number', 'zip_code', 'level_of_study', 'full_time', 'extra_large_unit']\n",
      "2019-2020.xlsx\n",
      "['street_number', 'street_name', 'street_suffix', 'unit_number', 'zip_code', 'level_of_study', 'full_time', 'extra_large_unit']\n",
      "2020-2021.xlsx\n",
      "['street_number', 'street_name', 'street_suffix', 'unit_number', 'zip_code', 'level_of_study', 'full_time', 'extra_large_unit']\n",
      "2021-2022.xlsx\n",
      "['street_number', 'street_name', 'street_suffix', 'unit_number', 'zip_code', 'level_of_study', 'full_time', 'extra_large_unit']\n",
      "2022-2023.xlsx\n",
      "['street_number', 'street_name', 'street_suffix', 'unit_number', 'zip_code', 'level_of_study', 'full_time', 'at_home']\n",
      "2023-2024.xlsx\n",
      "['street_number', 'street_name', 'street_suffix', 'unit_number', 'zip_code', 'level_of_study', 'full_time', 'at_home']\n"
     ]
    }
   ],
   "source": [
    "# 2022-2023 has at-home column\n",
    "# 2023-2024 has at-home column\n",
    "# others do not have at-home column\n",
    "\n",
    "dfs['2022-2023.xlsx'].columns = ['street_number','street_name','street_suffix','unit_number','zip_code','level_of_study','full_time','at_home']\n",
    "dfs['2023-2024.xlsx'].columns = ['street_number','street_name','street_suffix','unit_number','zip_code','level_of_study','full_time','at_home']\n",
    "\n",
    "for key in dfs:\n",
    "    if key in ['2022-2023.xlsx','2023-2024.xlsx']:\n",
    "        continue\n",
    "    dfs[key].columns = ['street_number','street_name','street_suffix','unit_number','zip_code','level_of_study','full_time','extra_large_unit']\n",
    "\n",
    "print_columns(dfs)"
   ]
  },
  {
   "cell_type": "code",
   "execution_count": 324,
   "metadata": {},
   "outputs": [
    {
     "name": "stdout",
     "output_type": "stream",
     "text": [
      "2016-2017.xlsx\n",
      "['street_number', 'street_name', 'street_suffix', 'unit_number', 'zip_code', 'level_of_study', 'full_time', 'extra_large_unit', 'at_home']\n",
      "2017-2018.xlsx\n",
      "['street_number', 'street_name', 'street_suffix', 'unit_number', 'zip_code', 'level_of_study', 'full_time', 'extra_large_unit', 'at_home']\n",
      "2018-2019.xlsx\n",
      "['street_number', 'street_name', 'street_suffix', 'unit_number', 'zip_code', 'level_of_study', 'full_time', 'extra_large_unit', 'at_home']\n",
      "2019-2020.xlsx\n",
      "['street_number', 'street_name', 'street_suffix', 'unit_number', 'zip_code', 'level_of_study', 'full_time', 'extra_large_unit', 'at_home']\n",
      "2020-2021.xlsx\n",
      "['street_number', 'street_name', 'street_suffix', 'unit_number', 'zip_code', 'level_of_study', 'full_time', 'extra_large_unit', 'at_home']\n",
      "2021-2022.xlsx\n",
      "['street_number', 'street_name', 'street_suffix', 'unit_number', 'zip_code', 'level_of_study', 'full_time', 'extra_large_unit', 'at_home']\n",
      "2022-2023.xlsx\n",
      "['street_number', 'street_name', 'street_suffix', 'unit_number', 'zip_code', 'level_of_study', 'full_time', 'extra_large_unit', 'at_home']\n",
      "2023-2024.xlsx\n",
      "['street_number', 'street_name', 'street_suffix', 'unit_number', 'zip_code', 'level_of_study', 'full_time', 'extra_large_unit', 'at_home']\n"
     ]
    }
   ],
   "source": [
    "dfs = fix_missing_columns(dfs, ['at_home','extra_large_unit'])\n",
    "\n",
    "dfs = reorder_columns(dfs, ['extra_large_unit','at_home'])\n",
    "\n",
    "print_columns(dfs)"
   ]
  },
  {
   "cell_type": "code",
   "execution_count": 327,
   "metadata": {},
   "outputs": [],
   "source": [
    "polish_and_save(dfs, 'Harvard University', './data/clean/HarvardUniversity.csv')"
   ]
  },
  {
   "cell_type": "markdown",
   "metadata": {},
   "source": [
    "# Massachusetts College of Pharamacy and Health Sciences"
   ]
  },
  {
   "cell_type": "code",
   "execution_count": 340,
   "metadata": {},
   "outputs": [
    {
     "name": "stdout",
     "output_type": "stream",
     "text": [
      "2016-2017.xlsx\n",
      "['6a. \\nStreet #', '6b. \\nStreet Name', '6c. \\nStreet Suffix  ', '6d.\\n Unit #', '6e. \\nZip', '7. \\nUndergraduate (U) or Graduate (G)', '8. \\nFull-time (FT) or \\nPart-time (PT)', '9. \\n 5 or More Undergrads/Unit\\n(Y/N)']\n",
      "2017-2018.xlsx\n",
      "['6a. \\nStreet #', '6b. \\nStreet Name', '6c. \\nStreet Suffix  ', '6d.\\n Unit #', '6e. \\nZip', '7. \\nUnderGaduate (U) or Gaduate (G)', '8. \\nFull-time (FT) or \\nPart-time (PT)', '9. \\n 5 or More Undergrads/Unit\\n(Y/N)']\n",
      "2018-2019.xlsx\n",
      "['6a. \\nStreet #', '6b. \\nStreet Name', '6c. \\nStreet Suffix  ', '6d.\\n Unit #', '6e. \\nZip', '7. \\nUndergraduate (U) or Graduate (G)', '8. \\nFull-time (FT) or \\nPart-time (PT)', '9. \\n 5 or More Undergrads/Unit\\n(Y/N)']\n",
      "2019-2020.xlsx\n",
      "['6a. \\nStreet #', '6b. \\nStreet Name', '6c. \\nStreet Suffix  ', '6d.\\n Unit #', '6e. \\nZip', '7. \\nUndergraduate (U) or Graduate (G)', '8. \\nFull-time (FT) or \\nPart-time (PT)', '9. \\n 5 or More Undergrads/Unit\\n(Y/N)']\n",
      "2020-2021.xlsx\n",
      "['6a. \\nStreet #', '6b. \\nStreet Name', '6c. \\nStreet Suffix  ', '6d.\\n Unit #', '6e. \\nZip', '7. \\nUndergraduate (U) or Graduate (G)', '8. \\nFull-time (FT) or \\nPart-time (PT)', '9. \\n 5 or More Undergrads/Unit\\n(Y/N)']\n",
      "2021-2022.xlsx\n",
      "['6a. \\nStreet #', '6b. \\nStreet Name', '6c. \\nStreet Suffix  ', '6d.\\n Unit #', '6e. \\nZip', '7. \\nUndergraduate (U) or Graduate (G)', '8. \\nFull-time (FT) or \\nPart-time (PT)', '9. \\n 5 or More Undergrads/Unit\\n(Y/N)']\n",
      "2022-2023.xlsx\n",
      "['6a. \\nStreet #', '6b. \\nStreet Name', '6c. \\nStreet Suffix  ', '6d.\\n Unit #', '6e. \\nZip', '7. \\nUndergraduate (U) or Graduate (G)', '8. \\nFull-time (FT) or \\nPart-time (PT)', '9. \\nAt-Home or Not-at-Home']\n",
      "2023-2024.xlsx\n",
      "['6a. \\nStreet #', '6b. \\nStreet Name', '6c. \\nStreet Suffix  ', '6d.\\n Unit #', '6e. \\nZip', '7. \\nUndergraduate (U) or Graduate (G)', '8. \\nFull-time (FT) or \\nPart-time (PT)', '9. \\nAt-Home or Not-at-Home']\n"
     ]
    }
   ],
   "source": [
    "dfs = prep_dfs('MassachusettsCollegePharmacyHealthSciences')\n",
    "print_columns(dfs)"
   ]
  },
  {
   "cell_type": "code",
   "execution_count": 341,
   "metadata": {},
   "outputs": [
    {
     "name": "stdout",
     "output_type": "stream",
     "text": [
      "2016-2017.xlsx\n",
      "['street_number', 'street_name', 'street_suffix', 'unit_number', 'zip_code', 'level_of_study', 'full_time', 'extra_large_unit']\n",
      "2017-2018.xlsx\n",
      "['street_number', 'street_name', 'street_suffix', 'unit_number', 'zip_code', 'level_of_study', 'full_time', 'extra_large_unit']\n",
      "2018-2019.xlsx\n",
      "['street_number', 'street_name', 'street_suffix', 'unit_number', 'zip_code', 'level_of_study', 'full_time', 'extra_large_unit']\n",
      "2019-2020.xlsx\n",
      "['street_number', 'street_name', 'street_suffix', 'unit_number', 'zip_code', 'level_of_study', 'full_time', 'extra_large_unit']\n",
      "2020-2021.xlsx\n",
      "['street_number', 'street_name', 'street_suffix', 'unit_number', 'zip_code', 'level_of_study', 'full_time', 'extra_large_unit']\n",
      "2021-2022.xlsx\n",
      "['street_number', 'street_name', 'street_suffix', 'unit_number', 'zip_code', 'level_of_study', 'full_time', 'extra_large_unit']\n",
      "2022-2023.xlsx\n",
      "['street_number', 'street_name', 'street_suffix', 'unit_number', 'zip_code', 'level_of_study', 'full_time', 'at_home']\n",
      "2023-2024.xlsx\n",
      "['street_number', 'street_name', 'street_suffix', 'unit_number', 'zip_code', 'level_of_study', 'full_time', 'at_home']\n"
     ]
    }
   ],
   "source": [
    "# 2022-2023 has at-home column\n",
    "# 2023-2024 has at-home column\n",
    "# others do not have at-home column\n",
    "\n",
    "dfs['2022-2023.xlsx'].columns = ['street_number','street_name','street_suffix','unit_number','zip_code','level_of_study','full_time','at_home']\n",
    "dfs['2023-2024.xlsx'].columns = ['street_number','street_name','street_suffix','unit_number','zip_code','level_of_study','full_time','at_home']\n",
    "\n",
    "for key in dfs:\n",
    "    if key in ['2022-2023.xlsx','2023-2024.xlsx']:\n",
    "        continue\n",
    "    dfs[key].columns = ['street_number','street_name','street_suffix','unit_number','zip_code','level_of_study','full_time','extra_large_unit']\n",
    "\n",
    "print_columns(dfs)"
   ]
  },
  {
   "cell_type": "code",
   "execution_count": 342,
   "metadata": {},
   "outputs": [
    {
     "name": "stdout",
     "output_type": "stream",
     "text": [
      "2016-2017.xlsx\n",
      "['street_number', 'street_name', 'street_suffix', 'unit_number', 'zip_code', 'level_of_study', 'full_time', 'extra_large_unit', 'at_home']\n",
      "2017-2018.xlsx\n",
      "['street_number', 'street_name', 'street_suffix', 'unit_number', 'zip_code', 'level_of_study', 'full_time', 'extra_large_unit', 'at_home']\n",
      "2018-2019.xlsx\n",
      "['street_number', 'street_name', 'street_suffix', 'unit_number', 'zip_code', 'level_of_study', 'full_time', 'extra_large_unit', 'at_home']\n",
      "2019-2020.xlsx\n",
      "['street_number', 'street_name', 'street_suffix', 'unit_number', 'zip_code', 'level_of_study', 'full_time', 'extra_large_unit', 'at_home']\n",
      "2020-2021.xlsx\n",
      "['street_number', 'street_name', 'street_suffix', 'unit_number', 'zip_code', 'level_of_study', 'full_time', 'extra_large_unit', 'at_home']\n",
      "2021-2022.xlsx\n",
      "['street_number', 'street_name', 'street_suffix', 'unit_number', 'zip_code', 'level_of_study', 'full_time', 'extra_large_unit', 'at_home']\n",
      "2022-2023.xlsx\n",
      "['street_number', 'street_name', 'street_suffix', 'unit_number', 'zip_code', 'level_of_study', 'full_time', 'extra_large_unit', 'at_home']\n",
      "2023-2024.xlsx\n",
      "['street_number', 'street_name', 'street_suffix', 'unit_number', 'zip_code', 'level_of_study', 'full_time', 'extra_large_unit', 'at_home']\n"
     ]
    }
   ],
   "source": [
    "dfs = fix_missing_columns(dfs, ['at_home','extra_large_unit'])\n",
    "\n",
    "dfs = reorder_columns(dfs, ['extra_large_unit','at_home'])\n",
    "\n",
    "print_columns(dfs)"
   ]
  },
  {
   "cell_type": "code",
   "execution_count": 343,
   "metadata": {},
   "outputs": [],
   "source": [
    "polish_and_save(dfs, 'Massachusetts College of Pharmacy and Health Sciences', './data/clean/MassachusettsCollegePharmacyHealthSciences.csv')"
   ]
  },
  {
   "cell_type": "markdown",
   "metadata": {},
   "source": [
    "# MIT"
   ]
  },
  {
   "cell_type": "code",
   "execution_count": 334,
   "metadata": {},
   "outputs": [
    {
     "name": "stdout",
     "output_type": "stream",
     "text": [
      "2017-2018.xlsx\n",
      "['6a. \\nStreet #', '6b. \\nStreet Name', '6c. \\nStreet Suffix  ', '6d.\\n Unit #', '6e. \\nZip', '7. \\nUndergraduate (U) or Graduate (G)', '8. \\nFull-time (FT) or \\nPart-time (PT)', '9. \\n 5 or More Undergrads/Unit\\n(Y/N)']\n",
      "2018-2019.xlsx\n",
      "['6a. \\nStreet #', '6b. \\nStreet Name', '6c. \\nStreet Suffix  ', '6d.\\n Unit #', '6e. \\nZip', '7. \\nUndergraduate (U) or Graduate (G)', '8. \\nFull-time (FT) or \\nPart-time (PT)', '9. \\n 5 or More Undergrads/Unit\\n(Y/N)']\n",
      "2019-2020.xlsx\n",
      "['6a. \\nStreet #', '6b. \\nStreet Name', '6c. \\nStreet Suffix  ', '6d.\\n Unit #', '6e. \\nZip', '7. \\nUndergraduate (U) or Graduate (G)', '8. \\nFull-time (FT) or \\nPart-time (PT)', '9. \\n 5 or More Undergrads/Unit\\n(Y/N)']\n",
      "2020-2021.xlsx\n",
      "['6a. \\nStreet #', '6b. \\nStreet Name', '6c. \\nStreet Suffix  ', '6d.\\n Unit #', '6e. \\nZip', '7. \\nUndergraduate (U) or Graduate (G)', '8. \\nFull-time (FT) or \\nPart-time (PT)', '9. \\n 5 or More Undergrads/Unit\\n(Y/N)']\n",
      "2021-2022.xlsx\n",
      "['6a. \\nStreet #', '6b. \\nStreet Name', '6c. \\nStreet Suffix  ', '6d.\\n Unit #', '6e. \\nZip', '7. \\nUndergraduate (U) or Graduate (G)', '8. \\nFull-time (FT) or \\nPart-time (PT)', '9. \\n 5 or More Undergrads/Unit\\n(Y/N)']\n",
      "2022-2023.xlsx\n",
      "['6a. \\nStreet #', '6b. \\nStreet Name', '6c. \\nStreet Suffix  ', '6d.\\n Unit #', '6e. \\nZip', '7. \\nUndergraduate (U) or Graduate (G)', '8. \\nFull-time (FT) or \\nPart-time (PT)', '9. \\nAt-Home or Not-at-Home']\n",
      "2023-2024.xlsx\n",
      "['6a. \\nStreet #', '6b. \\nStreet Name', '6c. \\nStreet Suffix  ', '6d.\\n Unit #', '6e. \\nZip', '7. \\nUndergraduate (U) or Graduate (G)', '8. \\nFull-time (FT) or \\nPart-time (PT)', '9. \\nAt-Home or Not-at-Home']\n"
     ]
    }
   ],
   "source": [
    "dfs = prep_dfs('MassachusettsInstituteTechnology')\n",
    "print_columns(dfs)"
   ]
  },
  {
   "cell_type": "code",
   "execution_count": 335,
   "metadata": {},
   "outputs": [
    {
     "name": "stdout",
     "output_type": "stream",
     "text": [
      "2017-2018.xlsx\n",
      "['street_number', 'street_name', 'street_suffix', 'unit_number', 'zip_code', 'level_of_study', 'full_time', 'extra_large_unit']\n",
      "2018-2019.xlsx\n",
      "['street_number', 'street_name', 'street_suffix', 'unit_number', 'zip_code', 'level_of_study', 'full_time', 'extra_large_unit']\n",
      "2019-2020.xlsx\n",
      "['street_number', 'street_name', 'street_suffix', 'unit_number', 'zip_code', 'level_of_study', 'full_time', 'extra_large_unit']\n",
      "2020-2021.xlsx\n",
      "['street_number', 'street_name', 'street_suffix', 'unit_number', 'zip_code', 'level_of_study', 'full_time', 'extra_large_unit']\n",
      "2021-2022.xlsx\n",
      "['street_number', 'street_name', 'street_suffix', 'unit_number', 'zip_code', 'level_of_study', 'full_time', 'extra_large_unit']\n",
      "2022-2023.xlsx\n",
      "['street_number', 'street_name', 'street_suffix', 'unit_number', 'zip_code', 'level_of_study', 'full_time', 'at_home']\n",
      "2023-2024.xlsx\n",
      "['street_number', 'street_name', 'street_suffix', 'unit_number', 'zip_code', 'level_of_study', 'full_time', 'at_home']\n"
     ]
    }
   ],
   "source": [
    "# 2022-2023 has at-home column\n",
    "# 2023-2024 has at-home column\n",
    "# others do not have at-home column\n",
    "\n",
    "dfs['2022-2023.xlsx'].columns = ['street_number','street_name','street_suffix','unit_number','zip_code','level_of_study','full_time','at_home']\n",
    "dfs['2023-2024.xlsx'].columns = ['street_number','street_name','street_suffix','unit_number','zip_code','level_of_study','full_time','at_home']\n",
    "\n",
    "for key in dfs:\n",
    "    if key in ['2022-2023.xlsx','2023-2024.xlsx']:\n",
    "        continue\n",
    "    dfs[key].columns = ['street_number','street_name','street_suffix','unit_number','zip_code','level_of_study','full_time','extra_large_unit']\n",
    "\n",
    "print_columns(dfs)"
   ]
  },
  {
   "cell_type": "code",
   "execution_count": 336,
   "metadata": {},
   "outputs": [
    {
     "name": "stdout",
     "output_type": "stream",
     "text": [
      "2017-2018.xlsx\n",
      "['street_number', 'street_name', 'street_suffix', 'unit_number', 'zip_code', 'level_of_study', 'full_time', 'extra_large_unit', 'at_home']\n",
      "2018-2019.xlsx\n",
      "['street_number', 'street_name', 'street_suffix', 'unit_number', 'zip_code', 'level_of_study', 'full_time', 'extra_large_unit', 'at_home']\n",
      "2019-2020.xlsx\n",
      "['street_number', 'street_name', 'street_suffix', 'unit_number', 'zip_code', 'level_of_study', 'full_time', 'extra_large_unit', 'at_home']\n",
      "2020-2021.xlsx\n",
      "['street_number', 'street_name', 'street_suffix', 'unit_number', 'zip_code', 'level_of_study', 'full_time', 'extra_large_unit', 'at_home']\n",
      "2021-2022.xlsx\n",
      "['street_number', 'street_name', 'street_suffix', 'unit_number', 'zip_code', 'level_of_study', 'full_time', 'extra_large_unit', 'at_home']\n",
      "2022-2023.xlsx\n",
      "['street_number', 'street_name', 'street_suffix', 'unit_number', 'zip_code', 'level_of_study', 'full_time', 'extra_large_unit', 'at_home']\n",
      "2023-2024.xlsx\n",
      "['street_number', 'street_name', 'street_suffix', 'unit_number', 'zip_code', 'level_of_study', 'full_time', 'extra_large_unit', 'at_home']\n"
     ]
    }
   ],
   "source": [
    "dfs = fix_missing_columns(dfs, ['at_home','extra_large_unit'])\n",
    "\n",
    "dfs = reorder_columns(dfs, ['extra_large_unit','at_home'])\n",
    "\n",
    "print_columns(dfs)"
   ]
  },
  {
   "cell_type": "code",
   "execution_count": 337,
   "metadata": {},
   "outputs": [],
   "source": [
    "polish_and_save(dfs, 'Massachusetts Institute of Technology', './data/clean/MassachusettsInstituteTechnology.csv')"
   ]
  },
  {
   "cell_type": "markdown",
   "metadata": {},
   "source": [
    "# MGH Institute of Health Professions"
   ]
  },
  {
   "cell_type": "code",
   "execution_count": 359,
   "metadata": {},
   "outputs": [
    {
     "name": "stdout",
     "output_type": "stream",
     "text": [
      "2016-2017.xlsx\n",
      "['6a. \\nStreet #', '6b. \\nStreet Name', '6c. \\nStreet Suffix  ', '6d.\\n Unit #', '6e. \\nZip', '7. \\nUndergraduate (U) or Graduate (G)', '8. \\nFull-time (FT) or \\nPart-time (PT)', '9. \\n 5 or More Undergrads/Unit\\n(Y/N)']\n",
      "2017-2018.xlsx\n",
      "['6a. \\nStreet #', '6b. \\nStreet Name', '6c. \\nStreet Suffix  ', '6d.\\n Unit #', '6e. \\nZip', '7. \\nUndergraduate (U) or Graduate (G)', '8. \\nFull-time (FT) or \\nPart-time (PT)', '9. \\n 5 or More Undergrads/Unit\\n(Y/N)']\n",
      "2018-2019.xlsx\n",
      "['6a. \\nStreet #', '6b. \\nStreet Name', '6c. \\nStreet Suffix  ', '6d.\\n Unit #', '6e. \\nZip', '7. \\nUndergraduate (U) or Graduate (G)', '8. \\nFull-time (FT) or \\nPart-time (PT)', '9. \\n 5 or More Undergrads/Unit\\n(Y/N)']\n",
      "2019-2020.xlsx\n",
      "['6a. \\nStreet #', '6b. \\nStreet Name', '6c. \\nStreet Suffix  ', '6d.\\n Unit #', '6e. \\nZip', '7. \\nUndergraduate (U) or Graduate (G)', '8. \\nFull-time (FT) or \\nPart-time (PT)', '9. \\n 5 or More Undergrads/Unit\\n(Y/N)']\n",
      "2020-2021.xlsx\n",
      "['6a. \\nStreet #', '6b. \\nStreet Name', '6c. \\nStreet Suffix  ', '6d.\\n Unit #', '6e. \\nZip', '7. \\nUndergraduate (U) or Graduate (G)', '8. \\nFull-time (FT) or \\nPart-time (PT)', '9. \\n 5 or More Undergrads/Unit\\n(Y/N)']\n",
      "2021-2022.xlsx\n",
      "['6a. \\nStreet #', '6b. \\nStreet Name', '6c. \\nStreet Suffix  ', '6d.\\n Unit #', '6e. \\nZip', '7. \\nUndergraduate (U) or Graduate (G)', '8. \\nFull-time (FT) or \\nPart-time (PT)', '9. \\n 5 or More Undergrads/Unit\\n(Y/N)']\n",
      "2022-2023.xlsx\n",
      "['6a. \\nStreet #', '6b. \\nStreet Name', '6c. \\nStreet Suffix  ', '6d.\\n Unit #', '6e. \\nZip', '7. \\nUndergraduate (U) or Graduate (G)', '8. \\nFull-time (FT) or \\nPart-time (PT)', '9. \\nAt-Home or Not-at-Home']\n",
      "2023-2024.xlsx\n",
      "['6a. \\nStreet #', '6b. \\nStreet Name', '6c. \\nStreet Suffix  ', '6d.\\n Unit #', '6e. \\nZip', '7. \\nUndergraduate (U) or Graduate (G)', '8. \\nFull-time (FT) or \\nPart-time (PT)', '9. \\nAt-Home or Not-at-Home']\n"
     ]
    }
   ],
   "source": [
    "dfs = prep_dfs('MGHInstituteHealthProfessions')\n",
    "print_columns(dfs)"
   ]
  },
  {
   "cell_type": "code",
   "execution_count": 360,
   "metadata": {},
   "outputs": [
    {
     "name": "stdout",
     "output_type": "stream",
     "text": [
      "2016-2017.xlsx\n",
      "['street_number', 'street_name', 'street_suffix', 'unit_number', 'zip_code', 'level_of_study', 'full_time', 'extra_large_unit', 'at_home']\n",
      "2017-2018.xlsx\n",
      "['street_number', 'street_name', 'street_suffix', 'unit_number', 'zip_code', 'level_of_study', 'full_time', 'extra_large_unit', 'at_home']\n",
      "2018-2019.xlsx\n",
      "['street_number', 'street_name', 'street_suffix', 'unit_number', 'zip_code', 'level_of_study', 'full_time', 'extra_large_unit', 'at_home']\n",
      "2019-2020.xlsx\n",
      "['street_number', 'street_name', 'street_suffix', 'unit_number', 'zip_code', 'level_of_study', 'full_time', 'extra_large_unit', 'at_home']\n",
      "2020-2021.xlsx\n",
      "['street_number', 'street_name', 'street_suffix', 'unit_number', 'zip_code', 'level_of_study', 'full_time', 'extra_large_unit', 'at_home']\n",
      "2021-2022.xlsx\n",
      "['street_number', 'street_name', 'street_suffix', 'unit_number', 'zip_code', 'level_of_study', 'full_time', 'extra_large_unit', 'at_home']\n",
      "2022-2023.xlsx\n",
      "['street_number', 'street_name', 'street_suffix', 'unit_number', 'zip_code', 'level_of_study', 'full_time', 'extra_large_unit', 'at_home']\n",
      "2023-2024.xlsx\n",
      "['street_number', 'street_name', 'street_suffix', 'unit_number', 'zip_code', 'level_of_study', 'full_time', 'extra_large_unit', 'at_home']\n"
     ]
    }
   ],
   "source": [
    "# 2022-2023 has at-home column\n",
    "# 2023-2024 has at-home column\n",
    "\n",
    "dfs['2022-2023.xlsx'].columns = ['street_number','street_name','street_suffix','unit_number','zip_code','level_of_study','full_time','at_home']\n",
    "dfs['2023-2024.xlsx'].columns = ['street_number','street_name','street_suffix','unit_number','zip_code','level_of_study','full_time','at_home']\n",
    "\n",
    "for key in dfs:\n",
    "    if key in ['2022-2023.xlsx','2023-2024.xlsx']:\n",
    "        continue\n",
    "    dfs[key].columns = ['street_number','street_name','street_suffix','unit_number','zip_code','level_of_study','full_time','extra_large_unit']\n",
    "\n",
    "\n",
    "dfs = fix_missing_columns(dfs, ['at_home','extra_large_unit'])\n",
    "\n",
    "dfs = reorder_columns(dfs, ['extra_large_unit','at_home'])\n",
    "\n",
    "print_columns(dfs)"
   ]
  },
  {
   "cell_type": "code",
   "execution_count": 361,
   "metadata": {},
   "outputs": [],
   "source": [
    "polish_and_save(dfs, 'MGH Institute of Health Professions', './data/clean/MGHInstituteHealthProfessions.csv')"
   ]
  },
  {
   "cell_type": "markdown",
   "metadata": {},
   "source": [
    "# New England College of Optometry"
   ]
  },
  {
   "cell_type": "code",
   "execution_count": 362,
   "metadata": {},
   "outputs": [
    {
     "name": "stdout",
     "output_type": "stream",
     "text": [
      "2016-2017.xlsx\n",
      "['6a. \\nStreet #', '6b. \\nStreet Name', '6c. \\nStreet Suffix  ', '6d.\\n Unit #', '6e. \\nZip', '7. \\nUndergraduate (U) or Graduate (G)', '8. \\nFull-time (FT) or \\nPart-time (PT)', '9. \\n 5 or More Undergrads/Unit\\n(Y/N)']\n",
      "2017-2018.xlsx\n",
      "['6a. \\nStreet #', '6b. \\nStreet Name', '6c. \\nStreet Suffix  ', '6d.\\n Unit #', '6e. \\nZip', '7. \\nUndergraduate (U) or Graduate (G)', '8. \\nFull-time (FT) or \\nPart-time (PT)', '9. \\n 5 or More Undergrads/Unit\\n(Y/N)']\n",
      "2018-2019.xlsx\n",
      "['6a. \\nStreet #', '6b. \\nStreet Name', '6c. \\nStreet Suffix  ', '6d.\\n Unit #', '6e. \\nZip', '7. \\nUndergraduate (U) or Graduate (G)', '8. \\nFull-time (FT) or \\nPart-time (PT)', '9. \\n 5 or More Undergrads/Unit\\n(Y/N)']\n",
      "2019-2020.xlsx\n",
      "['Street Number', 'Street Name', 'Street Suffix', 'Unit Number', 'ZIP', 'Undergraduate (U) or Graduate (G)', '8. \\nFull-time (FT) or \\nPart-time (PT)', '9. \\n 5 or More Undergrads/Unit\\n(Y/N)']\n",
      "2020-2021.xlsx\n",
      "['6a. \\nStreet #', '6b. \\nStreet Name', '6c. \\nStreet Suffix  ', '6d.\\n Unit #', '6e. \\nZip', '7. \\nUndergraduate (U) or Graduate (G)', '8. \\nFull-time (FT) or \\nPart-time (PT)', '9. \\n 5 or More Undergrads/Unit\\n(Y/N)']\n",
      "2021-2022.xlsx\n",
      "['6a. \\nStreet #', '6b. \\nStreet Name', '6c. \\nStreet Suffix  ', '6d.\\n Unit #', '6e. \\nZip', '7. \\nUndergraduate (U) or Graduate (G)', '8. \\nFull-time (FT) or \\nPart-time (PT)', '9. \\n 5 or More Undergrads/Unit\\n(Y/N)']\n",
      "2022-2023.xlsx\n",
      "['6a. \\nStreet #', '6b. \\nStreet Name', '6c. \\nStreet Suffix  ', '6d.\\n Unit #', '6e. \\nZip', '7. \\nUndergraduate (U) or Graduate (G)', '8. \\nFull-time (FT) or \\nPart-time (PT)', '9. \\nAt-Home or Not-at-Home']\n",
      "2023-2024.xlsx\n",
      "['6a. \\nStreet #', '6b. \\nStreet Name', '6c. \\nStreet Suffix  ', '6d.\\n Unit #', '6e. \\nZip', '7. \\nUndergraduate (U) or Graduate (G)', '8. \\nFull-time (FT) or \\nPart-time (PT)', '9. \\nAt-Home or Not-at-Home']\n"
     ]
    }
   ],
   "source": [
    "dfs = prep_dfs('NewEnglandCollegeOptometry')\n",
    "print_columns(dfs)"
   ]
  },
  {
   "cell_type": "code",
   "execution_count": 363,
   "metadata": {},
   "outputs": [
    {
     "name": "stdout",
     "output_type": "stream",
     "text": [
      "2016-2017.xlsx\n",
      "['street_number', 'street_name', 'street_suffix', 'unit_number', 'zip_code', 'level_of_study', 'full_time', 'extra_large_unit', 'at_home']\n",
      "2017-2018.xlsx\n",
      "['street_number', 'street_name', 'street_suffix', 'unit_number', 'zip_code', 'level_of_study', 'full_time', 'extra_large_unit', 'at_home']\n",
      "2018-2019.xlsx\n",
      "['street_number', 'street_name', 'street_suffix', 'unit_number', 'zip_code', 'level_of_study', 'full_time', 'extra_large_unit', 'at_home']\n",
      "2019-2020.xlsx\n",
      "['street_number', 'street_name', 'street_suffix', 'unit_number', 'zip_code', 'level_of_study', 'full_time', 'extra_large_unit', 'at_home']\n",
      "2020-2021.xlsx\n",
      "['street_number', 'street_name', 'street_suffix', 'unit_number', 'zip_code', 'level_of_study', 'full_time', 'extra_large_unit', 'at_home']\n",
      "2021-2022.xlsx\n",
      "['street_number', 'street_name', 'street_suffix', 'unit_number', 'zip_code', 'level_of_study', 'full_time', 'extra_large_unit', 'at_home']\n",
      "2022-2023.xlsx\n",
      "['street_number', 'street_name', 'street_suffix', 'unit_number', 'zip_code', 'level_of_study', 'full_time', 'extra_large_unit', 'at_home']\n",
      "2023-2024.xlsx\n",
      "['street_number', 'street_name', 'street_suffix', 'unit_number', 'zip_code', 'level_of_study', 'full_time', 'extra_large_unit', 'at_home']\n"
     ]
    }
   ],
   "source": [
    "# 2022-2023 has at-home column\n",
    "# 2023-2024 has at-home column\n",
    "\n",
    "dfs['2022-2023.xlsx'].columns = ['street_number','street_name','street_suffix','unit_number','zip_code','level_of_study','full_time','at_home']\n",
    "dfs['2023-2024.xlsx'].columns = ['street_number','street_name','street_suffix','unit_number','zip_code','level_of_study','full_time','at_home']\n",
    "\n",
    "for key in dfs:\n",
    "    if key in ['2022-2023.xlsx','2023-2024.xlsx']:\n",
    "        continue\n",
    "    dfs[key].columns = ['street_number','street_name','street_suffix','unit_number','zip_code','level_of_study','full_time','extra_large_unit']\n",
    "\n",
    "dfs = fix_missing_columns(dfs, ['at_home','extra_large_unit'])\n",
    "\n",
    "dfs = reorder_columns(dfs, ['extra_large_unit','at_home'])\n",
    "\n",
    "print_columns(dfs)"
   ]
  },
  {
   "cell_type": "code",
   "execution_count": 364,
   "metadata": {},
   "outputs": [],
   "source": [
    "polish_and_save(dfs, 'New England College of Optometry', './data/clean/NewEnglandCollegeOptometry.csv')"
   ]
  },
  {
   "cell_type": "markdown",
   "metadata": {},
   "source": [
    "# New England Conservatory"
   ]
  },
  {
   "cell_type": "code",
   "execution_count": 366,
   "metadata": {},
   "outputs": [
    {
     "name": "stdout",
     "output_type": "stream",
     "text": [
      "2016-2017.xlsx\n",
      "['6a. \\nStreet #', '6b. \\nStreet Name', '6c. \\nStreet Suffix  ', '6d.\\n Unit #', '6e. \\nZip', '7. \\nUndergraduate (U) or Graduate (G)', '8. \\nFull-time (FT) or \\nPart-time (PT)', '9. \\n 5 or More Undergrads/Unit\\n(Y/N)']\n",
      "2017-2018.xlsx\n",
      "['6a. \\nStreet #', '6b. \\nStreet Name', '6c. \\nStreet Suffix  ', '6d.\\n Unit #', '6e. \\nZip', '7. \\nUndergraduate (U) or Graduate (G)', '8. \\nFT-time (FT) or \\nPT-time (PT)', '9. \\n 5 or More Undergrads/Unit\\n(Y/N)']\n",
      "2018-2019.xlsx\n",
      "['6a. \\nStreet #', '6b. \\nStreet Name', '6c. \\nStreet Suffix  ', '6d. \\n Unit #', '6e. \\nZip', '7. \\nUndergraduate (U) or Graduate (G)', '8. \\nFull-time (FT) or \\nPart-time (PT)', '9. \\n 5 or More Undergrads/Unit\\n(Y/N)']\n",
      "2019-2020.xlsx\n",
      "['6a. \\nStreet #', '6b. \\nStreet Name', '6c. \\nStreet Suffix  ', '6d.\\n Unit #', '6e. \\nZip', '7. \\nUndergraduate (U) or Graduate (G)', '8. \\nFull-time (FT) or \\nPart-time (PT)', '9. \\n 5 or More Undergrads/Unit\\n(Y/N)']\n",
      "2020-2021.xlsx\n",
      "['6a. \\nStreet #', '6b. \\nStreet Name', '6c. \\nStreet Suffix  ', '6d.\\n Unit #', '6e. \\nZip', '7. \\nUndergraduate (U) or Graduate (G)', '8. \\nFull-time (FT) or \\nPart-time (PT)', '9. \\n 5 or More Undergrads/Unit\\n(Y/N)']\n",
      "2021-2022.xlsx\n",
      "['6a. \\nStreet #', '6b. \\nStreet Name', '6c. \\nStreet Suffix  ', '6d.\\n Unit #', '6e. \\nZip', '7. \\nUndergraduate (U) or Graduate (G)', '8. \\nFull-time (FT) or \\nPart-time (PT)', '9. \\n 5 or More Undergrads/Unit\\n(Y/N)']\n",
      "2022-2023.xlsx\n",
      "['6a. \\nStreet #', '6b. \\nStreet Name', '6c. \\nStreet Suffix  ', '6d.\\n Unit #', '6e. \\nZip', '7. \\nUndergraduate (U) or Graduate (G)', '8. \\nFull-time (FT) or \\nPart-time (PT)', '9. \\nAt-Home or Not-at-Home']\n",
      "2023-2024.xlsx\n",
      "['6a. \\nStreet #', '6b. \\nStreet Name', '6c. \\nStreet Suffix  ', '6d.\\n Unit #', '6e. \\nZip', '7. \\nUndergraduate (U) or Graduate (G)', '8. \\nFull-time (FT) or \\nPart-time (PT)', '9. \\nAt-Home or Not-at-Home']\n"
     ]
    }
   ],
   "source": [
    "dfs = prep_dfs('NewEnglandConservatory')\n",
    "print_columns(dfs)"
   ]
  },
  {
   "cell_type": "code",
   "execution_count": 367,
   "metadata": {},
   "outputs": [
    {
     "name": "stdout",
     "output_type": "stream",
     "text": [
      "2016-2017.xlsx\n",
      "['street_number', 'street_name', 'street_suffix', 'unit_number', 'zip_code', 'level_of_study', 'full_time', 'extra_large_unit', 'at_home']\n",
      "2017-2018.xlsx\n",
      "['street_number', 'street_name', 'street_suffix', 'unit_number', 'zip_code', 'level_of_study', 'full_time', 'extra_large_unit', 'at_home']\n",
      "2018-2019.xlsx\n",
      "['street_number', 'street_name', 'street_suffix', 'unit_number', 'zip_code', 'level_of_study', 'full_time', 'extra_large_unit', 'at_home']\n",
      "2019-2020.xlsx\n",
      "['street_number', 'street_name', 'street_suffix', 'unit_number', 'zip_code', 'level_of_study', 'full_time', 'extra_large_unit', 'at_home']\n",
      "2020-2021.xlsx\n",
      "['street_number', 'street_name', 'street_suffix', 'unit_number', 'zip_code', 'level_of_study', 'full_time', 'extra_large_unit', 'at_home']\n",
      "2021-2022.xlsx\n",
      "['street_number', 'street_name', 'street_suffix', 'unit_number', 'zip_code', 'level_of_study', 'full_time', 'extra_large_unit', 'at_home']\n",
      "2022-2023.xlsx\n",
      "['street_number', 'street_name', 'street_suffix', 'unit_number', 'zip_code', 'level_of_study', 'full_time', 'extra_large_unit', 'at_home']\n",
      "2023-2024.xlsx\n",
      "['street_number', 'street_name', 'street_suffix', 'unit_number', 'zip_code', 'level_of_study', 'full_time', 'extra_large_unit', 'at_home']\n"
     ]
    }
   ],
   "source": [
    "# 2022-2023 has at-home column\n",
    "# 2023-2024 has at-home column\n",
    "\n",
    "dfs['2022-2023.xlsx'].columns = ['street_number','street_name','street_suffix','unit_number','zip_code','level_of_study','full_time','at_home']\n",
    "dfs['2023-2024.xlsx'].columns = ['street_number','street_name','street_suffix','unit_number','zip_code','level_of_study','full_time','at_home']\n",
    "\n",
    "for key in dfs:\n",
    "    if key in ['2022-2023.xlsx','2023-2024.xlsx']:\n",
    "        continue\n",
    "    dfs[key].columns = ['street_number','street_name','street_suffix','unit_number','zip_code','level_of_study','full_time','extra_large_unit']\n",
    "\n",
    "dfs = fix_missing_columns(dfs, ['at_home','extra_large_unit'])\n",
    "\n",
    "dfs = reorder_columns(dfs, ['extra_large_unit','at_home'])\n",
    "\n",
    "print_columns(dfs)"
   ]
  },
  {
   "cell_type": "code",
   "execution_count": 368,
   "metadata": {},
   "outputs": [],
   "source": [
    "polish_and_save(dfs, 'New England Conservatory', './data/clean/NewEnglandConservatory.csv')"
   ]
  },
  {
   "cell_type": "markdown",
   "metadata": {},
   "source": [
    "# New England Law"
   ]
  },
  {
   "cell_type": "code",
   "execution_count": 369,
   "metadata": {},
   "outputs": [
    {
     "name": "stdout",
     "output_type": "stream",
     "text": [
      "2016-2017.xlsx\n",
      "['6a. \\nStreet #', '6b. \\nStreet Name', '6c. \\nStreet Suffix  ', '6d.\\n Unit #', '6e. \\nZip', '7. \\nUndergraduate (U) or Graduate (G)', '8. \\nFull-time (FT) or \\nPart-time (PT)', '9. \\n 5 or More Undergrads/Unit\\n(Y/N)']\n",
      "2017-2018.xlsx\n",
      "['6a. \\nStreet #', '6b. \\nStreet Name', '6c. \\nStreet Suffix  ', '6d.\\n Unit #', '6e. \\nZip', '7. \\nUndergraduate (U) or Graduate (G)', '8. \\nFull-time (FT) or \\nPart-time (PT)', '9. \\n 5 or More Undergrads/Unit\\n(Y/N)']\n",
      "2018-2019.xlsx\n",
      "['6a. \\nStreet #', '6b. \\nStreet Name', '6c. \\nStreet Suffix  ', '6d.\\n Unit #', '6e. \\nZip', '7. \\nUndergraduate (U) or Graduate (G)', '8. \\nFull-time (FT) or \\nPart-time (PT)', '9. \\n 5 or More Undergrads/Unit\\n(Y/N)']\n",
      "2019-2020.xlsx\n",
      "['6a. \\nStreet #', '6b. \\nStreet Name', '6c. \\nStreet Suffix  ', '6d.\\n Unit #', '6e. \\nZip', '7. \\nUndergraduate (U) or Graduate (G)', '8. \\nFull-time (FT) or \\nPart-time (PT)', '9. \\n 5 or More Undergrads/Unit\\n(Y/N)']\n",
      "2020-2021.xlsx\n",
      "['6a. \\nStreet #', '6b. \\nStreet Name', '6c. \\nStreet Suffix  ', '6d.\\n Unit #', '6e. \\nZip', '7. \\nUndergraduate (U) or Graduate (G)', '8. \\nFull-time (FT) or \\nPart-time (PT)', '9. \\n 5 or More Undergrads/Unit\\n(Y/N)']\n",
      "2021-2022.xlsx\n",
      "['6a. \\nStreet #', '6b. \\nStreet Name', '6c. \\nStreet Suffix  ', '6d.\\n Unit #', '6e. \\nZip', '7. \\nUndergraduate (U) or Graduate (G)', '8. \\nFull-time (FT) or \\nPart-time (PT)', '9. \\n 5 or More Undergrads/Unit\\n(Y/N)']\n",
      "2022-2023.xlsx\n",
      "['6a. \\nStreet #', '6b. \\nStreet Name', '6c. \\nStreet Suffix  ', '6d.\\n Unit #', '6e. \\nZip', '7. \\nUndergraduate (U) or Graduate (G)', '8. \\nFull-time (FT) or \\nPart-time (PT)', '9. \\nAt-Home or Not-at-Home']\n",
      "2023-2024.xlsx\n",
      "['6a. \\nStreet #', '6b. \\nStreet Name', '6c. \\nStreet Suffix  ', '6d.\\n Unit #', '6e. \\nZip', '7. \\nUndergraduate (U) or Graduate (G)', '8. \\nFull-time (FT) or \\nPart-time (PT)', '9. \\nAt-Home or Not-at-Home']\n"
     ]
    }
   ],
   "source": [
    "dfs = prep_dfs('NewEnglandLaw')\n",
    "print_columns(dfs)"
   ]
  },
  {
   "cell_type": "code",
   "execution_count": 370,
   "metadata": {},
   "outputs": [
    {
     "name": "stdout",
     "output_type": "stream",
     "text": [
      "2016-2017.xlsx\n",
      "['street_number', 'street_name', 'street_suffix', 'unit_number', 'zip_code', 'level_of_study', 'full_time', 'extra_large_unit', 'at_home']\n",
      "2017-2018.xlsx\n",
      "['street_number', 'street_name', 'street_suffix', 'unit_number', 'zip_code', 'level_of_study', 'full_time', 'extra_large_unit', 'at_home']\n",
      "2018-2019.xlsx\n",
      "['street_number', 'street_name', 'street_suffix', 'unit_number', 'zip_code', 'level_of_study', 'full_time', 'extra_large_unit', 'at_home']\n",
      "2019-2020.xlsx\n",
      "['street_number', 'street_name', 'street_suffix', 'unit_number', 'zip_code', 'level_of_study', 'full_time', 'extra_large_unit', 'at_home']\n",
      "2020-2021.xlsx\n",
      "['street_number', 'street_name', 'street_suffix', 'unit_number', 'zip_code', 'level_of_study', 'full_time', 'extra_large_unit', 'at_home']\n",
      "2021-2022.xlsx\n",
      "['street_number', 'street_name', 'street_suffix', 'unit_number', 'zip_code', 'level_of_study', 'full_time', 'extra_large_unit', 'at_home']\n",
      "2022-2023.xlsx\n",
      "['street_number', 'street_name', 'street_suffix', 'unit_number', 'zip_code', 'level_of_study', 'full_time', 'extra_large_unit', 'at_home']\n",
      "2023-2024.xlsx\n",
      "['street_number', 'street_name', 'street_suffix', 'unit_number', 'zip_code', 'level_of_study', 'full_time', 'extra_large_unit', 'at_home']\n"
     ]
    }
   ],
   "source": [
    "# 2022-2023 has at-home column\n",
    "# 2023-2024 has at-home column\n",
    "\n",
    "dfs['2022-2023.xlsx'].columns = ['street_number','street_name','street_suffix','unit_number','zip_code','level_of_study','full_time','at_home']\n",
    "dfs['2023-2024.xlsx'].columns = ['street_number','street_name','street_suffix','unit_number','zip_code','level_of_study','full_time','at_home']\n",
    "\n",
    "for key in dfs:\n",
    "    if key in ['2022-2023.xlsx','2023-2024.xlsx']:\n",
    "        continue\n",
    "    dfs[key].columns = ['street_number','street_name','street_suffix','unit_number','zip_code','level_of_study','full_time','extra_large_unit']\n",
    "\n",
    "dfs = fix_missing_columns(dfs, ['at_home','extra_large_unit'])\n",
    "\n",
    "dfs = reorder_columns(dfs, ['extra_large_unit','at_home'])\n",
    "\n",
    "print_columns(dfs)"
   ]
  },
  {
   "cell_type": "code",
   "execution_count": 371,
   "metadata": {},
   "outputs": [],
   "source": [
    "polish_and_save(dfs, 'New England Law', './data/clean/NewEnglandLaw.csv')"
   ]
  },
  {
   "cell_type": "markdown",
   "metadata": {},
   "source": [
    "# Northeastern University"
   ]
  },
  {
   "cell_type": "code",
   "execution_count": 453,
   "metadata": {},
   "outputs": [
    {
     "name": "stderr",
     "output_type": "stream",
     "text": [
      "/Library/Frameworks/Python.framework/Versions/3.12/lib/python3.12/site-packages/openpyxl/worksheet/_reader.py:329: UserWarning: Unknown extension is not supported and will be removed\n",
      "  warn(msg)\n",
      "/Library/Frameworks/Python.framework/Versions/3.12/lib/python3.12/site-packages/openpyxl/worksheet/_reader.py:329: UserWarning: Unknown extension is not supported and will be removed\n",
      "  warn(msg)\n"
     ]
    }
   ],
   "source": [
    "ne_df_2016_2017 = pd.read_excel('./data/NorthEasternUniversity/2016-2017.xlsx', sheet_name='Student Addresses')\n",
    "ne_df_2017_2018 = pd.read_excel('./data/NorthEasternUniversity/2017-2018.xlsx', sheet_name='Student Addresses')\n",
    "ne_df_2018_2019 = pd.read_excel('./data/NorthEasternUniversity/2018-2019.xlsx', sheet_name='Student Addresses')\n",
    "ne_df_2019_2020 = pd.read_excel('./data/NorthEasternUniversity/2019-2020.xlsx', sheet_name='Student Addresses')\n",
    "ne_df_2020_2021 = pd.read_excel('./data/NorthEasternUniversity/2020-2021.xlsx', sheet_name='Student Addresses')\n",
    "ne_df_2021_2022 = pd.read_excel('./data/NorthEasternUniversity/2021-2022.xlsx', sheet_name='Student Addresses')\n",
    "ne_df_2022_2023 = pd.read_excel('./data/NorthEasternUniversity/2022-2023.xlsx', sheet_name='Student Addresses')\n",
    "ne_df_2023_2024 = pd.read_excel('./data/NorthEasternUniversity/2023-2024.xlsx', sheet_name='Student Addresses')"
   ]
  },
  {
   "cell_type": "code",
   "execution_count": 456,
   "metadata": {},
   "outputs": [
    {
     "data": {
      "text/plain": [
       "0          660 Washington ST,  Apt.2F\n",
       "1       78 Gainsborough St, Apt  102E\n",
       "2                16 Westland Ave,  48\n",
       "3            114 Hemenway St., Apt. 4\n",
       "4                      186 Calumet St\n",
       "                    ...              \n",
       "8742        70 Moraine Street, Apt. 1\n",
       "8743      39 Hemenway Street, Apt.  3\n",
       "8744          38 south huntington ave\n",
       "8745               2 Alleghany St,  2\n",
       "8746             75 Peter Parley Road\n",
       "Name: Address, Length: 8747, dtype: object"
      ]
     },
     "execution_count": 456,
     "metadata": {},
     "output_type": "execute_result"
    }
   ],
   "source": [
    "street_names = ne_df_2016_2017['Address']\n",
    "street_names"
   ]
  },
  {
   "cell_type": "code",
   "execution_count": 458,
   "metadata": {},
   "outputs": [
    {
     "data": {
      "text/plain": [
       "np.int64(8184)"
      ]
     },
     "execution_count": 458,
     "metadata": {},
     "output_type": "execute_result"
    }
   ],
   "source": [
    "# fill na with empty string\n",
    "street_names = street_names.fillna('')\n",
    "# count the ones that start with numbers\n",
    "street_names.apply(lambda name: name.split(' ')[0].isdigit()).sum()"
   ]
  },
  {
   "cell_type": "code",
   "execution_count": 459,
   "metadata": {},
   "outputs": [
    {
     "data": {
      "text/plain": [
       "8747"
      ]
     },
     "execution_count": 459,
     "metadata": {},
     "output_type": "execute_result"
    }
   ],
   "source": [
    "# how many in total\n",
    "street_names.shape[0]"
   ]
  },
  {
   "cell_type": "code",
   "execution_count": 461,
   "metadata": {},
   "outputs": [
    {
     "data": {
      "text/plain": [
       "53            183-185 Hillside Street\n",
       "160            Huntington Avenue, SJ2\n",
       "222    NU 10 BV 360 Huntington Avenue\n",
       "314     Unit 1803, 45 Province Street\n",
       "315      Commonwealth Avenue 416, 611\n",
       "326              32-34 Symphony Rd  1\n",
       "345              Tremont Street, 1430\n",
       "375               27A Cherokee Street\n",
       "472            136 263 Huntington Ave\n",
       "475             40A Leon Street  7641\n",
       "569          93A Hillside St., Apt. 3\n",
       "583        29-31 Lambert Street,  29B\n",
       "585                  61c smith street\n",
       "614                 39C McGreevey Way\n",
       "615       32-34 Symphony Road, Apt. 3\n",
       "631           room 27, 137 park drive\n",
       "742          one symphony road, Apt.2\n",
       "782          209 10 HARBOR POINT BLVD\n",
       "829    Apt.NJ6, 150 Huntington Avenue\n",
       "846               14A Iroquois Apt. 1\n",
       "Name: Address, dtype: object"
      ]
     },
     "execution_count": 461,
     "metadata": {},
     "output_type": "execute_result"
    }
   ],
   "source": [
    "# get the ones that do not start with numbers\n",
    "street_names[~street_names.apply(lambda name: name.split(' ')[0].isdigit())].head(20)"
   ]
  },
  {
   "cell_type": "markdown",
   "metadata": {},
   "source": [
    "# Sattler College"
   ]
  },
  {
   "cell_type": "code",
   "execution_count": 372,
   "metadata": {},
   "outputs": [
    {
     "name": "stdout",
     "output_type": "stream",
     "text": [
      "2020-2021.xlsx\n",
      "['6a. \\nStreet #', '6b. \\nStreet Name', '6c. \\nStreet Suffix  ', '6d.\\n Unit #', '6e. \\nZip', '7. \\nUndergraduate (U) or Graduate (G)', '8. \\nFull-time (FT) or \\nPart-time (PT)', '9. \\n 5 or More Undergrads/Unit\\n(Y/N)']\n",
      "2021-2022.xlsx\n",
      "['6a. \\nStreet #', '6b. \\nStreet Name', '6c. \\nStreet Suffix  ', '6d.\\n Unit #', '6e. \\nZip', '7. \\nUndergraduate (U) or Graduate (G)', '8. \\nFull-time (FT) or \\nPart-time (PT)', '9. \\n 5 or More Undergrads/Unit\\n(Y/N)']\n",
      "2022-2023.xlsx\n",
      "['6a. \\nStreet #', '6b. \\nStreet Name', '6c. \\nStreet Suffix  ', '6d.\\n Unit #', '6e. \\nZip', '7. \\nUndergraduate (U) or Graduate (G)', '8. \\nFull-time (FT) or \\nPart-time (PT)', '9. \\nAt-Home or Not-at-Home']\n"
     ]
    }
   ],
   "source": [
    "dfs = prep_dfs('SattlerCollege')\n",
    "print_columns(dfs)"
   ]
  },
  {
   "cell_type": "code",
   "execution_count": 373,
   "metadata": {},
   "outputs": [
    {
     "name": "stdout",
     "output_type": "stream",
     "text": [
      "2020-2021.xlsx\n",
      "['street_number', 'street_name', 'street_suffix', 'unit_number', 'zip_code', 'level_of_study', 'full_time', 'extra_large_unit', 'at_home']\n",
      "2021-2022.xlsx\n",
      "['street_number', 'street_name', 'street_suffix', 'unit_number', 'zip_code', 'level_of_study', 'full_time', 'extra_large_unit', 'at_home']\n",
      "2022-2023.xlsx\n",
      "['street_number', 'street_name', 'street_suffix', 'unit_number', 'zip_code', 'level_of_study', 'full_time', 'extra_large_unit', 'at_home']\n"
     ]
    }
   ],
   "source": [
    "# 2022-2023 has at-home column\n",
    "\n",
    "dfs['2022-2023.xlsx'].columns = ['street_number','street_name','street_suffix','unit_number','zip_code','level_of_study','full_time','at_home']\n",
    "\n",
    "for key in dfs:\n",
    "    if key in ['2022-2023.xlsx']:\n",
    "        continue\n",
    "    dfs[key].columns = ['street_number','street_name','street_suffix','unit_number','zip_code','level_of_study','full_time','extra_large_unit']\n",
    "\n",
    "dfs = fix_missing_columns(dfs, ['at_home','extra_large_unit'])\n",
    "\n",
    "dfs = reorder_columns(dfs, ['extra_large_unit','at_home'])\n",
    "\n",
    "print_columns(dfs)"
   ]
  },
  {
   "cell_type": "code",
   "execution_count": 374,
   "metadata": {},
   "outputs": [],
   "source": [
    "polish_and_save(dfs, 'Sattler College', './data/clean/SattlerCollege.csv')"
   ]
  },
  {
   "cell_type": "markdown",
   "metadata": {},
   "source": [
    "# SHOWA Boston Institute"
   ]
  },
  {
   "cell_type": "code",
   "execution_count": 377,
   "metadata": {},
   "outputs": [
    {
     "name": "stdout",
     "output_type": "stream",
     "text": [
      "2016-2017.xlsx\n",
      "['6a. \\nStreet #', '6b. \\nStreet Name', '6c. \\nStreet Suffix  ', '6d.\\n Unit #', '6e. \\nZip', '7. \\nUndergraduate (U) or Graduate (G)', '8. \\nFull-time (FT) or \\nPart-time (PT)', '9. \\n 5 or More Undergrads/Unit\\n(Y/N)']\n",
      "2017-2018.xlsx\n",
      "['6a. \\nStreet #', '6b. \\nStreet Name', '6c. \\nStreet Suffix  ', '6d.\\n Unit #', '6e. \\nZip', '7. \\nUndergraduate (U) or Graduate (G)', '8. \\nFull-time (FT) or \\nPart-time (PT)', '9. \\n 5 or More Undergrads/Unit\\n(Y/N)']\n",
      "2018-2019.xlsx\n",
      "['6a. \\nStreet #', '6b. \\nStreet Name', '6c. \\nStreet Suffix  ', '6d.\\n Unit #', '6e. \\nZip', '7. \\nUndergraduate (U) or Graduate (G)', '8. \\nFull-time (FT) or \\nPart-time (PT)', '9. \\n 5 or More Undergrads/Unit\\n(Y/N)']\n",
      "2019-2020.xlsx\n",
      "['6a. \\nStreet #', '6b. \\nStreet Name', '6c. \\nStreet Suffix  ', '6d.\\n Unit #', '6e. \\nZip', '7. \\nUndergraduate (U) or Graduate (G)', '8. \\nFull-time (FT) or \\nPart-time (PT)', '9. \\n 5 or More Undergrads/Unit\\n(Y/N)']\n",
      "2020-2021.xlsx\n",
      "['6a. \\nStreet #', '6b. \\nStreet Name', '6c. \\nStreet Suffix  ', '6d.\\n Unit #', '6e. \\nZip', '7. \\nUndergraduate (U) or Graduate (G)', '8. \\nFull-time (FT) or \\nPart-time (PT)', '9. \\n 5 or More Undergrads/Unit\\n(Y/N)']\n",
      "2021-2022.xlsx\n",
      "['6a. \\nStreet #', '6b. \\nStreet Name', '6c. \\nStreet Suffix  ', '6d.\\n Unit #', '6e. \\nZip', '7. \\nUndergraduate (U) or Graduate (G)', '8. \\nFull-time (FT) or \\nPart-time (PT)', '9. \\n 5 or More Undergrads/Unit\\n(Y/N)']\n",
      "2022-2023.xlsx\n",
      "['6a. \\nStreet #', '6b. \\nStreet Name', '6c. \\nStreet Suffix  ', '6d.\\n Unit #', '6e. \\nZip', '7. \\nUndergraduate (U) or Graduate (G)', '8. \\nFull-time (FT) or \\nPart-time (PT)', '9. \\nAt-Home or Not-at-Home']\n",
      "2023-2024.xlsx\n",
      "['6a. \\nStreet #', '6b. \\nStreet Name', '6c. \\nStreet Suffix  ', '6d.\\n Unit #', '6e. \\nZip', '7. \\nUndergraduate (U) or Graduate (G)', '8. \\nFull-time (FT) or \\nPart-time (PT)', '9. \\nAt-Home or Not-at-Home']\n"
     ]
    }
   ],
   "source": [
    "dfs = prep_dfs('SHOWABostonInstitute')\n",
    "print_columns(dfs)"
   ]
  },
  {
   "cell_type": "code",
   "execution_count": 378,
   "metadata": {},
   "outputs": [
    {
     "name": "stdout",
     "output_type": "stream",
     "text": [
      "2016-2017.xlsx\n",
      "['street_number', 'street_name', 'street_suffix', 'unit_number', 'zip_code', 'level_of_study', 'full_time', 'extra_large_unit', 'at_home']\n",
      "2017-2018.xlsx\n",
      "['street_number', 'street_name', 'street_suffix', 'unit_number', 'zip_code', 'level_of_study', 'full_time', 'extra_large_unit', 'at_home']\n",
      "2018-2019.xlsx\n",
      "['street_number', 'street_name', 'street_suffix', 'unit_number', 'zip_code', 'level_of_study', 'full_time', 'extra_large_unit', 'at_home']\n",
      "2019-2020.xlsx\n",
      "['street_number', 'street_name', 'street_suffix', 'unit_number', 'zip_code', 'level_of_study', 'full_time', 'extra_large_unit', 'at_home']\n",
      "2020-2021.xlsx\n",
      "['street_number', 'street_name', 'street_suffix', 'unit_number', 'zip_code', 'level_of_study', 'full_time', 'extra_large_unit', 'at_home']\n",
      "2021-2022.xlsx\n",
      "['street_number', 'street_name', 'street_suffix', 'unit_number', 'zip_code', 'level_of_study', 'full_time', 'extra_large_unit', 'at_home']\n",
      "2022-2023.xlsx\n",
      "['street_number', 'street_name', 'street_suffix', 'unit_number', 'zip_code', 'level_of_study', 'full_time', 'extra_large_unit', 'at_home']\n",
      "2023-2024.xlsx\n",
      "['street_number', 'street_name', 'street_suffix', 'unit_number', 'zip_code', 'level_of_study', 'full_time', 'extra_large_unit', 'at_home']\n"
     ]
    }
   ],
   "source": [
    "# 2022-2023 has at-home column\n",
    "# 2023-2024 has at-home column\n",
    "\n",
    "dfs['2022-2023.xlsx'].columns = ['street_number','street_name','street_suffix','unit_number','zip_code','level_of_study','full_time','at_home']\n",
    "dfs['2023-2024.xlsx'].columns = ['street_number','street_name','street_suffix','unit_number','zip_code','level_of_study','full_time','at_home']\n",
    "\n",
    "for key in dfs:\n",
    "    if key in ['2022-2023.xlsx','2023-2024.xlsx']:\n",
    "        continue\n",
    "    dfs[key].columns = ['street_number','street_name','street_suffix','unit_number','zip_code','level_of_study','full_time','extra_large_unit']\n",
    "\n",
    "dfs = fix_missing_columns(dfs, ['at_home','extra_large_unit'])\n",
    "\n",
    "dfs = reorder_columns(dfs, ['extra_large_unit','at_home'])\n",
    "\n",
    "print_columns(dfs)"
   ]
  },
  {
   "cell_type": "code",
   "execution_count": 379,
   "metadata": {},
   "outputs": [],
   "source": [
    "polish_and_save(dfs, 'SHOWA Boston Institute', './data/clean/SHOWABostonInstitute.csv')"
   ]
  },
  {
   "cell_type": "markdown",
   "metadata": {},
   "source": [
    "# Simmons College"
   ]
  },
  {
   "cell_type": "code",
   "execution_count": 381,
   "metadata": {},
   "outputs": [
    {
     "name": "stderr",
     "output_type": "stream",
     "text": [
      "/Library/Frameworks/Python.framework/Versions/3.12/lib/python3.12/site-packages/openpyxl/worksheet/_reader.py:329: UserWarning: Unknown extension is not supported and will be removed\n",
      "  warn(msg)\n"
     ]
    },
    {
     "name": "stdout",
     "output_type": "stream",
     "text": [
      "2016-2017.xlsx\n",
      "['6a. \\nStreet #', '6b. \\nStreet Name', '6c. \\nStreet Suffix  ', '6d.\\n Unit #', '6e. \\nZip', '7. \\nUndergraduate (U) or Graduate (G)', '8. \\nFull-time (FT) or \\nPart-time (PT)', '9. \\n 5 or More Undergrads/Unit\\n(Y/N)']\n",
      "2017-2018.xlsx\n",
      "['6a. \\nStreet #', '6b. \\nStreet Name', '6c. \\nStreet Suffix  ', '6d.\\n Unit #', '6e. \\nZip', '7. \\nUndergraduate (U) or Graduate (G)', '8. \\nFull-time (FT) or \\nPart-time (PT)', '9. \\n 5 or More Undergrads/Unit\\n(Y/N)']\n",
      "2019-2020.xlsx\n",
      "['6a. \\nStreet #', '6b. \\nStreet Name', '6c. \\nStreet Suffix  ', '6d.\\n Unit #', '6e. \\nZip', '7. \\nUndergraduate (U) or Graduate (G)', '8. \\nFull-time (FT) or \\nPart-time (PT)', '9. \\n 5 or More Undergrads/Unit\\n(Y/N)']\n",
      "2020-2021.xlsx\n",
      "['6a. \\nStreet #', '6b. \\nStreet Name', '6c. \\nSt Suffix  ', '6d.\\n Unit #', '6e. \\nZip', '7. \\nUndergraduate (U) or Graduate (G)', '8. \\nFull-time (FT) or \\nPart-time (PT)', '9. \\n 5 or More Undergrads/Unit\\n(Y/N)']\n",
      "2021-2022.xlsx\n",
      "['6a. \\nStreet #', '6b. \\nStreet Name', '6c. \\nStreet Suffix  ', '6d.\\n Unit #', '6e. \\nZip', '7. \\nUndergraduate (U) or Graduate (G)', '8. \\nFull-time (FT) or \\nPart-time (PT)', '9. \\n 5 or More Undergrads/Unit\\n(Y/N)']\n",
      "2022-2023.xlsx\n",
      "['6a. \\nStreet #', '6b. \\nStreet Name', '6c. \\nStreet Suffix  ', '6d.\\n Unit #', '6e. \\nZip', '7. \\nUndergraduate (U) or Graduate (G)', '8. \\nFull-time (FT) or \\nPart-time (PT)', '9. \\n 5 or More Undergrads/Unit\\n(Y/N)']\n",
      "2023-2024.xlsx\n",
      "['6a. \\nStreet #', '6b. \\nStreet Name', '6c. \\nStreet Suffix  ', '6d.\\n Unit #', '6e. \\nZip', '7. \\nUndergraduate (U) or Graduate (G)', '8. \\nFull-time (FT) or \\nPart-time (PT)', '9. \\nAt-Home or Not-at-Home']\n"
     ]
    }
   ],
   "source": [
    "dfs = prep_dfs('SimmonsCollege')\n",
    "print_columns(dfs)"
   ]
  },
  {
   "cell_type": "code",
   "execution_count": 382,
   "metadata": {},
   "outputs": [
    {
     "name": "stdout",
     "output_type": "stream",
     "text": [
      "2016-2017.xlsx\n",
      "['street_number', 'street_name', 'street_suffix', 'unit_number', 'zip_code', 'level_of_study', 'full_time', 'extra_large_unit', 'at_home']\n",
      "2017-2018.xlsx\n",
      "['street_number', 'street_name', 'street_suffix', 'unit_number', 'zip_code', 'level_of_study', 'full_time', 'extra_large_unit', 'at_home']\n",
      "2019-2020.xlsx\n",
      "['street_number', 'street_name', 'street_suffix', 'unit_number', 'zip_code', 'level_of_study', 'full_time', 'extra_large_unit', 'at_home']\n",
      "2020-2021.xlsx\n",
      "['street_number', 'street_name', 'street_suffix', 'unit_number', 'zip_code', 'level_of_study', 'full_time', 'extra_large_unit', 'at_home']\n",
      "2021-2022.xlsx\n",
      "['street_number', 'street_name', 'street_suffix', 'unit_number', 'zip_code', 'level_of_study', 'full_time', 'extra_large_unit', 'at_home']\n",
      "2022-2023.xlsx\n",
      "['street_number', 'street_name', 'street_suffix', 'unit_number', 'zip_code', 'level_of_study', 'full_time', 'extra_large_unit', 'at_home']\n",
      "2023-2024.xlsx\n",
      "['street_number', 'street_name', 'street_suffix', 'unit_number', 'zip_code', 'level_of_study', 'full_time', 'extra_large_unit', 'at_home']\n"
     ]
    }
   ],
   "source": [
    "# 2022-2023 has at-home column\n",
    "# 2023-2024 has at-home column\n",
    "\n",
    "dfs['2022-2023.xlsx'].columns = ['street_number','street_name','street_suffix','unit_number','zip_code','level_of_study','full_time','at_home']\n",
    "dfs['2023-2024.xlsx'].columns = ['street_number','street_name','street_suffix','unit_number','zip_code','level_of_study','full_time','at_home']\n",
    "\n",
    "for key in dfs:\n",
    "    if key in ['2022-2023.xlsx','2023-2024.xlsx']:\n",
    "        continue\n",
    "    dfs[key].columns = ['street_number','street_name','street_suffix','unit_number','zip_code','level_of_study','full_time','extra_large_unit']\n",
    "\n",
    "dfs = fix_missing_columns(dfs, ['at_home','extra_large_unit'])\n",
    "\n",
    "dfs = reorder_columns(dfs, ['extra_large_unit','at_home'])\n",
    "\n",
    "print_columns(dfs)"
   ]
  },
  {
   "cell_type": "code",
   "execution_count": 383,
   "metadata": {},
   "outputs": [],
   "source": [
    "polish_and_save(dfs, 'Simmons College', './data/clean/SimmonsCollege.csv')"
   ]
  },
  {
   "cell_type": "markdown",
   "metadata": {},
   "source": [
    "# St. John's Seminary"
   ]
  },
  {
   "cell_type": "code",
   "execution_count": 385,
   "metadata": {},
   "outputs": [
    {
     "name": "stdout",
     "output_type": "stream",
     "text": [
      "2016-2017.xlsx\n",
      "['6a. \\nStreet #', '6b. \\nStreet Name', '6c. \\nStreet Suffix  ', '6d.\\n Unit #', '6e. \\nZip', '7. \\nUndergraduate (U) or Graduate (G)', '8. \\nFull-time (FT) or \\nPart-time (PT)', '9. \\n 5 or More Undergrads/Unit\\n(Y/N)']\n",
      "2017-2018.xlsx\n",
      "['6a. \\nStreet #', '6b. \\nStreet Name', '6c. \\nStreet Suffix  ', '6d.\\n Unit #', '6e. \\nZip', '7. \\nUndergraduate (U) or Graduate (G)', '8. \\nFull-time (FT) or \\nPart-time (PT)', '9. \\n 5 or More Undergrads/Unit\\n(Y/N)']\n",
      "2018-2019.xlsx\n",
      "['6a. \\nStreet #', '6b. \\nStreet Name', '6c. \\nStreet Suffix  ', '6d.\\n Unit #', '6e. \\nZip', '7. \\nUndergraduate (U) or Graduate (G)', '8. \\nFull-time (FT) or \\nPart-time (PT)', '9. \\n 5 or More Undergrads/Unit\\n(Y/N)']\n",
      "2019-2020.xlsx\n",
      "['6a. \\nStreet #', '6b. \\nStreet Name', '6c. \\nStreet Suffix  ', '6d.\\n Unit #', '6e. \\nZip', '7. \\nUndergraduate (U) or Graduate (G)', '8. \\nFull-time (FT) or \\nPart-time (PT)', '9. \\n 5 or More Undergrads/Unit\\n(Y/N)']\n",
      "2020-2021.xlsx\n",
      "['6a. \\nStreet #', '6b. \\nStreet Name', '6c. \\nStreet Suffix  ', '6d.\\n Unit #', '6e. \\nZip', '7. \\nUndergraduate (U) or Graduate (G)', '8. \\nFull-time (FT) or \\nPart-time (PT)', '9. \\n 5 or More Undergrads/Unit\\n(Y/N)']\n",
      "2021-2022.xlsx\n",
      "['6a. \\nStreet #', '6b. \\nStreet Name', '6c. \\nStreet Suffix  ', '6d.\\n Unit #', '6e. \\nZip', '7. \\nUndergraduate (U) or Graduate (G)', '8. \\nFull-time (FT) or \\nPart-time (PT)', '9. \\n 5 or More Undergrads/Unit\\n(Y/N)']\n",
      "2022-2023.xlsx\n",
      "['6a. \\nStreet #', '6b. \\nStreet Name', '6c. \\nStreet Suffix  ', '6d.\\n Unit #', '6e. \\nZip', '7. \\nUndergraduate (U) or Graduate (G)', '8. \\nFull-time (FT) or \\nPart-time (PT)', '9. \\nAt-Home or Not-at-Home']\n",
      "2023-2024.xlsx\n",
      "['6a. \\nStreet #', '6b. \\nStreet Name', '6c. \\nStreet Suffix  ', '6d.\\n Unit #', '6e. \\nZip', '7. \\nUndergraduate (U) or Graduate (G)', '8. \\nFull-time (FT) or \\nPart-time (PT)', '9. \\nAt-Home or Not-at-Home']\n"
     ]
    }
   ],
   "source": [
    "dfs = prep_dfs('StJohnSeminary')\n",
    "print_columns(dfs)"
   ]
  },
  {
   "cell_type": "code",
   "execution_count": 386,
   "metadata": {},
   "outputs": [
    {
     "name": "stdout",
     "output_type": "stream",
     "text": [
      "2016-2017.xlsx\n",
      "['street_number', 'street_name', 'street_suffix', 'unit_number', 'zip_code', 'level_of_study', 'full_time', 'extra_large_unit', 'at_home']\n",
      "2017-2018.xlsx\n",
      "['street_number', 'street_name', 'street_suffix', 'unit_number', 'zip_code', 'level_of_study', 'full_time', 'extra_large_unit', 'at_home']\n",
      "2018-2019.xlsx\n",
      "['street_number', 'street_name', 'street_suffix', 'unit_number', 'zip_code', 'level_of_study', 'full_time', 'extra_large_unit', 'at_home']\n",
      "2019-2020.xlsx\n",
      "['street_number', 'street_name', 'street_suffix', 'unit_number', 'zip_code', 'level_of_study', 'full_time', 'extra_large_unit', 'at_home']\n",
      "2020-2021.xlsx\n",
      "['street_number', 'street_name', 'street_suffix', 'unit_number', 'zip_code', 'level_of_study', 'full_time', 'extra_large_unit', 'at_home']\n",
      "2021-2022.xlsx\n",
      "['street_number', 'street_name', 'street_suffix', 'unit_number', 'zip_code', 'level_of_study', 'full_time', 'extra_large_unit', 'at_home']\n",
      "2022-2023.xlsx\n",
      "['street_number', 'street_name', 'street_suffix', 'unit_number', 'zip_code', 'level_of_study', 'full_time', 'extra_large_unit', 'at_home']\n",
      "2023-2024.xlsx\n",
      "['street_number', 'street_name', 'street_suffix', 'unit_number', 'zip_code', 'level_of_study', 'full_time', 'extra_large_unit', 'at_home']\n"
     ]
    }
   ],
   "source": [
    "# 2022-2023 has at-home column\n",
    "# 2023-2024 has at-home column\n",
    "\n",
    "dfs['2022-2023.xlsx'].columns = ['street_number','street_name','street_suffix','unit_number','zip_code','level_of_study','full_time','at_home']\n",
    "dfs['2023-2024.xlsx'].columns = ['street_number','street_name','street_suffix','unit_number','zip_code','level_of_study','full_time','at_home']\n",
    "\n",
    "for key in dfs:\n",
    "    if key in ['2022-2023.xlsx','2023-2024.xlsx']:\n",
    "        continue\n",
    "    dfs[key].columns = ['street_number','street_name','street_suffix','unit_number','zip_code','level_of_study','full_time','extra_large_unit']\n",
    "\n",
    "dfs = fix_missing_columns(dfs, ['at_home','extra_large_unit'])\n",
    "\n",
    "dfs = reorder_columns(dfs, ['extra_large_unit','at_home'])\n",
    "\n",
    "print_columns(dfs)"
   ]
  },
  {
   "cell_type": "code",
   "execution_count": 387,
   "metadata": {},
   "outputs": [],
   "source": [
    "polish_and_save(dfs, 'St John Seminary', './data/clean/StJohnSeminary.csv')"
   ]
  },
  {
   "cell_type": "markdown",
   "metadata": {},
   "source": [
    "# Suffolk University"
   ]
  },
  {
   "cell_type": "code",
   "execution_count": 388,
   "metadata": {},
   "outputs": [
    {
     "name": "stdout",
     "output_type": "stream",
     "text": [
      "2016-2017.xlsx\n",
      "['6a. \\nStreet #', '6b. \\nStreet Name', '6c. \\nStreet Suffix  ', '6d.\\n Unit #', '6e. \\nZip', '7. \\nUndergraduate (U) or Graduate (G)', '8. \\nFull-time (FT) or \\nPart-time (PT)', '9. \\n 5 or More Undergrads/Unit\\n(Y/N)']\n",
      "2017-2018.xlsx\n",
      "['6a. \\nStreet #', '6b. \\nStreet Name', '6c. \\nStreet Suffix  ', '6d.\\n Unit #', '6e. \\nZip', '7. \\nUndergraduate (U) or Graduate (G)', '8. \\nFull-time (FT) or \\nPart-time (PT)', '9. \\n 5 or More Undergrads/Unit\\n(Y/N)']\n",
      "2018-2019.xlsx\n",
      "['6a. \\nStreet #', '6b. \\nStreet Name', '6c. \\nStreet Suffix  ', '6d.\\n Unit #', '6e. \\nZip', '7. \\nUndergraduate (U) or Graduate (G)', '8. \\nFull-time (FT) or \\nPart-time (PT)', '9. \\n 5 or More Undergrads/Unit\\n(Y/N)']\n",
      "2019-2020.xlsx\n",
      "['6a. \\nStreet #', '6b. \\nStreet Name', '6c. \\nStreet Suffix  ', '6d.\\n Unit #', '6e. \\nZip', '7. \\nUndergraduate (U) or Graduate (G)', '8. \\nFull-time (FT) or \\nPart-time (PT)', '9. \\n 5 or More Undergrads/Unit\\n(Y/N)']\n",
      "2020-2021.xlsx\n",
      "['6a. \\nStreet #', '6b. \\nStreet Name', '6c. \\nStreet Suffix  ', '6d.\\n Unit #', '6e. \\nZip', '7. \\nUndergraduate (U) or Graduate (G)', '8. \\nFull-time (FT) or \\nPart-time (PT)', '9. \\n 5 or More Undergrads/Unit\\n(Y/N)']\n",
      "2021-2022.xlsx\n",
      "['6a. \\nStreet #', '6b. \\nStreet Name', '6c. \\nStreet Suffix  ', '6d.\\n Unit #', '6e. \\nZip', '7. \\nUndergraduate (U) or Graduate (G)', '8. \\nFull-time (FT) or \\nPart-time (PT)', '9. \\n 5 or More Undergrads/Unit\\n(Y/N)']\n",
      "2022-2023.xlsx\n",
      "['6a. \\nStreet #', '6b. \\nStreet Name', '6c. \\nStreet Suffix  ', '6d.\\n Unit #', '6e. \\nZip', '7. \\nUndergraduate (U) or Graduate (G)', '8. \\nFull-time (FT) or \\nPart-time (PT)', '9. \\nAt-Home or Not-at-Home']\n",
      "2023-2024.xlsx\n",
      "['6a. \\nStreet #', '6b. \\nStreet Name', '6c. \\nStreet Suffix  ', '6d.\\n Unit #', '6e. \\nZip', '7. \\nUndergraduate (U) or Graduate (G)', '8. \\nFull-time (FT) or \\nPart-time (PT)', '9. \\nAt-Home or Not-at-Home']\n"
     ]
    }
   ],
   "source": [
    "dfs = prep_dfs('SuffolkUniversity')\n",
    "print_columns(dfs)"
   ]
  },
  {
   "cell_type": "code",
   "execution_count": 389,
   "metadata": {},
   "outputs": [
    {
     "name": "stdout",
     "output_type": "stream",
     "text": [
      "2016-2017.xlsx\n",
      "['street_number', 'street_name', 'street_suffix', 'unit_number', 'zip_code', 'level_of_study', 'full_time', 'extra_large_unit', 'at_home']\n",
      "2017-2018.xlsx\n",
      "['street_number', 'street_name', 'street_suffix', 'unit_number', 'zip_code', 'level_of_study', 'full_time', 'extra_large_unit', 'at_home']\n",
      "2018-2019.xlsx\n",
      "['street_number', 'street_name', 'street_suffix', 'unit_number', 'zip_code', 'level_of_study', 'full_time', 'extra_large_unit', 'at_home']\n",
      "2019-2020.xlsx\n",
      "['street_number', 'street_name', 'street_suffix', 'unit_number', 'zip_code', 'level_of_study', 'full_time', 'extra_large_unit', 'at_home']\n",
      "2020-2021.xlsx\n",
      "['street_number', 'street_name', 'street_suffix', 'unit_number', 'zip_code', 'level_of_study', 'full_time', 'extra_large_unit', 'at_home']\n",
      "2021-2022.xlsx\n",
      "['street_number', 'street_name', 'street_suffix', 'unit_number', 'zip_code', 'level_of_study', 'full_time', 'extra_large_unit', 'at_home']\n",
      "2022-2023.xlsx\n",
      "['street_number', 'street_name', 'street_suffix', 'unit_number', 'zip_code', 'level_of_study', 'full_time', 'extra_large_unit', 'at_home']\n",
      "2023-2024.xlsx\n",
      "['street_number', 'street_name', 'street_suffix', 'unit_number', 'zip_code', 'level_of_study', 'full_time', 'extra_large_unit', 'at_home']\n"
     ]
    }
   ],
   "source": [
    "# 2022-2023 has at-home column\n",
    "# 2023-2024 has at-home column\n",
    "\n",
    "dfs['2022-2023.xlsx'].columns = ['street_number','street_name','street_suffix','unit_number','zip_code','level_of_study','full_time','at_home']\n",
    "dfs['2023-2024.xlsx'].columns = ['street_number','street_name','street_suffix','unit_number','zip_code','level_of_study','full_time','at_home']\n",
    "\n",
    "for key in dfs:\n",
    "    if key in ['2022-2023.xlsx','2023-2024.xlsx']:\n",
    "        continue\n",
    "    dfs[key].columns = ['street_number','street_name','street_suffix','unit_number','zip_code','level_of_study','full_time','extra_large_unit']\n",
    "\n",
    "dfs = fix_missing_columns(dfs, ['at_home','extra_large_unit'])\n",
    "\n",
    "dfs = reorder_columns(dfs, ['extra_large_unit','at_home'])\n",
    "\n",
    "\n",
    "print_columns(dfs)"
   ]
  },
  {
   "cell_type": "code",
   "execution_count": 390,
   "metadata": {},
   "outputs": [],
   "source": [
    "polish_and_save(dfs, 'Suffolk University', './data/clean/SuffolkUniversity.csv')"
   ]
  },
  {
   "cell_type": "markdown",
   "metadata": {},
   "source": [
    "# Tufts University"
   ]
  },
  {
   "cell_type": "code",
   "execution_count": 446,
   "metadata": {},
   "outputs": [
    {
     "name": "stdout",
     "output_type": "stream",
     "text": [
      "2016-2017.xlsx\n",
      "['6a. \\nStreet #', '6b. \\nStreet Name', '6c. \\nStreet Suffix  ', '6d.\\n Unit #', '6e. \\nZip', '7. \\nUndergraduate (U) or Graduate (G)', '8. \\nFull-time (FT) or \\nPart-time (PT)', '9. \\n 5 or More Undergrads/Unit\\n(Y/N)', 'Unnamed: 8', 'Home address', 'Current address same as home address', 'SMFA student']\n",
      "2017-2018.xlsx\n",
      "['6a. \\nStreet #', '6b. \\nStreet Name', '6c. \\nStreet Suffix  ', '6d.\\n Unit #', '6e. \\nZip', '7. \\nUndergraduate (U) or Graduate (G)', '8. \\nFull-time (FT) or \\nPart-time (PT)', '9. \\n 5 or More Undergrads/Unit\\n(Y/N)']\n",
      "2018-2019.xlsx\n",
      "['6a. \\nStreet #', '6b. \\nStreet Name', '6c. \\nStreet Suffix  ', '6d.\\n Unit #', '6e. \\nZip', '7. \\nUndergraduate (U) or Graduate (G)', '8. \\nFull-time (FT) or \\nPart-time (PT)', '9. \\n 5 or More Undergrads/Unit\\n(Y/N)']\n",
      "2019-2020.xlsx\n",
      "['6a. \\nStreet #', '6b. \\nStreet Name', '6c. \\nStreet Suffix  ', '6d.\\n Unit #', '6e. \\nZip', '7. \\nUndergraduate (U) or Graduate (G)', '8. \\nFull-time (FT) or \\nPart-time (PT)', '9. \\n 5 or More Undergrads/Unit\\n(Y/N)']\n",
      "2020-2021.xlsx\n",
      "['6a. \\nStreet #', '6b. \\nStreet Name', '6c. \\nStreet Suffix  ', '6d.\\n Unit #', '6e. \\nZip', '7. \\nUndergraduate (U) or Graduate (G)', '8. \\nFull-time (FT) or \\nPart-time (PT)', '9. \\n 5 or More Undergrads/Unit\\n(Y/N)']\n",
      "2021-2022.xlsx\n",
      "['6a. \\nStreet #', '6b. \\nStreet Name', '6c. \\nStreet Suffix  ', '6d.\\n Unit #', '6e. \\nZip', '7. \\nUndergraduate (U) or Graduate (G)', '8. \\nFull-time (FT) or \\nPart-time (PT)', '9. \\n 5 or More Undergrads/Unit\\n(Y/N)']\n",
      "2022-2023.xlsx\n",
      "['6a. \\nStreet #', '6b. \\nStreet Name', '6c. \\nStreet Suffix  ', '6d.\\n Unit #', '6e. \\nZip', '7. \\nUndergraduate (U) or Graduate (G)', '8. \\nFull-time (FT) or \\nPart-time (PT)', '9. \\nAt-Home or Not-at-Home']\n",
      "2023-2024.xlsx\n",
      "['6a. \\nStreet #', '6b. \\nStreet Name', '6c. \\nStreet Suffix  ', '6d.\\n Unit #', '6e. \\nZip', '7. \\nUndergraduate (U) or Graduate (G)', '8. \\nFull-time (FT) or \\nPart-time (PT)', '9. \\nAt-Home or Not-at-Home']\n"
     ]
    }
   ],
   "source": [
    "dfs = prep_dfs('TuftsUniversity')\n",
    "print_columns(dfs)\n"
   ]
  },
  {
   "cell_type": "code",
   "execution_count": 447,
   "metadata": {},
   "outputs": [
    {
     "name": "stdout",
     "output_type": "stream",
     "text": [
      "2016-2017.xlsx\n",
      "['6a. \\nStreet #', '6b. \\nStreet Name', '6c. \\nStreet Suffix  ', '6d.\\n Unit #', '6e. \\nZip', '7. \\nUndergraduate (U) or Graduate (G)', '8. \\nFull-time (FT) or \\nPart-time (PT)', '9. \\n 5 or More Undergrads/Unit\\n(Y/N)']\n",
      "2017-2018.xlsx\n",
      "['6a. \\nStreet #', '6b. \\nStreet Name', '6c. \\nStreet Suffix  ', '6d.\\n Unit #', '6e. \\nZip', '7. \\nUndergraduate (U) or Graduate (G)', '8. \\nFull-time (FT) or \\nPart-time (PT)', '9. \\n 5 or More Undergrads/Unit\\n(Y/N)']\n",
      "2018-2019.xlsx\n",
      "['6a. \\nStreet #', '6b. \\nStreet Name', '6c. \\nStreet Suffix  ', '6d.\\n Unit #', '6e. \\nZip', '7. \\nUndergraduate (U) or Graduate (G)', '8. \\nFull-time (FT) or \\nPart-time (PT)', '9. \\n 5 or More Undergrads/Unit\\n(Y/N)']\n",
      "2019-2020.xlsx\n",
      "['6a. \\nStreet #', '6b. \\nStreet Name', '6c. \\nStreet Suffix  ', '6d.\\n Unit #', '6e. \\nZip', '7. \\nUndergraduate (U) or Graduate (G)', '8. \\nFull-time (FT) or \\nPart-time (PT)', '9. \\n 5 or More Undergrads/Unit\\n(Y/N)']\n",
      "2020-2021.xlsx\n",
      "['6a. \\nStreet #', '6b. \\nStreet Name', '6c. \\nStreet Suffix  ', '6d.\\n Unit #', '6e. \\nZip', '7. \\nUndergraduate (U) or Graduate (G)', '8. \\nFull-time (FT) or \\nPart-time (PT)', '9. \\n 5 or More Undergrads/Unit\\n(Y/N)']\n",
      "2021-2022.xlsx\n",
      "['6a. \\nStreet #', '6b. \\nStreet Name', '6c. \\nStreet Suffix  ', '6d.\\n Unit #', '6e. \\nZip', '7. \\nUndergraduate (U) or Graduate (G)', '8. \\nFull-time (FT) or \\nPart-time (PT)', '9. \\n 5 or More Undergrads/Unit\\n(Y/N)']\n",
      "2022-2023.xlsx\n",
      "['6a. \\nStreet #', '6b. \\nStreet Name', '6c. \\nStreet Suffix  ', '6d.\\n Unit #', '6e. \\nZip', '7. \\nUndergraduate (U) or Graduate (G)', '8. \\nFull-time (FT) or \\nPart-time (PT)', '9. \\nAt-Home or Not-at-Home']\n",
      "2023-2024.xlsx\n",
      "['6a. \\nStreet #', '6b. \\nStreet Name', '6c. \\nStreet Suffix  ', '6d.\\n Unit #', '6e. \\nZip', '7. \\nUndergraduate (U) or Graduate (G)', '8. \\nFull-time (FT) or \\nPart-time (PT)', '9. \\nAt-Home or Not-at-Home']\n"
     ]
    }
   ],
   "source": [
    "# in 2016-2017, let's remove the columns that do not belong there\n",
    "# remove:  'Unnamed: 8', 'Home address', 'Current address same as home address', 'SMFA student'\n",
    "dfs['2016-2017.xlsx'].drop(columns=['Unnamed: 8', 'Home address', 'Current address same as home address', 'SMFA student'], inplace=True)\n",
    "print_columns(dfs)"
   ]
  },
  {
   "cell_type": "code",
   "execution_count": 448,
   "metadata": {},
   "outputs": [
    {
     "name": "stdout",
     "output_type": "stream",
     "text": [
      "2016-2017.xlsx\n",
      "['street_number', 'street_name', 'street_suffix', 'unit_number', 'zip_code', 'level_of_study', 'full_time', 'extra_large_unit', 'at_home']\n",
      "2017-2018.xlsx\n",
      "['street_number', 'street_name', 'street_suffix', 'unit_number', 'zip_code', 'level_of_study', 'full_time', 'extra_large_unit', 'at_home']\n",
      "2018-2019.xlsx\n",
      "['street_number', 'street_name', 'street_suffix', 'unit_number', 'zip_code', 'level_of_study', 'full_time', 'extra_large_unit', 'at_home']\n",
      "2019-2020.xlsx\n",
      "['street_number', 'street_name', 'street_suffix', 'unit_number', 'zip_code', 'level_of_study', 'full_time', 'extra_large_unit', 'at_home']\n",
      "2020-2021.xlsx\n",
      "['street_number', 'street_name', 'street_suffix', 'unit_number', 'zip_code', 'level_of_study', 'full_time', 'extra_large_unit', 'at_home']\n",
      "2021-2022.xlsx\n",
      "['street_number', 'street_name', 'street_suffix', 'unit_number', 'zip_code', 'level_of_study', 'full_time', 'extra_large_unit', 'at_home']\n",
      "2022-2023.xlsx\n",
      "['street_number', 'street_name', 'street_suffix', 'unit_number', 'zip_code', 'level_of_study', 'full_time', 'extra_large_unit', 'at_home']\n",
      "2023-2024.xlsx\n",
      "['street_number', 'street_name', 'street_suffix', 'unit_number', 'zip_code', 'level_of_study', 'full_time', 'extra_large_unit', 'at_home']\n"
     ]
    }
   ],
   "source": [
    "# 2022-2023 has at-home column\n",
    "# 2023-2024 has at-home column\n",
    "\n",
    "dfs['2022-2023.xlsx'].columns = ['street_number','street_name','street_suffix','unit_number','zip_code','level_of_study','full_time','at_home']\n",
    "dfs['2023-2024.xlsx'].columns = ['street_number','street_name','street_suffix','unit_number','zip_code','level_of_study','full_time','at_home']\n",
    "\n",
    "for key in dfs:\n",
    "    if key in ['2022-2023.xlsx','2023-2024.xlsx']:\n",
    "        continue\n",
    "    dfs[key].columns = ['street_number','street_name','street_suffix','unit_number','zip_code','level_of_study','full_time','extra_large_unit']\n",
    "\n",
    "dfs = fix_missing_columns(dfs, ['at_home','extra_large_unit'])\n",
    "\n",
    "dfs = reorder_columns(dfs, ['extra_large_unit','at_home'])\n",
    "\n",
    "print_columns(dfs)\n"
   ]
  },
  {
   "cell_type": "code",
   "execution_count": 449,
   "metadata": {},
   "outputs": [],
   "source": [
    "polish_and_save(dfs, 'Tufts University', './data/clean/TuftsUniversity.csv')"
   ]
  },
  {
   "cell_type": "markdown",
   "metadata": {},
   "source": [
    "# University of Massachusetts Boston"
   ]
  },
  {
   "cell_type": "code",
   "execution_count": 393,
   "metadata": {},
   "outputs": [
    {
     "name": "stdout",
     "output_type": "stream",
     "text": [
      "2016-2017.xlsx\n",
      "['6a. \\nStreet #', '6b. \\nStreet Name', '6c. \\nStreet Suffix  ', '6d.\\n Unit #', '6e. \\nZip', '7. \\nUndergraduate (U) or Graduate (G)', '8. \\nFull-time (FT) or \\nPart-time (PT)', '9. \\n 5 or More Undergrads/Unit\\n(Y/N)']\n",
      "2017-2018.xlsx\n",
      "['6a. \\nStreet #', '6b. \\nStreet Name', '6c. \\nStreet Suffix  ', '6d.\\n Unit #', '6e. \\nZip', '7. \\nUndergraduate (U) or Graduate (G)', '8. \\nFull-time (FT) or \\nPart-time (PT)', '9. \\n 5 or More Undergrads/Unit\\n(Y/N)']\n",
      "2018-2019.xlsx\n",
      "['6a. \\nStreet #', '6b. \\nStreet Name', '6c. \\nStreet Suffix  ', '6d.\\n Unit #', '6e. \\nZip', '7. \\nUndergraduate (U) or Graduate (G)', '8. \\nFull-time (FT) or \\nPart-time (PT)', '9. \\n 5 or More Undergrads/Unit\\n(Y/N)']\n",
      "2019-2020.xlsx\n",
      "['6a. \\nStreet #', '6b. \\nStreet Name', '6c. \\nStreet Suffix  ', '6d.\\n Unit #', '6e. \\nZip', '7. \\nUndergraduate (U) or Graduate (G)', '8. \\nFull-time (FT) or \\nPart-time (PT)', '9. \\n 5 or More Undergrads/Unit\\n(Y/N)']\n",
      "2020-2021.xlsx\n",
      "['6a. \\nStreet #', '6b. \\nStreet Name', '6c. \\nStreet Suffix  ', '6d.\\n Unit #', '6e. \\nZip', '7. \\nUndergraduate (U) or Graduate (G)', '8. \\nFull-time (FT) or \\nPart-time (PT)', '9. \\n 5 or More Undergrads/Unit\\n(Y/N)']\n",
      "2021-2022.xlsx\n",
      "['6a. \\nStreet #', '6b. \\nStreet Name', '6c. \\nStreet Suffix  ', '6d.\\n Unit #', '6e. \\nZip', '7. \\nUndergraduate (U) or Graduate (G)', '8. \\nFull-time (FT) or \\nPart-time (PT)', '9. \\n 5 or More Undergrads/Unit\\n(Y/N)']\n",
      "2022-2023.xlsx\n",
      "['6a. \\nStreet #', '6b. \\nStreet Name', '6c. \\nStreet Suffix  ', '6d.\\n Unit #', '6e. \\nZip', '7. \\nUndergraduate (U) or Graduate (G)', '8. \\nFull-time (FT) or \\nPart-time (PT)', '9. \\nAt-Home or Not-at-Home']\n",
      "2023-2024.xlsx\n",
      "['6a. \\nStreet #', '6b. \\nStreet Name', '6c. \\nStreet Suffix  ', '6d.\\n Unit #', '6e. \\nZip', '7. \\nUndergraduate (U) or Graduate (G)', '8. \\nFull-time (FT) or \\nPart-time (PT)', '9. \\nAt-Home or Not-at-Home']\n"
     ]
    }
   ],
   "source": [
    "dfs = prep_dfs('UniversityMassachusettsBoston')\n",
    "print_columns(dfs)"
   ]
  },
  {
   "cell_type": "code",
   "execution_count": 394,
   "metadata": {},
   "outputs": [
    {
     "name": "stdout",
     "output_type": "stream",
     "text": [
      "2016-2017.xlsx\n",
      "['street_number', 'street_name', 'street_suffix', 'unit_number', 'zip_code', 'level_of_study', 'full_time', 'extra_large_unit', 'at_home']\n",
      "2017-2018.xlsx\n",
      "['street_number', 'street_name', 'street_suffix', 'unit_number', 'zip_code', 'level_of_study', 'full_time', 'extra_large_unit', 'at_home']\n",
      "2018-2019.xlsx\n",
      "['street_number', 'street_name', 'street_suffix', 'unit_number', 'zip_code', 'level_of_study', 'full_time', 'extra_large_unit', 'at_home']\n",
      "2019-2020.xlsx\n",
      "['street_number', 'street_name', 'street_suffix', 'unit_number', 'zip_code', 'level_of_study', 'full_time', 'extra_large_unit', 'at_home']\n",
      "2020-2021.xlsx\n",
      "['street_number', 'street_name', 'street_suffix', 'unit_number', 'zip_code', 'level_of_study', 'full_time', 'extra_large_unit', 'at_home']\n",
      "2021-2022.xlsx\n",
      "['street_number', 'street_name', 'street_suffix', 'unit_number', 'zip_code', 'level_of_study', 'full_time', 'extra_large_unit', 'at_home']\n",
      "2022-2023.xlsx\n",
      "['street_number', 'street_name', 'street_suffix', 'unit_number', 'zip_code', 'level_of_study', 'full_time', 'extra_large_unit', 'at_home']\n",
      "2023-2024.xlsx\n",
      "['street_number', 'street_name', 'street_suffix', 'unit_number', 'zip_code', 'level_of_study', 'full_time', 'extra_large_unit', 'at_home']\n"
     ]
    }
   ],
   "source": [
    "# 2022-2023 has at-home column\n",
    "# 2023-2024 has at-home column\n",
    "\n",
    "dfs['2022-2023.xlsx'].columns = ['street_number','street_name','street_suffix','unit_number','zip_code','level_of_study','full_time','at_home']\n",
    "dfs['2023-2024.xlsx'].columns = ['street_number','street_name','street_suffix','unit_number','zip_code','level_of_study','full_time','at_home']\n",
    "\n",
    "for key in dfs:\n",
    "    if key in ['2022-2023.xlsx','2023-2024.xlsx']:\n",
    "        continue\n",
    "    dfs[key].columns = ['street_number','street_name','street_suffix','unit_number','zip_code','level_of_study','full_time','extra_large_unit']\n",
    "\n",
    "dfs = fix_missing_columns(dfs, ['at_home','extra_large_unit'])\n",
    "\n",
    "dfs = reorder_columns(dfs, ['extra_large_unit','at_home'])\n",
    "\n",
    "print_columns(dfs)"
   ]
  },
  {
   "cell_type": "code",
   "execution_count": 395,
   "metadata": {},
   "outputs": [],
   "source": [
    "polish_and_save(dfs, 'University of Massachusetts Boston', './data/clean/UniversityMassachusettsBoston.csv')"
   ]
  },
  {
   "cell_type": "markdown",
   "metadata": {},
   "source": [
    "# Urban College Boston"
   ]
  },
  {
   "cell_type": "code",
   "execution_count": 396,
   "metadata": {},
   "outputs": [
    {
     "name": "stdout",
     "output_type": "stream",
     "text": [
      "2016-2017.xlsx\n",
      "['6a. \\nStreet #', '6b. \\nStreet Name', '6c. \\nStreet Suffix  ', '6d.\\n Unit #', '6e. \\nZip', '7. \\nUndergraduate (U) or Graduate (G)', '8. \\nFull-time (FT) or \\nPart-time (PT)', '9. \\n 5 or More Undergrads/Unit\\n(Y/N)']\n",
      "2017-2018.xlsx\n",
      "['6a. \\nStreet #', '6b. \\nStreet Name', '6c. \\nStreet Suffix  ', '6d.\\n Unit #', '6e. \\nZip', '7. \\nUndergraduate (U) or Graduate (G)', '8. \\nFull-time (FT) or \\nPart-time (PT)', '9. \\n 5 or More Undergrads/Unit\\n(Y/N)']\n",
      "2018-2019.xlsx\n",
      "['6a. \\nStreet #', '6b. \\nStreet Name', '6c. \\nStreet Suffix  ', '6d.\\n Unit #', '6e. \\nZip', '7. \\nUndergraduate (U) or Graduate (G)', '8. \\nFull-time (FT) or \\nPart-time (PT)', '9. \\n 5 or More Undergrads/Unit\\n(Y/N)']\n",
      "2019-2020.xlsx\n",
      "['6a. \\nStreet #', '6b. \\nStreet Name', '6c. \\nStreet Suffix  ', '6d.\\n Unit #', '6e. \\nZip', '7. \\nUndergraduate (U) or Graduate (G)', '8. \\nFull-time (FT) or \\nPart-time (PT)', '9. \\n 5 or More Undergrads/Unit\\n(Y/N)']\n",
      "2020-2021.xlsx\n",
      "['6a. \\nStreet #', '6b. \\nStreet Name', '6c. \\nStreet Suffix  ', '6d.\\n Unit #', '6e. \\nZip', '7. \\nUndergraduate (U) or Graduate (G)', '8. \\nFull-time (FT) or \\nPart-time (PT)', '9. \\n 5 or More Undergrads/Unit\\n(Y/N)']\n",
      "2021-2022.xlsx\n",
      "['6a. \\nStreet #', '6b. \\nStreet Name', '6c. \\nStreet Suffix  ', '6d.\\n Unit #', '6e. \\nZip', '7. \\nUndergraduate (U) or Graduate (G)', '8. \\nFull-time (FT) or \\nPart-time (PT)', '9. \\n 5 or More Undergrads/Unit\\n(Y/N)']\n",
      "2022-2023.xlsx\n",
      "['6a. \\nStreet #', '6b. \\nStreet Name', '6c. \\nStreet Suffix  ', '6d.\\n Unit #', '6e. \\nZip', '7. \\nUndergraduate (U) or Graduate (G)', '8. \\nFull-time (FT) or \\nPart-time (PT)', '9. \\n 5 or More Undergrads/Unit\\n(Y/N)']\n",
      "2023-2024.xlsx\n",
      "['6a. \\nStreet #', '6b. \\nStreet Name', '6c. \\nStreet Suffix  ', '6d.\\n Unit #', '6e. \\nZip', '7. \\nUndergraduate (U) or Graduate (G)', '8. \\nFull-time (FT) or \\nPart-time (PT)', '9. \\nAt-Home or Not-at-Home']\n"
     ]
    }
   ],
   "source": [
    "dfs = prep_dfs('UrbanCollegeBoston')\n",
    "print_columns(dfs)"
   ]
  },
  {
   "cell_type": "code",
   "execution_count": 397,
   "metadata": {},
   "outputs": [
    {
     "name": "stdout",
     "output_type": "stream",
     "text": [
      "2016-2017.xlsx\n",
      "['street_number', 'street_name', 'street_suffix', 'unit_number', 'zip_code', 'level_of_study', 'full_time', 'extra_large_unit', 'at_home']\n",
      "2017-2018.xlsx\n",
      "['street_number', 'street_name', 'street_suffix', 'unit_number', 'zip_code', 'level_of_study', 'full_time', 'extra_large_unit', 'at_home']\n",
      "2018-2019.xlsx\n",
      "['street_number', 'street_name', 'street_suffix', 'unit_number', 'zip_code', 'level_of_study', 'full_time', 'extra_large_unit', 'at_home']\n",
      "2019-2020.xlsx\n",
      "['street_number', 'street_name', 'street_suffix', 'unit_number', 'zip_code', 'level_of_study', 'full_time', 'extra_large_unit', 'at_home']\n",
      "2020-2021.xlsx\n",
      "['street_number', 'street_name', 'street_suffix', 'unit_number', 'zip_code', 'level_of_study', 'full_time', 'extra_large_unit', 'at_home']\n",
      "2021-2022.xlsx\n",
      "['street_number', 'street_name', 'street_suffix', 'unit_number', 'zip_code', 'level_of_study', 'full_time', 'extra_large_unit', 'at_home']\n",
      "2022-2023.xlsx\n",
      "['street_number', 'street_name', 'street_suffix', 'unit_number', 'zip_code', 'level_of_study', 'full_time', 'extra_large_unit', 'at_home']\n",
      "2023-2024.xlsx\n",
      "['street_number', 'street_name', 'street_suffix', 'unit_number', 'zip_code', 'level_of_study', 'full_time', 'extra_large_unit', 'at_home']\n"
     ]
    }
   ],
   "source": [
    "# 2023-2024 has at-home column\n",
    "\n",
    "dfs['2023-2024.xlsx'].columns = ['street_number','street_name','street_suffix','unit_number','zip_code','level_of_study','full_time','at_home']\n",
    "\n",
    "for key in dfs:\n",
    "    if key in ['2023-2024.xlsx']:\n",
    "        continue\n",
    "    dfs[key].columns = ['street_number','street_name','street_suffix','unit_number','zip_code','level_of_study','full_time','extra_large_unit']\n",
    "\n",
    "dfs = fix_missing_columns(dfs, ['at_home','extra_large_unit'])\n",
    "\n",
    "dfs = reorder_columns(dfs, ['extra_large_unit','at_home'])\n",
    "\n",
    "print_columns(dfs)"
   ]
  },
  {
   "cell_type": "code",
   "execution_count": 398,
   "metadata": {},
   "outputs": [],
   "source": [
    "polish_and_save(dfs, 'Urban College of Boston', './data/clean/UrbanCollegeBoston.csv')"
   ]
  },
  {
   "cell_type": "markdown",
   "metadata": {},
   "source": [
    "# Wentworth Institute of Technology"
   ]
  },
  {
   "cell_type": "code",
   "execution_count": 419,
   "metadata": {},
   "outputs": [
    {
     "name": "stdout",
     "output_type": "stream",
     "text": [
      "2016-2017.xlsx\n",
      "['6a. \\nStreet #', '6b. \\nStreet Name', '6c. \\nStreet Suffix  ', '6d.\\n Unit #', '6e. \\nZip', '7. \\nUndergraduate (U) or Graduate (G)', '8. \\nFull-time (FT) or \\nPart-time (PT)', '9. \\n 5 or More Undergrads/Unit\\n(Y/N)']\n",
      "2017-2018.xlsx\n",
      "['6a. \\nStreet #', '6b. \\nStreet Name', '6c. \\nStreet Suffix  ', '6d.\\n Unit #', '6e. \\nZip', '7. \\nUndergraduate (U) or Graduate (G)', '8. \\nFull-time (FT) or \\nPart-time (PT)', '9. \\n 5 or More Undergrads/Unit\\n(Y/N)']\n",
      "2018-2019.xlsx\n",
      "['6a. \\nStreet #', '6b. \\nStreet Name', '6c. \\nStreet Suffix  ', '6d.\\n Unit #', '6e. \\nZip', '7. \\nUndergraduate (U) or Graduate (G)', '8. \\nFull-time (FT) or \\nPart-time (PT)', '9. \\n 5 or More Undergrads/Unit\\n(Y/N)']\n",
      "2019-2020.xlsx\n",
      "['Street Number', 'Street Name', 'Unit Number', 'Degree Level', 'Full Part Time', 'Local Zip', 'Yes or No 5 or more']\n",
      "2020-2021.xlsx\n",
      "['6a. \\nStreet #', '6b. \\nStreet Name', '6c. \\nStreet Suffix  ', '6d.\\n Unit #', '6e. \\nZip', '7. \\nUndergraduate (U) or Graduate (G)', '8. \\nFull-time (FT) or \\nPart-time (PT)', '9. \\n 5 or More Undergrads/Unit\\n(Y/N)']\n",
      "2021-2022.xlsx\n",
      "['6a. \\nStreet #', '6b. \\nStreet Name', '6c. \\nStreet Suffix  ', '6d.\\n Unit #', '6e. \\nZip', '7. \\nUndergraduate (U) or Graduate (G)', '8. \\nFull-time (FT) or \\nPart-time (PT)', '9. \\n 5 or More Undergrads/Unit\\n(Y/N)']\n",
      "2022-2023.xlsx\n",
      "['6a. \\nStreet #', '6b. \\nStreet Name', '6c. \\nStreet Suffix  ', '6d.\\n Unit #', '6e. \\nZip', '7. \\nUndergraduate (U) or Graduate (G)', '8. \\nFull-time (FT) or \\nPart-time (PT)', '9. \\nAt-Home or Not-at-Home']\n",
      "2023-2024.xlsx\n",
      "['6a. \\nStreet #', '6b. \\nStreet Name', '6c. \\nStreet Suffix  ', '6d.\\n Unit #', '6e. \\nZip', '7. \\nUndergraduate (U) or Graduate (G)', '8. \\nFull-time (FT) or \\nPart-time (PT)', '9. \\nAt-Home or Not-at-Home']\n"
     ]
    }
   ],
   "source": [
    "dfs = prep_dfs('WentworthInstituteTechnology')\n",
    "print_columns(dfs)"
   ]
  },
  {
   "cell_type": "code",
   "execution_count": 420,
   "metadata": {},
   "outputs": [],
   "source": [
    "# 2019-2020 doesn't have suffix column\n",
    "\n",
    "street_names = dfs['2019-2020.xlsx']['Street Name']\n",
    "\n",
    "# fills nulls with empty string\n",
    "street_names = street_names.fillna('')\n",
    "\n",
    "# splits the street name by space\n",
    "street_suffix = street_names.apply(lambda name: name.split(' ')[-1] if len(name.split(' ')) > 1 else '')\n",
    "\n",
    "# splits the street name by space\n",
    "street_name = street_names.apply(lambda name: ' '.join(name.split(' ')[:-1]))\n",
    "\n",
    "dfs['2019-2020.xlsx']['Street Suffix'] = street_suffix\n",
    "dfs['2019-2020.xlsx']['Street Name'] = street_name"
   ]
  },
  {
   "cell_type": "code",
   "execution_count": 421,
   "metadata": {},
   "outputs": [
    {
     "data": {
      "text/plain": [
       "Index(['Street Number', 'Street Name', 'Unit Number', 'Degree Level',\n",
       "       'Full Part Time', 'Local Zip', 'Yes or No 5 or more', 'Street Suffix'],\n",
       "      dtype='object')"
      ]
     },
     "execution_count": 421,
     "metadata": {},
     "output_type": "execute_result"
    }
   ],
   "source": [
    "dfs['2019-2020.xlsx'].columns"
   ]
  },
  {
   "cell_type": "code",
   "execution_count": 422,
   "metadata": {},
   "outputs": [],
   "source": [
    "# reorder the columns for 2019-2020\n",
    "# street_num - street_name - street_suffix - unit_num - zip_code - level_of_study - full_time - extra_large_unit\n",
    "dfs['2019-2020.xlsx'] = dfs['2019-2020.xlsx'][['Street Number','Street Name','Street Suffix','Unit Number','Local Zip','Degree Level','Full Part Time','Yes or No 5 or more']]"
   ]
  },
  {
   "cell_type": "code",
   "execution_count": 423,
   "metadata": {},
   "outputs": [
    {
     "data": {
      "text/plain": [
       "Index(['Street Number', 'Street Name', 'Street Suffix', 'Unit Number',\n",
       "       'Local Zip', 'Degree Level', 'Full Part Time', 'Yes or No 5 or more'],\n",
       "      dtype='object')"
      ]
     },
     "execution_count": 423,
     "metadata": {},
     "output_type": "execute_result"
    }
   ],
   "source": [
    "dfs['2019-2020.xlsx'].columns"
   ]
  },
  {
   "cell_type": "code",
   "execution_count": 424,
   "metadata": {},
   "outputs": [
    {
     "name": "stdout",
     "output_type": "stream",
     "text": [
      "2016-2017.xlsx\n",
      "['6a. \\nStreet #', '6b. \\nStreet Name', '6c. \\nStreet Suffix  ', '6d.\\n Unit #', '6e. \\nZip', '7. \\nUndergraduate (U) or Graduate (G)', '8. \\nFull-time (FT) or \\nPart-time (PT)', '9. \\n 5 or More Undergrads/Unit\\n(Y/N)']\n",
      "2017-2018.xlsx\n",
      "['6a. \\nStreet #', '6b. \\nStreet Name', '6c. \\nStreet Suffix  ', '6d.\\n Unit #', '6e. \\nZip', '7. \\nUndergraduate (U) or Graduate (G)', '8. \\nFull-time (FT) or \\nPart-time (PT)', '9. \\n 5 or More Undergrads/Unit\\n(Y/N)']\n",
      "2018-2019.xlsx\n",
      "['6a. \\nStreet #', '6b. \\nStreet Name', '6c. \\nStreet Suffix  ', '6d.\\n Unit #', '6e. \\nZip', '7. \\nUndergraduate (U) or Graduate (G)', '8. \\nFull-time (FT) or \\nPart-time (PT)', '9. \\n 5 or More Undergrads/Unit\\n(Y/N)']\n",
      "2019-2020.xlsx\n",
      "['Street Number', 'Street Name', 'Street Suffix', 'Unit Number', 'Local Zip', 'Degree Level', 'Full Part Time', 'Yes or No 5 or more']\n",
      "2020-2021.xlsx\n",
      "['6a. \\nStreet #', '6b. \\nStreet Name', '6c. \\nStreet Suffix  ', '6d.\\n Unit #', '6e. \\nZip', '7. \\nUndergraduate (U) or Graduate (G)', '8. \\nFull-time (FT) or \\nPart-time (PT)', '9. \\n 5 or More Undergrads/Unit\\n(Y/N)']\n",
      "2021-2022.xlsx\n",
      "['6a. \\nStreet #', '6b. \\nStreet Name', '6c. \\nStreet Suffix  ', '6d.\\n Unit #', '6e. \\nZip', '7. \\nUndergraduate (U) or Graduate (G)', '8. \\nFull-time (FT) or \\nPart-time (PT)', '9. \\n 5 or More Undergrads/Unit\\n(Y/N)']\n",
      "2022-2023.xlsx\n",
      "['6a. \\nStreet #', '6b. \\nStreet Name', '6c. \\nStreet Suffix  ', '6d.\\n Unit #', '6e. \\nZip', '7. \\nUndergraduate (U) or Graduate (G)', '8. \\nFull-time (FT) or \\nPart-time (PT)', '9. \\nAt-Home or Not-at-Home']\n",
      "2023-2024.xlsx\n",
      "['6a. \\nStreet #', '6b. \\nStreet Name', '6c. \\nStreet Suffix  ', '6d.\\n Unit #', '6e. \\nZip', '7. \\nUndergraduate (U) or Graduate (G)', '8. \\nFull-time (FT) or \\nPart-time (PT)', '9. \\nAt-Home or Not-at-Home']\n"
     ]
    }
   ],
   "source": [
    "print_columns(dfs)"
   ]
  },
  {
   "cell_type": "code",
   "execution_count": 425,
   "metadata": {},
   "outputs": [],
   "source": [
    "# 2022-2023 has at-home column\n",
    "# 2023-2024 has at-home column\n",
    "\n",
    "dfs['2022-2023.xlsx'].columns = ['street_number','street_name','street_suffix','unit_number','zip_code','level_of_study','full_time','at_home']\n",
    "dfs['2023-2024.xlsx'].columns = ['street_number','street_name','street_suffix','unit_number','zip_code','level_of_study','full_time','at_home']\n",
    "\n",
    "for key in dfs:\n",
    "    if key in ['2022-2023.xlsx','2023-2024.xlsx']:\n",
    "        continue\n",
    "    dfs[key].columns = ['street_number','street_name','street_suffix','unit_number','zip_code','level_of_study','full_time','extra_large_unit']"
   ]
  },
  {
   "cell_type": "code",
   "execution_count": 426,
   "metadata": {},
   "outputs": [],
   "source": [
    "dfs = fix_missing_columns(dfs, ['at_home','extra_large_unit'])"
   ]
  },
  {
   "cell_type": "code",
   "execution_count": 427,
   "metadata": {},
   "outputs": [],
   "source": [
    "dfs = reorder_columns(dfs, ['extra_large_unit','at_home'])"
   ]
  },
  {
   "cell_type": "code",
   "execution_count": 428,
   "metadata": {},
   "outputs": [
    {
     "name": "stdout",
     "output_type": "stream",
     "text": [
      "2016-2017.xlsx\n",
      "['street_number', 'street_name', 'street_suffix', 'unit_number', 'zip_code', 'level_of_study', 'full_time', 'extra_large_unit', 'at_home']\n",
      "2017-2018.xlsx\n",
      "['street_number', 'street_name', 'street_suffix', 'unit_number', 'zip_code', 'level_of_study', 'full_time', 'extra_large_unit', 'at_home']\n",
      "2018-2019.xlsx\n",
      "['street_number', 'street_name', 'street_suffix', 'unit_number', 'zip_code', 'level_of_study', 'full_time', 'extra_large_unit', 'at_home']\n",
      "2019-2020.xlsx\n",
      "['street_number', 'street_name', 'street_suffix', 'unit_number', 'zip_code', 'level_of_study', 'full_time', 'extra_large_unit', 'at_home']\n",
      "2020-2021.xlsx\n",
      "['street_number', 'street_name', 'street_suffix', 'unit_number', 'zip_code', 'level_of_study', 'full_time', 'extra_large_unit', 'at_home']\n",
      "2021-2022.xlsx\n",
      "['street_number', 'street_name', 'street_suffix', 'unit_number', 'zip_code', 'level_of_study', 'full_time', 'extra_large_unit', 'at_home']\n",
      "2022-2023.xlsx\n",
      "['street_number', 'street_name', 'street_suffix', 'unit_number', 'zip_code', 'level_of_study', 'full_time', 'extra_large_unit', 'at_home']\n",
      "2023-2024.xlsx\n",
      "['street_number', 'street_name', 'street_suffix', 'unit_number', 'zip_code', 'level_of_study', 'full_time', 'extra_large_unit', 'at_home']\n"
     ]
    }
   ],
   "source": [
    "print_columns(dfs)"
   ]
  },
  {
   "cell_type": "code",
   "execution_count": 429,
   "metadata": {},
   "outputs": [],
   "source": [
    "polish_and_save(dfs, 'Wentworth Institute of Technology', './data/clean/WentworthInstituteTechnology.csv')"
   ]
  },
  {
   "cell_type": "markdown",
   "metadata": {},
   "source": [
    "# Wheelock College"
   ]
  },
  {
   "cell_type": "code",
   "execution_count": 402,
   "metadata": {},
   "outputs": [
    {
     "name": "stdout",
     "output_type": "stream",
     "text": [
      "2016-2017.xlsx\n",
      "['6a. \\nStreet #', '6b. \\nStreet Name', '6c. \\nStreet Suffix  ', '6d.\\n Unit #', '6e. \\nZip', '7. \\nUndergraduate (U) or Graduate (G)', '8. \\nFull-time (FT) or \\nPart-time (PT)', '9. \\n 5 or More Undergrads/Unit\\n(Y/N)']\n",
      "2017-2018.xlsx\n",
      "['6a. \\nStreet #', '6b. \\nStreet Name', '6c. \\nStreet Suffix  ', '6d.\\n Unit #', '6e. \\nZip', '7. \\nUndergraduate (U) or Graduate (G)', '8. \\nFull-time (FT) or \\nPart-time (PT)', '9. \\n 5 or More Undergrads/Unit\\n(Y/N)']\n"
     ]
    }
   ],
   "source": [
    "dfs = prep_dfs('WheelockCollege')\n",
    "print_columns(dfs)"
   ]
  },
  {
   "cell_type": "code",
   "execution_count": 403,
   "metadata": {},
   "outputs": [
    {
     "name": "stdout",
     "output_type": "stream",
     "text": [
      "2016-2017.xlsx\n",
      "['street_number', 'street_name', 'street_suffix', 'unit_number', 'zip_code', 'level_of_study', 'full_time', 'extra_large_unit']\n",
      "2017-2018.xlsx\n",
      "['street_number', 'street_name', 'street_suffix', 'unit_number', 'zip_code', 'level_of_study', 'full_time', 'extra_large_unit']\n"
     ]
    }
   ],
   "source": [
    "for key in dfs:\n",
    "    dfs[key].columns = ['street_number','street_name','street_suffix','unit_number','zip_code','level_of_study','full_time','extra_large_unit']\n",
    "\n",
    "print_columns(dfs)\n",
    "\n",
    "polish_and_save(dfs, 'Wheelock College', './data/clean/WheelockCollege.csv')"
   ]
  }
 ],
 "metadata": {
  "kernelspec": {
   "display_name": "Python 3",
   "language": "python",
   "name": "python3"
  },
  "language_info": {
   "codemirror_mode": {
    "name": "ipython",
    "version": 3
   },
   "file_extension": ".py",
   "mimetype": "text/x-python",
   "name": "python",
   "nbconvert_exporter": "python",
   "pygments_lexer": "ipython3",
   "version": "3.12.6"
  }
 },
 "nbformat": 4,
 "nbformat_minor": 2
}
